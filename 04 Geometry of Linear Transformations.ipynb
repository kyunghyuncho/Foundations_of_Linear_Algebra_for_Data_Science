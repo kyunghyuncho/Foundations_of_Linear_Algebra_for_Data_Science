{
  "cells": [
    {
      "cell_type": "code",
      "execution_count": null,
      "metadata": {
        "id": "lwRCRj-Dqq1L"
      },
      "outputs": [],
      "source": [
        "import numpy as np\n",
        "import scipy.linalg\n",
        "import matplotlib.pyplot as plt\n",
        "\n",
        "# for pretty printing\n",
        "np.set_printoptions(4, linewidth=100, suppress=True)"
      ]
    },
    {
      "cell_type": "markdown",
      "metadata": {
        "id": "LPJ1Z18IuQkO"
      },
      "source": [
        "Let us first begin how we can visualize data points.\n",
        "\n",
        "One can generate a 2d *scatter plot* by specifying the list of $x$-coordinates and $y$-coordinates to the `scatter`\n",
        "function provided by `matplotlib.pyplot`.\n",
        "\n"
      ]
    },
    {
      "cell_type": "code",
      "execution_count": null,
      "metadata": {
        "colab": {
          "base_uri": "https://localhost:8080/",
          "height": 307
        },
        "id": "bkk4rZ8zR7I5",
        "outputId": "93071fb0-d79f-453a-9128-2461641ec471"
      },
      "outputs": [],
      "source": [
        "t = np.linspace(0, np.pi, 16)  # 16 equidistance points from 0 to \\pi\n",
        "x1 = np.cos(t)\n",
        "y1 = np.sin(t)\n",
        "\n",
        "fig, ax = plt.subplots()  # a routine way of preparing for plots\n",
        "ax.scatter(x1, y1)  # after the routine above, you draw things on *ax*\n",
        "ax.set_aspect('equal')  # set aspect ratio to 1:1. In many cases, aspect ratio is not that important.\n",
        "plt.show()  # after drawing everything, this prints out the image created"
      ]
    },
    {
      "cell_type": "code",
      "execution_count": null,
      "metadata": {
        "colab": {
          "base_uri": "https://localhost:8080/",
          "height": 430
        },
        "id": "Wyn3oaK7vs8A",
        "outputId": "3b805bf7-09ce-4c4f-c211-e93423da0fa0"
      },
      "outputs": [],
      "source": [
        "x2 = np.cos(t + np.pi)\n",
        "y2 = np.sin(t + np.pi)\n",
        "\n",
        "fig, ax = plt.subplots()\n",
        "ax.scatter(x1, y1)\n",
        "ax.scatter(x2, y2)   # to draw multiple plots, just call the function multiple times.\n",
        "                     # notice that points on (1, 0) and (-1, 0) are overlapped.\n",
        "ax.set_aspect('equal')\n",
        "plt.show()"
      ]
    },
    {
      "cell_type": "markdown",
      "metadata": {
        "id": "JbPsUi_NxTJk"
      },
      "source": [
        "To draw line graphs (which are also useful in plotting functions) you can use the `plot` function."
      ]
    },
    {
      "cell_type": "code",
      "execution_count": null,
      "metadata": {
        "colab": {
          "base_uri": "https://localhost:8080/",
          "height": 430
        },
        "id": "EIGF3bWKwh4a",
        "outputId": "2864daaa-48c6-4ad1-ae15-7bdd0715b89e"
      },
      "outputs": [],
      "source": [
        "x3 = np.linspace(-3, 3, 15)  # we are using only 15 points to show you that it is really a line graph.\n",
        "                             # try increasing the number of points, to get a \"graph\" of a function.\n",
        "y3 = 1/np.sqrt(2*np.pi) * np.exp(-0.5 * x3**2)\n",
        "\n",
        "fig, ax = plt.subplots()\n",
        "ax.plot(x3, y3)\n",
        "fig.show()"
      ]
    },
    {
      "cell_type": "markdown",
      "metadata": {
        "id": "ECum-5r9yibZ"
      },
      "source": [
        "&nbsp;\n",
        "\n",
        "---\n",
        "\n",
        "3d plotting is also possible, but requires some more routine work.\n",
        "\n",
        "The good news is that the function names (`plot` and `scatter`) are the same in 2d plotting."
      ]
    },
    {
      "cell_type": "code",
      "execution_count": null,
      "metadata": {
        "colab": {
          "base_uri": "https://localhost:8080/",
          "height": 415
        },
        "id": "hZHs6J_mx1dz",
        "outputId": "435f71e0-4300-4620-a579-120f1483cacf"
      },
      "outputs": [],
      "source": [
        "# to draw 3d objects, you have to prepare *ax* in a different way.\n",
        "from mpl_toolkits.mplot3d import Axes3D  # this additional import should be done beforehand.\n",
        "fig = plt.figure()\n",
        "ax = fig.add_subplot(111, projection='3d')\n",
        "# routine ends here.\n",
        "\n",
        "t = np.linspace(0, 2*np.pi, 31)\n",
        "\n",
        "x = np.cos(2*t)\n",
        "y = np.sin(2*t)\n",
        "z = t\n",
        "ax.plot(x, y, z)  # line plot, but now by providing x, y, and z coordinates\n",
        "plt.show()"
      ]
    },
    {
      "cell_type": "code",
      "execution_count": null,
      "metadata": {
        "colab": {
          "base_uri": "https://localhost:8080/",
          "height": 415
        },
        "id": "3CDdObIizs06",
        "outputId": "a33eb2c0-4324-484a-c317-03053a5eed46"
      },
      "outputs": [],
      "source": [
        "fig = plt.figure()\n",
        "ax = fig.add_subplot(111, projection='3d')\n",
        "\n",
        "t = np.linspace(0, 2*np.pi, 31)\n",
        "\n",
        "x = np.cos(2*t)\n",
        "y = np.sin(2*t)\n",
        "z = t\n",
        "ax.scatter(x, y, z)  # scatter plot, but now by providing x, y, and z coordinates\n",
        "plt.show()"
      ]
    },
    {
      "cell_type": "markdown",
      "metadata": {
        "id": "4krKz7HW8nnx"
      },
      "source": [
        "Drawing surfaces is also possible, but to do so, we have to understand how ``meshgrid`` works.\n",
        "\n",
        "The basic idea is that, given a vector of $x$-coordinates $\\mathbb{x} = (x_1, x_2, \\dots, x_n)$ and a vector of $y$-coordinates $\\mathbb{y} = (y_1, y_2, \\dots, y_m)$, the function ``meshgrid`` generates the *grid* points\n",
        "\\begin{gather*}  \n",
        "({\\color{red} {x_1}}, {\\color{blue} {y_1}}),\\ ({\\color{red} {x_2}}, {\\color{blue} {y_1}}),\\ \\dots,\\ ({\\color{red} {x_n}}, {\\color{blue} {y_1}}), \\\\\n",
        "({\\color{red} {x_1}}, {\\color{blue} {y_2}}),\\ ({\\color{red} {x_2}}, {\\color{blue} {y_2}}),\\ \\dots,\\ ({\\color{red} {x_n}}, {\\color{blue} {y_2}}), \\\\\n",
        "                       {\\vdots} \\\\\n",
        "({\\color{red} {x_1}}, {\\color{blue} {y_m}}),\\ ({\\color{red} {x_2}}, {\\color{blue} {y_m}}),\\ \\dots,\\ ({\\color{red} {x_n}}, {\\color{blue} {y_m}})\n",
        "\\end{gather*}  \n",
        "in $\\mathbb{R}^2$. However, the function ``meshgrid`` returns these $nm$ points in the format of two $m \\times n$ matrices $X$ and $Y$. Here, from the rectangular array of points above, $\\color{red}X$ can be obatined by collecting only the $x$-coordinates (in red), and $\\color{blue}Y$ can be obatined by collecting only the $y$-coordinates (in blue)."
      ]
    },
    {
      "cell_type": "code",
      "execution_count": null,
      "metadata": {
        "colab": {
          "base_uri": "https://localhost:8080/"
        },
        "id": "e1Q6EkYs8nWC",
        "outputId": "537bc211-0ac0-4d7e-ed37-eae03087eaac"
      },
      "outputs": [],
      "source": [
        "x = np.array([0, 1, 4, 6])\n",
        "y = np.array([2, 3, 5])\n",
        "\n",
        "X, Y = np.meshgrid(x, y)\n",
        "\n",
        "print(\"X = \")\n",
        "print(X)\n",
        "print()\n",
        "print(\"Y = \")\n",
        "print(Y)\n"
      ]
    },
    {
      "cell_type": "code",
      "execution_count": null,
      "metadata": {
        "colab": {
          "base_uri": "https://localhost:8080/",
          "height": 430
        },
        "id": "ggDW3CyR16rK",
        "outputId": "3d22903c-bc45-470a-ae17-2d29b3c11337"
      },
      "outputs": [],
      "source": [
        "fig, ax = plt.subplots()\n",
        "ax.scatter(X, Y)\n",
        "plt.show()"
      ]
    },
    {
      "cell_type": "markdown",
      "metadata": {
        "id": "cqqJKlDmDXWp"
      },
      "source": [
        "``numpy`` and ``matplotlib`` are designed so that the points generated by ``meshgrid`` can in general be used directly without modifying them (*e.g.*, converting the outputs into vectors before using), as shown in the scatter plot above.\n",
        "\n",
        "&nbsp;"
      ]
    },
    {
      "cell_type": "markdown",
      "metadata": {
        "id": "5iYcyrm3EYgB"
      },
      "source": [
        "Now let's try drawing a plane in $\\mathbb{R}^3$, spanned by two vectors $\\mathbf{v}, \\mathbf{w} \\in \\mathbb{R}^3$.\n",
        "\n",
        "Notice that such a plane can be represented as\n",
        "\\begin{align*}\n",
        "\\left\\{  s\\mathbf{v} + t\\mathbf{w} = \\begin{pmatrix} sv_1 + tw_1 \\\\ sv_2 + tw_2 \\\\ sv_3 + tw_3 \\end{pmatrix} : s, t \\in \\mathbb{R} \\right\\}.\n",
        "\\end{align*}\n",
        "\n",
        "&nbsp;\n",
        "\n",
        "Generating points $(s, t) \\in \\mathbb{R}^2$ can be done by ``meshgrid``. Then we use the linear transform\n",
        "\\begin{align*}\n",
        " (s, t) \\mapsto (sv_1 + tw_1 , sv_2 + tw_2 , sv_3 + tw_3)\n",
        "\\end{align*}\n",
        "to convert those gridpoints into the points on the"
      ]
    },
    {
      "cell_type": "code",
      "execution_count": null,
      "metadata": {
        "id": "D1RVKKjIDTLx"
      },
      "outputs": [],
      "source": [
        "v = np.array([1, 0, 1])\n",
        "w = np.array([-1, -1, 1])\n",
        "\n",
        "s_coord = np.linspace(-3, 3, 51)\n",
        "t_coord = np.linspace(-3, 3, 51)\n",
        "\n",
        "s, t = np.meshgrid(s_coord, t_coord)\n",
        "\n",
        "X = s*v[0] + t*w[0]  # notice we can just use *s* and *t*\n",
        "Y = s*v[1] + t*w[1]  # as if they are variables in the equation.\n",
        "Z = s*v[2] + t*w[2]\n"
      ]
    },
    {
      "cell_type": "markdown",
      "metadata": {
        "id": "1vUhme7xILgn"
      },
      "source": [
        "Planes are surfaces, not lines. To draw a surface we have to use ``plot_surface`` instead of ``plot``."
      ]
    },
    {
      "cell_type": "code",
      "execution_count": null,
      "metadata": {
        "colab": {
          "base_uri": "https://localhost:8080/",
          "height": 415
        },
        "id": "mr_sWBqAHbTR",
        "outputId": "fff88621-2303-440d-9f5e-80bf74eedbfe"
      },
      "outputs": [],
      "source": [
        "fig = plt.figure()\n",
        "ax = fig.add_subplot(111, projection='3d')\n",
        "\n",
        "ax.plot_surface(X, Y, Z, alpha=0.7)  # draw the plane.\n",
        "                                     # alpha means transparency.\n",
        "\n",
        "ax.scatter(0, 0, 0, color='b')           # adding circle markers to visualize\n",
        "ax.scatter(v[0], v[1], v[2], color='r')  # basis vectors for the plane.\n",
        "ax.scatter(w[0], w[1], w[2], color='k')  # 'b' is blue, 'r' is red, 'k' is black.\n",
        "plt.show()"
      ]
    },
    {
      "cell_type": "markdown",
      "metadata": {
        "id": "T7p8ZAf9Nlat"
      },
      "source": [
        "&nbsp;\n",
        "\n",
        "---\n",
        "We are now prepared to visualize the linear transformations we have seen in Section 3.8 in the lecture notes.\n"
      ]
    },
    {
      "cell_type": "code",
      "execution_count": null,
      "metadata": {
        "colab": {
          "base_uri": "https://localhost:8080/",
          "height": 430
        },
        "id": "AVNILtkTH_sp",
        "outputId": "4a76b9e8-7463-48d8-d638-32cc92230688"
      },
      "outputs": [],
      "source": [
        "rng = np.random.RandomState(0)\n",
        "n_points = 25\n",
        "\n",
        "random_angle = 0.5 * np.pi * rng.random(size=n_points)\n",
        "x = np.cos(random_angle)\n",
        "y = np.sin(random_angle)\n",
        "\n",
        "fig, ax = plt.subplots()\n",
        "ax.scatter(x, y)\n",
        "ax.set_aspect('equal')\n",
        "plt.show()"
      ]
    },
    {
      "cell_type": "markdown",
      "metadata": {
        "id": "MQ24tDdSQ6Rr"
      },
      "source": [
        "Scaling in $\\mathbb{R}^2$ by a factor of $\\alpha$ can be represented by the matrix\n",
        "\\begin{align*}\n",
        "\\begin{bmatrix}\n",
        "\\alpha & 0 \\\\ 0 & \\alpha\n",
        "\\end{bmatrix}.\n",
        "\\end{align*}\n",
        "\n",
        "The example below visualizes a scaling by a factor of $1.2$."
      ]
    },
    {
      "cell_type": "code",
      "execution_count": null,
      "metadata": {
        "colab": {
          "base_uri": "https://localhost:8080/",
          "height": 430
        },
        "id": "-TpU9EasRRt8",
        "outputId": "8c56c0d1-7968-4ddd-b7eb-5089dc6aa095"
      },
      "outputs": [],
      "source": [
        "scl_x = np.zeros(n_points)\n",
        "scl_y = np.zeros(n_points)\n",
        "\n",
        "T_scl = np.array([[1.2,   0],\n",
        "                  [  0, 1.2]])\n",
        "\n",
        "for i in range(n_points):\n",
        "    v = np.array([x[i], y[i]])\n",
        "    Tv = T_scl @ v\n",
        "    scl_x[i] = Tv[0]\n",
        "    scl_y[i] = Tv[1]\n",
        "\n",
        "fig, ax = plt.subplots()\n",
        "ax.scatter(x, y, alpha=0.2)\n",
        "ax.scatter(scl_x, scl_y)\n",
        "ax.set_aspect('equal')\n",
        "plt.show()"
      ]
    },
    {
      "cell_type": "markdown",
      "metadata": {
        "id": "kl6vGVQYQDYy"
      },
      "source": [
        "Rotation on $\\mathbb{R}^2$ by an angle of $\\beta$ can be represented by the matrix\n",
        "\\begin{align*}\n",
        "\\begin{bmatrix}\n",
        "\\cos \\beta & -\\sin \\beta \\\\ \\sin \\beta & \\cos \\beta\n",
        "\\end{bmatrix}.\n",
        "\\end{align*}\n",
        "\n",
        "The example below visualizes a rotation by $\\pi / 6$."
      ]
    },
    {
      "cell_type": "code",
      "execution_count": null,
      "metadata": {
        "colab": {
          "base_uri": "https://localhost:8080/",
          "height": 387
        },
        "id": "mNCDQ_OGICgY",
        "outputId": "39f8c147-9dbb-44c8-e241-3f07020ce575"
      },
      "outputs": [],
      "source": [
        "rot_x = np.zeros(n_points)\n",
        "rot_y = np.zeros(n_points)\n",
        "rot_angle = np.pi / 6\n",
        "\n",
        "T_rot = np.array([[np.cos(rot_angle), -np.sin(rot_angle)],\n",
        "                  [np.sin(rot_angle),  np.cos(rot_angle)]])\n",
        "\n",
        "for i in range(n_points):\n",
        "    v = np.array([x[i], y[i]])\n",
        "    Tv = T_rot @ v\n",
        "    rot_x[i] = Tv[0]\n",
        "    rot_y[i] = Tv[1]\n",
        "\n",
        "fig, ax = plt.subplots()\n",
        "ax.scatter(x, y, alpha=0.2)\n",
        "ax.scatter(rot_x, rot_y)\n",
        "ax.set_aspect('equal')\n",
        "plt.show()"
      ]
    },
    {
      "cell_type": "markdown",
      "metadata": {
        "id": "WuBip-KTlZKb"
      },
      "source": [
        "Projection in $\\mathbb{R}^2$ onto a line passing through the origin and parallel to the vector $\\mathbf{v} = (\\cos \\theta, \\sin \\theta)$ can be represented by the matrix\n",
        "\n",
        "\\begin{align*}\n",
        "P_\\mathbf{v} = \\begin{bmatrix}\n",
        "\\cos^2 \\theta & \\sin \\theta \\cos \\theta \\\\ \\sin \\theta \\cos \\theta & \\sin^2 \\theta\n",
        "\\end{bmatrix}.\n",
        "\\end{align*}\n",
        "\n",
        "The example below visualizes a projection onto a line in the direction of $\\mathbf{v}$ with $\\theta = \\pi / 5$."
      ]
    },
    {
      "cell_type": "code",
      "execution_count": null,
      "metadata": {
        "colab": {
          "base_uri": "https://localhost:8080/",
          "height": 430
        },
        "id": "IniPzehxPnqo",
        "outputId": "b490c72d-ea9b-4867-a9cd-09e770d7a836"
      },
      "outputs": [],
      "source": [
        "proj_x = np.zeros(n_points)\n",
        "proj_y = np.zeros(n_points)\n",
        "theta = np.pi / 5\n",
        "\n",
        "P = np.array([[np.cos(theta) * np.cos(theta), np.sin(theta) * np.cos(theta)],\n",
        "              [np.sin(theta) * np.cos(theta), np.sin(theta) * np.sin(theta)]])\n",
        "\n",
        "for i in range(n_points):\n",
        "    v = np.array([x[i], y[i]])\n",
        "    Pv = P @ v\n",
        "    proj_x[i] = Pv[0]\n",
        "    proj_y[i] = Pv[1]\n",
        "\n",
        "fig, ax = plt.subplots()\n",
        "ax.plot([0, 1], [0, np.tan(theta)], '--', alpha=0.5, color='r')  # the line the points are projected to\n",
        "ax.scatter(x, y, alpha=0.2)\n",
        "ax.scatter(proj_x, proj_y)\n",
        "\n",
        "for i in range(n_points):\n",
        "    # let us connect the points to their projections: this will make the demonstration of the projection clearer\n",
        "    ax.plot([x[i], proj_x[i]], [y[i], proj_y[i]], '--', alpha=0.2, color='k', linewidth=0.8)\n",
        "\n",
        "ax.set_aspect('equal')\n",
        "plt.show()"
      ]
    },
    {
      "cell_type": "markdown",
      "metadata": {
        "id": "rFNtNlylpDcC"
      },
      "source": [
        "Observe that\n",
        "\\begin{align*}\n",
        "P_\\mathbf{v} = \\begin{bmatrix}\n",
        "\\cos^2 \\theta & \\sin \\theta \\cos \\theta \\\\ \\sin \\theta \\cos \\theta & \\sin^2 \\theta\n",
        "\\end{bmatrix} = \\begin{bmatrix}\n",
        "\\cos \\theta \\\\ \\sin \\theta  \n",
        "\\end{bmatrix} \\begin{bmatrix}\n",
        "\\cos \\theta & \\sin \\theta\n",
        "\\end{bmatrix} = \\mathbf{v}\\mathbf{v}^\\top.\n",
        "\\end{align*}\n",
        "\n",
        "This expression of a projection generalizes to higher dimensions (and to general vector spaces, as we will see in Chapter 4). In $\\mathbb{R}^n$, whenever $\\mathbf{v}$ is a unit vector, the projection onto the line passing through the origin and parallel to the vector $\\mathbf{v}$ can be represented by the matrix ${\\mathbf{v}\\mathbf{v}}^\\top$."
      ]
    },
    {
      "cell_type": "code",
      "execution_count": null,
      "metadata": {
        "colab": {
          "base_uri": "https://localhost:8080/",
          "height": 417
        },
        "id": "4O91nbA7myQi",
        "outputId": "94b732b3-ddf4-45a2-9501-c0a38e3a6d01"
      },
      "outputs": [],
      "source": [
        "rng = np.random.RandomState(0)\n",
        "n_points = 25\n",
        "\n",
        "# generating some random points in R^3\n",
        "x = -4.0 + 4.0 * rng.random(size=n_points)\n",
        "y = 4.0 * rng.random(size=n_points)\n",
        "z = 4.0 + rng.random(size=n_points)\n",
        "\n",
        "fig = plt.figure()\n",
        "ax = fig.add_subplot(111, projection='3d')\n",
        "\n",
        "ax.scatter(x, y, z)\n",
        "plt.show()"
      ]
    },
    {
      "cell_type": "code",
      "execution_count": null,
      "metadata": {
        "colab": {
          "base_uri": "https://localhost:8080/",
          "height": 413
        },
        "id": "nd6i_gedsRIe",
        "outputId": "2baa4a99-7865-4e69-e76b-0c3c6de6abde"
      },
      "outputs": [],
      "source": [
        "v = np.array([1, 0, 1])\n",
        "v = v / np.linalg.norm(v)\n",
        "v = v.reshape((-1, 1))  # convert to a \"column vector\", or more precisely, a 3*1 matrix\n",
        "\n",
        "P = v @ v.T\n",
        "\n",
        "proj_x = np.zeros(n_points)\n",
        "proj_y = np.zeros(n_points)\n",
        "proj_z = np.zeros(n_points)\n",
        "\n",
        "for i in range(n_points):\n",
        "    proj_pt = P @ np.array([x[i], y[i], z[i]])\n",
        "    proj_x[i] = proj_pt[0]\n",
        "    proj_y[i] = proj_pt[1]\n",
        "    proj_z[i] = proj_pt[2]\n",
        "\n",
        "\n",
        "fig = plt.figure()\n",
        "ax = fig.add_subplot(111, projection='3d')\n",
        "ax.plot([0, 6*v[0, 0]], [0, 6*v[1, 0]], [0, 6*v[2, 0]], '--', alpha=0.5, color='r')  # the line the points are projected to\n",
        "ax.scatter(x, y, z, alpha=0.75)\n",
        "ax.scatter(proj_x, proj_y, proj_z)\n",
        "\n",
        "plt.show()"
      ]
    },
    {
      "cell_type": "markdown",
      "metadata": {
        "id": "81A9i4jluw3z"
      },
      "source": [
        "A \"straightforward\" generalization of the projection matrix can be done as follows.\n",
        "\n",
        "> Suppose that $\\mathbf{v}$ and $\\mathbf{w}$ are unit vectors that are **orthogonal** to each other. In that case, we can consider a plane that is spanned by $\\mathbf{v}$ and $\\mathbf{w}$. Then, the projection onto that plane can be represented by the matrix  \n",
        "\\begin{align*}\n",
        "P = \\begin{bmatrix}\\mathbf{v} & \\mathbf{w}\\end{bmatrix} \\begin{bmatrix}\\mathbf{v}^\\top \\\\ \\mathbf{w}^\\top \\end{bmatrix} = \\mathbf{v}\\mathbf{v}^\\top + \\mathbf{w}\\mathbf{w}^\\top.\n",
        "\\end{align*}\n",
        "Note that the right hand side identity is a direct consequence of block multiplication.\n",
        "\n",
        "You will learn more about projections in Chapter 4.\n",
        "\n",
        "The idea of representing a matrix into a sum of rank-$1$ matrices will appear repeatedly thoughout the semester.  "
      ]
    },
    {
      "cell_type": "code",
      "execution_count": null,
      "metadata": {
        "colab": {
          "base_uri": "https://localhost:8080/",
          "height": 409
        },
        "id": "d10NoVpXtGJs",
        "outputId": "319793c0-c0ec-49d9-efd7-14d462036800"
      },
      "outputs": [],
      "source": [
        "v = np.array([1, 0, 1])\n",
        "w = np.array([-1, -1, 1])\n",
        "v = v / np.linalg.norm(v)\n",
        "w = w / np.linalg.norm(w)\n",
        "\n",
        "s_coord = np.linspace(0, 5, 51)\n",
        "t_coord = np.linspace(0, 5, 51)\n",
        "s, t = np.meshgrid(s_coord, t_coord)\n",
        "\n",
        "# first we prepare for drawing the plane\n",
        "X = s*v[0] + t*w[0]\n",
        "Y = s*v[1] + t*w[1]\n",
        "Z = s*v[2] + t*w[2]\n",
        "\n",
        "v = v.reshape((-1, 1))\n",
        "w = w.reshape((-1, 1))\n",
        "P = v @ v.T + w @ w.T\n",
        "\n",
        "# then we compute the projections\n",
        "proj_x = np.zeros(n_points)\n",
        "proj_y = np.zeros(n_points)\n",
        "proj_z = np.zeros(n_points)\n",
        "\n",
        "for i in range(n_points):\n",
        "    proj_pt = P @ np.array([x[i], y[i], z[i]])\n",
        "    proj_x[i] = proj_pt[0]\n",
        "    proj_y[i] = proj_pt[1]\n",
        "    proj_z[i] = proj_pt[2]\n",
        "\n",
        "\n",
        "fig = plt.figure()\n",
        "ax = fig.add_subplot(111, projection='3d')\n",
        "\n",
        "ax.plot_surface(X, Y, Z, alpha=0.7)\n",
        "ax.scatter(x, y, z, alpha=0.75)\n",
        "ax.scatter(proj_x, proj_y, proj_z)\n",
        "\n",
        "plt.show()  # this plot is actually much better when you run directly from python..."
      ]
    },
    {
      "cell_type": "code",
      "execution_count": null,
      "metadata": {
        "id": "GGfS25Y80D3X"
      },
      "outputs": [],
      "source": []
    }
  ],
  "metadata": {
    "colab": {
      "provenance": []
    },
    "kernelspec": {
      "display_name": "Python 3",
      "name": "python3"
    },
    "language_info": {
      "name": "python"
    }
  },
  "nbformat": 4,
  "nbformat_minor": 0
}
