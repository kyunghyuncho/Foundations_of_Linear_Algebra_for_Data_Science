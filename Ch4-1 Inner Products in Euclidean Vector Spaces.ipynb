{
  "cells": [
    {
      "cell_type": "markdown",
      "metadata": {},
      "source": [
        "# Chapter 4 Inner Products in the Euclidean Vector Spaces\n",
        "\n",
        "Let us investigate the inner products and projections in $\\mathbf{R}^n$."
      ]
    },
    {
      "cell_type": "code",
      "execution_count": 24,
      "metadata": {
        "id": "lwRCRj-Dqq1L"
      },
      "outputs": [],
      "source": [
        "# numerical and scientific computing libraries  \n",
        "import numpy as np \n",
        "import scipy as sp\n",
        "\n",
        "# plotting libraries\n",
        "import matplotlib as mpl\n",
        "import matplotlib.pyplot as plt\n",
        "import seaborn as sns"
      ]
    },
    {
      "cell_type": "code",
      "execution_count": 25,
      "metadata": {},
      "outputs": [],
      "source": [
        "# for pretty printing\n",
        "np.set_printoptions(4, linewidth=100, suppress=True)"
      ]
    },
    {
      "cell_type": "markdown",
      "metadata": {},
      "source": [
        "### Standard inner product or dot product in $\\mathbb{R}^n$.\n",
        "\n",
        "For two Euclidean vectors $\\mathbf{x}, \\mathbf{y} \\in \\mathbb{R}^n$, we define the standard inner product or dot product as\n",
        "$$<\\mathbf{x}, \\mathbf{y}> = \\mathbf{x}^\\top \\mathbf{y} = \\sum_{i=1}^n x_i y_i$$\n",
        "Even though there are infinitely many inner products, as we have seen in the textbook, the standard inner product is a special one, on which our most numerics on the length and angle on the earth are based. Probably you might already encountered this concept (partially at least)."
      ]
    },
    {
      "cell_type": "code",
      "execution_count": 26,
      "metadata": {},
      "outputs": [],
      "source": [
        "# Setting dimension\n",
        "n = 10"
      ]
    },
    {
      "cell_type": "code",
      "execution_count": 14,
      "metadata": {},
      "outputs": [
        {
          "name": "stdout",
          "output_type": "stream",
          "text": [
            "a =  [ 0.2506  1.724   0.0263 -1.3574 -0.069   0.4646 -0.019   0.5525  0.4205  0.1339]\n",
            "b =  [ 0.6913  1.3343 -1.2427 -2.0197 -0.0814  0.5488  0.2315  0.2116 -0.3749 -1.0132]\n",
            "5.262119626186437 5.262119626186437 5.262119626186438 5.262119626186438\n"
          ]
        }
      ],
      "source": [
        "# two vectors generated randomly\n",
        "a = np.random.randn(n)\n",
        "b = np.random.randn(n)\n",
        "print('a = ',a)\n",
        "print('b = ',b)\n",
        "# many ways of computing the dot product\n",
        "ip1 = np.inner(a,b)\n",
        "ip2 = np.dot(a,b)\n",
        "ip3 = np.sum(a[:]*b[:])\n",
        "ip4 = sum(a[:]*b[:])\n",
        "# In principle, all these produce a single value. Be careful in using np.inner and np.dot when a and b are multi-dimensional.\n",
        "print(ip1, ip2, ip3, ip4)"
      ]
    },
    {
      "cell_type": "markdown",
      "metadata": {},
      "source": [
        "For a given inner product $<\\cdot,\\cdot>$, the associated norm of a vector $\\mathbf{v}$ is defined as $|\\mathbf{v}| = \\sqrt{<\\mathbf{v}, \\mathbf{v}>}$. With the standard inner product, its norm or length is $|\\mathbf{x}| = \\sqrt{\\mathbf{x}^\\top \\mathbf{x}}$."
      ]
    },
    {
      "cell_type": "code",
      "execution_count": 15,
      "metadata": {},
      "outputs": [
        {
          "name": "stdout",
          "output_type": "stream",
          "text": [
            "|a| =  2.3662469061019555 2.3662469061019555\n",
            "|c| =  1.0\n"
          ]
        }
      ],
      "source": [
        "# Define a norm for standard inner product\n",
        "def norm_scratch(v):\n",
        "    return np.sqrt(sum(v**2))\n",
        "\n",
        "print('|a| = ', norm_scratch(a), np.linalg.norm(a))\n",
        "# normalize a vector\n",
        "c = (1/norm_scratch(a))*a\n",
        "print('|c| = ', norm_scratch(c))"
      ]
    },
    {
      "cell_type": "markdown",
      "metadata": {},
      "source": [
        "### One-dimensional projection\n",
        "\n",
        "Now consider a one-dimensional projection along a vector $\\mathbf{v}$."
      ]
    },
    {
      "cell_type": "code",
      "execution_count": 16,
      "metadata": {},
      "outputs": [
        {
          "name": "stdout",
          "output_type": "stream",
          "text": [
            "1.0\n",
            "angle =  86.34342164058197\n",
            "a      =  [ 0.2506  1.724   0.0263 -1.3574 -0.069   0.4646 -0.019   0.5525  0.4205  0.1339]\n",
            "v      =  [ 0.1446  0.2922 -0.2067  0.1501 -0.0684 -0.0554  0.636   0.1971 -0.4901 -0.3704]\n",
            "c1 =  0.15090980728458506\n",
            "a_proj =  [ 0.0218  0.0441 -0.0312  0.0227 -0.0103 -0.0084  0.096   0.0297 -0.074  -0.0559]\n"
          ]
        }
      ],
      "source": [
        "v1 = np.random.randn(n)\n",
        "norm_v1 = norm_scratch(v1)\n",
        "v = (1/norm_v1)*v1\n",
        "\n",
        "#check the unity of v\n",
        "print(norm_scratch(v))\n",
        "\n",
        "# project vector a along the direction of v\n",
        "c1 = np.inner(a,v)\n",
        "a_proj = c1*v\n",
        "cosine = c1/norm_scratch(a)\n",
        "print('angle = ', np.degrees(np.arccos(cosine)))\n",
        "\n",
        "print('a      = ', a)\n",
        "print('v      = ', v)\n",
        "print('c1 = ', c1)\n",
        "print('a_proj = ',a_proj)"
      ]
    },
    {
      "cell_type": "markdown",
      "metadata": {},
      "source": [
        "### Gram-Schmidt procedure\n",
        "\n"
      ]
    },
    {
      "cell_type": "code",
      "execution_count": 17,
      "metadata": {},
      "outputs": [],
      "source": [
        "# Setting dimension\n",
        "n = 10"
      ]
    },
    {
      "cell_type": "code",
      "execution_count": 18,
      "metadata": {
        "colab": {
          "base_uri": "https://localhost:8080/",
          "height": 430
        },
        "id": "AVNILtkTH_sp",
        "outputId": "4a76b9e8-7463-48d8-d638-32cc92230688"
      },
      "outputs": [
        {
          "name": "stdout",
          "output_type": "stream",
          "text": [
            "[[ 0.3666 -0.6032 -0.3203]\n",
            " [-0.3689  0.0236 -0.2551]\n",
            " [ 0.0309  0.0047  0.2778]\n",
            " [ 0.1253  0.1922  0.4992]\n",
            " [-0.2509 -0.3002 -0.3623]\n",
            " [ 0.4524  0.4613 -0.4236]\n",
            " [ 0.3192  0.1958 -0.2265]\n",
            " [ 0.3405 -0.4416  0.1812]\n",
            " [ 0.3617  0.1774 -0.0982]\n",
            " [ 0.3109 -0.1758  0.3185]]\n",
            "[[ 1. -0. -0.]\n",
            " [-0.  1. -0.]\n",
            " [-0. -0.  1.]]\n",
            "[[ 0.6008 -0.0678 -0.0805 -0.2299  0.2051  0.0233  0.0714  0.3332  0.0571  0.118 ]\n",
            " [-0.0678  0.2017 -0.0821 -0.169   0.1779 -0.0479 -0.0553 -0.1823 -0.1042 -0.2001]\n",
            " [-0.0805 -0.0821  0.0782  0.1435 -0.1098 -0.1015 -0.0521  0.0588 -0.0153  0.0973]\n",
            " [-0.2299 -0.169   0.1435  0.3019 -0.27   -0.0661 -0.0354  0.0482  0.0304  0.1642]\n",
            " [ 0.2051  0.1779 -0.1098 -0.27    0.2843 -0.0985 -0.0568 -0.0185 -0.1084 -0.1406]\n",
            " [ 0.0233 -0.0479 -0.1015 -0.0661 -0.0985  0.5969  0.3306 -0.1264  0.2871 -0.0754]\n",
            " [ 0.0714 -0.0553 -0.0521 -0.0354 -0.0568  0.3306  0.1915 -0.0188  0.1724 -0.0073]\n",
            " [ 0.3332 -0.1823  0.0588  0.0482 -0.0185 -0.1264 -0.0188  0.3438  0.027   0.2412]\n",
            " [ 0.0571 -0.1042 -0.0153  0.0304 -0.1084  0.2871  0.1724  0.027   0.1719  0.05  ]\n",
            " [ 0.118  -0.2001  0.0973  0.1642 -0.1406 -0.0754 -0.0073  0.2412  0.05    0.229 ]]\n"
          ]
        }
      ],
      "source": [
        "a1 = np.random.randn(n)\n",
        "a2 = np.random.randn(n)\n",
        "a3 = np.random.randn(n)\n",
        "\n",
        "# the first orthonormal vector\n",
        "v1 = (1/norm_scratch(a1))*a1\n",
        "\n",
        "# the second orthonormal vector\n",
        "v = a2 - np.inner(a2,v1)*v1\n",
        "v2 = (1/norm_scratch(v))*v\n",
        "\n",
        "# the third orthonormal vector\n",
        "v = a3 - np.inner(a3,v1)*v1 - np.inner(a3,v2)*v2\n",
        "v3 = (1/norm_scratch(v))*v\n",
        "\n",
        "# build a matrix of orthonormal vectors\n",
        "Q = np.stack((v1,v2,v3),axis=1)\n",
        "\n",
        "print(Q)\n",
        "print(Q.T @ Q)  # As you expect, it is an identity matrix of 3x3\n",
        "print(Q @ Q.T)  # It is meaningless matrix of 10x10"
      ]
    },
    {
      "cell_type": "markdown",
      "metadata": {},
      "source": [
        "If dimension is 3, we can visualize the orthogonalization."
      ]
    },
    {
      "cell_type": "code",
      "execution_count": 19,
      "metadata": {},
      "outputs": [],
      "source": [
        "# Example for 3D visualization (if n=3)\n",
        "if n==3:\n",
        "    fig = plt.figure()\n",
        "    ax = fig.add_subplot(111, projection='3d')\n",
        "\n",
        "    # Plot original vectors\n",
        "    ax.quiver(0, 0, 0, a1[0], a1[1], a1[2], color='r', label='a1')\n",
        "    ax.quiver(0, 0, 0, a2[0], a2[1], a2[2], color='g', label='a2')\n",
        "    ax.quiver(0, 0, 0, a3[0], a3[1], a3[2], color='b', label='a3')\n",
        "\n",
        "    # Plot orthonormal vectors\n",
        "    ax.quiver(0, 0, 0, v1[0], v1[1], v1[2], color='c', label='v1 (orthonormal)')\n",
        "    ax.quiver(0, 0, 0, v2[0], v2[1], v2[2], color='m', label='v2 (orthonormal)')\n",
        "    ax.quiver(0, 0, 0, v3[0], v3[1], v3[2], color='y', label='v3 (orthonormal)')\n",
        "\n",
        "    ax.set_xlim([-2, 2])\n",
        "    ax.set_ylim([-2, 2])\n",
        "    ax.set_zlim([-2, 2])\n",
        "    ax.legend()\n",
        "    plt.show()"
      ]
    },
    {
      "cell_type": "markdown",
      "metadata": {},
      "source": [
        "Let us project an arbitrary vector onto the 3-dimensional subspace spanned by a1, a2, and a3. There are two ways: the first one is projecting via the orthonormal basis; the second one is through the projection matrix $P = A (A^\\top A)^{-1}A^\\top$. Let us see whether they provide us a same projected vector."
      ]
    },
    {
      "cell_type": "code",
      "execution_count": 20,
      "metadata": {},
      "outputs": [
        {
          "name": "stdout",
          "output_type": "stream",
          "text": [
            "a =  [-1.4286 -1.2    -0.1019  1.041   1.6794  0.0695  0.6013  0.5564  0.3964  0.8736]\n",
            "a_proj =  [-0.3081 -0.3682  0.2438  0.5339 -0.516   0.0181  0.0269  0.1485  0.145   0.3408]\n",
            "a_proj1 =  [-0.3081 -0.3682  0.2438  0.5339 -0.516   0.0181  0.0269  0.1485  0.145   0.3408]\n"
          ]
        },
        {
          "data": {
            "text/plain": [
              "True"
            ]
          },
          "execution_count": 20,
          "metadata": {},
          "output_type": "execute_result"
        }
      ],
      "source": [
        "a = np.random.randn(n)\n",
        "print('a = ', a)\n",
        "a_proj = np.inner(a,v1)*v1 + np.inner(a,v2)*v2 + np.inner(a,v3)*v3\n",
        "print('a_proj = ', a_proj)\n",
        "\n",
        "A = np.stack((a1,a2,a3),axis=1)\n",
        "P = A @ np.linalg.inv(A.T @ A) @ A.T\n",
        "a_proj1 = P @ a\n",
        "print('a_proj1 = ', a_proj1)\n",
        "\n",
        "np.allclose(a_proj, a_proj1)"
      ]
    },
    {
      "cell_type": "markdown",
      "metadata": {},
      "source": [
        "Let us cross-check whether the common residual vector is perpendicular to a1, a2, and a3. "
      ]
    },
    {
      "cell_type": "code",
      "execution_count": 21,
      "metadata": {},
      "outputs": [
        {
          "name": "stdout",
          "output_type": "stream",
          "text": [
            "[-0.  0. -0.]\n"
          ]
        }
      ],
      "source": [
        "a_res = a - a_proj\n",
        "print(A.T @ a_res)"
      ]
    },
    {
      "cell_type": "markdown",
      "metadata": {},
      "source": [
        "For $n > 3$, let us go further to find a orthonormal basis of $\\mathbb{R}^n$. In the textbook, three vectors can not span $\\mathbb{R}^n$ and there exist a vector not in the subspace spanned by the three vectors. However, nobody provide us the desired vector ourside of the subspace. We have to search for one now. One idea would be considering the standard basic vector $\\mathbf{e}_i$ one by one. Here, along a popular idea in data science, we borrow probabilistic thinking: the subspace of dimension less than $n$ has a zero-volume in $\\mathbb{R}^n$ and hence if we sample a vector randomly in $\\mathbb{R}^n$, then it would be outside of the subspace with very high probability."
      ]
    },
    {
      "cell_type": "code",
      "execution_count": 22,
      "metadata": {},
      "outputs": [],
      "source": [
        "k = 3\n",
        "Q = np.stack((v1,v2,v3),axis=1)\n",
        "\n",
        "while k < n:\n",
        "    a = np.random.randn(n)\n",
        "    for i in range(k):\n",
        "        a = a - np.inner(a,Q[:,i])*Q[:,i]\n",
        "    if norm_scratch(a) > 1e-10:\n",
        "        Q = np.concatenate((Q, (1/norm_scratch(a))*a[:,np.newaxis]), axis=1)\n",
        "        k = k + 1"
      ]
    },
    {
      "cell_type": "markdown",
      "metadata": {},
      "source": [
        "Surprisingly, the lines in the above cell is written down 100% by co-pilot!!!"
      ]
    },
    {
      "cell_type": "code",
      "execution_count": 23,
      "metadata": {},
      "outputs": [
        {
          "name": "stdout",
          "output_type": "stream",
          "text": [
            "[[ 0.3666 -0.6032 -0.3203 -0.3003  0.2807 -0.1531 -0.0541 -0.0043 -0.4452 -0.075 ]\n",
            " [-0.3689  0.0236 -0.2551 -0.6493  0.0733  0.0821  0.0565 -0.4219  0.2413  0.3538]\n",
            " [ 0.0309  0.0047  0.2778 -0.1493  0.0358 -0.8164 -0.3977 -0.0118  0.2709  0.005 ]\n",
            " [ 0.1253  0.1922  0.4992 -0.4126 -0.4549  0.0456  0.0218 -0.176  -0.5342 -0.0448]\n",
            " [-0.2509 -0.3002 -0.3623  0.287  -0.7052 -0.161  -0.2005 -0.1042 -0.1312  0.2045]\n",
            " [ 0.4524  0.4613 -0.4236  0.1186 -0.0868 -0.2733  0.2715 -0.4558  0.0097 -0.159 ]\n",
            " [ 0.3192  0.1958 -0.2265 -0.1992 -0.1397  0.382  -0.7281  0.0989  0.1907 -0.1647]\n",
            " [ 0.3405 -0.4416  0.1812 -0.1542 -0.3698  0.11    0.3363 -0.031   0.5743 -0.1992]\n",
            " [ 0.3617  0.1774 -0.0982 -0.1277 -0.1191 -0.0809  0.1741  0.5305  0.0242  0.6919]\n",
            " [ 0.3109 -0.1758  0.3185  0.3457  0.1797  0.1899 -0.2186 -0.5292  0.0266  0.5046]]\n",
            "[[ 1. -0. -0. -0. -0.  0. -0.  0.  0.  0.]\n",
            " [-0.  1. -0. -0. -0.  0. -0.  0. -0.  0.]\n",
            " [-0. -0.  1.  0.  0.  0.  0.  0.  0.  0.]\n",
            " [-0. -0.  0.  1.  0.  0.  0.  0.  0.  0.]\n",
            " [-0. -0.  0.  0.  1. -0. -0.  0. -0.  0.]\n",
            " [ 0.  0.  0.  0. -0.  1.  0. -0. -0. -0.]\n",
            " [-0. -0.  0.  0. -0.  0.  1.  0. -0.  0.]\n",
            " [ 0.  0.  0.  0.  0. -0.  0.  1.  0. -0.]\n",
            " [ 0. -0.  0.  0. -0. -0. -0.  0.  1.  0.]\n",
            " [ 0.  0.  0.  0.  0. -0.  0. -0.  0.  1.]]\n",
            "[[ 1.  0. -0. -0.  0.  0.  0.  0. -0.  0.]\n",
            " [ 0.  1.  0.  0.  0.  0. -0. -0. -0.  0.]\n",
            " [-0.  0.  1. -0. -0. -0.  0.  0.  0. -0.]\n",
            " [-0.  0. -0.  1. -0.  0.  0.  0. -0. -0.]\n",
            " [ 0.  0. -0. -0.  1.  0. -0.  0. -0. -0.]\n",
            " [ 0.  0. -0.  0.  0.  1.  0. -0.  0.  0.]\n",
            " [ 0. -0.  0.  0. -0.  0.  1. -0. -0.  0.]\n",
            " [ 0. -0.  0.  0.  0. -0. -0.  1. -0.  0.]\n",
            " [-0. -0.  0. -0. -0.  0. -0. -0.  1.  0.]\n",
            " [ 0.  0. -0. -0. -0.  0.  0.  0.  0.  1.]]\n"
          ]
        }
      ],
      "source": [
        "print(Q)\n",
        "print(Q.T @ Q)  # As you expect, it is an identity matrix of 10x10\n",
        "print(Q @ Q.T)  # Now it is an identity matrix of 10x10"
      ]
    }
  ],
  "metadata": {
    "colab": {
      "provenance": []
    },
    "kernelspec": {
      "display_name": "linear_algebra",
      "language": "python",
      "name": "python3"
    },
    "language_info": {
      "codemirror_mode": {
        "name": "ipython",
        "version": 3
      },
      "file_extension": ".py",
      "mimetype": "text/x-python",
      "name": "python",
      "nbconvert_exporter": "python",
      "pygments_lexer": "ipython3",
      "version": "3.12.9"
    }
  },
  "nbformat": 4,
  "nbformat_minor": 0
}
