{
 "cells": [
  {
   "cell_type": "markdown",
   "metadata": {},
   "source": [
    "# Chapter 3 Finding Null Space"
   ]
  },
  {
   "cell_type": "code",
   "execution_count": 122,
   "metadata": {},
   "outputs": [],
   "source": [
    "# numerical and scientific computing libraries  \n",
    "import numpy as np \n",
    "import scipy as sp\n",
    "\n",
    "# plotting libraries\n",
    "import matplotlib as mpl\n",
    "import matplotlib.pyplot as plt\n",
    "import seaborn as sns"
   ]
  },
  {
   "cell_type": "code",
   "execution_count": 123,
   "metadata": {},
   "outputs": [],
   "source": [
    "# for pretty printing\n",
    "np.set_printoptions(4, linewidth=100, suppress=True)"
   ]
  },
  {
   "cell_type": "code",
   "execution_count": 124,
   "metadata": {},
   "outputs": [],
   "source": [
    "# create a random matrix of size m x n with the rank <= k <= min(m, n).\n",
    "def create_random_matrix(m: int, n: int, k: int) -> np.ndarray:\n",
    "    if k > min(m, n):\n",
    "        raise ValueError(\"k must be less than or equal to min(n, m)\")\n",
    "    A = np.random.randn(m, k)\n",
    "    B = np.random.randn(k, n)\n",
    "    return A@B"
   ]
  },
  {
   "cell_type": "markdown",
   "metadata": {},
   "source": [
    "We consider a matrix of size $10 \\times 11$ of rank 7, which is non-square and not of full rank."
   ]
  },
  {
   "cell_type": "code",
   "execution_count": 125,
   "metadata": {},
   "outputs": [],
   "source": [
    "m=10\n",
    "n=11\n",
    "k=7\n",
    "# generate an mxn matrix of rank at most k\n",
    "A = create_random_matrix(m, n, k)"
   ]
  },
  {
   "cell_type": "markdown",
   "metadata": {},
   "source": [
    "To find a null space of a matrix $A$, we apply $LU$-decomposition to $A$. Since the null spaces of $A$ and $U$ coincide, we find a null space of the upper triangular matrix $U$. We characterize the pivot entries by searching the first non-zero element in each row of $U$, and then remaining variables are free ones."
   ]
  },
  {
   "cell_type": "code",
   "execution_count": null,
   "metadata": {},
   "outputs": [
    {
     "name": "stdout",
     "output_type": "stream",
     "text": [
      "[[-6.6486  0.2688  2.0031 -0.0759 -0.681   0.7743  2.0962  1.1056 -1.5248 -0.5511 -2.4102]\n",
      " [ 0.      5.0315  3.7506  5.3958  3.382  -1.8644 -2.6579 -3.6646 -5.5279 -0.2644  2.4499]\n",
      " [ 0.      0.      3.3443  0.9225 -1.0476 -0.2602 -2.2049 -0.877  -0.7328  1.2869 -1.414 ]\n",
      " [ 0.      0.      0.      5.9176  1.5869 -1.3519 -5.5978  1.9608 -3.276  -3.3937  3.0175]\n",
      " [ 0.      0.      0.      0.     -1.641  -0.6297  2.4833  3.9012 -0.3683 -6.875   1.5915]\n",
      " [ 0.      0.      0.      0.      0.     -1.0856 -4.0689 -3.5509  1.8101  4.3999 -0.0794]\n",
      " [ 0.      0.      0.      0.      0.      0.     -2.0918 -2.3091 -0.0107  3.7088 -0.5242]\n",
      " [ 0.      0.      0.      0.      0.      0.      0.      0.      0.     -0.      0.    ]\n",
      " [ 0.      0.      0.      0.      0.      0.      0.      0.     -0.     -0.      0.    ]\n",
      " [ 0.      0.      0.      0.      0.      0.      0.      0.      0.      0.     -0.    ]]\n",
      "Pivot variables =\n",
      "[0 1 2 3 4 5 6]\n",
      "Free variables =\n",
      "[ 7  8  9 10]\n"
     ]
    }
   ],
   "source": [
    "pivots = []\n",
    "# LU-decomposition\n",
    "P, L, U = sp.linalg.lu(A)\n",
    "print(U)\n",
    "# identify rank of U\n",
    "rank_u = np.linalg.matrix_rank(U)\n",
    "# find pivot entries\n",
    "for i in range(rank_u):\n",
    "    non_zero_indices = np.nonzero(U[i,:])\n",
    "    pivots.append(non_zero_indices[0][0])\n",
    "print('Pivot variables =')\n",
    "print(np.int64(pivots))\n",
    "# find column indices of free variables\n",
    "free_variables = np.sort(list(set(range(n))- set(pivots)))\n",
    "print(\"Free variables =\")\n",
    "print(free_variables)"
   ]
  },
  {
   "cell_type": "markdown",
   "metadata": {},
   "source": [
    "Note that we invoke **numpy.linalg.matrix_rank** which might use advanced results not covered until Chapter 3 in our textbook. We will implement this functionality from the scratch in a file 'Solving Non-invertible Linear System'. "
   ]
  },
  {
   "cell_type": "markdown",
   "metadata": {},
   "source": [
    "Collect pivot columns of U into **U_pivot**, and columns for free variables into **U_free**. Then solve $U_{pivot} X = -U_{free}$ where $X$ is an $n \\times (n- Rank A)$ matrix solution of the equation."
   ]
  },
  {
   "cell_type": "code",
   "execution_count": 127,
   "metadata": {},
   "outputs": [
    {
     "name": "stdout",
     "output_type": "stream",
     "text": [
      "pivot columns of U = \n",
      "[[-6.6486  0.2688  2.0031 -0.0759 -0.681   0.7743  2.0962]\n",
      " [ 0.      5.0315  3.7506  5.3958  3.382  -1.8644 -2.6579]\n",
      " [ 0.      0.      3.3443  0.9225 -1.0476 -0.2602 -2.2049]\n",
      " [ 0.      0.      0.      5.9176  1.5869 -1.3519 -5.5978]\n",
      " [ 0.      0.      0.      0.     -1.641  -0.6297  2.4833]\n",
      " [ 0.      0.      0.      0.      0.     -1.0856 -4.0689]\n",
      " [ 0.      0.      0.      0.      0.      0.     -2.0918]]\n",
      "free variable columns of U = \n",
      "[[ 1.1056 -1.5248 -0.5511 -2.4102]\n",
      " [-3.6646 -5.5279 -0.2644  2.4499]\n",
      " [-0.877  -0.7328  1.2869 -1.414 ]\n",
      " [ 1.9608 -3.276  -3.3937  3.0175]\n",
      " [ 3.9012 -0.3683 -6.875   1.5915]\n",
      " [-3.5509  1.8101  4.3999 -0.0794]\n",
      " [-2.3091 -0.0107  3.7088 -0.5242]]\n",
      "pivot part of X = \n",
      "[[-0.0211  0.0168  0.1235 -0.196 ]\n",
      " [ 1.5317  1.2446 -1.4986 -0.2386]\n",
      " [ 0.0717 -0.2512 -0.0732  0.5765]\n",
      " [-1.278   1.1699  1.7957 -0.6184]\n",
      " [ 0.3744 -0.8794 -0.5117  0.2583]\n",
      " [ 0.8665  1.6865 -2.5923  0.866 ]\n",
      " [-1.1039 -0.0051  1.773  -0.2506]]\n",
      "X = \n",
      "[[-0.0211  0.0168  0.1235 -0.196 ]\n",
      " [ 1.5317  1.2446 -1.4986 -0.2386]\n",
      " [ 0.0717 -0.2512 -0.0732  0.5765]\n",
      " [-1.278   1.1699  1.7957 -0.6184]\n",
      " [ 0.3744 -0.8794 -0.5117  0.2583]\n",
      " [ 0.8665  1.6865 -2.5923  0.866 ]\n",
      " [-1.1039 -0.0051  1.773  -0.2506]\n",
      " [ 1.      0.      0.      0.    ]\n",
      " [ 0.      1.      0.      0.    ]\n",
      " [ 0.      0.      1.      0.    ]\n",
      " [ 0.      0.      0.      1.    ]]\n"
     ]
    },
    {
     "data": {
      "text/plain": [
       "True"
      ]
     },
     "execution_count": 127,
     "metadata": {},
     "output_type": "execute_result"
    }
   ],
   "source": [
    "# Collect pivot columns and free variables\n",
    "U_pivot = U[:rank_u, pivots]\n",
    "print('pivot columns of U = ')\n",
    "print(U_pivot)\n",
    "U_free = U[:rank_u, free_variables]\n",
    "print('free variable columns of U = ')\n",
    "print(U_free)\n",
    "# Solve for the pivot part of a basis of the null space of A\n",
    "X_pivot = np.linalg.solve(U_pivot,-U_free)\n",
    "print('pivot part of X = ')\n",
    "print(X_pivot)\n",
    "# Combine pivot part and free variable part\n",
    "X = np.eye(n)[:,free_variables]\n",
    "X[pivots,:] = X_pivot\n",
    "\n",
    "print('X = ')\n",
    "print(X)\n",
    "\n",
    "np.allclose(A@X, 0)"
   ]
  },
  {
   "cell_type": "markdown",
   "metadata": {},
   "source": [
    "Check the linear independence of columns of matrix $X$ since, after row shuffling, a submatrix of $X$ is an identity matrix."
   ]
  }
 ],
 "metadata": {
  "kernelspec": {
   "display_name": "linear_algebra",
   "language": "python",
   "name": "python3"
  },
  "language_info": {
   "codemirror_mode": {
    "name": "ipython",
    "version": 3
   },
   "file_extension": ".py",
   "mimetype": "text/x-python",
   "name": "python",
   "nbconvert_exporter": "python",
   "pygments_lexer": "ipython3",
   "version": "3.12.9"
  }
 },
 "nbformat": 4,
 "nbformat_minor": 2
}
