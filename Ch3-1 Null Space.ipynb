{
 "cells": [
  {
   "cell_type": "markdown",
   "metadata": {},
   "source": [
    "# Chapter 3 Finding Null Space"
   ]
  },
  {
   "cell_type": "code",
   "execution_count": 1,
   "metadata": {},
   "outputs": [],
   "source": [
    "# numerical and scientific computing libraries  \n",
    "import numpy as np \n",
    "import scipy as sp\n",
    "\n",
    "# plotting libraries\n",
    "import matplotlib as mpl\n",
    "import matplotlib.pyplot as plt\n",
    "import seaborn as sns"
   ]
  },
  {
   "cell_type": "code",
   "execution_count": 2,
   "metadata": {},
   "outputs": [],
   "source": [
    "# for pretty printing\n",
    "np.set_printoptions(4, linewidth=100, suppress=True)"
   ]
  },
  {
   "cell_type": "code",
   "execution_count": 3,
   "metadata": {},
   "outputs": [],
   "source": [
    "# create a random matrix of size m x n with the rank <= k <= min(m, n).\n",
    "def create_random_matrix(m: int, n: int, k: int) -> np.ndarray:\n",
    "    if k > min(m, n):\n",
    "        raise ValueError(\"k must be less than or equal to min(n, m)\")\n",
    "    A = np.random.randn(m, k)\n",
    "    B = np.random.randn(k, n)\n",
    "    return A@B"
   ]
  },
  {
   "cell_type": "markdown",
   "metadata": {},
   "source": [
    "We consider a matrix of size $10 \\times 11$ of rank 7, which is non-square and not of full rank."
   ]
  },
  {
   "cell_type": "code",
   "execution_count": 4,
   "metadata": {},
   "outputs": [],
   "source": [
    "m=10\n",
    "n=11\n",
    "k=7\n",
    "# generate an mxn matrix of rank at most k\n",
    "A = create_random_matrix(m, n, k)"
   ]
  },
  {
   "cell_type": "markdown",
   "metadata": {},
   "source": [
    "To find a null space of a matrix $A$, we apply $LU$-decomposition to $A$. Since the null spaces of $A$ and $U$ coincide, we find a null space of the upper triangular matrix $U$. We characterize the pivot entries by searching the first non-zero element in each row of $U$, and then remaining variables are free ones."
   ]
  },
  {
   "cell_type": "code",
   "execution_count": 5,
   "metadata": {},
   "outputs": [
    {
     "name": "stdout",
     "output_type": "stream",
     "text": [
      "[[-5.6326 -7.2932 -4.4209  1.1787  5.2399  1.7193 -7.9353 -1.8607  0.2294  1.1057 -1.3617]\n",
      " [ 0.      5.8976  1.908  -3.1187 -1.1355 -2.2901  1.4088 -1.601   0.344  -2.5084 -1.6704]\n",
      " [ 0.      0.     -4.3361 -0.6101 -1.8971 -2.7182 -4.8943  0.0058  2.1581 -3.6233 -0.5328]\n",
      " [ 0.      0.      0.      3.0336 -5.0298 -2.8854  6.8808 -0.729  -5.4434 -2.3809  3.5878]\n",
      " [ 0.      0.      0.      0.     -5.6616 -0.1132 -2.2355 -0.7585  1.561   3.8564 -0.567 ]\n",
      " [ 0.      0.      0.      0.      0.     -2.1323  5.5149 -5.1065  2.4937 -0.3244  2.0906]\n",
      " [ 0.      0.      0.      0.      0.      0.      0.0944 -2.0777 -1.2016  1.2656 -0.0775]\n",
      " [ 0.      0.      0.      0.      0.      0.      0.     -0.     -0.      0.     -0.    ]\n",
      " [ 0.      0.      0.      0.      0.      0.      0.      0.     -0.     -0.      0.    ]\n",
      " [ 0.      0.      0.      0.      0.      0.      0.      0.      0.      0.      0.    ]]\n",
      "Pivot variables =  [0 1 2 3 4 5 6]\n",
      "Free variables =  [ 7  8  9 10]\n"
     ]
    }
   ],
   "source": [
    "pivots = []\n",
    "# LU-decomposition\n",
    "P, L, U = sp.linalg.lu(A)\n",
    "print(U)\n",
    "# identify rank of U\n",
    "rank_u = np.linalg.matrix_rank(U)\n",
    "# find pivot entries\n",
    "for i in range(rank_u):\n",
    "    non_zero_indices = np.nonzero(U[i,:])\n",
    "    pivots.append(non_zero_indices[0][0])\n",
    "print('Pivot variables = ', np.int64(pivots))\n",
    "# find column indices of free variables\n",
    "free_variables = np.sort(list(set(range(n))- set(pivots)))\n",
    "print(\"Free variables = \", free_variables)"
   ]
  },
  {
   "cell_type": "markdown",
   "metadata": {},
   "source": [
    "Note that we invoke **numpy.linalg.matrix_rank** which might use advanced results not covered in until Chapter 3 of our textbook. We will implement this functionality from the scratch in **Ch3-3 Solving Non-invertible Linear System**. "
   ]
  },
  {
   "cell_type": "markdown",
   "metadata": {},
   "source": [
    "Collect pivot columns of U into **U_pivot**, and columns for free variables into **U_free**. Then solve $U_{pivot} X = -U_{free}$ where $X$ is an $n \\times (n- Rank A)$ matrix solution of the equation."
   ]
  },
  {
   "cell_type": "code",
   "execution_count": 6,
   "metadata": {},
   "outputs": [
    {
     "name": "stdout",
     "output_type": "stream",
     "text": [
      "pivot columns of U = \n",
      "[[-5.6326 -7.2932 -4.4209  1.1787  5.2399  1.7193 -7.9353]\n",
      " [ 0.      5.8976  1.908  -3.1187 -1.1355 -2.2901  1.4088]\n",
      " [ 0.      0.     -4.3361 -0.6101 -1.8971 -2.7182 -4.8943]\n",
      " [ 0.      0.      0.      3.0336 -5.0298 -2.8854  6.8808]\n",
      " [ 0.      0.      0.      0.     -5.6616 -0.1132 -2.2355]\n",
      " [ 0.      0.      0.      0.      0.     -2.1323  5.5149]\n",
      " [ 0.      0.      0.      0.      0.      0.      0.0944]]\n",
      "free variable columns of U = \n",
      "[[-1.8607  0.2294  1.1057 -1.3617]\n",
      " [-1.601   0.344  -2.5084 -1.6704]\n",
      " [ 0.0058  2.1581 -3.6233 -0.5328]\n",
      " [-0.729  -5.4434 -2.3809  3.5878]\n",
      " [-0.7585  1.561   3.8564 -0.567 ]\n",
      " [-5.1065  2.4937 -0.3244  2.0906]\n",
      " [-2.0777 -1.2016  1.2656 -0.0775]]\n",
      "pivot part of X = \n",
      "[[-16.3422 -10.7317   9.7811  -1.0556]\n",
      " [ 23.7737  17.6184 -14.1053   1.5818]\n",
      " [-52.6578 -32.3368  31.9114  -2.6544]\n",
      " [-14.2496  -3.6552   9.1264  -0.8987]\n",
      " [ -9.9102  -5.4295   6.6684  -0.4861]\n",
      " [ 54.5046  34.0776 -34.8114   3.1021]\n",
      " [ 22.      12.7238 -13.4009   0.8204]]\n",
      "X = \n",
      "[[-16.3422 -10.7317   9.7811  -1.0556]\n",
      " [ 23.7737  17.6184 -14.1053   1.5818]\n",
      " [-52.6578 -32.3368  31.9114  -2.6544]\n",
      " [-14.2496  -3.6552   9.1264  -0.8987]\n",
      " [ -9.9102  -5.4295   6.6684  -0.4861]\n",
      " [ 54.5046  34.0776 -34.8114   3.1021]\n",
      " [ 22.      12.7238 -13.4009   0.8204]\n",
      " [  1.       0.       0.       0.    ]\n",
      " [  0.       1.       0.       0.    ]\n",
      " [  0.       0.       1.       0.    ]\n",
      " [  0.       0.       0.       1.    ]]\n"
     ]
    },
    {
     "data": {
      "text/plain": [
       "True"
      ]
     },
     "execution_count": 6,
     "metadata": {},
     "output_type": "execute_result"
    }
   ],
   "source": [
    "# Collect pivot columns and free variables\n",
    "U_pivot = U[:rank_u, pivots]\n",
    "print('pivot columns of U = ')\n",
    "print(U_pivot)\n",
    "U_free = U[:rank_u, free_variables]\n",
    "print('free variable columns of U = ')\n",
    "print(U_free)\n",
    "# Solve for the pivot part of a basis of the null space of A\n",
    "X_pivot = np.linalg.solve(U_pivot,-U_free)\n",
    "print('pivot part of X = ')\n",
    "print(X_pivot)\n",
    "# Combine pivot part and free variable part\n",
    "X = np.eye(n)[:,free_variables]\n",
    "X[pivots,:] = X_pivot\n",
    "\n",
    "print('X = ')\n",
    "print(X)\n",
    "\n",
    "np.allclose(A@X, 0)"
   ]
  },
  {
   "cell_type": "markdown",
   "metadata": {},
   "source": [
    "Check the linear independence of columns of matrix $X$ since, after row shuffling, a submatrix of $X$ is an identity matrix."
   ]
  }
 ],
 "metadata": {
  "kernelspec": {
   "display_name": "linear_algebra",
   "language": "python",
   "name": "python3"
  },
  "language_info": {
   "codemirror_mode": {
    "name": "ipython",
    "version": 3
   },
   "file_extension": ".py",
   "mimetype": "text/x-python",
   "name": "python",
   "nbconvert_exporter": "python",
   "pygments_lexer": "ipython3",
   "version": "3.12.9"
  }
 },
 "nbformat": 4,
 "nbformat_minor": 2
}
