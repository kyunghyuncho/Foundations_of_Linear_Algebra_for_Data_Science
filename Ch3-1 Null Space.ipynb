{
 "cells": [
  {
   "cell_type": "markdown",
   "metadata": {},
   "source": [
    "# Chapter 3 Finding Null Space"
   ]
  },
  {
   "cell_type": "code",
   "execution_count": 107,
   "metadata": {},
   "outputs": [],
   "source": [
    "# numerical and scientific computing libraries  \n",
    "import numpy as np \n",
    "import scipy as sp\n",
    "\n",
    "# plotting libraries\n",
    "import matplotlib as mpl\n",
    "import matplotlib.pyplot as plt\n",
    "import seaborn as sns"
   ]
  },
  {
   "cell_type": "code",
   "execution_count": 108,
   "metadata": {},
   "outputs": [],
   "source": [
    "# for pretty printing\n",
    "np.set_printoptions(4, linewidth=100, suppress=True)"
   ]
  },
  {
   "cell_type": "code",
   "execution_count": 109,
   "metadata": {},
   "outputs": [],
   "source": [
    "# create a random matrix of size m x n with the rank <= k <= min(m, n).\n",
    "def create_random_matrix(m: int, n: int, k: int) -> np.ndarray:\n",
    "    if k > min(m, n):\n",
    "        raise ValueError(\"k must be less than or equal to min(n, m)\")\n",
    "    A = np.random.randn(m, k)\n",
    "    B = np.random.randn(k, n)\n",
    "    return A@B"
   ]
  },
  {
   "cell_type": "markdown",
   "metadata": {},
   "source": [
    "We consider a matrix of size $10 \\times 11$ of rank 7, which is non-square and not of full rank."
   ]
  },
  {
   "cell_type": "code",
   "execution_count": 111,
   "metadata": {},
   "outputs": [],
   "source": [
    "m=10\n",
    "n=11\n",
    "k=7\n",
    "# generate an mxn matrix of rank at most k\n",
    "A = create_random_matrix(m, n, k)"
   ]
  },
  {
   "cell_type": "markdown",
   "metadata": {},
   "source": [
    "To find a null space of a matrix $A$, we apply $LU$-decomposition to $A$. Since the null spaces of $A$ and $U$ coincide, we find a null space of the upper triangular matrix $U$. We characterize the pivot entries by searching the first non-zero element in each row of $U$, and then remaining variables are free ones."
   ]
  },
  {
   "cell_type": "code",
   "execution_count": null,
   "metadata": {},
   "outputs": [
    {
     "name": "stdout",
     "output_type": "stream",
     "text": [
      "[[ 3.6313  7.1449 -7.7587 -0.566  -0.6122 -0.5223 -5.0766  3.4328  1.3346  2.4913 -0.1902]\n",
      " [ 0.      4.0841 -4.4225 -3.4757 -2.9088  2.5954 -3.1707  2.515  -1.183   0.3487 -2.7929]\n",
      " [ 0.      0.     -7.318   3.084   2.0057 -1.1078 -4.4102 -5.7378  0.7763  0.4202 -0.1391]\n",
      " [ 0.      0.      0.     -4.4966 -7.3575  4.4918  2.0461 -0.9951  0.6493 -0.8687 -0.396 ]\n",
      " [ 0.      0.      0.      0.     -3.0551  0.5613 -2.693   1.1948 -1.4009  0.2045  3.4397]\n",
      " [ 0.      0.      0.      0.      0.     -3.1493 -3.585   0.3819  0.7576  0.0848  0.5403]\n",
      " [ 0.      0.      0.      0.      0.      0.      4.0348  0.6037 -1.9955  0.1144 -0.7839]\n",
      " [ 0.      0.      0.      0.      0.      0.      0.     -0.      0.     -0.     -0.    ]\n",
      " [ 0.      0.      0.      0.      0.      0.      0.      0.      0.      0.      0.    ]\n",
      " [ 0.      0.      0.      0.      0.      0.      0.      0.      0.      0.      0.    ]]\n",
      "Pivot variables =\n",
      "[0 1 2 3 4 5 6]\n",
      "Free variables =\n",
      "[ 7  8  9 10]\n"
     ]
    }
   ],
   "source": [
    "pivots = []\n",
    "# LU-decomposition\n",
    "P, L, U = sp.linalg.lu(A)\n",
    "print(U)\n",
    "# identify rank of U\n",
    "rank_u = np.linalg.matrix_rank(U)\n",
    "# find pivot entries\n",
    "for i in range(rank_u):\n",
    "    non_zero_indices = np.nonzero(U[i,:])\n",
    "    pivots.append(non_zero_indices[0][0])\n",
    "print('Pivot variables =')\n",
    "print(np.int64(pivots))\n",
    "# find column indices of free variables\n",
    "free_variables = np.sort(list(set(range(n))- set(pivots)))\n",
    "print(\"Free variables =\")\n",
    "print(free_variables)"
   ]
  },
  {
   "cell_type": "markdown",
   "metadata": {},
   "source": [
    "Collect pivot columns of U into **U_pivot**, and columns for free variables into **U_free**. Then solve $U_{pivot} X = -U_{free}$ where $X$ is an $n \\times (n- Rank A)$ matrix solution of the equation."
   ]
  },
  {
   "cell_type": "code",
   "execution_count": 114,
   "metadata": {},
   "outputs": [
    {
     "name": "stdout",
     "output_type": "stream",
     "text": [
      "pivot columns of U = \n",
      "[[ 3.6313  7.1449 -7.7587 -0.566  -0.6122 -0.5223 -5.0766]\n",
      " [ 0.      4.0841 -4.4225 -3.4757 -2.9088  2.5954 -3.1707]\n",
      " [ 0.      0.     -7.318   3.084   2.0057 -1.1078 -4.4102]\n",
      " [ 0.      0.      0.     -4.4966 -7.3575  4.4918  2.0461]\n",
      " [ 0.      0.      0.      0.     -3.0551  0.5613 -2.693 ]\n",
      " [ 0.      0.      0.      0.      0.     -3.1493 -3.585 ]\n",
      " [ 0.      0.      0.      0.      0.      0.      4.0348]]\n",
      "free variable columns of U = \n",
      "[[ 3.4328  1.3346  2.4913 -0.1902]\n",
      " [ 2.515  -1.183   0.3487 -2.7929]\n",
      " [-5.7378  0.7763  0.4202 -0.1391]\n",
      " [-0.9951  0.6493 -0.8687 -0.396 ]\n",
      " [ 1.1948 -1.4009  0.2045  3.4397]\n",
      " [ 0.3819  0.7576  0.0848  0.5403]\n",
      " [ 0.6037 -1.9955  0.1144 -0.7839]]\n",
      "pivot part of X = \n",
      "[[ 1.4054 -2.7155 -0.0802 -0.1322]\n",
      " [-2.3656  1.8633 -0.3823 -0.4059]\n",
      " [-0.9768  0.273  -0.0391 -0.5422]\n",
      " [-0.9414  1.6079 -0.3152 -1.5963]\n",
      " [ 0.5765 -0.9537  0.1028  0.9455]\n",
      " [ 0.2916 -0.3224  0.0592 -0.0496]\n",
      " [-0.1496  0.4946 -0.0283  0.1943]]\n",
      "X = \n",
      "[[ 1.4054 -2.7155 -0.0802 -0.1322]\n",
      " [-2.3656  1.8633 -0.3823 -0.4059]\n",
      " [-0.9768  0.273  -0.0391 -0.5422]\n",
      " [-0.9414  1.6079 -0.3152 -1.5963]\n",
      " [ 0.5765 -0.9537  0.1028  0.9455]\n",
      " [ 0.2916 -0.3224  0.0592 -0.0496]\n",
      " [-0.1496  0.4946 -0.0283  0.1943]\n",
      " [ 1.      0.      0.      0.    ]\n",
      " [ 0.      1.      0.      0.    ]\n",
      " [ 0.      0.      1.      0.    ]\n",
      " [ 0.      0.      0.      1.    ]]\n"
     ]
    },
    {
     "data": {
      "text/plain": [
       "True"
      ]
     },
     "execution_count": 114,
     "metadata": {},
     "output_type": "execute_result"
    }
   ],
   "source": [
    "# Collect pivot columns and free variables\n",
    "U_pivot = U[:rank_u, pivots]\n",
    "print('pivot columns of U = ')\n",
    "print(U_pivot)\n",
    "U_free = U[:rank_u, free_variables]\n",
    "print('free variable columns of U = ')\n",
    "print(U_free)\n",
    "# Solve for the pivot part of a basis of the null space of A\n",
    "X_pivot = np.linalg.solve(U_pivot,-U_free)\n",
    "print('pivot part of X = ')\n",
    "print(X_pivot)\n",
    "# Combine pivot part and free variable part\n",
    "X = np.eye(n)[:,free_variables]\n",
    "X[pivots,:] = X_pivot\n",
    "\n",
    "print('X = ')\n",
    "print(X)\n",
    "\n",
    "np.allclose(A@X, 0)"
   ]
  },
  {
   "cell_type": "markdown",
   "metadata": {},
   "source": [
    "Check the linear independence of columns of matrix $X$ since, after row shuffling, a submatrix of $X$ is an identity matrix."
   ]
  }
 ],
 "metadata": {
  "kernelspec": {
   "display_name": "linear_algebra",
   "language": "python",
   "name": "python3"
  },
  "language_info": {
   "codemirror_mode": {
    "name": "ipython",
    "version": 3
   },
   "file_extension": ".py",
   "mimetype": "text/x-python",
   "name": "python",
   "nbconvert_exporter": "python",
   "pygments_lexer": "ipython3",
   "version": "3.12.9"
  }
 },
 "nbformat": 4,
 "nbformat_minor": 2
}
