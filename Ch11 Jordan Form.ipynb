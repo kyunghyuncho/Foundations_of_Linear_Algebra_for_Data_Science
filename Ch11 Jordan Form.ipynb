{
 "cells": [
  {
   "cell_type": "markdown",
   "metadata": {},
   "source": [
    "# Ch 11 Jordan Form"
   ]
  },
  {
   "cell_type": "code",
   "execution_count": null,
   "metadata": {},
   "outputs": [],
   "source": [
    "# numerical and scientific computing libraries \n",
    "import numpy as np\n",
    "import scipy as sp\n",
    "\n",
    "# plotting libraries\n",
    "import matplotlib as mpl\n",
    "import matplotlib.pyplot as plt\n",
    "import seaborn as sns"
   ]
  },
  {
   "cell_type": "code",
   "execution_count": 2,
   "metadata": {},
   "outputs": [],
   "source": [
    "# for pretty printing\n",
    "np.set_printoptions(4, linewidth=100, suppress=True)"
   ]
  },
  {
   "cell_type": "markdown",
   "metadata": {},
   "source": [
    "### Help from Gemini\n",
    "\n",
    "**numpy.linalg** does not have a Jordan form function. **scipy.linalg** also does not have a readily available, numerically stable function for computing the Jordan Normal Form for general matrices. The documentation for scipy.linalg.jordan_form (if it existed) or related functions often notes that computing the Jordan form is numerically unstable and ill-conditioned, especially for matrices with repeated eigenvalues or eigenvalues that are close together. Exact computation requires symbolic mathematics.\n",
    "\n",
    "Since exact computation is needed and numerical methods are unstable, symbolic mathematics libraries are the way to go. The primary library for this in Python is **SymPy**.\n",
    "\n",
    "Using **sympy**, we compute the Jordan form of a toy matrix."
   ]
  },
  {
   "cell_type": "code",
   "execution_count": 3,
   "metadata": {},
   "outputs": [
    {
     "name": "stdout",
     "output_type": "stream",
     "text": [
      "Original Matrix M:\n",
      "⎡5   4   2   1 ⎤\n",
      "⎢              ⎥\n",
      "⎢0   1   -1  -1⎥\n",
      "⎢              ⎥\n",
      "⎢-1  -1  3   0 ⎥\n",
      "⎢              ⎥\n",
      "⎣1   1   -1  2 ⎦\n",
      "\n",
      "Transformation Matrix P:\n",
      "⎡-1  1   1   1⎤\n",
      "⎢             ⎥\n",
      "⎢1   -1  0   0⎥\n",
      "⎢             ⎥\n",
      "⎢0   0   -1  0⎥\n",
      "⎢             ⎥\n",
      "⎣0   1   1   0⎦\n",
      "\n",
      "Jordan Normal Form J:\n",
      "⎡1  0  0  0⎤\n",
      "⎢          ⎥\n",
      "⎢0  2  0  0⎥\n",
      "⎢          ⎥\n",
      "⎢0  0  4  1⎥\n",
      "⎢          ⎥\n",
      "⎣0  0  0  4⎦\n",
      "\n",
      "Verification (P * J * P^-1):\n",
      "⎡5   4   2   1 ⎤\n",
      "⎢              ⎥\n",
      "⎢0   1   -1  -1⎥\n",
      "⎢              ⎥\n",
      "⎢-1  -1  3   0 ⎥\n",
      "⎢              ⎥\n",
      "⎣1   1   -1  2 ⎦\n",
      "\n",
      "Matches original M: True\n"
     ]
    }
   ],
   "source": [
    "import sympy\n",
    "\n",
    "# Define your square matrix using sympy.Matrix\n",
    "# It's best to use exact types like integers or sympy.Rational for reliable results\n",
    "# Example 1: A simple matrix\n",
    "M = sympy.Matrix([\n",
    "    [5, 4, 2, 1],     \n",
    "    [0, 1, -1, -1],\n",
    "    [-1, -1, 3, 0],\n",
    "    [1, 1, -1, 2]\n",
    "])\n",
    "\n",
    "# Example 2: Matrix with repeated eigenvalues leading to non-diagonal JNF\n",
    "#M = sympy.Matrix([\n",
    "#    [ 2,  1,  0],\n",
    "#    [ 0,  2,  0],\n",
    "#    [ 1,  1,  1]\n",
    "#])\n",
    "\n",
    "# Example 3: Another non-diagonalizable matrix\n",
    "# M = sympy.Matrix([\n",
    "#     [1, 1],\n",
    "#     [0, 1]\n",
    "# ])\n",
    "\n",
    "\n",
    "print(\"Original Matrix M:\")\n",
    "sympy.pprint(M) # pprint for nice printing in supported environments\n",
    "\n",
    "try:\n",
    "    # Compute the transformation matrix P and the Jordan form J\n",
    "    # P, J = M.jordan_form()\n",
    "\n",
    "    # If you only need the Jordan form matrix J (slightly faster):\n",
    "    P, J = M.jordan_form(calc_transform=True) # Set True to get P as well\n",
    "\n",
    "    print(\"\\nTransformation Matrix P:\")\n",
    "    sympy.pprint(P)\n",
    "\n",
    "    print(\"\\nJordan Normal Form J:\")\n",
    "    sympy.pprint(J)\n",
    "\n",
    "    # --- Verification (Optional) ---\n",
    "    # Check if M = P * J * P^(-1)\n",
    "    # Use sympy's inverse function: P.inv()\n",
    "    print(\"\\nVerification (P * J * P^-1):\")\n",
    "    verification_matrix = P * J * P.inv()\n",
    "    sympy.pprint(sympy.simplify(verification_matrix)) # Simplify the result\n",
    "\n",
    "    # Check if it matches the original M\n",
    "    print(\"\\nMatches original M:\", sympy.simplify(verification_matrix - M) == sympy.zeros(*M.shape))\n",
    "\n",
    "except Exception as e:\n",
    "    print(f\"\\nCould not compute Jordan form: {e}\")\n",
    "    print(\"This often happens if eigenvalues cannot be computed exactly (e.g., high-degree polynomials).\")"
   ]
  }
 ],
 "metadata": {
  "kernelspec": {
   "display_name": "linear_algebra",
   "language": "python",
   "name": "python3"
  },
  "language_info": {
   "codemirror_mode": {
    "name": "ipython",
    "version": 3
   },
   "file_extension": ".py",
   "mimetype": "text/x-python",
   "name": "python",
   "nbconvert_exporter": "python",
   "pygments_lexer": "ipython3",
   "version": "3.12.9"
  }
 },
 "nbformat": 4,
 "nbformat_minor": 2
}
