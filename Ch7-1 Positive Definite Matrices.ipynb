{
  "cells": [
    {
      "cell_type": "markdown",
      "metadata": {},
      "source": [
        "# Chapter 7 Positive Definite Matrices\n",
        "\n",
        "Let us investigate positive definiteness of matrices."
      ]
    },
    {
      "cell_type": "code",
      "execution_count": 2,
      "metadata": {
        "id": "lwRCRj-Dqq1L"
      },
      "outputs": [],
      "source": [
        "# numerical and scientific computing libraries  \n",
        "import numpy as np \n",
        "import scipy as sp\n",
        "\n",
        "# plotting libraries\n",
        "import matplotlib as mpl\n",
        "import matplotlib.pyplot as plt\n",
        "import seaborn as sns"
      ]
    },
    {
      "cell_type": "code",
      "execution_count": 3,
      "metadata": {},
      "outputs": [],
      "source": [
        "# for pretty printing\n",
        "np.set_printoptions(4, linewidth=100, suppress=True)"
      ]
    },
    {
      "cell_type": "markdown",
      "metadata": {},
      "source": [
        "### Positive definite matrices\n"
      ]
    },
    {
      "cell_type": "markdown",
      "metadata": {},
      "source": []
    },
    {
      "cell_type": "code",
      "execution_count": 27,
      "metadata": {},
      "outputs": [],
      "source": [
        "# Setting dimension\n",
        "n = 10"
      ]
    },
    {
      "cell_type": "code",
      "execution_count": 28,
      "metadata": {},
      "outputs": [
        {
          "name": "stdout",
          "output_type": "stream",
          "text": [
            "rank of A: 10\n",
            "s = \n",
            "[20.685  16.9876 15.2428  9.776   5.8343  4.7799  2.3722  1.1936  0.1901  0.0194]\n",
            "U = \n",
            "[[-0.6544 -0.1475  0.1018  0.1874 -0.1804 -0.0099 -0.3188 -0.5152 -0.2111 -0.2455]\n",
            " [ 0.2469 -0.0154  0.632   0.021   0.0933  0.0193 -0.4622 -0.1485  0.5423  0.0055]\n",
            " [-0.2621  0.0219  0.4129 -0.6883  0.2262 -0.3062  0.0111  0.1366 -0.3173  0.1491]\n",
            " [-0.0158  0.1971  0.2499  0.009  -0.0173  0.7671 -0.1778  0.3466 -0.3581 -0.1723]\n",
            " [ 0.5    -0.1263 -0.209  -0.2635  0.329   0.0002 -0.187  -0.3777 -0.2917 -0.5   ]\n",
            " [-0.1323  0.0743 -0.2563  0.1859  0.1988 -0.3741 -0.5756  0.5632 -0.0013 -0.2207]\n",
            " [ 0.0413  0.4986 -0.0692  0.2718  0.4409  0.0013 -0.1792 -0.3057 -0.2523  0.5361]\n",
            " [ 0.2753  0.4303 -0.0394 -0.191  -0.7382 -0.2043 -0.271  -0.0759 -0.1778  0.0604]\n",
            " [ 0.1714  0.1537  0.4824  0.4869  0.0097 -0.3664  0.3638  0.0735 -0.3099 -0.3303]\n",
            " [ 0.26   -0.6781  0.0937  0.1977 -0.142  -0.0381 -0.221   0.0964 -0.3951  0.4346]]\n",
            "V = \n",
            "[[-0.6544 -0.1475  0.1018  0.1874 -0.1804 -0.0099 -0.3188 -0.5152 -0.2111 -0.2455]\n",
            " [ 0.2469 -0.0154  0.632   0.021   0.0933  0.0193 -0.4622 -0.1485  0.5423  0.0055]\n",
            " [-0.2621  0.0219  0.4129 -0.6883  0.2262 -0.3062  0.0111  0.1366 -0.3173  0.1491]\n",
            " [-0.0158  0.1971  0.2499  0.009  -0.0173  0.7671 -0.1778  0.3466 -0.3581 -0.1723]\n",
            " [ 0.5    -0.1263 -0.209  -0.2635  0.329   0.0002 -0.187  -0.3777 -0.2917 -0.5   ]\n",
            " [-0.1323  0.0743 -0.2563  0.1859  0.1988 -0.3741 -0.5756  0.5632 -0.0013 -0.2207]\n",
            " [ 0.0413  0.4986 -0.0692  0.2718  0.4409  0.0013 -0.1792 -0.3057 -0.2523  0.5361]\n",
            " [ 0.2753  0.4303 -0.0394 -0.191  -0.7382 -0.2043 -0.271  -0.0759 -0.1778  0.0604]\n",
            " [ 0.1714  0.1537  0.4824  0.4869  0.0097 -0.3664  0.3638  0.0735 -0.3099 -0.3303]\n",
            " [ 0.26   -0.6781  0.0937  0.1977 -0.142  -0.0381 -0.221   0.0964 -0.3951  0.4346]]\n"
          ]
        }
      ],
      "source": [
        "# two vectors generated randomly\n",
        "B_pd = np.random.randn(n,n)\n",
        "A_pd = B_pd.T @ B_pd\n",
        "# compute compact svd decomposition of A\n",
        "U, s, Vt = np.linalg.svd(A_pd, full_matrices=False)\n",
        "V = Vt.T\n",
        "# compute the rank of A\n",
        "rank_A = sum(s > 1e-10)\n",
        "# print svd decomposition with its rank\n",
        "print(f\"rank of A: {rank_A}\")\n",
        "print('s = ')\n",
        "print(s)\n",
        "print('U = ')\n",
        "print(U)\n",
        "print('V = ')\n",
        "print(V)"
      ]
    },
    {
      "cell_type": "markdown",
      "metadata": {},
      "source": [
        "We can see that all singular values are positive, and $U=V$ which are eigenvectors of $A$ with singular values as their eigenvalues."
      ]
    },
    {
      "cell_type": "markdown",
      "metadata": {},
      "source": [
        "### Positive semi-definite matrices"
      ]
    },
    {
      "cell_type": "code",
      "execution_count": 29,
      "metadata": {},
      "outputs": [
        {
          "name": "stdout",
          "output_type": "stream",
          "text": [
            "rank of A: 7\n",
            "s = \n",
            "[18.6081 13.4608 10.2833  8.5961  7.0617  1.2762  0.204   0.      0.      0.    ]\n",
            "U = \n",
            "[[-0.5307  0.4369 -0.0923  0.4954 -0.145   0.0602  0.0229 -0.3735 -0.1361 -0.3005]\n",
            " [-0.2849  0.1564  0.6743 -0.3722 -0.239   0.0995  0.2079 -0.2123 -0.0978  0.3691]\n",
            " [ 0.2407 -0.4491  0.065   0.258  -0.192   0.5343  0.4491 -0.3094  0.178  -0.1347]\n",
            " [ 0.117   0.2032  0.4155 -0.0964  0.455  -0.1449  0.3534  0.1188  0.1147 -0.6188]\n",
            " [-0.4517 -0.1671 -0.3003 -0.167  -0.3059 -0.2646  0.5412  0.3671  0.236  -0.0555]\n",
            " [-0.4186 -0.4706 -0.0051  0.117   0.6478 -0.0405  0.1188 -0.1161 -0.304   0.2197]\n",
            " [-0.3241  0.0355  0.1165  0.0669  0.2314  0.3179 -0.3059  0.1355  0.7729  0.1085]\n",
            " [-0.1287 -0.2086 -0.2209 -0.5906 -0.0114 -0.0882 -0.23   -0.5803  0.1401 -0.3537]\n",
            " [-0.2401 -0.1357  0.0474 -0.2157 -0.1173  0.5543 -0.2444  0.4465 -0.3991 -0.3684]\n",
            " [ 0.0843  0.4786 -0.4528 -0.3144  0.312   0.4384  0.3413 -0.0529 -0.0514  0.22  ]]\n",
            "V = \n",
            "[[-0.5307  0.4369 -0.0923  0.4954 -0.145   0.0602  0.0229  0.4756 -0.1482 -0.0134]\n",
            " [-0.2849  0.1564  0.6743 -0.3722 -0.239   0.0995  0.2079  0.0936  0.4261 -0.0252]\n",
            " [ 0.2407 -0.4491  0.065   0.258  -0.192   0.5343  0.4491  0.2461 -0.074  -0.282 ]\n",
            " [ 0.117   0.2032  0.4155 -0.0964  0.455  -0.1449  0.3534  0.0661 -0.6369 -0.0128]\n",
            " [-0.4517 -0.1671 -0.3003 -0.167  -0.3059 -0.2646  0.5412 -0.3858 -0.2037 -0.056 ]\n",
            " [-0.4186 -0.4706 -0.0051  0.117   0.6478 -0.0405  0.1188  0.1388  0.3     0.2119]\n",
            " [-0.3241  0.0355  0.1165  0.0669  0.2314  0.3179 -0.3059 -0.4432 -0.0919 -0.6501]\n",
            " [-0.1287 -0.2086 -0.2209 -0.5906 -0.0114 -0.0882 -0.23    0.5687 -0.1947 -0.3468]\n",
            " [-0.2401 -0.1357  0.0474 -0.2157 -0.1173  0.5543 -0.2444 -0.1097 -0.3923  0.5732]\n",
            " [ 0.0843  0.4786 -0.4528 -0.3144  0.312   0.4384  0.3413 -0.0103  0.2316  0.0097]]\n"
          ]
        }
      ],
      "source": [
        "k = 7\n",
        "B_psd = np.random.randn(n,k)\n",
        "A_psd = B_psd @ B_psd.T\n",
        "# compute compact svd decomposition of A\n",
        "U, s, Vt = np.linalg.svd(A_psd, full_matrices=False)\n",
        "V = Vt.T\n",
        "# compute the rank of A\n",
        "rank_A = sum(s > 1e-10)\n",
        "# print svd decomposition with its rank\n",
        "print(f\"rank of A: {rank_A}\")\n",
        "print('s = ')\n",
        "print(s)\n",
        "print('U = ')\n",
        "print(U)\n",
        "print('V = ')\n",
        "print(V)"
      ]
    },
    {
      "cell_type": "markdown",
      "metadata": {},
      "source": [
        "Now $A$ is non-invertible and has 7 singular values. Therefore, $A$ has 3 eigenvalues of 0, and the corresponding right- and left-singular vectors may not be the same to each other. This happens in the above experiment. In Section 5.5 of the textbook, we show that we can make them coincide to control the one-dimensional optimization problem."
      ]
    },
    {
      "cell_type": "markdown",
      "metadata": {},
      "source": [
        "### Cholesky decomposition"
      ]
    },
    {
      "cell_type": "markdown",
      "metadata": {},
      "source": [
        "We have to find an upper triangular $R$ with positive diagonals and $A = R^\\top R$."
      ]
    },
    {
      "cell_type": "code",
      "execution_count": 30,
      "metadata": {},
      "outputs": [
        {
          "name": "stdout",
          "output_type": "stream",
          "text": [
            "True\n"
          ]
        }
      ],
      "source": [
        "A = A_pd\n",
        "# compute the cholesky decomposition of A\n",
        "R = np.zeros((n,n))\n",
        "for i in range(n):\n",
        "    R[i,i] = np.sqrt(A[i,i] - np.dot(R[:i,i], R[:i,i]))\n",
        "    for j in range(i+1,n):\n",
        "        R[i,j] = (A[i,j]-np.dot(R[:i,i],R[:i,j])) / R[i,i]\n",
        "\n",
        "# invoke numpy's cholesky decomposition\n",
        "R1 = np.linalg.cholesky(A_pd, upper=True)\n",
        "# compare the two results\n",
        "print(np.allclose(R, R1))"
      ]
    },
    {
      "cell_type": "markdown",
      "metadata": {},
      "source": [
        "In the textbook, we have also seen that the upper triangular cholesky factor coincides with $R$ of $B=QR$ where $A = B^\\top B$. Let us check this fact. The uniqueness of Cholesky factor makes this comparison feasible. "
      ]
    },
    {
      "cell_type": "markdown",
      "metadata": {},
      "source": [
        "In $QR$-decomposition, as we mentioned in the textbook, we can always make the diagonals of $R$ positive. The following codes includes such modification in the last three lines."
      ]
    },
    {
      "cell_type": "code",
      "execution_count": 36,
      "metadata": {},
      "outputs": [],
      "source": [
        "# classical QR factorization with positive diagonals\n",
        "def classical_QR_pdiag(A):\n",
        "    m, n = A.shape\n",
        "\n",
        "    R = np.zeros((n,n))\n",
        "    R[0,0] = np.linalg.norm(A[:,0])\n",
        "\n",
        "    Q = (1/R[0,0])*A[:,0]\n",
        "\n",
        "    # Gram-Schmidt process\n",
        "    for j in range(1,n):\n",
        "        Q = np.column_stack((Q,A[:,j]))\n",
        "        for i in range(j):\n",
        "            R[i,j] = np.dot(Q[:,i].T,A[:,j])\n",
        "            Q[:,j] = Q[:,j] - R[i,j]*Q[:,i]\n",
        "        R[j,j] = np.linalg.norm(Q[:,j])\n",
        "        if np.abs(R[j,j]) < 1e-10:\n",
        "            raise ValueError(\"QR factorization failed: A is rank deficient\")  \n",
        "    \n",
        "        Q[:,j] = (1/R[j,j])*Q[:,j]\n",
        "\n",
        "    D = np.diag(np.sign(R.diagonal()))\n",
        "    Q = Q @ D\n",
        "    R = D @ R\n",
        "    \n",
        "    return Q, R"
      ]
    },
    {
      "cell_type": "code",
      "execution_count": 37,
      "metadata": {},
      "outputs": [
        {
          "name": "stdout",
          "output_type": "stream",
          "text": [
            "True\n"
          ]
        }
      ],
      "source": [
        "Q2, R2 = classical_QR_pdiag(B_pd)\n",
        "# compare the two results\n",
        "print(np.allclose(R, R2))"
      ]
    },
    {
      "cell_type": "markdown",
      "metadata": {},
      "source": [
        "### Square root of positive definte matrices\n",
        "\n",
        "As we can see in the following codes, SVD provides the square root of a positive definite matrix."
      ]
    },
    {
      "cell_type": "code",
      "execution_count": 44,
      "metadata": {},
      "outputs": [
        {
          "name": "stdout",
          "output_type": "stream",
          "text": [
            "rank of A_pd: 10\n",
            "s =  [20.685  16.9876 15.2428  9.776   5.8343  4.7799  2.3722  1.1936  0.1901  0.0194]\n",
            "U=V\n",
            "A = B^2\n",
            "A = B^T B\n"
          ]
        }
      ],
      "source": [
        "# compute compact svd decomposition of A_pd\n",
        "U, s, Vt = np.linalg.svd(A_pd, full_matrices=False)\n",
        "V = Vt.T\n",
        "# compute the rank of A_pd\n",
        "rank_A = sum(s > 1e-10)\n",
        "# print svd decomposition with its rank\n",
        "print(f\"rank of A_pd: {rank_A}\")\n",
        "print('s = ', s)\n",
        "\n",
        "if np.allclose(U,V):\n",
        "    print('U=V')\n",
        "\n",
        "# set B = V @ np.diag(np.sqrt(s)) @ U.T\n",
        "B = V @ np.diag(np.sqrt(s)) @ V.T\n",
        "\n",
        "if np.allclose(A_pd, B@B):\n",
        "    print('A = B^2')\n",
        "if np.allclose(A_pd, B.T @ B):\n",
        "    print('A = B^T B')"
      ]
    }
  ],
  "metadata": {
    "colab": {
      "provenance": []
    },
    "kernelspec": {
      "display_name": "linear_algebra",
      "language": "python",
      "name": "python3"
    },
    "language_info": {
      "codemirror_mode": {
        "name": "ipython",
        "version": 3
      },
      "file_extension": ".py",
      "mimetype": "text/x-python",
      "name": "python",
      "nbconvert_exporter": "python",
      "pygments_lexer": "ipython3",
      "version": "3.12.9"
    }
  },
  "nbformat": 4,
  "nbformat_minor": 0
}
