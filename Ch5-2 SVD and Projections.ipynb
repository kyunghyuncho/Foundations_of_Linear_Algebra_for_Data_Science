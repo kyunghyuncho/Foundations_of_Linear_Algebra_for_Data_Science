{
 "cells": [
  {
   "cell_type": "markdown",
   "metadata": {},
   "source": [
    "# Chapter 5   SVD and Projections"
   ]
  },
  {
   "cell_type": "code",
   "execution_count": null,
   "metadata": {},
   "outputs": [],
   "source": [
    "# numerical and scientific computing libraries \n",
    "import numpy as np\n",
    "import scipy as sp\n",
    "\n",
    "# plotting libraries\n",
    "import matplotlib as mpl\n",
    "import matplotlib.pyplot as plt\n",
    "import seaborn as sns"
   ]
  },
  {
   "cell_type": "code",
   "execution_count": 45,
   "metadata": {},
   "outputs": [],
   "source": [
    "# for pretty printing\n",
    "np.set_printoptions(4, linewidth=100, suppress=True)"
   ]
  },
  {
   "cell_type": "code",
   "execution_count": 46,
   "metadata": {},
   "outputs": [],
   "source": [
    "# create a random matrix of size m x n with the rank <= k <= min(m, n).\n",
    "def create_random_matrix(m: int, n: int, k: int) -> np.ndarray:\n",
    "    if k > min(m, n):\n",
    "        raise ValueError(\"k must be less than or equal to min(n, m)\")\n",
    "    A = np.random.randn(m, k)\n",
    "    B = np.random.randn(k, n)\n",
    "    return A@B"
   ]
  },
  {
   "cell_type": "markdown",
   "metadata": {},
   "source": [
    "Define a function returning a compact SVD"
   ]
  },
  {
   "cell_type": "code",
   "execution_count": 47,
   "metadata": {},
   "outputs": [],
   "source": [
    "def SVD_compact(A: np.ndarray, eps) -> np.ndarray:\n",
    "    # perform QR decomposition on the matrix and return the Q matrix and the R matrix.\n",
    "    Uf, sf, Vfh = np.linalg.svd(A, full_matrices=False)\n",
    "    Vf = Vfh.T\n",
    "\n",
    "    # calculate the rank of the matrix\n",
    "    rank_A = (np.abs(sf) > eps).sum()\n",
    "    print(\"Rank of A:\", rank_A)\n",
    "\n",
    "    # reconstruct the matrix using the SVD\n",
    "    U = Uf[:, :rank_A]\n",
    "    s = sf[:rank_A]\n",
    "    V = Vf[:, :rank_A]\n",
    "\n",
    "    return U, s, V.T"
   ]
  },
  {
   "cell_type": "markdown",
   "metadata": {},
   "source": [
    "We also need a $QR$-decomposition."
   ]
  },
  {
   "cell_type": "code",
   "execution_count": 48,
   "metadata": {},
   "outputs": [],
   "source": [
    "def classical_QR(A):\n",
    "    m, n = A.shape\n",
    "\n",
    "    R = np.zeros((n,n))\n",
    "    R[0,0] = np.linalg.norm(A[:,0])\n",
    "\n",
    "    Q = (1/R[0,0])*A[:,0]\n",
    "\n",
    "    # Gram-Schmidt process\n",
    "    for j in range(1,n):\n",
    "        Q = np.column_stack((Q,A[:,j]))\n",
    "        for i in range(j):\n",
    "            R[i,j] = np.dot(Q[:,i].T,A[:,j])\n",
    "            Q[:,j] = Q[:,j] - R[i,j]*Q[:,i]\n",
    "        R[j,j] = np.linalg.norm(Q[:,j])\n",
    "        if np.abs(R[j,j]) < 1e-10:\n",
    "            raise ValueError(\"QR factorization failed: A is rank deficient\")  \n",
    "    \n",
    "        Q[:,j] = (1/R[j,j])*Q[:,j]\n",
    "\n",
    "    return Q, R"
   ]
  },
  {
   "cell_type": "markdown",
   "metadata": {},
   "source": [
    "### Projection Representations\n",
    "\n",
    "Let us confirm the two representations of projections."
   ]
  },
  {
   "cell_type": "code",
   "execution_count": 49,
   "metadata": {},
   "outputs": [],
   "source": [
    "# set the dimension\n",
    "n = 10"
   ]
  },
  {
   "cell_type": "markdown",
   "metadata": {},
   "source": [
    "### 1. Projection onto a subspace spanned by a single vector"
   ]
  },
  {
   "cell_type": "code",
   "execution_count": 50,
   "metadata": {},
   "outputs": [
    {
     "name": "stdout",
     "output_type": "stream",
     "text": [
      "Rank of A: 1\n"
     ]
    },
    {
     "data": {
      "text/plain": [
       "True"
      ]
     },
     "execution_count": 50,
     "metadata": {},
     "output_type": "execute_result"
    }
   ],
   "source": [
    "a = np.random.randn(n).reshape(-1,1)\n",
    "A = a\n",
    "\n",
    "U, s, Vh = SVD_compact(A, 1e-10)\n",
    "V = Vh.T\n",
    "\n",
    "# pseudoinverse from SVD\n",
    "Pinv = V @ np.diag(1/s) @ U.T\n",
    "# vector representation of the projection\n",
    "P = (1/np.linalg.norm(a)**2)* a @ a.T\n",
    "\n",
    "np.allclose( A@Pinv, P)\n"
   ]
  },
  {
   "cell_type": "markdown",
   "metadata": {},
   "source": [
    "### 2. Projection onto a subspace spanned by independent vectors "
   ]
  },
  {
   "cell_type": "code",
   "execution_count": 51,
   "metadata": {},
   "outputs": [],
   "source": [
    "# set the dimension of the subspace m less than n.\n",
    "m = 5\n",
    "\n",
    "# create a random matrix of size n x m who rank is believed to be m.\n",
    "A = np.random.randn(n, m)"
   ]
  },
  {
   "cell_type": "markdown",
   "metadata": {},
   "source": [
    "#### Case 1: Orthogonal Vectors"
   ]
  },
  {
   "cell_type": "code",
   "execution_count": 52,
   "metadata": {},
   "outputs": [
    {
     "name": "stdout",
     "output_type": "stream",
     "text": [
      "Rank of A: 5\n",
      "True True\n"
     ]
    }
   ],
   "source": [
    "# extract orthogonal vectors from the columns of A\n",
    "Q, R = classical_QR(A)\n",
    "\n",
    "\n",
    "# perform the SVD on the matrix A\n",
    "U, s, Vh = SVD_compact(Q, 1e-10)\n",
    "V = Vh.T\n",
    "\n",
    "# pseudoinverse from SVD\n",
    "Pinv = V @ np.diag(1/s) @ U.T\n",
    "\n",
    "# projection matrix from orthogonal vectors\n",
    "P = Q @ Q.T\n",
    "\n",
    "# check if the pseudoinverse and the projection matrix are the same\n",
    "print(np.allclose(Pinv, Q.T), np.allclose(Q @ Pinv, P))"
   ]
  },
  {
   "cell_type": "markdown",
   "metadata": {},
   "source": [
    "#### Case 2: Non-orthogonal independent Vectors"
   ]
  },
  {
   "cell_type": "code",
   "execution_count": 53,
   "metadata": {},
   "outputs": [
    {
     "name": "stdout",
     "output_type": "stream",
     "text": [
      "Rank of A: 5\n",
      "True True\n"
     ]
    }
   ],
   "source": [
    "# perform the SVD on the matrix A\n",
    "U, s, Vh = SVD_compact(A, 1e-10)\n",
    "V = Vh.T\n",
    "\n",
    "# pseudoinverse from SVD\n",
    "Pinv = V @ np.diag(1/s) @ U.T\n",
    "\n",
    "# keep this pseudoinver for later\n",
    "Pinv_ind = Pinv\n",
    "\n",
    "# projection matrix from orthogonal vectors\n",
    "P = A @ np.linalg.inv(A.T @ A) @ A.T\n",
    "\n",
    "# check if the pseudoinverse and the projection matrix are the same\n",
    "print(np.allclose(Pinv, np.linalg.inv(A.T @ A) @ A.T), np.allclose(A @ Pinv, P))"
   ]
  },
  {
   "cell_type": "markdown",
   "metadata": {},
   "source": [
    "### 3. Projection onto arbitrary vectors\n",
    "\n",
    "We need proprocessing to create random dependent vectors. We add three more dependent columns and then shuffle the columns."
   ]
  },
  {
   "cell_type": "code",
   "execution_count": 54,
   "metadata": {},
   "outputs": [],
   "source": [
    "x = np.random.randn(m,3)\n",
    "B = np.column_stack((A,A@x))\n",
    "p = np.random.permutation(m+3)\n",
    "B = B[:,p]"
   ]
  },
  {
   "cell_type": "markdown",
   "metadata": {},
   "source": [
    "Now we have no primitive representation of projection without a help of SVD. Also we compare the subspaces spanned by the original vectors and a set of vectors with three more dependent vectors."
   ]
  },
  {
   "cell_type": "code",
   "execution_count": 57,
   "metadata": {},
   "outputs": [
    {
     "name": "stdout",
     "output_type": "stream",
     "text": [
      "Rank of A: 5\n",
      "True\n",
      "(10, 8) (8, 10) (10, 5) (5, 10)\n"
     ]
    }
   ],
   "source": [
    "# perform SVD on the matrix B\n",
    "U, s, Vh = SVD_compact(B, 1e-10)\n",
    "V = Vh.T \n",
    "\n",
    "# pseudoinverse from SVD\n",
    "Pinv = V @ np.diag(1/s) @ U.T  \n",
    "\n",
    "# check if the pseudoinverse and the projection matrix are the same\n",
    "print(np.allclose(B @ Pinv, A @ Pinv_ind))\n",
    "print(B.shape, Pinv.shape, A.shape, Pinv_ind.shape)"
   ]
  },
  {
   "cell_type": "markdown",
   "metadata": {},
   "source": [
    "Be sure that Pinv and Pinv_ind has different number of rows."
   ]
  }
 ],
 "metadata": {
  "kernelspec": {
   "display_name": "linear_algebra",
   "language": "python",
   "name": "python3"
  },
  "language_info": {
   "codemirror_mode": {
    "name": "ipython",
    "version": 3
   },
   "file_extension": ".py",
   "mimetype": "text/x-python",
   "name": "python",
   "nbconvert_exporter": "python",
   "pygments_lexer": "ipython3",
   "version": "3.12.9"
  }
 },
 "nbformat": 4,
 "nbformat_minor": 2
}
