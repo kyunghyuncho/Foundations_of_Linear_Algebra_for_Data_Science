{
 "cells": [
  {
   "cell_type": "markdown",
   "metadata": {},
   "source": [
    "# Chapter 5 Numerically Stable $QR$-Decomposition"
   ]
  },
  {
   "cell_type": "code",
   "execution_count": null,
   "metadata": {},
   "outputs": [],
   "source": [
    "# numerical and scientific computing libraries\n",
    "import numpy as np\n",
    "import scipy as sp\n",
    "\n",
    "# plotting libraries \n",
    "import matplotlib as mpl\n",
    "import matplotlib.pyplot as plt\n",
    "import seaborn as sns"
   ]
  },
  {
   "cell_type": "code",
   "execution_count": 17,
   "metadata": {},
   "outputs": [],
   "source": [
    "# for pretty printing\n",
    "np.set_printoptions(4, linewidth=100, suppress=True)"
   ]
  },
  {
   "cell_type": "markdown",
   "metadata": {},
   "source": [
    "Recall the classical $QR$-decomposition implemented Chapter 4."
   ]
  },
  {
   "cell_type": "code",
   "execution_count": 18,
   "metadata": {},
   "outputs": [],
   "source": [
    "def classical_QR(A):\n",
    "    m, n = A.shape\n",
    "\n",
    "    R = np.zeros((n,n))\n",
    "    R[0,0] = np.linalg.norm(A[:,0])\n",
    "\n",
    "    Q = (1/R[0,0])*A[:,0]\n",
    "\n",
    "    # Gram-Schmidt process\n",
    "    for j in range(1,n):\n",
    "        Q = np.column_stack((Q,A[:,j]))\n",
    "        for i in range(j):\n",
    "            R[i,j] = np.dot(Q[:,i].T,A[:,j])\n",
    "            Q[:,j] = Q[:,j] - R[i,j]*Q[:,i]\n",
    "        R[j,j] = np.linalg.norm(Q[:,j])\n",
    "        if np.abs(R[j,j]) < 1e-10:\n",
    "            raise ValueError(\"QR factorization failed: A is rank deficient\")\n",
    "\n",
    "        Q[:,j] = (1/R[j,j])*Q[:,j]\n",
    "\n",
    "    return Q, R"
   ]
  },
  {
   "cell_type": "markdown",
   "metadata": {},
   "source": [
    "An implementation of the modified $QR$-decomposition multiplying matrices of rank $m-1$."
   ]
  },
  {
   "cell_type": "code",
   "execution_count": 19,
   "metadata": {},
   "outputs": [],
   "source": [
    "def modified_QR(A):\n",
    "    m, n = A.shape\n",
    "    Q = np.copy(A).astype(float)  # Initialize Q with a copy of A\n",
    "    R = np.zeros((n, n))\n",
    "\n",
    "    for j in range(n):\n",
    "        v_j = Q[:, j]\n",
    "        for i in range(j):\n",
    "            R[i, j] = np.dot(Q[:, i].T, v_j)\n",
    "            v_j = v_j - R[i, j] * Q[:, i]\n",
    "        R[j, j] = np.linalg.norm(v_j)\n",
    "        if np.abs(R[j, j]) < 1e-10:\n",
    "            raise ValueError(\"QR factorization failed: A is rank deficient\")\n",
    "        Q[:, j] = v_j / R[j, j]\n",
    "\n",
    "    return Q, R"
   ]
  },
  {
   "cell_type": "markdown",
   "metadata": {},
   "source": [
    "Let us try this modified decomposition to randomly generated instances."
   ]
  },
  {
   "cell_type": "code",
   "execution_count": 20,
   "metadata": {},
   "outputs": [
    {
     "name": "stdout",
     "output_type": "stream",
     "text": [
      "True\n",
      "True\n",
      "[[32.0925 -0.2228  0.2194  0.4978 -0.0672 -0.8269 -0.7415 -1.0651  0.9199  0.655 ]\n",
      " [ 0.     32.4641 -0.8934  1.0859 -0.8635 -0.3909 -1.2585  0.9591  0.0474 -0.0617]\n",
      " [ 0.      0.     31.6821 -0.0489  0.403  -0.9567  0.5652 -0.5471  0.5985  0.5688]\n",
      " [ 0.      0.      0.     31.5233  1.4921  1.2506  0.5738 -1.0222 -1.9273 -0.9437]\n",
      " [ 0.      0.      0.      0.     32.0945 -0.362  -0.1296  0.4852  0.2898 -0.3077]\n",
      " [ 0.      0.      0.      0.      0.     31.4496 -1.47    0.0563  0.2487  0.7918]\n",
      " [ 0.      0.      0.      0.      0.      0.     32.0853  0.9771 -1.2743 -1.2259]\n",
      " [ 0.      0.      0.      0.      0.      0.      0.     30.1255 -1.5697 -0.5702]\n",
      " [ 0.      0.      0.      0.      0.      0.      0.      0.     30.4768 -0.3046]\n",
      " [ 0.      0.      0.      0.      0.      0.      0.      0.      0.     32.2902]]\n"
     ]
    }
   ],
   "source": [
    "# Setting dimension m >= n \n",
    "m = 1000\n",
    "n = 990\n",
    "\n",
    "# Generating a random matrix A  of dimension m x n\n",
    "A = np.random.randn(m,n)\n",
    "\n",
    "Q, R = modified_QR(A)\n",
    "\n",
    "# Checking the QR factorization\n",
    "print(np.allclose(A,Q@R))\n",
    "print(np.allclose(Q.T@Q,np.eye(n)))\n",
    "print(R[:min(10,n),:min(10,n)]) "
   ]
  },
  {
   "cell_type": "markdown",
   "metadata": {},
   "source": [
    "Set up an ill-conditioned matrix."
   ]
  },
  {
   "cell_type": "code",
   "execution_count": 13,
   "metadata": {},
   "outputs": [],
   "source": [
    "epsilon = 1e-8\n",
    "A = np.array([[1, 1, 1],\n",
    "              [epsilon, 0, 0],\n",
    "              [0, epsilon, 0],\n",
    "              [0, 0, epsilon]])"
   ]
  },
  {
   "cell_type": "markdown",
   "metadata": {},
   "source": [
    "Run the classical $QR$."
   ]
  },
  {
   "cell_type": "code",
   "execution_count": 14,
   "metadata": {},
   "outputs": [
    {
     "name": "stdout",
     "output_type": "stream",
     "text": [
      "True\n",
      "[[ 1.      0.      0.    ]\n",
      " [ 0.     -0.7071 -0.7071]\n",
      " [ 0.      0.7071  0.    ]\n",
      " [ 0.      0.      0.7071]]\n",
      "[[ 1.  -0.  -0. ]\n",
      " [-0.   1.   0.5]\n",
      " [-0.   0.5  1. ]]\n",
      "[[1. 1. 1.]\n",
      " [0. 0. 0.]\n",
      " [0. 0. 0.]]\n"
     ]
    }
   ],
   "source": [
    "Q, R = classical_QR(A)\n",
    "\n",
    "print(np.allclose(A,Q@R))\n",
    "print(Q)\n",
    "print(Q.T@Q)\n",
    "print(R)"
   ]
  },
  {
   "cell_type": "markdown",
   "metadata": {},
   "source": [
    "Run the modified $QR$."
   ]
  },
  {
   "cell_type": "code",
   "execution_count": 15,
   "metadata": {},
   "outputs": [
    {
     "name": "stdout",
     "output_type": "stream",
     "text": [
      "True\n",
      "[[ 1.      0.      0.    ]\n",
      " [ 0.     -0.7071 -0.4082]\n",
      " [ 0.      0.7071 -0.4082]\n",
      " [ 0.      0.      0.8165]]\n",
      "[[ 1. -0. -0.]\n",
      " [-0.  1.  0.]\n",
      " [-0.  0.  1.]]\n",
      "[[1. 1. 1.]\n",
      " [0. 0. 0.]\n",
      " [0. 0. 0.]]\n"
     ]
    }
   ],
   "source": [
    "Q, R = modified_QR(A)\n",
    "\n",
    "print(np.allclose(A,Q@R))\n",
    "print(Q)\n",
    "print(Q.T@Q)\n",
    "print(R)"
   ]
  }
 ],
 "metadata": {
  "kernelspec": {
   "display_name": "linear_algebra",
   "language": "python",
   "name": "python3"
  },
  "language_info": {
   "codemirror_mode": {
    "name": "ipython",
    "version": 3
   },
   "file_extension": ".py",
   "mimetype": "text/x-python",
   "name": "python",
   "nbconvert_exporter": "python",
   "pygments_lexer": "ipython3",
   "version": "3.12.9"
  }
 },
 "nbformat": 4,
 "nbformat_minor": 2
}
