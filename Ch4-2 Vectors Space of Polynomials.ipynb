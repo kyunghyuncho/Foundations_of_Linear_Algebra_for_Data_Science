{
  "cells": [
    {
      "cell_type": "markdown",
      "metadata": {},
      "source": [
        "# Chapter 4 Vector Space of Polynomials"
      ]
    },
    {
      "cell_type": "code",
      "execution_count": null,
      "metadata": {
        "id": "lwRCRj-Dqq1L"
      },
      "outputs": [],
      "source": [
        "# numerical and scientific computing libraries\n",
        "import numpy as np \n",
        "import scipy as sp\n",
        "\n",
        "# plotting libraries\\sqrtsa{}\n",
        "import matplotlib as mpl\n",
        "import matplotlib.pyplot as plt\n",
        "import seaborn as sns"
      ]
    },
    {
      "cell_type": "code",
      "execution_count": 2,
      "metadata": {},
      "outputs": [],
      "source": [
        "# for pretty printing\n",
        "np.set_printoptions(4, linewidth=100, suppress=True)"
      ]
    },
    {
      "cell_type": "markdown",
      "metadata": {
        "id": "p_Bm3aatKSx_"
      },
      "source": [
        "Let us consider the vector space of polynomials\n",
        "\\begin{align*}\n",
        "\\mathbb{P}_n = \\left\\{p(t) : \\text{$p$ is a polynomial of degree $\\leq n$} \\right\\}.\n",
        "\\end{align*}\n",
        "\n",
        "Keep in mind that, because $\\{1, t, \\dots, t^n\\}$ spans $\\mathbb{P}_n$, the dimension of $\\mathbb{P}_n$ is $n+1$."
      ]
    },
    {
      "cell_type": "markdown",
      "metadata": {
        "id": "m2tiZ_zAL2SS"
      },
      "source": [
        "The \"natural\" inner product in $\\mathbb{P}_n$ is defined, as we saw in the lecture note, as\n",
        "\\begin{align*}\n",
        "\\langle f, g \\rangle = \\int_{-1}^1 f(t) g(t) dt.\n",
        "\\end{align*}"
      ]
    },
    {
      "cell_type": "code",
      "execution_count": 3,
      "metadata": {
        "colab": {
          "base_uri": "https://localhost:8080/"
        },
        "id": "GGfS25Y80D3X",
        "outputId": "e50cc636-4395-438a-bd21-5775a7f098e8"
      },
      "outputs": [
        {
          "name": "stdout",
          "output_type": "stream",
          "text": [
            "<f, g> = 0.0\n",
            "|f| = 0.816496580927726\n"
          ]
        }
      ],
      "source": [
        "def inner_poly(f, g):\n",
        "    h = np.polymul(f, g)  # h(t) = f(t) * g(t)\n",
        "    i = np.polyint(h, 1)  # i(t) is the indefinite integral of h\n",
        "    return np.polyval(i, 1) - np.polyval(i, -1)\n",
        "\n",
        "def norm_poly(f):\n",
        "    norm_sq = inner_poly(f, f)\n",
        "    return np.sqrt(norm_sq)\n",
        "\n",
        "f = np.array(   [1, 0])  # f(t) = t\n",
        "g = np.array([1, 0, 0])  # g(t) = t^2\n",
        "\n",
        "print(\"<f, g> =\", inner_poly(f, g))\n",
        "print(\"|f| =\", norm_poly(f))"
      ]
    },
    {
      "cell_type": "code",
      "execution_count": 4,
      "metadata": {
        "colab": {
          "base_uri": "https://localhost:8080/"
        },
        "id": "nuOG2F9yMmw6",
        "outputId": "cda72268-8b5f-47d7-f361-7a2da4705899"
      },
      "outputs": [
        {
          "name": "stdout",
          "output_type": "stream",
          "text": [
            "0.816496580927726\n"
          ]
        }
      ],
      "source": [
        "# sanity check\n",
        "print((2/3)**.5)"
      ]
    },
    {
      "cell_type": "markdown",
      "metadata": {
        "id": "cd3p2n_yO3aL"
      },
      "source": [
        "Let us fix the \"most natural\" basis $\\mathcal{B} = \\{1, t, \\dots, t^n\\}$ of $\\mathbb{P}_n$.\n",
        "Then, we know that the matrix $A$ representing the inner product is\n",
        "\n",
        "\\begin{align*}\n",
        "A = \\begin{bmatrix}\n",
        "\\langle 1, 1 \\rangle & \\langle 1, t \\rangle & \\cdots & \\langle 1, t^n \\rangle \\\\\n",
        "\\langle t, 1 \\rangle & \\langle t, t \\rangle & \\cdots & \\langle t, t^n \\rangle \\\\\n",
        "\\vdots & \\vdots & \\ddots & \\vdots \\\\\n",
        "\\langle t^n, 1 \\rangle & \\langle t^n, t \\rangle & \\cdots & \\langle t^n, t^n \\rangle\n",
        "\\end{bmatrix}.\n",
        "\\end{align*}\n",
        "&nbsp;\n",
        "\n",
        "In other words, for any $f(t) = a_0 + a_1 t + a_2 t^2 + \\dots + a_n t^n \\in \\mathbb{P}_n$ and $g(t) = b_0 + b_1 t + b_2 t^2 + \\dots + b_n t^n \\in \\mathbb{P}_n$, the inner product of $f$ and $g$ is\n",
        "\\begin{align} \\tag{*}\n",
        "\\begin{bmatrix} a_0 & a_1 & \\dots & a_n \\end{bmatrix} A \\begin{bmatrix}\n",
        "b_0 \\\\\n",
        "b_1 \\\\\n",
        "\\vdots \\\\\n",
        "b_n\n",
        "\\end{bmatrix}.\n",
        "\\end{align}\n",
        "&nbsp;\n",
        "\n",
        "Considering that we can identify vectors in $\\mathbb{P}_n$ with $\\mathbb{R}^{n+1}$ by the correspondence\n",
        "\n",
        "\\begin{align*}\n",
        "f(t) = a_0 + a_1 t + a_2 t^2 + \\dots + a_n t^n  \\quad \\longleftrightarrow \\quad (a_0, a_1, \\dots, a_n) \\in \\mathbb{R}^{n+1}\n",
        "\\end{align*}\n",
        "\n",
        "we can also see (*) as a _nonstandard_ inner product given on $\\mathbb{R}^{n+1}$."
      ]
    },
    {
      "cell_type": "code",
      "execution_count": 5,
      "metadata": {
        "id": "-kjWMCz0iEQa"
      },
      "outputs": [],
      "source": [
        "n = 10\n",
        "I = np.eye(n+1)\n",
        "B = I[::-1, :]  # reversing the row order to match the order of the basis\n",
        "\n",
        "A = np.zeros((n+1, n+1))\n",
        "for i in range(n+1):\n",
        "    for j in range(n+1):\n",
        "        A[i, j] = inner_poly(B[i, :], B[j, :])\n"
      ]
    },
    {
      "cell_type": "code",
      "execution_count": 6,
      "metadata": {
        "colab": {
          "base_uri": "https://localhost:8080/"
        },
        "id": "UJb34OvAoBiS",
        "outputId": "3b052609-1b30-4b59-8fcf-58572b76f72d"
      },
      "outputs": [
        {
          "data": {
            "text/plain": [
              "array([[2.    , 0.    , 0.6667, 0.    , 0.4   , 0.    , 0.2857, 0.    , 0.2222, 0.    , 0.1818],\n",
              "       [0.    , 0.6667, 0.    , 0.4   , 0.    , 0.2857, 0.    , 0.2222, 0.    , 0.1818, 0.    ],\n",
              "       [0.6667, 0.    , 0.4   , 0.    , 0.2857, 0.    , 0.2222, 0.    , 0.1818, 0.    , 0.1538],\n",
              "       [0.    , 0.4   , 0.    , 0.2857, 0.    , 0.2222, 0.    , 0.1818, 0.    , 0.1538, 0.    ],\n",
              "       [0.4   , 0.    , 0.2857, 0.    , 0.2222, 0.    , 0.1818, 0.    , 0.1538, 0.    , 0.1333],\n",
              "       [0.    , 0.2857, 0.    , 0.2222, 0.    , 0.1818, 0.    , 0.1538, 0.    , 0.1333, 0.    ],\n",
              "       [0.2857, 0.    , 0.2222, 0.    , 0.1818, 0.    , 0.1538, 0.    , 0.1333, 0.    , 0.1176],\n",
              "       [0.    , 0.2222, 0.    , 0.1818, 0.    , 0.1538, 0.    , 0.1333, 0.    , 0.1176, 0.    ],\n",
              "       [0.2222, 0.    , 0.1818, 0.    , 0.1538, 0.    , 0.1333, 0.    , 0.1176, 0.    , 0.1053],\n",
              "       [0.    , 0.1818, 0.    , 0.1538, 0.    , 0.1333, 0.    , 0.1176, 0.    , 0.1053, 0.    ],\n",
              "       [0.1818, 0.    , 0.1538, 0.    , 0.1333, 0.    , 0.1176, 0.    , 0.1053, 0.    , 0.0952]])"
            ]
          },
          "execution_count": 6,
          "metadata": {},
          "output_type": "execute_result"
        }
      ],
      "source": [
        "A"
      ]
    },
    {
      "cell_type": "code",
      "execution_count": 7,
      "metadata": {
        "colab": {
          "base_uri": "https://localhost:8080/"
        },
        "id": "LUVIZGjSoDdW",
        "outputId": "1c5a82a4-be58-4ce5-99da-33fb4622fdf0"
      },
      "outputs": [
        {
          "name": "stdout",
          "output_type": "stream",
          "text": [
            "<f, g> = 31.08025981586353\n",
            "a.T A b = 31.08025981586353\n"
          ]
        }
      ],
      "source": [
        "f = np.array([10, 9, 8, 7, 6, 5, 4, 3, 2, 1, 0])  # f(t) = 10t^10 + 9t^9 + ... + 2t^2 + t\n",
        "g = np.array([ 1, 0, 1, 0, 1, 0, 1, 0, 1, 0, 1])  # g(t) =   t^10 + t^8 + ... + t^2 + 1\n",
        "\n",
        "print(\"<f, g> =\", inner_poly(f, g))\n",
        "\n",
        "a = f[::-1]  # because the basis is in the order of {1, t, ..., t^n},\n",
        "b = g[::-1]  # the coefficients should be reversed\n",
        "\n",
        "print(\"a.T A b =\", a @ A @ b)"
      ]
    },
    {
      "cell_type": "markdown",
      "metadata": {
        "id": "uNAqgarlsJS1"
      },
      "source": [
        "----\n",
        "As we have the inner product defined on $\\mathbb{P}_n$, we can apply the Gram-Schmidt procedure on $\\mathcal{B}$ to generate an orthonormal basis.\n",
        "\n",
        "Recall that the Gram-Schmidt procedure:\n",
        "\\begin{align*}\n",
        "% \\mathbf{w}_0 &= \\frac{\\mathbf{b}_0}{\\|\\mathbf{b}_0\\|} \\\\[5pt]\n",
        "\\mathbf{v}_i &= \\mathbf{b}_i - \\left(\\langle \\mathbf{b}_i, \\mathbf{w}_0\\rangle \\mathbf{w}_0 + \\dots + \\langle \\mathbf{b}_i, \\mathbf{w}_{i-1}\\rangle \\mathbf{w}_{i-1}\\right) ,  \\\\[5pt]\n",
        "\\mathbf{w}_i &= \\frac{\\mathbf{v}_i}{\\|\\mathbf{v}_i\\|} .\n",
        "\\end{align*}\n",
        "\n"
      ]
    },
    {
      "cell_type": "code",
      "execution_count": 8,
      "metadata": {
        "id": "ZjSzkY_fpb6f"
      },
      "outputs": [],
      "source": [
        "W = np.zeros((n+1, n+1))  # orthonormal basis vectors will be stored as rows\n",
        "\n",
        "for i in range(n+1):\n",
        "    v = np.copy(B[i, :])\n",
        "    for j in range(i-1):\n",
        "        v = np.polysub(v, inner_poly(B[i, :], W[j, :]) * W[j, :])\n",
        "\n",
        "    W[i, :] = v / norm_poly(v)\n"
      ]
    },
    {
      "cell_type": "code",
      "execution_count": 9,
      "metadata": {
        "colab": {
          "base_uri": "https://localhost:8080/"
        },
        "id": "wqbq12bkt30Y",
        "outputId": "d9b42bd6-cfda-42a0-91df-5a0892716ebc"
      },
      "outputs": [
        {
          "data": {
            "text/plain": [
              "array([[    0.    ,     0.    ,     0.    ,     0.    ,     0.    ,     0.    ,     0.    ,\n",
              "            0.    ,     0.    ,     0.    ,     0.7071],\n",
              "       [    0.    ,     0.    ,     0.    ,     0.    ,     0.    ,     0.    ,     0.    ,\n",
              "            0.    ,     0.    ,     1.2247,     0.    ],\n",
              "       [    0.    ,     0.    ,     0.    ,     0.    ,     0.    ,     0.    ,     0.    ,\n",
              "            0.    ,     2.3717,     0.    ,    -0.7906],\n",
              "       [    0.    ,     0.    ,     0.    ,     0.    ,     0.    ,     0.    ,     0.    ,\n",
              "            4.6771,     0.    ,    -2.8062,     0.    ],\n",
              "       [    0.    ,     0.    ,     0.    ,     0.    ,     0.    ,     0.    ,     9.2808,\n",
              "            0.    ,    -7.955 ,     0.    ,     0.7955],\n",
              "       [    0.    ,     0.    ,     0.    ,     0.    ,     0.    ,    18.4685,     0.    ,\n",
              "          -20.5206,     0.    ,     4.3973,     0.    ],\n",
              "       [    0.    ,     0.    ,     0.    ,     0.    ,    36.8085,     0.    ,   -50.1935,\n",
              "            0.    ,    16.7312,     0.    ,    -0.7967],\n",
              "       [    0.    ,     0.    ,     0.    ,    73.4291,     0.    ,  -118.6162,     0.    ,\n",
              "           53.9164,     0.    ,    -5.9907,     0.    ],\n",
              "       [    0.    ,     0.    ,   146.571 ,     0.    ,  -273.5992,     0.    ,   157.8457,\n",
              "            0.    ,   -28.6992,     0.    ,     0.7972],\n",
              "       [    0.    ,   292.6893,     0.    ,  -619.8126,     0.    ,   433.8688,     0.    ,\n",
              "         -111.2484,     0.    ,     7.5851,     0.    ],\n",
              "       [  584.6464,     0.    , -1384.6887,     0.    ,  1140.3319,     0.    ,  -380.1106,\n",
              "            0.    ,    43.8589,     0.    ,    -0.7974]])"
            ]
          },
          "execution_count": 9,
          "metadata": {},
          "output_type": "execute_result"
        }
      ],
      "source": [
        "W"
      ]
    },
    {
      "cell_type": "markdown",
      "metadata": {
        "id": "3Mz629xc1t1s"
      },
      "source": [
        "Let us write\n",
        "\\begin{align*}\n",
        "w_0(t) &= 0.7071, \\\\\n",
        "w_1(t) &= 1.2247\\, t, \\\\\n",
        "w_2(t) &= 2.3717\\, t^2 - 0.7906, \\\\\n",
        "&\\vdots\n",
        "\\end{align*}\n",
        "so that $\\{w_0(t), w_1(t), \\dots, w_{n}(t)\\}$ becomes an orthonormal basis of $\\mathbb{P}_n$.\n",
        "\n",
        "&nbsp;\n",
        "\n",
        "Given a polynomial $f \\in \\mathbb{P}_n$, finding the polynomial with degree $\\leq 3$ that is \"closest\" to $f$ is now an easy task, as that polynomial will be a projection of $f$ onto $\\operatorname{span}\\{w_0, w_1, w_2, w_3\\}$. Notice that indeed $\\mathbb{P}_3 = \\operatorname{span}\\{w_0, w_1, w_2, w_3\\}$."
      ]
    },
    {
      "cell_type": "code",
      "execution_count": 11,
      "metadata": {
        "colab": {
          "base_uri": "https://localhost:8080/"
        },
        "id": "tLQRaIcFt7k3",
        "outputId": "3f10b77f-576a-470c-8952-625e88ee0179"
      },
      "outputs": [
        {
          "name": "stdout",
          "output_type": "stream",
          "text": [
            "f = [10  9  8  7  6  5  4  3  2  1  0]\n",
            "The closest polynomial to f with deg <= 3 : [ 0.      0.      0.      0.      0.      0.      0.     24.791  19.8075 -5.1439 -2.4807]\n"
          ]
        }
      ],
      "source": [
        "def closest_cubic(f, W):\n",
        "    proj = np.array([0])  # zero polynomial\n",
        "    for i in range(0, 3+1) :\n",
        "        proj = np.polyadd(proj, inner_poly(f, W[i, :]) * W[i, :])\n",
        "    return proj\n",
        "\n",
        "print(\"f =\", f)\n",
        "print(\"The closest polynomial to f with deg <= 3 :\", closest_cubic(f, W))"
      ]
    },
    {
      "cell_type": "markdown",
      "metadata": {
        "id": "6e7Gqv0-7paG"
      },
      "source": [
        "Often the orthonormal basis $\\{w_0, w_1, \\dots, w_n\\}$  is used in a \"renormalized\" form. Define\n",
        "\n",
        "\\begin{align*}\n",
        "P_k(t) = \\frac{1}{w_k(1)} w_k(t), \\qquad k = 0, 1, 2, \\dots\n",
        "\\end{align*}\n",
        "\n",
        "so that each $P_k$ is a multiple of $w_k$ with $P_k(1) = 1$. Then, each of $P_k(t)$ is no longer a unit norm vector, but $\\{P_0(t), P_1(t), \\dots, P_n(t)\\}$ still forms an **orthogonal** basis of $\\mathbb{P}_n$.\n",
        "\n",
        "&nbsp;\n",
        "\n",
        "The orthogonal polynomials $P_0(t), P_1(t), P_2(t), \\dots$ are known as the *Legendre polynomials*."
      ]
    },
    {
      "cell_type": "code",
      "execution_count": 10,
      "metadata": {
        "colab": {
          "base_uri": "https://localhost:8080/"
        },
        "id": "qNi7R8sD8fXN",
        "outputId": "afe69582-07b7-4543-efad-925bc715b861"
      },
      "outputs": [
        {
          "name": "stdout",
          "output_type": "stream",
          "text": [
            "[[   0.        0.        0.        0.        0.        0.        0.        0.        0.        0.        1.    ]\n",
            " [   0.        0.        0.        0.        0.        0.        0.        0.        0.        1.        0.    ]\n",
            " [   0.        0.        0.        0.        0.        0.        0.        0.        1.5       0.       -0.5   ]\n",
            " [   0.        0.        0.        0.        0.        0.        0.        2.5       0.       -1.5       0.    ]\n",
            " [   0.        0.        0.        0.        0.        0.        4.375     0.       -3.75      0.        0.375 ]\n",
            " [   0.        0.        0.        0.        0.        7.875     0.       -8.75      0.        1.875     0.    ]\n",
            " [   0.        0.        0.        0.       14.4375    0.      -19.6875    0.        6.5625    0.       -0.3125]\n",
            " [   0.        0.        0.       26.8125    0.      -43.3125    0.       19.6875    0.       -2.1875    0.    ]\n",
            " [   0.        0.       50.2734    0.      -93.8438    0.       54.1406    0.       -9.8438    0.        0.2734]\n",
            " [   0.       94.9609    0.     -201.0938    0.      140.7656    0.      -36.0938    0.        2.4609    0.    ]\n",
            " [ 180.4258    0.     -427.3242    0.      351.9141    0.     -117.3047    0.       13.5352    0.       -0.2461]]\n"
          ]
        }
      ],
      "source": [
        "P = np.copy(W)\n",
        "\n",
        "for i in range(n+1):\n",
        "    ev = np.polyval(P[i, :], 1)\n",
        "    P[i, :] = (1/ev) * P[i, :]\n",
        "\n",
        "print(P)"
      ]
    },
    {
      "cell_type": "code",
      "execution_count": 11,
      "metadata": {
        "colab": {
          "base_uri": "https://localhost:8080/",
          "height": 430
        },
        "id": "Yx955xeP9Heh",
        "outputId": "4634a93b-eeec-4905-8c06-a6fe004c8a94"
      },
      "outputs": [
        {
          "name": "stderr",
          "output_type": "stream",
          "text": [
            "/var/folders/l8/lymkl51121l6sbfhm685zrqw0000gn/T/ipykernel_92278/455321496.py:9: UserWarning: FigureCanvasAgg is non-interactive, and thus cannot be shown\n",
            "  fig.show()\n"
          ]
        },
        {
          "data": {
            "image/png": "[encoded data removed]",
            "text/plain": [
              "<Figure size 640x480 with 1 Axes>"
            ]
          },
          "metadata": {},
          "output_type": "display_data"
        }
      ],
      "source": [
        "fig, ax = plt.subplots()\n",
        "\n",
        "plt_x = np.linspace(-1, 1, 61)\n",
        "for i in range(6):\n",
        "    plt_y = np.polyval(P[i, :], plt_x)\n",
        "    ax.plot(plt_x, plt_y, label='P_' + str(i) + '(t)')\n",
        "\n",
        "ax.legend()\n",
        "fig.show()"
      ]
    }
  ],
  "metadata": {
    "colab": {
      "provenance": []
    },
    "kernelspec": {
      "display_name": "linear_algebra",
      "language": "python",
      "name": "python3"
    },
    "language_info": {
      "codemirror_mode": {
        "name": "ipython",
        "version": 3
      },
      "file_extension": ".py",
      "mimetype": "text/x-python",
      "name": "python",
      "nbconvert_exporter": "python",
      "pygments_lexer": "ipython3",
      "version": "3.12.9"
    }
  },
  "nbformat": 4,
  "nbformat_minor": 0
}
