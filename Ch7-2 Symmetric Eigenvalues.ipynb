{
  "cells": [
    {
      "cell_type": "markdown",
      "metadata": {},
      "source": [
        "# Chapter 7 Symmetric Eigenvalues\n",
        "\n",
        "Let us play with various matrix norms."
      ]
    },
    {
      "cell_type": "code",
      "execution_count": 2,
      "metadata": {
        "id": "lwRCRj-Dqq1L"
      },
      "outputs": [],
      "source": [
        "# numerical and scientific computing libraries  \n",
        "import numpy as np \n",
        "import scipy as sp\n",
        "\n",
        "# plotting libraries\n",
        "import matplotlib as mpl\n",
        "import matplotlib.pyplot as plt\n",
        "import seaborn as sns"
      ]
    },
    {
      "cell_type": "code",
      "execution_count": 3,
      "metadata": {},
      "outputs": [],
      "source": [
        "# for pretty printing\n",
        "np.set_printoptions(4, linewidth=100, suppress=True)"
      ]
    },
    {
      "cell_type": "markdown",
      "metadata": {},
      "source": [
        "### Eigenvalues of symmetric matrices\n"
      ]
    },
    {
      "cell_type": "code",
      "execution_count": null,
      "metadata": {},
      "outputs": [],
      "source": [
        "# Setting dimension\n",
        "n = 10\n",
        "k=7"
      ]
    },
    {
      "cell_type": "markdown",
      "metadata": {},
      "source": [
        "**Weyl's inequlaity of eigenvalues**: For two symmetric matrices $A$ and $B$,\n",
        "$$\\lambda_{k+\\ell+1}(A+B) \\le \\lambda_{k+1}(A) + \\lambda_{\\ell+1}(B)$$\n",
        "holds for all $k,\\ell = 0,1,2,\\ldots$.\n",
        "\n",
        "We can check that this result holds for all $k, \\ell$ combinations."
      ]
    },
    {
      "cell_type": "code",
      "execution_count": 1,
      "metadata": {},
      "outputs": [
        {
          "ename": "NameError",
          "evalue": "name 'np' is not defined",
          "output_type": "error",
          "traceback": [
            "\u001b[31m---------------------------------------------------------------------------\u001b[39m",
            "\u001b[31mNameError\u001b[39m                                 Traceback (most recent call last)",
            "\u001b[36mCell\u001b[39m\u001b[36m \u001b[39m\u001b[32mIn[1]\u001b[39m\u001b[32m, line 2\u001b[39m\n\u001b[32m      1\u001b[39m \u001b[38;5;66;03m# create two random symmetric matrix \u001b[39;00m\n\u001b[32m----> \u001b[39m\u001b[32m2\u001b[39m A = \u001b[43mnp\u001b[49m.random.randn(n, n)\n\u001b[32m      3\u001b[39m A = A + A.T\n\u001b[32m      5\u001b[39m B = np.random.randn(n,n)\n",
            "\u001b[31mNameError\u001b[39m: name 'np' is not defined"
          ]
        }
      ],
      "source": [
        "# create two random symmetric matrix \n",
        "A = np.random.randn(n, n)\n",
        "A = A + A.T\n",
        "\n",
        "B = np.random.randn(n,n)\n",
        "B = B + B.T\n",
        "\n",
        "# compute compact SVD\n",
        "v_A, vec_A = np.linalg.eigh(A)\n",
        "v_B, vec_B = np.linalg.eigh(B)\n",
        "v_AB, vec_AB = np.linalg.eigh(A+B)\n",
        "\n",
        "v_A = -np.sort(-v_A)\n",
        "v_B = -np.sort(-v_B)\n",
        "v_AB = -np.sort(-v_AB)\n",
        "\n",
        "# print singular values\n",
        "print('v_(A+B) = ', v_AB)\n",
        "print('v_A     = ', v_A)\n",
        "print('v_B     = ', v_B)\n",
        "print('v_A+v_B = ', v_A+v_B)"
      ]
    },
    {
      "cell_type": "markdown",
      "metadata": {},
      "source": [
        "**Weyl's inequality for singualr values** For any two matrix $A$ and $B$ of the same arbitrary size,\n",
        "$$\\sigma_{k+\\ell+1}(A+B) \\le \\sigma_{k+1}(A) + \\sigma_{\\ell+1}(B)$$\n",
        "holds for all $k,\\ell = 0,1,2,\\ldots$.\n",
        "\n",
        "We can check that this result holds for all $k, \\ell$ combinations."
      ]
    },
    {
      "cell_type": "code",
      "execution_count": null,
      "metadata": {},
      "outputs": [
        {
          "name": "stdout",
          "output_type": "stream",
          "text": [
            "s_(A+B) =  [6.6099 5.6114 4.1972 3.7329 2.789  1.5259 1.3696]\n",
            "s_A     =  [4.7926 4.4496 2.8262 2.4642 2.1323 1.3798 0.6617]\n",
            "s_B     =  [4.0915 3.7698 2.8658 1.9014 1.5586 1.4287 0.8817]\n",
            "s_A+s_B =  [8.884  8.2194 5.692  4.3656 3.6909 2.8085 1.5434]\n"
          ]
        }
      ],
      "source": [
        "# create a random positive semi-definite matrix\n",
        "A = np.random.randn(k,n)\n",
        "B = np.random.randn(k,n)\n",
        "# compute compact SVD\n",
        "U, s_A, Vt = np.linalg.svd(A, full_matrices=False)\n",
        "U, s_B, Vt = np.linalg.svd(B, full_matrices=False)\n",
        "U, s_AB, Vt = np.linalg.svd(A + B, full_matrices=False)\n",
        "\n",
        "print('s_(A+B) = ',s_AB)\n",
        "print('s_A     = ',s_A)\n",
        "print('s_B     = ',s_B)\n",
        "print('s_A+s_B = ', s_A+s_B)"
      ]
    },
    {
      "cell_type": "markdown",
      "metadata": {},
      "source": [
        "**Adding a positive semi-definite matrix** For two symmetric matrices $A$ and $B$ and $B$ is positive semi-definite, then\n",
        "$$\\lambda_i(A) \\le \\lambda_i(A+B)$$\n",
        "holds for all $i$. If $B = \\mathbf{q} \\mathbf{q}^\\top$, then\n",
        "$$\\lambda_i(A) \\le \\lambda_i(A+\\mathbf{q} \\mathbf{q}^\\top) \\le \\lambda_i(A) + |\\mathbf{q}|^2$$\n",
        "holds for all $i$. **Eigenvalue interlacing** theorem also says that\n",
        "$$\\lambda_{i+1}(A+\\mathbf{q} \\mathbf{q}^\\top) \\le \\lambda_i(A) \\le \\lambda_i(A+\\mathbf{q} \\mathbf{q}^\\top)$$\n",
        "holds for all $i$.\n",
        "\n",
        "We can check that all these inequalities hold in the following experiment."
      ]
    },
    {
      "cell_type": "code",
      "execution_count": null,
      "metadata": {},
      "outputs": [
        {
          "name": "stdout",
          "output_type": "stream",
          "text": [
            "v_A     =  [ 6.2031  4.0568  3.0601  2.6713  0.8292 -0.9784 -1.5377 -2.6787 -4.2213 -6.4795]\n",
            "v_(A+B) =  [26.2893 18.3657 11.9808  6.9628  5.507   4.2939  2.2942  0.5243 -2.2849 -3.7624]\n",
            "v_B     =  [25.6961 17.3611 10.1775  7.3381  3.8518  2.5327  2.2885  0.      0.     -0.    ]\n"
          ]
        }
      ],
      "source": [
        "# create two random symmetric matrix, one of them is positive semi-definite.\n",
        "A = np.random.randn(n, n)\n",
        "A = A + A.T\n",
        "\n",
        "B = np.random.randn(n,k)\n",
        "B = B @ B.T\n",
        "\n",
        "# compute compact SVD\n",
        "v_A, vec_A = np.linalg.eigh(A)\n",
        "v_B, vec_B = np.linalg.eigh(B)\n",
        "v_AB, vec_AB = np.linalg.eigh(A+B)\n",
        "\n",
        "v_A = -np.sort(-v_A)\n",
        "v_B = -np.sort(-v_B)\n",
        "v_AB = -np.sort(-v_AB)\n",
        "\n",
        "# print singular values\n",
        "print('v_A     = ', v_A)\n",
        "print('v_(A+B) = ', v_AB)\n",
        "print('v_B     = ', v_B)"
      ]
    },
    {
      "cell_type": "code",
      "execution_count": null,
      "metadata": {},
      "outputs": [
        {
          "name": "stdout",
          "output_type": "stream",
          "text": [
            "v_A       =  [ 6.2031  4.0568  3.0601  2.6713  0.8292 -0.9784 -1.5377 -2.6787 -4.2213 -6.4795]\n",
            "v_(A+B)   =  [10.9374  4.0608  3.4764  2.9922  1.3896 -0.9684 -1.4012 -2.4575 -4.01   -6.4242]\n",
            "v_A+|b|^2 =  [12.8734 10.727   9.7304  9.3416  7.4995  5.6918  5.1326  3.9916  2.449   0.1908]\n"
          ]
        }
      ],
      "source": [
        "b = np.random.randn(n,1)\n",
        "norm_b = np.linalg.norm(b)\n",
        "B = b @ b.T\n",
        "\n",
        "# compute compact SVD\n",
        "v_A, vec_A = np.linalg.eigh(A)\n",
        "v_B, vec_B = np.linalg.eigh(B)\n",
        "v_AB, vec_AB = np.linalg.eigh(A+B)\n",
        "\n",
        "v_A = -np.sort(-v_A)\n",
        "v_B = -np.sort(-v_B)\n",
        "v_AB = -np.sort(-v_AB)\n",
        "\n",
        "# print singular values\n",
        "print('v_A       = ', v_A)\n",
        "print('v_(A+B)   = ', v_AB)\n",
        "print('v_A+|b|^2 = ', v_A + norm_b**2)"
      ]
    }
  ],
  "metadata": {
    "colab": {
      "provenance": []
    },
    "kernelspec": {
      "display_name": "linear_algebra",
      "language": "python",
      "name": "python3"
    },
    "language_info": {
      "codemirror_mode": {
        "name": "ipython",
        "version": 3
      },
      "file_extension": ".py",
      "mimetype": "text/x-python",
      "name": "python",
      "nbconvert_exporter": "python",
      "pygments_lexer": "ipython3",
      "version": "3.12.9"
    }
  },
  "nbformat": 4,
  "nbformat_minor": 0
}
