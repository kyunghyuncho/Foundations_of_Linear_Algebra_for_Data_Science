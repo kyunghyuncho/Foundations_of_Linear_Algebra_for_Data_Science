{
  "cells": [
    {
      "cell_type": "markdown",
      "metadata": {},
      "source": [
        "# Chapter 7 Symmetric Eigenvalues\n",
        "\n",
        "Let us play with various matrix norms."
      ]
    },
    {
      "cell_type": "code",
      "execution_count": 1,
      "metadata": {
        "id": "lwRCRj-Dqq1L"
      },
      "outputs": [],
      "source": [
        "# numerical and scientific computing libraries  \n",
        "import numpy as np \n",
        "import scipy as sp\n",
        "\n",
        "# plotting libraries\n",
        "import matplotlib as mpl\n",
        "import matplotlib.pyplot as plt\n",
        "import seaborn as sns"
      ]
    },
    {
      "cell_type": "code",
      "execution_count": 2,
      "metadata": {},
      "outputs": [],
      "source": [
        "# for pretty printing\n",
        "np.set_printoptions(4, linewidth=100, suppress=True)"
      ]
    },
    {
      "cell_type": "markdown",
      "metadata": {},
      "source": [
        "### Eigenvalues of symmetric matrices\n"
      ]
    },
    {
      "cell_type": "code",
      "execution_count": 3,
      "metadata": {},
      "outputs": [],
      "source": [
        "# Setting dimension\n",
        "n = 10\n",
        "k=7"
      ]
    },
    {
      "cell_type": "markdown",
      "metadata": {},
      "source": [
        "**Weyl's inequlaity of eigenvalues**: For two symmetric matrices $A$ and $B$,\n",
        "$$\\lambda_{k+\\ell+1}(A+B) \\le \\lambda_{k+1}(A) + \\lambda_{\\ell+1}(B)$$\n",
        "holds for all $k,\\ell = 0,1,2,\\ldots$.\n",
        "\n",
        "We can check that this result holds for all $k, \\ell$ combinations."
      ]
    },
    {
      "cell_type": "code",
      "execution_count": 4,
      "metadata": {},
      "outputs": [
        {
          "name": "stdout",
          "output_type": "stream",
          "text": [
            "v_(A+B) =  [12.1073  9.8716  7.7911  6.359   1.6624 -1.2898 -2.3599 -4.3529 -4.8515 -7.3792]\n",
            "v_A     =  [ 9.5302  7.43    5.6571  3.926   1.0944 -1.4894 -2.9813 -3.5618 -5.1176 -7.7891]\n",
            "v_B     =  [ 8.8455  5.8454  4.4681  3.2209  2.3715 -0.4043 -0.8021 -3.5078 -3.8802 -5.2974]\n",
            "v_A+v_B =  [ 18.3757  13.2755  10.1252   7.1469   3.4658  -1.8937  -3.7834  -7.0696  -8.9978 -13.0865]\n"
          ]
        }
      ],
      "source": [
        "# create two random symmetric matrix \n",
        "A = np.random.randn(n, n)\n",
        "A = A + A.T\n",
        "\n",
        "B = np.random.randn(n,n)\n",
        "B = B + B.T\n",
        "\n",
        "# compute compact SVD\n",
        "v_A, vec_A = np.linalg.eigh(A)\n",
        "v_B, vec_B = np.linalg.eigh(B)\n",
        "v_AB, vec_AB = np.linalg.eigh(A+B)\n",
        "\n",
        "v_A = -np.sort(-v_A)\n",
        "v_B = -np.sort(-v_B)\n",
        "v_AB = -np.sort(-v_AB)\n",
        "\n",
        "# print singular values\n",
        "print('v_(A+B) = ', v_AB)\n",
        "print('v_A     = ', v_A)\n",
        "print('v_B     = ', v_B)\n",
        "print('v_A+v_B = ', v_A+v_B)"
      ]
    },
    {
      "cell_type": "markdown",
      "metadata": {},
      "source": [
        "**Weyl's inequality for singualr values** For any two matrix $A$ and $B$ of the same arbitrary size,\n",
        "$$\\sigma_{k+\\ell+1}(A+B) \\le \\sigma_{k+1}(A) + \\sigma_{\\ell+1}(B)$$\n",
        "holds for all $k,\\ell = 0,1,2,\\ldots$.\n",
        "\n",
        "We can check that this result holds for all $k, \\ell$ combinations."
      ]
    },
    {
      "cell_type": "code",
      "execution_count": 5,
      "metadata": {},
      "outputs": [
        {
          "name": "stdout",
          "output_type": "stream",
          "text": [
            "s_(A+B) =  [7.2941 6.0182 4.7687 4.1975 2.5482 2.0123 1.4158]\n",
            "s_A     =  [4.9772 4.4593 3.2109 2.7014 1.9034 1.5106 1.0805]\n",
            "s_B     =  [4.9301 4.5771 3.9929 2.6398 2.0947 1.7556 0.6799]\n",
            "s_A+s_B =  [9.9073 9.0364 7.2038 5.3412 3.9981 3.2662 1.7604]\n"
          ]
        }
      ],
      "source": [
        "# create a random positive semi-definite matrix\n",
        "A = np.random.randn(k,n)\n",
        "B = np.random.randn(k,n)\n",
        "# compute compact SVD\n",
        "U, s_A, Vt = np.linalg.svd(A, full_matrices=False)\n",
        "U, s_B, Vt = np.linalg.svd(B, full_matrices=False)\n",
        "U, s_AB, Vt = np.linalg.svd(A + B, full_matrices=False)\n",
        "\n",
        "print('s_(A+B) = ',s_AB)\n",
        "print('s_A     = ',s_A)\n",
        "print('s_B     = ',s_B)\n",
        "print('s_A+s_B = ', s_A+s_B)"
      ]
    },
    {
      "cell_type": "markdown",
      "metadata": {},
      "source": [
        "**Adding a positive semi-definite matrix** For two symmetric matrices $A$ and $B$ and $B$ is positive semi-definite, then\n",
        "$$\\lambda_i(A) \\le \\lambda_i(A+B)$$\n",
        "holds for all $i$. If $B = \\mathbf{q} \\mathbf{q}^\\top$, then\n",
        "$$\\lambda_i(A) \\le \\lambda_i(A+\\mathbf{q} \\mathbf{q}^\\top) \\le \\lambda_i(A) + |\\mathbf{q}|^2$$\n",
        "holds for all $i$. **Eigenvalue interlacing** theorem also says that\n",
        "$$\\lambda_{i+1}(A+\\mathbf{q} \\mathbf{q}^\\top) \\le \\lambda_i(A) \\le \\lambda_i(A+\\mathbf{q} \\mathbf{q}^\\top)$$\n",
        "holds for all $i$.\n",
        "\n",
        "We can check that all these inequalities hold in the following experiment."
      ]
    },
    {
      "cell_type": "code",
      "execution_count": 6,
      "metadata": {},
      "outputs": [
        {
          "name": "stdout",
          "output_type": "stream",
          "text": [
            "v_A     =  [ 8.3546  6.1146  2.7325  1.5742  0.5494 -0.1841 -0.9    -2.5122 -5.1474 -8.6504]\n",
            "v_(A+B) =  [25.6053 16.9835 12.6781  7.5109  5.8367  5.179   2.7065 -1.3419 -2.3043 -5.3411]\n",
            "v_B     =  [27.9909 17.1038  7.9657  7.0724  2.8762  1.705   0.8676  0.      0.     -0.    ]\n"
          ]
        }
      ],
      "source": [
        "# create two random symmetric matrix, one of them is positive semi-definite.\n",
        "A = np.random.randn(n, n)\n",
        "A = A + A.T\n",
        "\n",
        "B = np.random.randn(n,k)\n",
        "B = B @ B.T\n",
        "\n",
        "# compute compact SVD\n",
        "v_A, vec_A = np.linalg.eigh(A)\n",
        "v_B, vec_B = np.linalg.eigh(B)\n",
        "v_AB, vec_AB = np.linalg.eigh(A+B)\n",
        "\n",
        "v_A = -np.sort(-v_A)\n",
        "v_B = -np.sort(-v_B)\n",
        "v_AB = -np.sort(-v_AB)\n",
        "\n",
        "# print singular values\n",
        "print('v_A     = ', v_A)\n",
        "print('v_(A+B) = ', v_AB)\n",
        "print('v_B     = ', v_B)"
      ]
    },
    {
      "cell_type": "code",
      "execution_count": 7,
      "metadata": {},
      "outputs": [
        {
          "name": "stdout",
          "output_type": "stream",
          "text": [
            "v_A       =  [ 8.3546  6.1146  2.7325  1.5742  0.5494 -0.1841 -0.9    -2.5122 -5.1474 -8.6504]\n",
            "v_(A+B)   =  [16.1791  6.3356  5.9774  1.8659  1.5674  0.0277 -0.8989 -1.967  -4.4091 -8.6335]\n",
            "v_A+|b|^2 =  [22.468  20.2281 16.8459 15.6876 14.6628 13.9294 13.2134 11.6012  8.966   5.463 ]\n"
          ]
        }
      ],
      "source": [
        "b = np.random.randn(n,1)\n",
        "norm_b = np.linalg.norm(b)\n",
        "B = b @ b.T\n",
        "\n",
        "# compute compact SVD\n",
        "v_A, vec_A = np.linalg.eigh(A)\n",
        "v_B, vec_B = np.linalg.eigh(B)\n",
        "v_AB, vec_AB = np.linalg.eigh(A+B)\n",
        "\n",
        "v_A = -np.sort(-v_A)\n",
        "v_B = -np.sort(-v_B)\n",
        "v_AB = -np.sort(-v_AB)\n",
        "\n",
        "# print singular values\n",
        "print('v_A       = ', v_A)\n",
        "print('v_(A+B)   = ', v_AB)\n",
        "print('v_A+|b|^2 = ', v_A + norm_b**2)"
      ]
    }
  ],
  "metadata": {
    "colab": {
      "provenance": []
    },
    "kernelspec": {
      "display_name": "linear_algebra",
      "language": "python",
      "name": "python3"
    },
    "language_info": {
      "codemirror_mode": {
        "name": "ipython",
        "version": 3
      },
      "file_extension": ".py",
      "mimetype": "text/x-python",
      "name": "python",
      "nbconvert_exporter": "python",
      "pygments_lexer": "ipython3",
      "version": "3.12.9"
    }
  },
  "nbformat": 4,
  "nbformat_minor": 0
}
