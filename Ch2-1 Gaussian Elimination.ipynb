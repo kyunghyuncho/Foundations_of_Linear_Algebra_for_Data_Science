{
 "cells": [
  {
   "cell_type": "markdown",
   "metadata": {
    "id": "mU770rhV6pFn"
   },
   "source": [
    "# Chapter 2.  Matrices and Gaussian Elimination"
   ]
  },
  {
   "cell_type": "code",
   "execution_count": 5,
   "metadata": {},
   "outputs": [],
   "source": [
    "# numerical and scientific computing libraries\n",
    "import numpy as np\n",
    "import scipy.linalg as sp\n",
    "\n",
    "# plotting libraries\n",
    "import matplotlib as mpl\n",
    "import matplotlib.pyplot as plt\n",
    "import seaborn as sns"
   ]
  },
  {
   "cell_type": "code",
   "execution_count": 6,
   "metadata": {},
   "outputs": [],
   "source": [
    "# for pretty printing\n",
    "np.set_printoptions(4, linewidth=100, suppress=True)"
   ]
  },
  {
   "cell_type": "markdown",
   "metadata": {
    "id": "XEqLG9lZ97fr"
   },
   "source": [
    "--------------------------------------------------------------------------------------------------------------\n",
    "\n",
    "### System of Linear Equations and $LU$ decomposition\n",
    "\n",
    "Suppose that we are given a system of linear equations\n",
    "\\begin{align*}\n",
    "\\left\\{ \\begin{array}{ccl}\n",
    "a_{11}x_1 + a_{12}x_2 + \\dots + a_{1n} x_n &=& b_1 \\\\\n",
    "a_{21}x_1 + a_{22}x_2 + \\dots + a_{2n} x_n &=& b_2 \\\\\n",
    "&\\vdots& \\\\\n",
    "a_{m1}x_1 + a_{m2}x_2 + \\dots + a_{mn} x_n &=& b_m\n",
    "\\end{array} .\\right.\n",
    "\\end{align*}\n",
    "\n",
    "&nbsp;\n",
    "\n",
    "Recalling how matrix multiplication is defined, we can rewrite this system into \n",
    "\\begin{align*} \n",
    "A \\mathbf{x} = \\mathbf{b} \n",
    "\\end{align*} \n",
    "where\n",
    "\\begin{align*}\n",
    "A = \\begin{bmatrix}\n",
    "a_{11} & a_{12} & \\dots & a_{1n}  \\\\\n",
    "a_{21} & a_{22} & \\dots & a_{2n}  \\\\\n",
    "\\vdots & \\vdots & \\ddots & \\vdots \\\\\n",
    "a_{m1} & a_{m2} & \\dots & a_{mn}  \n",
    "\\end{bmatrix} , \\quad \\mathbf{x} = \\begin{pmatrix} x_1 \\\\ x_2 \\\\ \\vdots \\\\ x_n\n",
    "\\end{pmatrix} , \\quad \\mathbf{b} = \\begin{pmatrix} b_1 \\\\ b_2 \\\\ \\vdots \\\\ b_m\n",
    "\\end{pmatrix} .\n",
    "\\end{align*}\n",
    "\n",
    "&nbsp;\n",
    "\n",
    "To work with a concrete example, let us consider the case where $A$ is a square matrix that is invertible.\n",
    "\n",
    "First, let us generate a random instance of this equation.\n",
    "\n",
    "--------------------------------------------------------------------------------------------------------------"
   ]
  },
  {
   "cell_type": "code",
   "execution_count": 7,
   "metadata": {
    "colab": {
     "base_uri": "https://localhost:8080/"
    },
    "executionInfo": {
     "elapsed": 62,
     "status": "ok",
     "timestamp": 1709114325389,
     "user": {
      "displayName": "Jiseok Chae",
      "userId": "10025326653436979199"
     },
     "user_tz": -540
    },
    "id": "GHpww60JB1Aw",
    "outputId": "5b048b54-2b7d-43a0-a239-bc627fc5c1f8"
   },
   "outputs": [
    {
     "name": "stdout",
     "output_type": "stream",
     "text": [
      "A =\n",
      "[[5 0 3 3 7 9 3 5 2 4]\n",
      " [7 6 8 8 1 6 7 7 8 1]\n",
      " [5 9 8 9 4 3 0 3 5 0]\n",
      " [2 3 8 1 3 3 3 7 0 1]\n",
      " [9 9 0 4 7 3 2 7 2 0]\n",
      " [0 4 5 5 6 8 4 1 4 9]\n",
      " [8 1 1 7 9 9 3 6 7 2]\n",
      " [0 3 5 9 4 4 6 4 4 3]\n",
      " [4 4 8 4 3 7 5 5 0 1]\n",
      " [5 9 3 0 5 0 1 2 4 2]]\n",
      "b =\n",
      "[0 3 2 0 7 5 9 0 2 7]\n"
     ]
    }
   ],
   "source": [
    "m = n = 10\n",
    "rng = np.random.RandomState(0)\n",
    "\n",
    "A = rng.randint(10, size=(m, n))\n",
    "b = rng.randint(10, size=m)\n",
    "\n",
    "print(\"A =\")\n",
    "print(A)\n",
    "print(\"b =\")\n",
    "print(b)\n"
   ]
  },
  {
   "cell_type": "markdown",
   "metadata": {
    "id": "OWoEoHGPDVCk"
   },
   "source": [
    "Let us begin with computing the $LU$-decomposition of $A$.\n",
    "\n",
    "Recall that in general, during the computation of an $LU$-decomposition, one should perform row exchanges due to the positions of the pivots, which results in the need of introducing a permutation matrix $Q$ as an additional factor; $QA = LU$.   \n",
    "\n",
    "SciPy provides the function `lu` as a member of the `linalg` submodule, but how it deals with the permutation matrix $Q$ slightly differs from our notations. When given a matrix $A$ as an input, the function `lu` returns a permutation matrix $P$, a lower triangular matrix $L$, and an upper triangular matrix $U$, but those three matrices satisfy $A = PLU$.\n",
    "\n",
    "For a permutation matrix $Q$, it holds that $Q^{-1} = Q^\\top$; see Appendix A in our book. Thus, if one wants an $LU$-decomposition in the form of $QA = LU$, one should take the transpose of $P$ as $Q$ in our text book after using the function `lu`, that is, $Q=P^\\top$."
   ]
  },
  {
   "cell_type": "code",
   "execution_count": 9,
   "metadata": {
    "colab": {
     "base_uri": "https://localhost:8080/"
    },
    "executionInfo": {
     "elapsed": 56,
     "status": "ok",
     "timestamp": 1709114325390,
     "user": {
      "displayName": "Jiseok Chae",
      "userId": "10025326653436979199"
     },
     "user_tz": -540
    },
    "id": "Qcs3Z9a2CrgM",
    "outputId": "1f48e115-4c08-4030-831a-eb7829b8f1ee"
   },
   "outputs": [
    {
     "name": "stdout",
     "output_type": "stream",
     "text": [
      "Q =\n",
      "[[0. 0. 0. 0. 1. 0. 0. 0. 0. 0.]\n",
      " [0. 0. 0. 0. 0. 0. 1. 0. 0. 0.]\n",
      " [0. 0. 1. 0. 0. 0. 0. 0. 0. 0.]\n",
      " [0. 0. 0. 1. 0. 0. 0. 0. 0. 0.]\n",
      " [0. 0. 0. 0. 0. 1. 0. 0. 0. 0.]\n",
      " [0. 1. 0. 0. 0. 0. 0. 0. 0. 0.]\n",
      " [0. 0. 0. 0. 0. 0. 0. 1. 0. 0.]\n",
      " [0. 0. 0. 0. 0. 0. 0. 0. 0. 1.]\n",
      " [0. 0. 0. 0. 0. 0. 0. 0. 1. 0.]\n",
      " [1. 0. 0. 0. 0. 0. 0. 0. 0. 0.]]\n",
      "\n",
      "L =\n",
      "[[ 1.      0.      0.      0.      0.      0.      0.      0.      0.      0.    ]\n",
      " [ 0.8889  1.      0.      0.      0.      0.      0.      0.      0.      0.    ]\n",
      " [ 0.5556 -0.5714  1.      0.      0.      0.      0.      0.      0.      0.    ]\n",
      " [ 0.2222 -0.1429  0.95    1.      0.      0.      0.      0.      0.      0.    ]\n",
      " [ 0.     -0.5714  0.65   -0.1665  1.      0.      0.      0.      0.      0.    ]\n",
      " [ 0.7778  0.1429  0.9167  0.4698 -0.9975  1.      0.      0.      0.      0.    ]\n",
      " [ 0.     -0.4286  0.6333 -0.6407  0.6534 -0.3818  1.      0.      0.      0.    ]\n",
      " [ 0.5556 -0.5714  0.4167  0.5059  0.2876 -0.2433 -0.0055  1.      0.      0.    ]\n",
      " [ 0.4444 -0.      0.9333  0.771  -0.287   0.6409 -0.2839  0.0976  1.      0.    ]\n",
      " [ 0.5556  0.7143  0.2667  0.521   0.0852  0.2212 -0.3492 -0.0467  0.4715  1.    ]]\n",
      "\n",
      "U =\n",
      "[[ 9.      9.      0.      4.      7.      3.      2.      7.      2.      0.    ]\n",
      " [ 0.     -7.      1.      3.4444  2.7778  6.3333  1.2222 -0.2222  5.2222  2.    ]\n",
      " [ 0.      0.      8.5714  8.746   1.6984  4.9524 -0.4127 -1.0159  6.873   1.1429]\n",
      " [ 0.      0.      0.     -7.7056  0.2278 -1.4667  3.1222  6.3778 -6.2278  0.2   ]\n",
      " [ 0.      0.      0.      0.      6.5213  8.1557  5.4867  2.5955  1.4795  9.4333]\n",
      " [ 0.      0.      0.      0.      0.      7.0469  9.6543  2.1111  3.8     8.9827]\n",
      " [ 0.      0.      0.      0.      0.      0.      8.887   7.7447 -1.6208  0.5278]\n",
      " [ 0.      0.      0.      0.      0.      0.      0.     -5.0091  6.65    2.0411]\n",
      " [ 0.      0.      0.      0.      0.      0.      0.      0.     -5.6224 -3.3194]\n",
      " [ 0.      0.      0.      0.      0.      0.      0.      0.      0.      1.2171]]\n"
     ]
    }
   ],
   "source": [
    "P, L, U = sp.lu(A)\n",
    "Q = P.T\n",
    "\n",
    "print(\"Q =\")\n",
    "print(Q)\n",
    "print()\n",
    "print(\"L =\")\n",
    "print(L)\n",
    "print()\n",
    "print(\"U =\")\n",
    "print(U)"
   ]
  },
  {
   "cell_type": "code",
   "execution_count": 10,
   "metadata": {
    "colab": {
     "base_uri": "https://localhost:8080/"
    },
    "executionInfo": {
     "elapsed": 53,
     "status": "ok",
     "timestamp": 1709114325392,
     "user": {
      "displayName": "Jiseok Chae",
      "userId": "10025326653436979199"
     },
     "user_tz": -540
    },
    "id": "_347i2UnIExt",
    "outputId": "39e04c60-6d93-46e8-b475-90ce2d7af5f3"
   },
   "outputs": [
    {
     "data": {
      "text/plain": [
       "True"
      ]
     },
     "execution_count": 10,
     "metadata": {},
     "output_type": "execute_result"
    }
   ],
   "source": [
    "# sanity check\n",
    "np.allclose(Q@A, L@U)"
   ]
  },
  {
   "cell_type": "markdown",
   "metadata": {
    "id": "EgvatxFsKJBX"
   },
   "source": [
    "Computing the $LDU$ decomposition of $A$ can be done by \"extracting\" the pivots from $U$."
   ]
  },
  {
   "cell_type": "code",
   "execution_count": 11,
   "metadata": {
    "colab": {
     "base_uri": "https://localhost:8080/"
    },
    "executionInfo": {
     "elapsed": 46,
     "status": "ok",
     "timestamp": 1709114325392,
     "user": {
      "displayName": "Jiseok Chae",
      "userId": "10025326653436979199"
     },
     "user_tz": -540
    },
    "id": "ypTWdEuAImAN",
    "outputId": "abc71071-77e5-4880-f02d-20b879045d99"
   },
   "outputs": [
    {
     "name": "stdout",
     "output_type": "stream",
     "text": [
      "D =\n",
      "[[ 9.      0.      0.      0.      0.      0.      0.      0.      0.      0.    ]\n",
      " [ 0.     -7.      0.      0.      0.      0.      0.      0.      0.      0.    ]\n",
      " [ 0.      0.      8.5714  0.      0.      0.      0.      0.      0.      0.    ]\n",
      " [ 0.      0.      0.     -7.7056  0.      0.      0.      0.      0.      0.    ]\n",
      " [ 0.      0.      0.      0.      6.5213  0.      0.      0.      0.      0.    ]\n",
      " [ 0.      0.      0.      0.      0.      7.0469  0.      0.      0.      0.    ]\n",
      " [ 0.      0.      0.      0.      0.      0.      8.887   0.      0.      0.    ]\n",
      " [ 0.      0.      0.      0.      0.      0.      0.     -5.0091  0.      0.    ]\n",
      " [ 0.      0.      0.      0.      0.      0.      0.      0.     -5.6224  0.    ]\n",
      " [ 0.      0.      0.      0.      0.      0.      0.      0.      0.      1.2171]]\n",
      "\n",
      "New U =\n",
      "[[ 1.      1.      0.      0.4444  0.7778  0.3333  0.2222  0.7778  0.2222  0.    ]\n",
      " [-0.      1.     -0.1429 -0.4921 -0.3968 -0.9048 -0.1746  0.0317 -0.746  -0.2857]\n",
      " [ 0.      0.      1.      1.0204  0.1981  0.5778 -0.0481 -0.1185  0.8019  0.1333]\n",
      " [-0.     -0.     -0.      1.     -0.0296  0.1903 -0.4052 -0.8277  0.8082 -0.026 ]\n",
      " [ 0.      0.      0.      0.      1.      1.2506  0.8413  0.398   0.2269  1.4465]\n",
      " [ 0.      0.      0.      0.      0.      1.      1.37    0.2996  0.5392  1.2747]\n",
      " [ 0.      0.      0.      0.      0.      0.      1.      0.8715 -0.1824  0.0594]\n",
      " [-0.     -0.     -0.     -0.     -0.     -0.     -0.      1.     -1.3276 -0.4075]\n",
      " [-0.     -0.     -0.     -0.     -0.     -0.     -0.     -0.      1.      0.5904]\n",
      " [ 0.      0.      0.      0.      0.      0.      0.      0.      0.      1.    ]]\n"
     ]
    }
   ],
   "source": [
    "# for simplicity, let us assume that A is invertible.\n",
    "V = np.copy(U)\n",
    "d = np.zeros(m)\n",
    "for i in range(m):\n",
    "    d[i] = V[i, i]\n",
    "    U[i, :] = V[i, :] / d[i]\n",
    "\n",
    "D = np.diag(d)\n",
    "\n",
    "print(\"D =\")\n",
    "print(D)\n",
    "print()\n",
    "print(\"New U =\")\n",
    "print(U)"
   ]
  },
  {
   "cell_type": "code",
   "execution_count": 12,
   "metadata": {
    "colab": {
     "base_uri": "https://localhost:8080/"
    },
    "executionInfo": {
     "elapsed": 43,
     "status": "ok",
     "timestamp": 1709114325394,
     "user": {
      "displayName": "Jiseok Chae",
      "userId": "10025326653436979199"
     },
     "user_tz": -540
    },
    "id": "hXCCCN3UNSrR",
    "outputId": "c6ebe033-4fae-4321-e46f-95a3311db0f4"
   },
   "outputs": [
    {
     "data": {
      "text/plain": [
       "True"
      ]
     },
     "execution_count": 12,
     "metadata": {},
     "output_type": "execute_result"
    }
   ],
   "source": [
    "# sanity check\n",
    "np.allclose(Q @ A, L @ D @ U)"
   ]
  },
  {
   "cell_type": "markdown",
   "metadata": {
    "id": "cIyfekK-UBN8"
   },
   "source": [
    "Now let us actually solve the equation $A \\mathbf{x} = \\mathbf{b}$. From $QA = LDU$, we have $LDU\\mathbf{x} = QA \\mathbf{x} = Q\\mathbf{b}$. \n",
    "Let $\\mathbf{y} = Q \\mathbf{b}$."
   ]
  },
  {
   "cell_type": "code",
   "execution_count": 13,
   "metadata": {
    "id": "imanTfPQVDH2"
   },
   "outputs": [],
   "source": [
    "y = Q @ b"
   ]
  },
  {
   "cell_type": "markdown",
   "metadata": {
    "id": "98U1q7JpPCUb"
   },
   "source": [
    "We now need access to $L^{-1}$, or at least to $L^{-1} \\mathbf{y}$. One possible approach is to perform Gaussian elimination on the augmented matrix $[L | \\mathbf{y}]$, which will give us $[I | L^{-1} \\mathbf{y}]$.\n",
    "\n",
    "The code below shows a way to efficiently perform Gaussian elimination on $[L | \\mathbf{y}]$, exploiting the structure of $L$.\n",
    "\n",
    "**Verify by yourself that the code below is indeed a valid execution of Gaussian elimination.**"
   ]
  },
  {
   "cell_type": "code",
   "execution_count": 14,
   "metadata": {
    "id": "t-g6o4CxQOr9"
   },
   "outputs": [],
   "source": [
    "aug = np.hstack((L, y.reshape(-1, 1)))\n",
    "# Because of the structure of L,\n",
    "# the pivot is always on the main diagonal,\n",
    "# and is equal to 1 every step.\n",
    "for piv in range(m):\n",
    "    for i in range(piv+1, m):\n",
    "        aug[i, -1] = aug[i, -1] - aug[i, piv] * aug[piv, -1]\n",
    "        aug[i, piv] = 0\n",
    "\n",
    "L_inv_y = aug[:, -1]"
   ]
  },
  {
   "cell_type": "code",
   "execution_count": 15,
   "metadata": {
    "colab": {
     "base_uri": "https://localhost:8080/"
    },
    "executionInfo": {
     "elapsed": 38,
     "status": "ok",
     "timestamp": 1709114325398,
     "user": {
      "displayName": "Jiseok Chae",
      "userId": "10025326653436979199"
     },
     "user_tz": -540
    },
    "id": "0_IWzXZQRHkT",
    "outputId": "0a35cd57-22cc-4cd6-e3aa-258da9588107"
   },
   "outputs": [
    {
     "name": "stdout",
     "output_type": "stream",
     "text": [
      "[[ 1.      0.      0.      0.      0.      0.      0.      0.      0.      0.      7.    ]\n",
      " [ 0.      1.      0.      0.      0.      0.      0.      0.      0.      0.      2.7778]\n",
      " [ 0.      0.      1.      0.      0.      0.      0.      0.      0.      0.     -0.3016]\n",
      " [ 0.      0.      0.      1.      0.      0.      0.      0.      0.      0.     -0.8722]\n",
      " [ 0.      0.      0.      0.      1.      0.      0.      0.      0.      0.      6.6381]\n",
      " [ 0.      0.      0.      0.      0.      1.      0.      0.      0.      0.      4.4667]\n",
      " [ 0.      0.      0.      0.      0.      0.      1.      0.      0.      0.     -1.809 ]\n",
      " [ 0.      0.      0.      0.      0.      0.      0.      1.      0.      0.      4.4331]\n",
      " [ 0.      0.      0.      0.      0.      0.      0.      0.      1.      0.     -2.0608]\n",
      " [ 0.      0.      0.      0.      0.      0.      0.      0.      0.      1.     -6.3442]]\n"
     ]
    }
   ],
   "source": [
    "# sanity check 1 : is Gaussian elimination correctly done?\n",
    "print(aug)"
   ]
  },
  {
   "cell_type": "code",
   "execution_count": 16,
   "metadata": {
    "colab": {
     "base_uri": "https://localhost:8080/"
    },
    "executionInfo": {
     "elapsed": 589,
     "status": "ok",
     "timestamp": 1709114325954,
     "user": {
      "displayName": "Jiseok Chae",
      "userId": "10025326653436979199"
     },
     "user_tz": -540
    },
    "id": "0IZAMPAcPwNd",
    "outputId": "5d8c8e69-8f77-4eb3-e6e5-da0363015d2c"
   },
   "outputs": [
    {
     "data": {
      "text/plain": [
       "True"
      ]
     },
     "execution_count": 16,
     "metadata": {},
     "output_type": "execute_result"
    }
   ],
   "source": [
    "# sanity check 2 : is L^(-1) y computed correctly?\n",
    "np.allclose(L_inv_y, np.linalg.inv(L)@y)"
   ]
  },
  {
   "cell_type": "markdown",
   "metadata": {
    "id": "exeLuksYVg1p"
   },
   "source": [
    "We should now solve $DU \\mathbf{x} = L^{-1} \\mathbf{y}$. Because $D$ is a diagonal matrix, multiplying $D^{-1}$ with $L^{-1} \\mathbf{y}$ is easy: notice that\n",
    "\\begin{align*}\n",
    "[D^{-1}L^{-1} \\mathbf{y}]_i = \\frac{1}{d_{ii}} [L^{-1} \\mathbf{y}]_i\n",
    "\\end{align*}\n",
    "for all $i$, as you should verify."
   ]
  },
  {
   "cell_type": "code",
   "execution_count": 17,
   "metadata": {
    "id": "mCN0hZWoVXvX"
   },
   "outputs": [],
   "source": [
    "D_inv_L_inv_y = np.zeros(m)\n",
    "for i in range(m):\n",
    "    D_inv_L_inv_y[i] = 1.0 / D[i, i] * L_inv_y[i]"
   ]
  },
  {
   "cell_type": "markdown",
   "metadata": {
    "id": "BCDRowWUXK0a"
   },
   "source": [
    "For convenience, let $\\mathbf{z} = D^{-1} L^{-1} \\mathbf{y}$. We are then left with\n",
    "\\begin{align*}\n",
    "U \\mathbf{x} = \\mathbf{z}.\n",
    "\\end{align*}\n",
    "\n",
    "As $U$ is upper triangular, we can do back substitution. Mathematically, as the above translates to   \n",
    "\\begin{align*}\n",
    "\\sum_{j = i}^{n} u_{ij} x_j = z_i, \\qquad i = 1, 2, \\dots, n,\n",
    "\\end{align*}\n",
    "by appropriately rearraging the terms we see that\n",
    "\\begin{align*}\n",
    "x_i = \\frac{1}{u_{ii}} \\left( z_i - \\sum_{j = i+1}^{n} u_{ij} x_j \\right), \\qquad i = n, n-1, \\dots, 1.\n",
    "\\end{align*}"
   ]
  },
  {
   "cell_type": "code",
   "execution_count": 18,
   "metadata": {
    "colab": {
     "base_uri": "https://localhost:8080/"
    },
    "executionInfo": {
     "elapsed": 23,
     "status": "ok",
     "timestamp": 1709114325957,
     "user": {
      "displayName": "Jiseok Chae",
      "userId": "10025326653436979199"
     },
     "user_tz": -540
    },
    "id": "fSxupoZLbVJw",
    "outputId": "88c3ca71-b20d-43cc-cc6d-50a183ed2b53"
   },
   "outputs": [
    {
     "name": "stdout",
     "output_type": "stream",
     "text": [
      "[-6.2381  4.187  -2.4684 -2.8606  0.4127  5.8132 -0.6281  1.563   3.4439 -5.2124]\n"
     ]
    }
   ],
   "source": [
    "z = D_inv_L_inv_y\n",
    "x = np.zeros(n)\n",
    "\n",
    "for i in range(n-1, -1, -1):\n",
    "    x[i] = (z[i] - sum(U[i, j] * x[j] for j in range(i+1, n))) / U[i, i]\n",
    "\n",
    "print(x)"
   ]
  },
  {
   "cell_type": "code",
   "execution_count": 19,
   "metadata": {
    "colab": {
     "base_uri": "https://localhost:8080/"
    },
    "executionInfo": {
     "elapsed": 19,
     "status": "ok",
     "timestamp": 1709114325957,
     "user": {
      "displayName": "Jiseok Chae",
      "userId": "10025326653436979199"
     },
     "user_tz": -540
    },
    "id": "901BiaJ_XKFG",
    "outputId": "cdeeb4f1-81e4-44b7-9fe5-958bc953dbe8"
   },
   "outputs": [
    {
     "name": "stdout",
     "output_type": "stream",
     "text": [
      "Ax =\n",
      "[0. 3. 2. 0. 7. 5. 9. 0. 2. 7.]\n",
      "\n",
      "b =\n",
      "[0 3 2 0 7 5 9 0 2 7]\n"
     ]
    }
   ],
   "source": [
    "# Final check\n",
    "print(\"Ax =\")\n",
    "print(A @ x)\n",
    "print()\n",
    "print(\"b =\")\n",
    "print(b)"
   ]
  }
 ],
 "metadata": {
  "colab": {
   "authorship_tag": "ABX9TyPUu1AXU1pWIUwlO0PZu9Mb",
   "provenance": [
    {
     "file_id": "1U-5deQkBWZ95ElckQCIDkAGIYXAYYY5Y",
     "timestamp": 1709114252946
    }
   ]
  },
  "kernelspec": {
   "display_name": "linear_algebra",
   "language": "python",
   "name": "python3"
  },
  "language_info": {
   "codemirror_mode": {
    "name": "ipython",
    "version": 3
   },
   "file_extension": ".py",
   "mimetype": "text/x-python",
   "name": "python",
   "nbconvert_exporter": "python",
   "pygments_lexer": "ipython3",
   "version": "3.12.9"
  }
 },
 "nbformat": 4,
 "nbformat_minor": 0
}
