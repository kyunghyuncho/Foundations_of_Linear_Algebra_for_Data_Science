{
  "cells": [
    {
      "cell_type": "code",
      "execution_count": 1,
      "metadata": {
        "id": "lwRCRj-Dqq1L"
      },
      "outputs": [],
      "source": [
        "import numpy as np\n",
        "import matplotlib.pyplot as plt\n",
        "\n",
        "# for pretty printing\n",
        "np.set_printoptions(4, linewidth=100, suppress=True)"
      ]
    },
    {
      "cell_type": "markdown",
      "metadata": {
        "id": "LPJ1Z18IuQkO"
      },
      "source": [
        "----\n",
        "\n",
        "## Chapter 7\n",
        "\n",
        "### Cholesky Decomposition\n",
        "\n",
        "For a positive definite matrix $A \\in \\mathbb{R}^{n\\times n}$, the Cholesky decomposition $A = R^\\top R$ is a factorization of $A$ into a product of an upper triangular matrix $R$ and its transpose.\n",
        "\n"
      ]
    },
    {
      "cell_type": "markdown",
      "metadata": {
        "id": "T8k6Umj8-yGN"
      },
      "source": [
        "Perhaps the most difficult thing about the Cholesky decomposition is how to pronounce the name *Cholesky*. The pronounciation of the *-olesky* part is quite evident; the problem is the leading constant *Ch-*.\n",
        "\n",
        "The English Wikipedia argues that the pronounciation should be something like *show-less-key*.\n",
        "\n",
        "The [Korean Mathematical Society Dictionary of Mathematics](https://www.kms.or.kr/mathdict/list.html) does not have an entry with the word *Cholesky* in it. (I mean, really...)\n",
        "\n",
        "The [Korean Statistical Society Dictionary of Statistics](https://kss.or.kr/homepage/custom/statistics) states that 콜레스키(*/kol-les-key/*) is the correct Korean transliteration of *Cholesky*.\n",
        "\n",
        "The Japanese and Chinese transliterations of the name *Cholesky* are コレスキー(*/ko-re-su-ki/*) and 科列斯基(roughly */kuh-ly'eh-soo-jee/*), respectively.\n",
        "\n",
        "We will leave it for you to decide by yourself.\n",
        "\n",
        "&nbsp;\n",
        "\n",
        "The second most difficult thing might be how one can actually compute a Cholesky decomposition given a positive definite matrix."
      ]
    },
    {
      "cell_type": "markdown",
      "metadata": {
        "id": "K1-RoUTXcSzK"
      },
      "source": [
        "To at least overcome the second largest difficulty, let us try implementing a Cholesky factorization from scratch.\n",
        "\n",
        "The motivation is similar to the Gaussian elimination: first we eliminate all entries in the first column except the $(1, 1)$-entry $a_{11}$ by multiplying an appropriate lower triangular matrix.\n",
        "\n",
        "&nbsp;\n",
        "\n",
        "As $A$ is symmetric, there exists a vector $\\mathbf{v} \\in \\mathbb{R}^{n-1}$ and a symmetric matrix $B_1 \\in\\mathbb{R}^{(n-1)\\times (n-1)}$ such that\n",
        "\\begin{align*}\n",
        "A = \\begin{bmatrix}\n",
        "a_{11} & \\mathbf{v}^\\top \\\\\n",
        "\\mathbf{v} & B_1\n",
        "\\end{bmatrix}.\n",
        "\\end{align*}\n",
        "\n",
        "By a direct computation one can verify that\n",
        "\\begin{align*}\n",
        "A = \\underbrace{\\begin{bmatrix}\n",
        "\\sqrt{a_{11}} & \\mathbf{0} \\\\\n",
        "\\frac{1}{\\sqrt{a_{11}}}\\mathbf{v} & I\n",
        "\\end{bmatrix}}_{R_1^\\top} \\\n",
        " \\begin{bmatrix}\n",
        "1 & \\mathbf{0}^\\top \\\\\n",
        "\\mathbf{0} & B_1 - \\frac{1}{a_{11}}\\mathbf{v}\\mathbf{v}^\\top\n",
        "\\end{bmatrix}   \\\n",
        "\\underbrace{\\begin{bmatrix}\n",
        "\\sqrt{a_{11}} & \\frac{1}{\\sqrt{a_{11}}}\\mathbf{v}^\\top \\\\\n",
        "\\mathbf{0} & I\n",
        "\\end{bmatrix}}_{R_1}.\n",
        "\\end{align*}\n",
        "\n",
        "and hence we can now recursively move on to a Cholesky factorization of a smaller matrix $B_1 - \\frac{1}{a_{11}}{\\mathbf{v}\\mathbf{v}}^\\top$.\n",
        "\n",
        "For convenience, let us denote $A_1 = B_1 - \\frac{1}{a_{11}}\\mathbf{v}\\mathbf{v}^\\top$."
      ]
    },
    {
      "cell_type": "markdown",
      "metadata": {
        "id": "O1PCCXGNgc18"
      },
      "source": [
        "> But to do Cholesky factorization on $A_1 = B_1 - \\frac{1}{a_{11}}{\\mathbf{v}\\mathbf{v}}^\\top$, it should be positive definite.\n",
        ">\n",
        ">It turns out that $A_1$ is indeed positive definite: as $R_1$ is an upper triangular matrix with positive diagonal entries, $R_1$ is invertible, and thus\n",
        "\\begin{align*}\n",
        "(R_1^\\top)^{-1} A R_1^{-1}=  \n",
        " \\begin{bmatrix}\n",
        "1 & \\mathbf{0}^\\top \\\\\n",
        "\\mathbf{0} & A_1\n",
        "\\end{bmatrix}    \n",
        "\\end{align*}  \n",
        "> is positive definite. (Why?)\n",
        ">\n",
        "> Therefore, $A_1 = B_1 - \\frac{1}{a_{11}}\\mathbf{v}\\mathbf{v}^\\top$ must be positive definite. (Why?)\n",
        "\n"
      ]
    },
    {
      "cell_type": "code",
      "execution_count": 2,
      "metadata": {
        "id": "I31K2dvLy7T9"
      },
      "outputs": [],
      "source": [
        "rng = np.random.default_rng(1)\n",
        "\n",
        "n = 8\n",
        "C = rng.random((n, n))\n",
        "S = C.T @ C"
      ]
    },
    {
      "cell_type": "code",
      "execution_count": 3,
      "metadata": {
        "id": "FAjIbDO2zItm"
      },
      "outputs": [
        {
          "data": {
            "text/plain": [
              "array([[3.0601, 3.1416, 2.6488, 2.3415, 1.4219, 2.4014, 2.3462, 1.8511],\n",
              "       [3.1416, 4.3358, 2.9287, 3.2087, 1.8643, 2.7488, 2.87  , 2.2581],\n",
              "       [2.6488, 2.9287, 2.8854, 2.4135, 1.4264, 2.4177, 2.007 , 1.8344],\n",
              "       [2.3415, 3.2087, 2.4135, 3.0863, 1.2495, 2.4203, 2.2281, 1.5786],\n",
              "       [1.4219, 1.8643, 1.4264, 1.2495, 1.6136, 1.3627, 1.4659, 1.8795],\n",
              "       [2.4014, 2.7488, 2.4177, 2.4203, 1.3627, 3.003 , 1.8872, 1.4053],\n",
              "       [2.3462, 2.87  , 2.007 , 2.2281, 1.4659, 1.8872, 2.2043, 1.9057],\n",
              "       [1.8511, 2.2581, 1.8344, 1.5786, 1.8795, 1.4053, 1.9057, 2.4442]])"
            ]
          },
          "execution_count": 3,
          "metadata": {},
          "output_type": "execute_result"
        }
      ],
      "source": [
        "S"
      ]
    },
    {
      "cell_type": "markdown",
      "metadata": {
        "id": "qCpGdZGchwwQ"
      },
      "source": [
        "So the first step of the Choslesky decomposition would look as follows."
      ]
    },
    {
      "cell_type": "code",
      "execution_count": 4,
      "metadata": {
        "id": "veXuWmXJivFe"
      },
      "outputs": [],
      "source": [
        "A = np.copy(S)\n",
        "R = np.zeros(np.shape(A))\n",
        "\n",
        "R[0, 0] = np.sqrt(A[0, 0])\n",
        "R[0, 1:] = A[0, 1:] / np.sqrt(A[0, 0])\n",
        "\n",
        "A[1:, 1:] = A[1:, 1:] - np.outer(A[0, 1:], A[0, 1:]) / A[0, 0]\n",
        "\n",
        "A[0, 0] = 1   # These three lines are not necessary,\n",
        "A[0, 1:] = 0  # because we will never revisit the first\n",
        "A[1:, 0] = 0  # rows and columns of *A*. Details below.\n"
      ]
    },
    {
      "cell_type": "code",
      "execution_count": 5,
      "metadata": {
        "id": "U8iNvnIRziJt"
      },
      "outputs": [
        {
          "name": "stdout",
          "output_type": "stream",
          "text": [
            "A after first step = \n",
            "[[ 1.      0.      0.      0.      0.      0.      0.      0.    ]\n",
            " [ 0.      1.1106  0.2094  0.8049  0.4046  0.2835  0.4614  0.3577]\n",
            " [ 0.      0.2094  0.5926  0.3867  0.1956  0.3391 -0.0238  0.2321]\n",
            " [ 0.      0.8049  0.3867  1.2947  0.1615  0.5828  0.4329  0.1621]\n",
            " [ 0.      0.4046  0.1956  0.1615  0.9529  0.2469  0.3758  1.0193]\n",
            " [ 0.      0.2835  0.3391  0.5828  0.2469  1.1186  0.0461 -0.0473]\n",
            " [ 0.      0.4614 -0.0238  0.4329  0.3758  0.0461  0.4055  0.4864]\n",
            " [ 0.      0.3577  0.2321  0.1621  1.0193 -0.0473  0.4864  1.3245]]\n",
            "\n",
            "R_1 = \n",
            "[[1.7493 1.7959 1.5142 1.3385 0.8129 1.3728 1.3412 1.0582]\n",
            " [0.     0.     0.     0.     0.     0.     0.     0.    ]\n",
            " [0.     0.     0.     0.     0.     0.     0.     0.    ]\n",
            " [0.     0.     0.     0.     0.     0.     0.     0.    ]\n",
            " [0.     0.     0.     0.     0.     0.     0.     0.    ]\n",
            " [0.     0.     0.     0.     0.     0.     0.     0.    ]\n",
            " [0.     0.     0.     0.     0.     0.     0.     0.    ]\n",
            " [0.     0.     0.     0.     0.     0.     0.     0.    ]]\n"
          ]
        }
      ],
      "source": [
        "print(\"A after first step = \")\n",
        "print(A)\n",
        "print()\n",
        "print(\"R_1 = \")\n",
        "print(R)"
      ]
    },
    {
      "cell_type": "markdown",
      "metadata": {
        "id": "v3iJRlYCCXAN"
      },
      "source": [
        "Now suppose we (somehow) obtained the next Cholesky decomposition $A_1 = P^\\top P$. Then we would have\n",
        "\\begin{align*}\n",
        "A &= \\begin{bmatrix}\n",
        "\\sqrt{a_{11}} & \\mathbf{0} \\\\\n",
        "\\frac{1}{\\sqrt{a_{11}}}\\mathbf{v} & I\n",
        "\\end{bmatrix}  \n",
        " \\begin{bmatrix}\n",
        "1 & \\mathbf{0}^\\top \\\\\n",
        "\\mathbf{0} & A_1\n",
        "\\end{bmatrix}   \n",
        " \\begin{bmatrix}\n",
        "\\sqrt{a_{11}} & \\frac{1}{\\sqrt{a_{11}}}\\mathbf{v}^\\top \\\\\n",
        "\\mathbf{0} & I\n",
        "\\end{bmatrix}  \\\\[5pt]\n",
        "&= \\begin{bmatrix}\n",
        "\\sqrt{a_{11}} & \\mathbf{0} \\\\\n",
        "\\frac{1}{\\sqrt{a_{11}}}\\mathbf{v} & I\n",
        "\\end{bmatrix}  \n",
        " \\begin{bmatrix}\n",
        "1 & \\mathbf{0}^\\top \\\\\n",
        "\\mathbf{0} & P^\\top\n",
        "\\end{bmatrix}  \n",
        " \\begin{bmatrix}\n",
        "1 & \\mathbf{0}^\\top \\\\\n",
        "\\mathbf{0} & P\n",
        "\\end{bmatrix}   \n",
        " \\begin{bmatrix}\n",
        "\\sqrt{a_{11}} & \\frac{1}{\\sqrt{a_{11}}}\\mathbf{v}^\\top \\\\\n",
        "\\mathbf{0} & I\n",
        "\\end{bmatrix}  \\\\[5pt]\n",
        "&= \\begin{bmatrix}\n",
        "\\sqrt{a_{11}} & \\mathbf{0} \\\\\n",
        "\\frac{1}{\\sqrt{a_{11}}}\\mathbf{v} & P^\\top\n",
        "\\end{bmatrix}     \n",
        " \\begin{bmatrix}\n",
        "\\sqrt{a_{11}} & \\frac{1}{\\sqrt{a_{11}}}\\mathbf{v}^\\top \\\\\n",
        "\\mathbf{0} & P\n",
        "\\end{bmatrix} .\n",
        "\\end{align*}\n",
        "\n",
        "\n",
        "\n"
      ]
    },
    {
      "cell_type": "markdown",
      "metadata": {
        "id": "XXRlCps9sL-e"
      },
      "source": [
        "In other words, we can just overwrite what we are going to further obtain in the remaining part of $R_1$, while leaving the first row as is.\n",
        "\n",
        "The next step to take is clear: we do the exact same thing we did with $A$ on $A_1$. For the vector $\\mathbf{w} \\in \\mathbb{R}^{n-2}$ and the symmetric matrix $B_2 \\in\\mathbb{R}^{(n-2)\\times (n-2)}$ that satisfy\n",
        "\\begin{align*}\n",
        "A_1 = \\begin{bmatrix}\n",
        "a_{22} & \\mathbf{w}^\\top \\\\\n",
        "\\mathbf{w} & B_2\n",
        "\\end{bmatrix},\n",
        "\\end{align*}\n",
        "we focus on the fact that\n",
        "\\begin{align*}\n",
        "A_1 = \\underbrace{\\begin{bmatrix}\n",
        "\\sqrt{a_{22}} & \\mathbf{0} \\\\\n",
        "\\frac{1}{\\sqrt{a_{22}}}\\mathbf{w} & I\n",
        "\\end{bmatrix}}_{R_2^\\top} \\\n",
        " \\begin{bmatrix}\n",
        "1 & \\mathbf{0}^\\top \\\\\n",
        "\\mathbf{0} & B_2 - \\frac{1}{a_{22}}\\mathbf{w}\\mathbf{w}^\\top\n",
        "\\end{bmatrix}   \\\n",
        "\\underbrace{\\begin{bmatrix}\n",
        "\\sqrt{a_{22}} & \\frac{1}{\\sqrt{a_{22}}}\\mathbf{w}^\\top \\\\\n",
        "\\mathbf{0} & I\n",
        "\\end{bmatrix}}_{R_2}.\n",
        "\\end{align*}\n",
        "Be aware that $a_{22}$ is not necessarily the original $(2, 2)$-entry of $A$."
      ]
    },
    {
      "cell_type": "code",
      "execution_count": 6,
      "metadata": {
        "id": "WTnLflNwCfPp"
      },
      "outputs": [],
      "source": [
        "R[1, 1] = np.sqrt(A[1, 1])\n",
        "R[1, 2:] = A[1, 2:] / np.sqrt(A[1, 1])\n",
        "\n",
        "A[2:, 2:] = A[2:, 2:] - np.outer(A[1, 2:], A[1, 2:]) / A[1, 1]\n",
        "\n",
        "A[1, 1] = 1   # Again, these three lines are not necessary,\n",
        "A[1, 2:] = 0  # because we will never revisit the second\n",
        "A[2:, 1] = 0  # rows and columns of *A* in the subsequent steps."
      ]
    },
    {
      "cell_type": "code",
      "execution_count": 7,
      "metadata": {
        "id": "PBRA31PUuiwh"
      },
      "outputs": [
        {
          "name": "stdout",
          "output_type": "stream",
          "text": [
            "A after second step = \n",
            "[[ 1.      0.      0.      0.      0.      0.      0.      0.    ]\n",
            " [ 0.      1.      0.      0.      0.      0.      0.      0.    ]\n",
            " [ 0.      0.      0.5531  0.2349  0.1193  0.2856 -0.1108  0.1646]\n",
            " [ 0.      0.      0.2349  0.7114 -0.1317  0.3773  0.0985 -0.0971]\n",
            " [ 0.      0.      0.1193 -0.1317  0.8055  0.1436  0.2077  0.889 ]\n",
            " [ 0.      0.      0.2856  0.3773  0.1436  1.0462 -0.0717 -0.1386]\n",
            " [ 0.      0.     -0.1108  0.0985  0.2077 -0.0717  0.2138  0.3378]\n",
            " [ 0.      0.      0.1646 -0.0971  0.889  -0.1386  0.3378  1.2092]]\n",
            "\n",
            "R after second step = \n",
            "[[1.7493 1.7959 1.5142 1.3385 0.8129 1.3728 1.3412 1.0582]\n",
            " [0.     1.0539 0.1987 0.7638 0.3839 0.269  0.4378 0.3395]\n",
            " [0.     0.     0.     0.     0.     0.     0.     0.    ]\n",
            " [0.     0.     0.     0.     0.     0.     0.     0.    ]\n",
            " [0.     0.     0.     0.     0.     0.     0.     0.    ]\n",
            " [0.     0.     0.     0.     0.     0.     0.     0.    ]\n",
            " [0.     0.     0.     0.     0.     0.     0.     0.    ]\n",
            " [0.     0.     0.     0.     0.     0.     0.     0.    ]]\n"
          ]
        }
      ],
      "source": [
        "print(\"A after second step = \")\n",
        "print(A)\n",
        "print()\n",
        "print(\"R after second step = \")\n",
        "print(R)"
      ]
    },
    {
      "cell_type": "markdown",
      "metadata": {
        "id": "-Nd1_vvvuicD"
      },
      "source": [
        "Noticing the similarity of the first and second step, and with some educated reasoning (which you should verify by yourself), we can put the whole step into a loop to obtain a code that performs the full Cholesky decomposition."
      ]
    },
    {
      "cell_type": "code",
      "execution_count": 8,
      "metadata": {
        "id": "CJq-3ztAvilk"
      },
      "outputs": [],
      "source": [
        "def cholesky(S):\n",
        "    A = np.copy(S)\n",
        "    n, _ = np.shape(A)\n",
        "    R = np.zeros((n, n))\n",
        "\n",
        "    for i in range(n):\n",
        "        if A[i, i] < 0 :\n",
        "            # a safeguard for when *A* is not positive definite\n",
        "            raise ValueError(\"The input matrix seems to be not positive definite.\")\n",
        "\n",
        "        R[i, i] = np.sqrt(A[i, i])\n",
        "        R[i, i+1:] = A[i, i+1:] / np.sqrt(A[i, i])\n",
        "\n",
        "        A[i+1:, i+1:] = A[i+1:, i+1:] - np.outer(A[i, i+1:], A[i, i+1:]) / A[i, i]\n",
        "\n",
        "    return R"
      ]
    },
    {
      "cell_type": "code",
      "execution_count": 9,
      "metadata": {
        "id": "IzTUSrgJvtq0"
      },
      "outputs": [
        {
          "name": "stdout",
          "output_type": "stream",
          "text": [
            "[[ 1.7493  1.7959  1.5142  1.3385  0.8129  1.3728  1.3412  1.0582]\n",
            " [ 0.      1.0539  0.1987  0.7638  0.3839  0.269   0.4378  0.3395]\n",
            " [ 0.      0.      0.7437  0.3159  0.1605  0.384  -0.149   0.2214]\n",
            " [ 0.      0.      0.      0.782  -0.2332  0.3274  0.1861 -0.2136]\n",
            " [ 0.      0.      0.      0.      0.8517  0.1859  0.3229  0.9436]\n",
            " [ 0.      0.      0.      0.      0.      0.87   -0.1557 -0.3784]\n",
            " [ 0.      0.      0.      0.      0.      0.      0.1689  0.2779]\n",
            " [ 0.      0.      0.      0.      0.      0.      0.      0.0611]]\n"
          ]
        }
      ],
      "source": [
        "R = cholesky(S)\n",
        "print(R)"
      ]
    },
    {
      "cell_type": "markdown",
      "metadata": {
        "id": "FPzwcKi9v39t"
      },
      "source": [
        "Notice that this implementation overwrites the entries of $A$ during the computation. This is why we store the generated positive symmetric matrix in the variable `S`, and make a copy `A` of the matrix when performing the Cholesky decomposition.\n",
        "\n",
        "&nbsp;\n",
        "\n",
        "Except for that issue, we can see, as in below, that the Cholesky decomposition itself is nicely done."
      ]
    },
    {
      "cell_type": "code",
      "execution_count": 10,
      "metadata": {
        "id": "ajNbmP55vu0_"
      },
      "outputs": [
        {
          "data": {
            "text/plain": [
              "True"
            ]
          },
          "execution_count": 10,
          "metadata": {},
          "output_type": "execute_result"
        }
      ],
      "source": [
        "np.all(np.isclose(R.T @ R, S))"
      ]
    },
    {
      "cell_type": "markdown",
      "metadata": {
        "id": "HEmoVQTx08Bm"
      },
      "source": [
        "\n",
        "&nbsp;\n",
        "\n",
        "---\n",
        "\n",
        ">As a side note, be careful that all entries of $A$ being positive does not necessarily imply that $A$ is positive definite.\n",
        ">A simple counterexample is\n",
        "\\begin{align*}\n",
        "A = \\begin{bmatrix}\n",
        "1 & 2 \\\\ 2 & 1\n",
        "\\end{bmatrix}.\n",
        "\\end{align*}\n",
        ">\n",
        ">Unless you have a well-founded reason (*e.g.*, a diaonal entry is negative), you should probably avoid making guesses about the positive definiteness of a matrix from how it looks like."
      ]
    },
    {
      "cell_type": "code",
      "execution_count": 11,
      "metadata": {
        "id": "MNgzGDpq2xVx"
      },
      "outputs": [
        {
          "name": "stdout",
          "output_type": "stream",
          "text": [
            "The input matrix seems to be not positive definite.\n"
          ]
        }
      ],
      "source": [
        "A = np.array([[1.0, 2.0],\n",
        "              [2.0, 1.0]])\n",
        "\n",
        "try:\n",
        "    # If *A* is positive definite, then *R* will be computed without errors.\n",
        "    # We first \"try\" to see if the code can be executed without errors or not.\n",
        "    R = cholesky(A)\n",
        "except ValueError as msg:\n",
        "    # If *A* is not positive definite, then the safeguard will kick in,\n",
        "    # raising an error. This is a technical feature of python,\n",
        "    # and just understand that this part prints out the error message.\n",
        "    print(msg)\n"
      ]
    },
    {
      "cell_type": "markdown",
      "metadata": {
        "id": "zRRrcSoc43ml"
      },
      "source": [
        "\n",
        "\n",
        "---\n",
        "\n",
        "&nbsp;\n",
        "\n",
        "Of course, in real life, you almost never implement the Cholesky factorization by yourself. For instance, you can use the NumPy function `numpy.linalg.cholesky`.\n",
        "\n",
        "However, when using such functions, you should always be aware of how they work: `numpy.linalg.cholesky` computes a variant of the Cholesky decomposition we know, $A = LL^\\top$, where $L$ is a lower triangular matrix."
      ]
    },
    {
      "cell_type": "code",
      "execution_count": 12,
      "metadata": {
        "id": "998Y_tYi3BqN"
      },
      "outputs": [
        {
          "name": "stdout",
          "output_type": "stream",
          "text": [
            "[[ 1.7493  0.      0.      0.      0.      0.      0.      0.    ]\n",
            " [ 1.7959  1.0539  0.      0.      0.      0.      0.      0.    ]\n",
            " [ 1.5142  0.1987  0.7437  0.      0.      0.      0.      0.    ]\n",
            " [ 1.3385  0.7638  0.3159  0.782   0.      0.      0.      0.    ]\n",
            " [ 0.8129  0.3839  0.1605 -0.2332  0.8517  0.      0.      0.    ]\n",
            " [ 1.3728  0.269   0.384   0.3274  0.1859  0.87    0.      0.    ]\n",
            " [ 1.3412  0.4378 -0.149   0.1861  0.3229 -0.1557  0.1689  0.    ]\n",
            " [ 1.0582  0.3395  0.2214 -0.2136  0.9436 -0.3784  0.2779  0.0611]]\n"
          ]
        }
      ],
      "source": [
        "L = np.linalg.cholesky(S)\n",
        "print(L)"
      ]
    },
    {
      "cell_type": "markdown",
      "metadata": {
        "id": "oXdAhy24DRyh"
      },
      "source": [
        "But of course, one can show that $L = R^\\top$ always holds. (Can you see why?)"
      ]
    }
  ],
  "metadata": {
    "colab": {
      "provenance": []
    },
    "kernelspec": {
      "display_name": "Python 3",
      "name": "python3"
    },
    "language_info": {
      "codemirror_mode": {
        "name": "ipython",
        "version": 3
      },
      "file_extension": ".py",
      "mimetype": "text/x-python",
      "name": "python",
      "nbconvert_exporter": "python",
      "pygments_lexer": "ipython3",
      "version": "3.11.7"
    }
  },
  "nbformat": 4,
  "nbformat_minor": 0
}
