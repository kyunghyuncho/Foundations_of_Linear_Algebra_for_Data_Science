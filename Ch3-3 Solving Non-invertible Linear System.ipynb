{
 "cells": [
  {
   "cell_type": "markdown",
   "metadata": {},
   "source": [
    "# Chapter 3 Solving Non-invertible Linear System\n",
    "\n",
    "Let us solve $A x = b$ when $A$ is non-square or not of full rank. We will use $LU$-decomposition."
   ]
  },
  {
   "cell_type": "code",
   "execution_count": 1,
   "metadata": {},
   "outputs": [],
   "source": [
    "# numerical and scientific computing libraries  \n",
    "import numpy as np \n",
    "import scipy as sp\n",
    "\n",
    "# plotting libraries\n",
    "import matplotlib as mpl\n",
    "import matplotlib.pyplot as plt\n",
    "import seaborn as sns"
   ]
  },
  {
   "cell_type": "code",
   "execution_count": 2,
   "metadata": {},
   "outputs": [],
   "source": [
    "# for pretty printing\n",
    "np.set_printoptions(4, linewidth=100, suppress=True)"
   ]
  },
  {
   "cell_type": "code",
   "execution_count": 3,
   "metadata": {},
   "outputs": [],
   "source": [
    "# create a random matrix of size m x n with the rank <= k <= min(m, n).\n",
    "def create_random_matrix(m: int, n: int, k: int) -> np.ndarray:\n",
    "    if k > min(m, n):\n",
    "        raise ValueError(\"k must be less than or equal to min(n, m)\")\n",
    "    A = np.random.randn(m, k)\n",
    "    B = np.random.randn(k, n)\n",
    "    return A@B"
   ]
  },
  {
   "cell_type": "markdown",
   "metadata": {},
   "source": [
    "To find a null space of a matrix $A$, we apply $LU$-decomposition to $A$. Since the null spaces of $A$ and $U$ coincide, we find a null space of the upper triangular matrix $U$. We characterize the pivot entries by searching the first non-zero element in each row of $U$, and then remaining variables are free ones."
   ]
  },
  {
   "cell_type": "code",
   "execution_count": 4,
   "metadata": {},
   "outputs": [],
   "source": [
    "def solve_Ax_b(A, b):\n",
    "    m = A.shape[0]\n",
    "    n = A.shape[1]\n",
    "    Aaug = np.hstack((A,-b))\n",
    "    # LU-decomposition\n",
    "    P, L, U = sp.linalg.lu(Aaug)\n",
    "    print(U)\n",
    "\n",
    "    # find pivot entries\n",
    "    epsilon = 10**(-10)     # Setting epsilon for negligibles\n",
    "    pivot = n+1\n",
    "    rank_u = 0\n",
    "    pivots = []\n",
    "    while pivot >= 0:\n",
    "        non_zero_indices = np.nonzero(U[rank_u,:]**2 > epsilon)\n",
    "        if np.size(non_zero_indices) == 0 or pivot == non_zero_indices[0][0]:\n",
    "            pivot = -1\n",
    "        else:\n",
    "            pivot = non_zero_indices[0][0]\n",
    "            pivots.append(pivot)\n",
    "            rank_u += 1\n",
    "\n",
    "    print('Rank = ', rank_u)\n",
    "    print('Pivot variables = ', np.int64(pivots))\n",
    "\n",
    "    if n in pivots:\n",
    "        print(\"The linear system is infeasible since right hand b increases the rank.\")\n",
    "        return\n",
    "    \n",
    "    # find column indices of free variables\n",
    "    free_variables = np.sort(list(set(range(Aaug.shape[1]))- set(pivots)))\n",
    "    print(\"Free variables = \", free_variables)\n",
    "\n",
    "    # Collect pivot columns and free variables\n",
    "    U_pivot = U[:rank_u, pivots]\n",
    "    print('pivot columns of U = ')\n",
    "    print(U_pivot)\n",
    "    U_free = U[:rank_u, free_variables]\n",
    "    print('free variable columns of U = ')\n",
    "    print(U_free)\n",
    "\n",
    "    # Solve for the pivot part of a basis of the null space of A\n",
    "    X_pivot = np.linalg.solve(U_pivot,-U_free)\n",
    "    print('pivot part of X = ')\n",
    "    print(X_pivot)\n",
    "\n",
    "    # remove the right hand b from free variables\n",
    "    free_variables = free_variables[:-1]\n",
    "\n",
    "    # Combine pivot part and free variable part\n",
    "    X = np.hstack((np.eye(n)[:,free_variables], np.zeros(n).reshape(-1,1)))\n",
    "    X[pivots,:] = X_pivot\n",
    "    print('X = ')\n",
    "    print(X)\n",
    "\n",
    "    print(np.allclose(A @ X, np.hstack((np.zeros((m,n-rank_u)),b))))    "
   ]
  },
  {
   "cell_type": "code",
   "execution_count": 8,
   "metadata": {},
   "outputs": [
    {
     "name": "stdout",
     "output_type": "stream",
     "text": [
      "[[-1.8963  1.6811  2.0488 -1.902  -2.6902 -0.5566  1.7623 -0.3202  0.3675 -1.8738 -0.3962  8.4896]\n",
      " [ 0.      4.9107 -0.3431 -2.5934 -1.2775 -1.1573  1.081  -2.0346  1.9933 -2.0491 -1.0109  8.6957]\n",
      " [ 0.      0.     -3.7365 -0.6424 -3.5679 -4.1025 -4.4956 -2.9216 -0.119  -1.4232  3.3604  2.9159]\n",
      " [ 0.      0.      0.     -5.2251 -6.4388 -1.7695 -4.1316 -2.8828  4.2659 -4.0031  1.4477  6.8618]\n",
      " [ 0.      0.      0.      0.      2.7695  1.4004  5.3082 -2.7757 -2.4787 -0.7821  0.79   -0.199 ]\n",
      " [ 0.      0.      0.      0.      0.     -1.2521  3.0551 -3.8681 -2.9574 -1.6164  1.6879  1.8176]\n",
      " [ 0.      0.      0.      0.      0.      0.      2.1399 -1.2648  0.8049 -2.9113  0.8441  6.1059]\n",
      " [ 0.      0.      0.      0.      0.      0.      0.      0.      0.     -0.     -0.      0.    ]\n",
      " [ 0.      0.      0.      0.      0.      0.      0.      0.      0.     -0.      0.      0.    ]\n",
      " [ 0.      0.      0.      0.      0.      0.      0.      0.      0.     -0.      0.      0.    ]]\n",
      "Rank =  7\n",
      "Pivot variables =  [0 1 2 3 4 5 6]\n",
      "Free variables =  [ 7  8  9 10 11]\n",
      "pivot columns of U = \n",
      "[[-1.8963  1.6811  2.0488 -1.902  -2.6902 -0.5566  1.7623]\n",
      " [ 0.      4.9107 -0.3431 -2.5934 -1.2775 -1.1573  1.081 ]\n",
      " [ 0.      0.     -3.7365 -0.6424 -3.5679 -4.1025 -4.4956]\n",
      " [ 0.      0.      0.     -5.2251 -6.4388 -1.7695 -4.1316]\n",
      " [ 0.      0.      0.      0.      2.7695  1.4004  5.3082]\n",
      " [ 0.      0.      0.      0.      0.     -1.2521  3.0551]\n",
      " [ 0.      0.      0.      0.      0.      0.      2.1399]]\n",
      "free variable columns of U = \n",
      "[[-0.3202  0.3675 -1.8738 -0.3962  8.4896]\n",
      " [-2.0346  1.9933 -2.0491 -1.0109  8.6957]\n",
      " [-2.9216 -0.119  -1.4232  3.3604  2.9159]\n",
      " [-2.8828  4.2659 -4.0031  1.4477  6.8618]\n",
      " [-2.7757 -2.4787 -0.7821  0.79   -0.199 ]\n",
      " [-3.8681 -2.9574 -1.6164  1.6879  1.8176]\n",
      " [-1.2648  0.8049 -2.9113  0.8441  6.1059]]\n",
      "pivot part of X = \n",
      "[[ 0.5019 -1.7086  1.8258  0.022  -2.4448]\n",
      " [-0.6307 -1.116   0.4771  0.5645 -2.6041]\n",
      " [-0.1271  1.2063 -1.3204  0.6668  3.1419]\n",
      " [-1.3266 -1.8104  1.6005  0.1185 -4.8261]\n",
      " [ 0.7022  3.2744 -3.3511  0.2758  8.3276]\n",
      " [-1.6471 -3.2798  2.0287  0.3856 -5.5108]\n",
      " [ 0.5911 -0.3761  1.3605 -0.3945 -2.8534]]\n",
      "X = \n",
      "[[ 0.5019 -1.7086  1.8258  0.022  -2.4448]\n",
      " [-0.6307 -1.116   0.4771  0.5645 -2.6041]\n",
      " [-0.1271  1.2063 -1.3204  0.6668  3.1419]\n",
      " [-1.3266 -1.8104  1.6005  0.1185 -4.8261]\n",
      " [ 0.7022  3.2744 -3.3511  0.2758  8.3276]\n",
      " [-1.6471 -3.2798  2.0287  0.3856 -5.5108]\n",
      " [ 0.5911 -0.3761  1.3605 -0.3945 -2.8534]\n",
      " [ 1.      0.      0.      0.      0.    ]\n",
      " [ 0.      1.      0.      0.      0.    ]\n",
      " [ 0.      0.      1.      0.      0.    ]\n",
      " [ 0.      0.      0.      1.      0.    ]]\n",
      "True\n"
     ]
    }
   ],
   "source": [
    "# Setting solvability\n",
    "solvable = 1\n",
    "# Setting parameters\n",
    "m=10\n",
    "n=11\n",
    "k=7\n",
    "# generate an mxn matrix of rank at most k\n",
    "A = create_random_matrix(m, n, k)\n",
    "if solvable:\n",
    "    b = A @ np.random.randn(n,1)\n",
    "else:\n",
    "    b = np.random.randn(m,1)\n",
    "    \n",
    "solve_Ax_b(A,b)"
   ]
  },
  {
   "cell_type": "code",
   "execution_count": null,
   "metadata": {},
   "outputs": [],
   "source": []
  }
 ],
 "metadata": {
  "kernelspec": {
   "display_name": "linear_algebra",
   "language": "python",
   "name": "python3"
  },
  "language_info": {
   "codemirror_mode": {
    "name": "ipython",
    "version": 3
   },
   "file_extension": ".py",
   "mimetype": "text/x-python",
   "name": "python",
   "nbconvert_exporter": "python",
   "pygments_lexer": "ipython3",
   "version": "3.12.9"
  }
 },
 "nbformat": 4,
 "nbformat_minor": 2
}
