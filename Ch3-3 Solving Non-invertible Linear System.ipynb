{
 "cells": [
  {
   "cell_type": "markdown",
   "metadata": {},
   "source": [
    "# Chapter 3 Solving Non-invertible Linear System\n",
    "\n",
    "Let us solve $A x = b$ when $A$ is non-square or not of full rank. We will use $LU$-decomposition."
   ]
  },
  {
   "cell_type": "code",
   "execution_count": 1,
   "metadata": {},
   "outputs": [],
   "source": [
    "# numerical and scientific computing libraries  \n",
    "import numpy as np \n",
    "import scipy as sp\n",
    "\n",
    "# plotting libraries\n",
    "import matplotlib as mpl\n",
    "import matplotlib.pyplot as plt\n",
    "import seaborn as sns"
   ]
  },
  {
   "cell_type": "code",
   "execution_count": 2,
   "metadata": {},
   "outputs": [],
   "source": [
    "# for pretty printing\n",
    "np.set_printoptions(4, linewidth=100, suppress=True)"
   ]
  },
  {
   "cell_type": "code",
   "execution_count": 3,
   "metadata": {},
   "outputs": [],
   "source": [
    "# create a random matrix of size m x n with the rank <= k <= min(m, n).\n",
    "def create_random_matrix(m: int, n: int, k: int) -> np.ndarray:\n",
    "    if k > min(m, n):\n",
    "        raise ValueError(\"k must be less than or equal to min(n, m)\")\n",
    "    A = np.random.randn(m, k)\n",
    "    B = np.random.randn(k, n)\n",
    "    return A@B"
   ]
  },
  {
   "cell_type": "markdown",
   "metadata": {},
   "source": [
    "To find a null space of a matrix $A$, we apply $LU$-decomposition to $A$. Since the null spaces of $A$ and $U$ coincide, we find a null space of the upper triangular matrix $U$. We characterize the pivot entries by searching the first non-zero element in each row of $U$, and then remaining variables are free ones."
   ]
  },
  {
   "cell_type": "code",
   "execution_count": 20,
   "metadata": {},
   "outputs": [],
   "source": [
    "def solve_Ax_b(A, b):\n",
    "    m = A.shape[0]\n",
    "    n = A.shape[1]\n",
    "    Aaug = np.hstack((A,-b))\n",
    "    # LU-decomposition\n",
    "    P, L, U = sp.linalg.lu(Aaug)\n",
    "    print(U)\n",
    "\n",
    "    # find pivot entries\n",
    "    epsilon = 10**(-10)     # Setting epsilon for negligibles\n",
    "    pivot = n+1\n",
    "    rank_u = 0\n",
    "    pivots = []\n",
    "    while pivot >= 0:\n",
    "        non_zero_indices = np.nonzero(U[rank_u,:]**2 > epsilon)\n",
    "        if np.size(non_zero_indices) == 0 or pivot == non_zero_indices[0][0] or rank_u ==n:\n",
    "            pivot = -1\n",
    "        else:\n",
    "            pivot = non_zero_indices[0][0]\n",
    "            pivots.append(pivot)\n",
    "            rank_u += 1\n",
    "\n",
    "    print('Rank = ', rank_u)\n",
    "    print('Pivot variables = ', np.int64(pivots))\n",
    "\n",
    "    if n in pivots:\n",
    "        print(\"The linear system is infeasible since right hand b increases the rank.\")\n",
    "        return\n",
    "    \n",
    "    # find column indices of free variables\n",
    "    free_variables = np.sort(list(set(range(Aaug.shape[1]))- set(pivots)))\n",
    "    print(\"Free variables = \", free_variables)\n",
    "\n",
    "    # Collect pivot columns and free variables\n",
    "    U_pivot = U[:rank_u, pivots]\n",
    "    print('pivot columns of U = ')\n",
    "    print(U_pivot)\n",
    "    U_free = U[:rank_u, free_variables]\n",
    "    print('free variable columns of U = ')\n",
    "    print(U_free)\n",
    "\n",
    "    # Solve for the pivot part of a basis of the null space of A\n",
    "    X_pivot = np.linalg.solve(U_pivot,-U_free)\n",
    "    print('pivot part of X = ')\n",
    "    print(X_pivot)\n",
    "\n",
    "    # remove the right hand b from free variables\n",
    "    free_variables = free_variables[:-1]\n",
    "\n",
    "    # Combine pivot part and free variable part\n",
    "    X = np.hstack((np.eye(n)[:,free_variables], np.zeros(n).reshape(-1,1)))\n",
    "    X[pivots,:] = X_pivot\n",
    "    print('X = ')\n",
    "    print(X)\n",
    "\n",
    "    return np.allclose(A @ X, np.hstack((np.zeros((m,n-rank_u)),b)))"
   ]
  },
  {
   "cell_type": "markdown",
   "metadata": {},
   "source": [
    "Let us test the function solving $A\\mathbf{x} = \\mathbf{b}$ even when $A$ is not invertible."
   ]
  },
  {
   "cell_type": "code",
   "execution_count": 22,
   "metadata": {},
   "outputs": [
    {
     "name": "stdout",
     "output_type": "stream",
     "text": [
      "The linear system is solvable.\n",
      "[[ 1.2392  0.9547  0.3376 -0.7368  0.6441 -0.6846  0.1336 -0.4067 -0.5243  1.5362  4.1856]\n",
      " [ 0.      3.0819  1.1132  0.243   0.8299 -0.7088  0.4841  1.1428  1.3107  1.1302  8.1754]\n",
      " [ 0.      0.     -1.1114  0.4801 -1.8628 -0.5116  0.3692  1.4007  2.8564 -0.3386 -6.3512]\n",
      " [ 0.      0.      0.     -1.3032  0.2586 -1.0523 -0.0476 -0.6028  0.4584  0.0143 -1.1073]\n",
      " [ 0.      0.      0.      0.     -2.0964  1.2983 -1.1501  0.2681  0.2018  0.4348 -2.3052]\n",
      " [ 0.      0.      0.      0.      0.     -1.7065 -0.6517  0.2828  2.083  -1.8591 -6.0103]\n",
      " [ 0.      0.      0.      0.      0.      0.      1.6473 -1.5365 -2.3535  2.4683  7.2175]\n",
      " [ 0.      0.      0.      0.      0.      0.      0.     -3.6886 -3.4437  2.1257  6.9769]\n",
      " [ 0.      0.      0.      0.      0.      0.      0.      0.     -1.5295 -0.1968  0.3746]\n",
      " [ 0.      0.      0.      0.      0.      0.      0.      0.      0.      1.774   2.6775]\n",
      " [ 0.      0.      0.      0.      0.      0.      0.      0.      0.      0.     -0.    ]]\n",
      "Rank =  10\n",
      "Pivot variables =  [0 1 2 3 4 5 6 7 8 9]\n",
      "Free variables =  [10]\n",
      "pivot columns of U = \n",
      "[[ 1.2392  0.9547  0.3376 -0.7368  0.6441 -0.6846  0.1336 -0.4067 -0.5243  1.5362]\n",
      " [ 0.      3.0819  1.1132  0.243   0.8299 -0.7088  0.4841  1.1428  1.3107  1.1302]\n",
      " [ 0.      0.     -1.1114  0.4801 -1.8628 -0.5116  0.3692  1.4007  2.8564 -0.3386]\n",
      " [ 0.      0.      0.     -1.3032  0.2586 -1.0523 -0.0476 -0.6028  0.4584  0.0143]\n",
      " [ 0.      0.      0.      0.     -2.0964  1.2983 -1.1501  0.2681  0.2018  0.4348]\n",
      " [ 0.      0.      0.      0.      0.     -1.7065 -0.6517  0.2828  2.083  -1.8591]\n",
      " [ 0.      0.      0.      0.      0.      0.      1.6473 -1.5365 -2.3535  2.4683]\n",
      " [ 0.      0.      0.      0.      0.      0.      0.     -3.6886 -3.4437  2.1257]\n",
      " [ 0.      0.      0.      0.      0.      0.      0.      0.     -1.5295 -0.1968]\n",
      " [ 0.      0.      0.      0.      0.      0.      0.      0.      0.      1.774 ]]\n",
      "free variable columns of U = \n",
      "[[ 4.1856]\n",
      " [ 8.1754]\n",
      " [-6.3512]\n",
      " [-1.1073]\n",
      " [-2.3052]\n",
      " [-6.0103]\n",
      " [ 7.2175]\n",
      " [ 6.9769]\n",
      " [ 0.3746]\n",
      " [ 2.6775]]\n",
      "pivot part of X = \n",
      "[[ 0.5471]\n",
      " [-1.7271]\n",
      " [-1.2325]\n",
      " [-0.5091]\n",
      " [-1.3365]\n",
      " [-0.8882]\n",
      " [-0.922 ]\n",
      " [ 0.6117]\n",
      " [ 0.4391]\n",
      " [-1.5093]]\n",
      "X = \n",
      "[[ 0.5471]\n",
      " [-1.7271]\n",
      " [-1.2325]\n",
      " [-0.5091]\n",
      " [-1.3365]\n",
      " [-0.8882]\n",
      " [-0.922 ]\n",
      " [ 0.6117]\n",
      " [ 0.4391]\n",
      " [-1.5093]]\n"
     ]
    },
    {
     "data": {
      "text/plain": [
       "True"
      ]
     },
     "execution_count": 22,
     "metadata": {},
     "output_type": "execute_result"
    }
   ],
   "source": [
    "# Setting solvability\n",
    "solvable = 1   # 1 for solvable, 0 for unsolvable\n",
    "if solvable:\n",
    "    print(\"The linear system is solvable.\")\n",
    "else:\n",
    "    print(\"The linear system is unsolvable.\")\n",
    "# Setting parameters\n",
    "m=12\n",
    "n=10\n",
    "k=7\n",
    "# generate an mxn matrix of rank at most k\n",
    "A = create_random_matrix(m, n, k)\n",
    "A = np.random.randn(m, n)\n",
    "if solvable:\n",
    "    b = A @ np.random.randn(n,1)\n",
    "else:\n",
    "    b = np.random.randn(m,1)\n",
    "    \n",
    "solve_Ax_b(A,b)"
   ]
  },
  {
   "cell_type": "code",
   "execution_count": null,
   "metadata": {},
   "outputs": [],
   "source": []
  }
 ],
 "metadata": {
  "kernelspec": {
   "display_name": "linear_algebra",
   "language": "python",
   "name": "python3"
  },
  "language_info": {
   "codemirror_mode": {
    "name": "ipython",
    "version": 3
   },
   "file_extension": ".py",
   "mimetype": "text/x-python",
   "name": "python",
   "nbconvert_exporter": "python",
   "pygments_lexer": "ipython3",
   "version": "3.12.9"
  }
 },
 "nbformat": 4,
 "nbformat_minor": 2
}
