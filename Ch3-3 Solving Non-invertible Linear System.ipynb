{
 "cells": [
  {
   "cell_type": "markdown",
   "metadata": {},
   "source": [
    "# Chapter 3 Solving Non-invertible Linear System\n",
    "\n",
    "Let us solve $A x = b$ when $A$ is non-square or not of full rank. We will use $LU$-decomposition."
   ]
  },
  {
   "cell_type": "code",
   "execution_count": 21,
   "metadata": {},
   "outputs": [],
   "source": [
    "# numerical and scientific computing libraries  \n",
    "import numpy as np \n",
    "import scipy as sp\n",
    "\n",
    "# plotting libraries\n",
    "import matplotlib as mpl\n",
    "import matplotlib.pyplot as plt\n",
    "import seaborn as sns"
   ]
  },
  {
   "cell_type": "code",
   "execution_count": 22,
   "metadata": {},
   "outputs": [],
   "source": [
    "# for pretty printing\n",
    "np.set_printoptions(4, linewidth=100, suppress=True)"
   ]
  },
  {
   "cell_type": "code",
   "execution_count": 23,
   "metadata": {},
   "outputs": [],
   "source": [
    "# create a random matrix of size m x n with the rank <= k <= min(m, n).\n",
    "def create_random_matrix(m: int, n: int, k: int) -> np.ndarray:\n",
    "    if k > min(m, n):\n",
    "        raise ValueError(\"k must be less than or equal to min(n, m)\")\n",
    "    A = np.random.randn(m, k)\n",
    "    B = np.random.randn(k, n)\n",
    "    return A@B"
   ]
  },
  {
   "cell_type": "markdown",
   "metadata": {},
   "source": [
    "To find a null space of a matrix $A$, we apply $LU$-decomposition to $A$. Since the null spaces of $A$ and $U$ coincide, we find a null space of the upper triangular matrix $U$. We characterize the pivot entries by searching the first non-zero element in each row of $U$, and then remaining variables are free ones."
   ]
  },
  {
   "cell_type": "code",
   "execution_count": 149,
   "metadata": {},
   "outputs": [],
   "source": [
    "def solve_Ax_b(A, b):\n",
    "    m = A.shape[0]\n",
    "    n = A.shape[1]\n",
    "    Aaug = np.hstack((A,-b))\n",
    "    # LU-decomposition\n",
    "    P, L, U = sp.linalg.lu(Aaug)\n",
    "    print(U)\n",
    "\n",
    "    # find pivot entries\n",
    "    epsilon = 10**(-10)     # Setting epsilon for negligibles\n",
    "    pivot = n+1\n",
    "    rank_u = 0\n",
    "    pivots = []\n",
    "    while pivot >= 0:\n",
    "        non_zero_indices = np.nonzero(U[rank_u,:]**2 > epsilon)\n",
    "        if np.size(non_zero_indices) == 0 or pivot == non_zero_indices[0][0]:\n",
    "            pivot = -1\n",
    "        else:\n",
    "            pivot = non_zero_indices[0][0]\n",
    "            pivots.append(pivot)\n",
    "            rank_u += 1\n",
    "\n",
    "    print('Rank = ')\n",
    "    print(rank_u)\n",
    "    print('Pivot variables =')\n",
    "    print(np.int64(pivots))\n",
    "\n",
    "    if n in pivots:\n",
    "        print(\"The linear system is infeasible since right hand b increases the rank.\")\n",
    "        return\n",
    "    \n",
    "    # find column indices of free variables\n",
    "    free_variables = np.sort(list(set(range(Aaug.shape[1]))- set(pivots)))\n",
    "    print(\"Free variables =\")\n",
    "    print(free_variables)\n",
    "\n",
    "    # Collect pivot columns and free variables\n",
    "    U_pivot = U[:rank_u, pivots]\n",
    "    print('pivot columns of U = ')\n",
    "    print(U_pivot)\n",
    "    U_free = U[:rank_u, free_variables]\n",
    "    print('free variable columns of U = ')\n",
    "    print(U_free)\n",
    "\n",
    "    # Solve for the pivot part of a basis of the null space of A\n",
    "    X_pivot = np.linalg.solve(U_pivot,-U_free)\n",
    "    print('pivot part of X = ')\n",
    "    print(X_pivot)\n",
    "\n",
    "    # remove the right hand b from free variables\n",
    "    free_variables = free_variables[:-1]\n",
    "\n",
    "    # Combine pivot part and free variable part\n",
    "    X = np.hstack((np.eye(n)[:,free_variables], np.zeros(n).reshape(-1,1)))\n",
    "    X[pivots,:] = X_pivot\n",
    "    print('X = ')\n",
    "    print(X)\n",
    "\n",
    "    print(np.allclose(A @ X, np.hstack((np.zeros((m,n-rank_u)),b))))    "
   ]
  },
  {
   "cell_type": "code",
   "execution_count": 160,
   "metadata": {},
   "outputs": [
    {
     "name": "stdout",
     "output_type": "stream",
     "text": [
      "[[-5.208  -1.7143 -1.3894 -3.419  -0.4245  2.5248  0.0874 -3.7586 -0.6346 -3.308  -2.5765 -9.6977]\n",
      " [ 0.     -6.1267 -3.4656  1.1619 -1.2636  2.0176  0.1154 -2.5634 -1.9196 -1.7937 -5.0378 -3.354 ]\n",
      " [ 0.      0.      6.4203  1.1635  2.6316 -3.0769 -4.4004  3.6119 -0.4827  2.1537  7.9478  5.9465]\n",
      " [ 0.      0.      0.      2.9756  2.3883  2.4271  3.0355 -2.0229 -0.8887 -0.4646  0.1042 -6.4807]\n",
      " [ 0.      0.      0.      0.     -1.1239 -1.6551  1.6421 -0.8081 -1.3801 -0.141   0.0658 -0.2473]\n",
      " [ 0.      0.      0.      0.      0.      1.7144  1.3445 -4.0956  0.3604 -2.5856 -1.4832 -4.5061]\n",
      " [ 0.      0.      0.      0.      0.      0.     -3.5075  6.631   1.575   5.9563  4.7265  9.3414]\n",
      " [ 0.      0.      0.      0.      0.      0.      0.      0.      0.      0.      0.      0.    ]\n",
      " [ 0.      0.      0.      0.      0.      0.      0.      0.      0.      0.      0.      0.    ]\n",
      " [ 0.      0.      0.      0.      0.      0.      0.      0.      0.     -0.      0.      0.    ]]\n",
      "Rank = \n",
      "7\n",
      "Pivot variables =\n",
      "[0 1 2 3 4 5 6]\n",
      "Free variables =\n",
      "[ 7  8  9 10 11]\n",
      "pivot columns of U = \n",
      "[[-5.208  -1.7143 -1.3894 -3.419  -0.4245  2.5248  0.0874]\n",
      " [ 0.     -6.1267 -3.4656  1.1619 -1.2636  2.0176  0.1154]\n",
      " [ 0.      0.      6.4203  1.1635  2.6316 -3.0769 -4.4004]\n",
      " [ 0.      0.      0.      2.9756  2.3883  2.4271  3.0355]\n",
      " [ 0.      0.      0.      0.     -1.1239 -1.6551  1.6421]\n",
      " [ 0.      0.      0.      0.      0.      1.7144  1.3445]\n",
      " [ 0.      0.      0.      0.      0.      0.     -3.5075]]\n",
      "free variable columns of U = \n",
      "[[-3.7586 -0.6346 -3.308  -2.5765 -9.6977]\n",
      " [-2.5634 -1.9196 -1.7937 -5.0378 -3.354 ]\n",
      " [ 3.6119 -0.4827  2.1537  7.9478  5.9465]\n",
      " [-2.0229 -0.8887 -0.4646  0.1042 -6.4807]\n",
      " [-0.8081 -1.3801 -0.141   0.0658 -0.2473]\n",
      " [-4.0956  0.3604 -2.5856 -1.4832 -4.5061]\n",
      " [ 6.631   1.575   5.9563  4.7265  9.3414]]\n",
      "pivot part of X = \n",
      "[[ 1.4975 -0.2957  1.909   1.9841  0.8276]\n",
      " [-1.4736 -0.5203 -1.6595 -1.4789 -1.8614]\n",
      " [ 1.3405 -0.0085  0.6705 -0.7898  0.5748]\n",
      " [-2.5568  0.0936 -3.4024 -3.1073 -3.2879]\n",
      " [ 0.7085  0.2562  2.096   2.3097  2.8763]\n",
      " [ 0.9063 -0.5623  0.1764 -0.1917  0.5398]\n",
      " [ 1.8905  0.4491  1.6982  1.3476  2.6633]]\n",
      "X = \n",
      "[[ 1.4975 -0.2957  1.909   1.9841  0.8276]\n",
      " [-1.4736 -0.5203 -1.6595 -1.4789 -1.8614]\n",
      " [ 1.3405 -0.0085  0.6705 -0.7898  0.5748]\n",
      " [-2.5568  0.0936 -3.4024 -3.1073 -3.2879]\n",
      " [ 0.7085  0.2562  2.096   2.3097  2.8763]\n",
      " [ 0.9063 -0.5623  0.1764 -0.1917  0.5398]\n",
      " [ 1.8905  0.4491  1.6982  1.3476  2.6633]\n",
      " [ 1.      0.      0.      0.      0.    ]\n",
      " [ 0.      1.      0.      0.      0.    ]\n",
      " [ 0.      0.      1.      0.      0.    ]\n",
      " [ 0.      0.      0.      1.      0.    ]]\n",
      "True\n"
     ]
    }
   ],
   "source": [
    "# Setting solvability\n",
    "solvable = 1\n",
    "# Setting parameters\n",
    "m=10\n",
    "n=11\n",
    "k=7\n",
    "# generate an mxn matrix of rank at most k\n",
    "A = create_random_matrix(m, n, k)\n",
    "if solvable:\n",
    "    b = A @ np.random.randn(n,1)\n",
    "else:\n",
    "    b = np.random.randn(m,1)\n",
    "    \n",
    "solve_Ax_b(A,b)"
   ]
  }
 ],
 "metadata": {
  "kernelspec": {
   "display_name": "linear_algebra",
   "language": "python",
   "name": "python3"
  },
  "language_info": {
   "codemirror_mode": {
    "name": "ipython",
    "version": 3
   },
   "file_extension": ".py",
   "mimetype": "text/x-python",
   "name": "python",
   "nbconvert_exporter": "python",
   "pygments_lexer": "ipython3",
   "version": "3.12.9"
  }
 },
 "nbformat": 4,
 "nbformat_minor": 2
}
