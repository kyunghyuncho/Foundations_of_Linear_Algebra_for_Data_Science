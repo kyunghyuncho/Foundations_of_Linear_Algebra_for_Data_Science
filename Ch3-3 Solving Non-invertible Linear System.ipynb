{
 "cells": [
  {
   "cell_type": "markdown",
   "metadata": {},
   "source": [
    "# Chapter 3 Solving Non-invertible Linear System\n",
    "\n",
    "Let us solve $A x = b$ when $A$ is non-square or not of full rank. We will use $LU$-decomposition."
   ]
  },
  {
   "cell_type": "code",
   "execution_count": 1,
   "metadata": {},
   "outputs": [],
   "source": [
    "# numerical and scientific computing libraries  \n",
    "import numpy as np \n",
    "import scipy as sp\n",
    "\n",
    "# plotting libraries\n",
    "import matplotlib as mpl\n",
    "import matplotlib.pyplot as plt\n",
    "import seaborn as sns"
   ]
  },
  {
   "cell_type": "code",
   "execution_count": 2,
   "metadata": {},
   "outputs": [],
   "source": [
    "# for pretty printing\n",
    "np.set_printoptions(4, linewidth=100, suppress=True)"
   ]
  },
  {
   "cell_type": "code",
   "execution_count": 3,
   "metadata": {},
   "outputs": [],
   "source": [
    "# create a random matrix of size m x n with the rank <= k <= min(m, n).\n",
    "def create_random_matrix(m: int, n: int, k: int) -> np.ndarray:\n",
    "    if k > min(m, n):\n",
    "        raise ValueError(\"k must be less than or equal to min(n, m)\")\n",
    "    A = np.random.randn(m, k)\n",
    "    B = np.random.randn(k, n)\n",
    "    return A@B"
   ]
  },
  {
   "cell_type": "markdown",
   "metadata": {},
   "source": [
    "To find a null space of a matrix $A$, we apply $LU$-decomposition to $A$. Since the null spaces of $A$ and $U$ coincide, we find a null space of the upper triangular matrix $U$. We characterize the pivot entries by searching the first non-zero element in each row of $U$, and then remaining variables are free ones."
   ]
  },
  {
   "cell_type": "code",
   "execution_count": 5,
   "metadata": {},
   "outputs": [],
   "source": [
    "def solve_Ax_b(A, b):\n",
    "    m = A.shape[0]\n",
    "    n = A.shape[1]\n",
    "    Aaug = np.hstack((A,-b))\n",
    "    # LU-decomposition\n",
    "    P, L, U = sp.linalg.lu(Aaug)\n",
    "    print(U)\n",
    "\n",
    "    # find pivot entries\n",
    "    epsilon = 10**(-10)     # Setting epsilon for negligibles\n",
    "    pivot = n+1\n",
    "    rank_u = 0\n",
    "    pivots = []\n",
    "    while pivot >= 0:\n",
    "        non_zero_indices = np.nonzero(U[rank_u,:]**2 > epsilon)\n",
    "        if np.size(non_zero_indices) == 0 or pivot == non_zero_indices[0][0]:\n",
    "            pivot = -1\n",
    "        else:\n",
    "            pivot = non_zero_indices[0][0]\n",
    "            pivots.append(pivot)\n",
    "            rank_u += 1\n",
    "\n",
    "    print('Rank = ', rank_u)\n",
    "    print('Pivot variables = ', np.int64(pivots))\n",
    "\n",
    "    if n in pivots:\n",
    "        print(\"The linear system is infeasible since right hand b increases the rank.\")\n",
    "        return\n",
    "    \n",
    "    # find column indices of free variables\n",
    "    free_variables = np.sort(list(set(range(Aaug.shape[1]))- set(pivots)))\n",
    "    print(\"Free variables = \", free_variables)\n",
    "\n",
    "    # Collect pivot columns and free variables\n",
    "    U_pivot = U[:rank_u, pivots]\n",
    "    print('pivot columns of U = ')\n",
    "    print(U_pivot)\n",
    "    U_free = U[:rank_u, free_variables]\n",
    "    print('free variable columns of U = ')\n",
    "    print(U_free)\n",
    "\n",
    "    # Solve for the pivot part of a basis of the null space of A\n",
    "    X_pivot = np.linalg.solve(U_pivot,-U_free)\n",
    "    print('pivot part of X = ')\n",
    "    print(X_pivot)\n",
    "\n",
    "    # remove the right hand b from free variables\n",
    "    free_variables = free_variables[:-1]\n",
    "\n",
    "    # Combine pivot part and free variable part\n",
    "    X = np.hstack((np.eye(n)[:,free_variables], np.zeros(n).reshape(-1,1)))\n",
    "    X[pivots,:] = X_pivot\n",
    "    print('X = ')\n",
    "    print(X)\n",
    "\n",
    "    print(np.allclose(A @ X, np.hstack((np.zeros((m,n-rank_u)),b))))    "
   ]
  },
  {
   "cell_type": "markdown",
   "metadata": {},
   "source": [
    "Let us test the function solving $A\\mathbf{x} = \\mathbf{b}$ even when $A$ is not invertible."
   ]
  },
  {
   "cell_type": "code",
   "execution_count": 6,
   "metadata": {},
   "outputs": [
    {
     "name": "stdout",
     "output_type": "stream",
     "text": [
      "The linear system is solvable.\n",
      "[[ 5.7619  6.3647  7.1414  1.2009  1.7278 -9.8372  0.6232 -7.1095 -0.1903 -2.8484  4.3657 -5.1335]\n",
      " [ 0.     -9.2234 -3.8293 -2.0108  2.0324  2.8078 -0.3201  7.1127 -4.9224  2.5851 -3.4324 -7.599 ]\n",
      " [ 0.      0.     -5.2975  0.1061 -5.6942  1.1634 -2.466  -1.8678  5.811   1.1736 -0.1784 10.1115]\n",
      " [ 0.      0.      0.     -1.4016 -0.7618 -1.0427 -0.1979 -0.5556  1.2851 -2.605  -0.0066  0.5662]\n",
      " [ 0.      0.      0.      0.      2.3941 -1.8033  3.0678 -2.5485  0.8743  3.4429  4.2455  4.0386]\n",
      " [ 0.      0.      0.      0.      0.     -1.7707  2.5419  0.912  -2.1566 -4.098   0.9866  0.4287]\n",
      " [ 0.      0.      0.      0.      0.      0.     -1.6895 -1.5572  3.489  -3.2183 -1.3221  0.7518]\n",
      " [ 0.      0.      0.      0.      0.      0.      0.     -0.      0.      0.      0.      0.    ]\n",
      " [ 0.      0.      0.      0.      0.      0.      0.      0.      0.     -0.     -0.      0.    ]\n",
      " [ 0.      0.      0.      0.      0.      0.      0.      0.      0.     -0.     -0.      0.    ]]\n",
      "Rank =  7\n",
      "Pivot variables =  [0 1 2 3 4 5 6]\n",
      "Free variables =  [ 7  8  9 10 11]\n",
      "pivot columns of U = \n",
      "[[ 5.7619  6.3647  7.1414  1.2009  1.7278 -9.8372  0.6232]\n",
      " [ 0.     -9.2234 -3.8293 -2.0108  2.0324  2.8078 -0.3201]\n",
      " [ 0.      0.     -5.2975  0.1061 -5.6942  1.1634 -2.466 ]\n",
      " [ 0.      0.      0.     -1.4016 -0.7618 -1.0427 -0.1979]\n",
      " [ 0.      0.      0.      0.      2.3941 -1.8033  3.0678]\n",
      " [ 0.      0.      0.      0.      0.     -1.7707  2.5419]\n",
      " [ 0.      0.      0.      0.      0.      0.     -1.6895]]\n",
      "free variable columns of U = \n",
      "[[-7.1095 -0.1903 -2.8484  4.3657 -5.1335]\n",
      " [ 7.1127 -4.9224  2.5851 -3.4324 -7.599 ]\n",
      " [-1.8678  5.811   1.1736 -0.1784 10.1115]\n",
      " [-0.5556  1.2851 -2.605  -0.0066  0.5662]\n",
      " [-2.5485  0.8743  3.4429  4.2455  4.0386]\n",
      " [ 0.912  -2.1566 -4.098   0.9866  0.4287]\n",
      " [-1.5572  3.489  -3.2183 -1.3221  0.7518]]\n",
      "pivot part of X = \n",
      "[[-0.1075  1.9699 -7.371  -1.5639  1.0356]\n",
      " [ 1.8158 -1.4756 -3.8919 -1.6675 -2.5451]\n",
      " [-1.8715  2.3468  3.0833  1.5165  3.6189]\n",
      " [-0.5547  0.2476  3.6883  1.1776  0.5519]\n",
      " [ 1.6369 -1.6957 -2.8002 -1.1971 -1.5935]\n",
      " [-0.8081  1.7466 -5.049  -0.5662  0.8809]\n",
      " [-0.9217  2.0651 -1.9049 -0.7826  0.445 ]]\n",
      "X = \n",
      "[[-0.1075  1.9699 -7.371  -1.5639  1.0356]\n",
      " [ 1.8158 -1.4756 -3.8919 -1.6675 -2.5451]\n",
      " [-1.8715  2.3468  3.0833  1.5165  3.6189]\n",
      " [-0.5547  0.2476  3.6883  1.1776  0.5519]\n",
      " [ 1.6369 -1.6957 -2.8002 -1.1971 -1.5935]\n",
      " [-0.8081  1.7466 -5.049  -0.5662  0.8809]\n",
      " [-0.9217  2.0651 -1.9049 -0.7826  0.445 ]\n",
      " [ 1.      0.      0.      0.      0.    ]\n",
      " [ 0.      1.      0.      0.      0.    ]\n",
      " [ 0.      0.      1.      0.      0.    ]\n",
      " [ 0.      0.      0.      1.      0.    ]]\n",
      "True\n"
     ]
    }
   ],
   "source": [
    "# Setting solvability\n",
    "solvable = 1    # 1 for solvable, 0 for unsolvable\n",
    "if solvable:\n",
    "    print(\"The linear system is solvable.\")\n",
    "else:\n",
    "    print(\"The linear system is unsolvable.\")\n",
    "# Setting parameters\n",
    "m=10\n",
    "n=11\n",
    "k=7\n",
    "# generate an mxn matrix of rank at most k\n",
    "A = create_random_matrix(m, n, k)\n",
    "if solvable:\n",
    "    b = A @ np.random.randn(n,1)\n",
    "else:\n",
    "    b = np.random.randn(m,1)\n",
    "    \n",
    "solve_Ax_b(A,b)"
   ]
  },
  {
   "cell_type": "code",
   "execution_count": null,
   "metadata": {},
   "outputs": [],
   "source": []
  }
 ],
 "metadata": {
  "kernelspec": {
   "display_name": "linear_algebra",
   "language": "python",
   "name": "python3"
  },
  "language_info": {
   "codemirror_mode": {
    "name": "ipython",
    "version": 3
   },
   "file_extension": ".py",
   "mimetype": "text/x-python",
   "name": "python",
   "nbconvert_exporter": "python",
   "pygments_lexer": "ipython3",
   "version": "3.12.9"
  }
 },
 "nbformat": 4,
 "nbformat_minor": 2
}
