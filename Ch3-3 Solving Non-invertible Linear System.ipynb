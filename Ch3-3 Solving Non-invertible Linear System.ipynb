{
 "cells": [
  {
   "cell_type": "markdown",
   "metadata": {},
   "source": [
    "# Chapter 3 Solving Non-invertible Linear System\n",
    "\n",
    "Let us solve $A x = b$ when $A$ is non-square or not of full rank. We will use $LU$-decomposition."
   ]
  },
  {
   "cell_type": "code",
   "execution_count": 1,
   "metadata": {},
   "outputs": [],
   "source": [
    "# numerical and scientific computing libraries  \n",
    "import numpy as np \n",
    "import scipy as sp\n",
    "\n",
    "# plotting libraries\n",
    "import matplotlib as mpl\n",
    "import matplotlib.pyplot as plt\n",
    "import seaborn as sns"
   ]
  },
  {
   "cell_type": "code",
   "execution_count": 2,
   "metadata": {},
   "outputs": [],
   "source": [
    "# for pretty printing\n",
    "np.set_printoptions(4, linewidth=100, suppress=True)"
   ]
  },
  {
   "cell_type": "code",
   "execution_count": 3,
   "metadata": {},
   "outputs": [],
   "source": [
    "# create a random matrix of size m x n with the rank <= k <= min(m, n).\n",
    "def create_random_matrix(m: int, n: int, k: int) -> np.ndarray:\n",
    "    if k > min(m, n):\n",
    "        raise ValueError(\"k must be less than or equal to min(n, m)\")\n",
    "    A = np.random.randn(m, k)\n",
    "    B = np.random.randn(k, n)\n",
    "    return A@B"
   ]
  },
  {
   "cell_type": "markdown",
   "metadata": {},
   "source": [
    "To find a null space of a matrix $A$, we apply $LU$-decomposition to $A$. Since the null spaces of $A$ and $U$ coincide, we find a null space of the upper triangular matrix $U$. We characterize the pivot entries by searching the first non-zero element in each row of $U$, and then remaining variables are free ones."
   ]
  },
  {
   "cell_type": "code",
   "execution_count": 4,
   "metadata": {},
   "outputs": [],
   "source": [
    "def solve_Ax_b(A, b):\n",
    "    m = A.shape[0]\n",
    "    n = A.shape[1]\n",
    "    Aaug = np.hstack((A,-b))\n",
    "    # LU-decomposition\n",
    "    P, L, U = sp.linalg.lu(Aaug)\n",
    "    print(U)\n",
    "\n",
    "    # find pivot entries\n",
    "    epsilon = 10**(-10)     # Setting epsilon for negligibles\n",
    "    pivot = n+1\n",
    "    rank_u = 0\n",
    "    pivots = []\n",
    "    while pivot >= 0:\n",
    "        non_zero_indices = np.nonzero(U[rank_u,:]**2 > epsilon)\n",
    "        if np.size(non_zero_indices) == 0 or pivot == non_zero_indices[0][0]:\n",
    "            pivot = -1\n",
    "        else:\n",
    "            pivot = non_zero_indices[0][0]\n",
    "            pivots.append(pivot)\n",
    "            rank_u += 1\n",
    "\n",
    "    print('Rank = ', rank_u)\n",
    "    print('Pivot variables = ', np.int64(pivots))\n",
    "\n",
    "    if n in pivots:\n",
    "        print(\"The linear system is infeasible since right hand b increases the rank.\")\n",
    "        return\n",
    "    \n",
    "    # find column indices of free variables\n",
    "    free_variables = np.sort(list(set(range(Aaug.shape[1]))- set(pivots)))\n",
    "    print(\"Free variables = \", free_variables)\n",
    "\n",
    "    # Collect pivot columns and free variables\n",
    "    U_pivot = U[:rank_u, pivots]\n",
    "    print('pivot columns of U = ')\n",
    "    print(U_pivot)\n",
    "    U_free = U[:rank_u, free_variables]\n",
    "    print('free variable columns of U = ')\n",
    "    print(U_free)\n",
    "\n",
    "    # Solve for the pivot part of a basis of the null space of A\n",
    "    X_pivot = np.linalg.solve(U_pivot,-U_free)\n",
    "    print('pivot part of X = ')\n",
    "    print(X_pivot)\n",
    "\n",
    "    # remove the right hand b from free variables\n",
    "    free_variables = free_variables[:-1]\n",
    "\n",
    "    # Combine pivot part and free variable part\n",
    "    X = np.hstack((np.eye(n)[:,free_variables], np.zeros(n).reshape(-1,1)))\n",
    "    X[pivots,:] = X_pivot\n",
    "    print('X = ')\n",
    "    print(X)\n",
    "\n",
    "    print(np.allclose(A @ X, np.hstack((np.zeros((m,n-rank_u)),b))))    "
   ]
  },
  {
   "cell_type": "code",
   "execution_count": 5,
   "metadata": {},
   "outputs": [
    {
     "name": "stdout",
     "output_type": "stream",
     "text": [
      "[[ 4.7681  0.1044  3.2178 -2.8033  1.1823  1.4959 -2.0964  1.1382 -2.607  -3.101   0.5823  6.7452]\n",
      " [ 0.     -1.9489 -1.1444  2.8387 -1.8745  0.8415  2.6641 -1.4921  0.5115  0.3728 -1.3578  3.4253]\n",
      " [ 0.      0.     -6.4523 -1.5385 -2.7568 -4.6019  1.095  -5.2944  0.4542  0.3544 -5.5106 11.0692]\n",
      " [ 0.      0.      0.     -4.8266 -0.8278 -1.508   3.0865 -3.3227  0.8416  3.2029  1.9995 -4.5756]\n",
      " [ 0.      0.      0.      0.      3.2898  0.8499 -6.381  -1.4725 -0.9782 -2.5167 -3.3422  1.5297]\n",
      " [ 0.      0.      0.      0.      0.     -0.5253  0.0971  0.4391 -1.5328 -1.355  -0.5281  3.2379]\n",
      " [ 0.      0.      0.      0.      0.      0.      0.813   1.3656 -1.1678 -1.8809 -4.6256  4.8846]\n",
      " [ 0.      0.      0.      0.      0.      0.      0.     -0.      0.      0.      0.     -0.    ]\n",
      " [ 0.      0.      0.      0.      0.      0.      0.      0.     -0.     -0.     -0.      0.    ]\n",
      " [ 0.      0.      0.      0.      0.      0.      0.      0.      0.     -0.     -0.      0.    ]]\n",
      "Rank =  7\n",
      "Pivot variables =  [0 1 2 3 4 5 6]\n",
      "Free variables =  [ 7  8  9 10 11]\n",
      "pivot columns of U = \n",
      "[[ 4.7681  0.1044  3.2178 -2.8033  1.1823  1.4959 -2.0964]\n",
      " [ 0.     -1.9489 -1.1444  2.8387 -1.8745  0.8415  2.6641]\n",
      " [ 0.      0.     -6.4523 -1.5385 -2.7568 -4.6019  1.095 ]\n",
      " [ 0.      0.      0.     -4.8266 -0.8278 -1.508   3.0865]\n",
      " [ 0.      0.      0.      0.      3.2898  0.8499 -6.381 ]\n",
      " [ 0.      0.      0.      0.      0.     -0.5253  0.0971]\n",
      " [ 0.      0.      0.      0.      0.      0.      0.813 ]]\n",
      "free variable columns of U = \n",
      "[[ 1.1382 -2.607  -3.101   0.5823  6.7452]\n",
      " [-1.4921  0.5115  0.3728 -1.3578  3.4253]\n",
      " [-5.2944  0.4542  0.3544 -5.5106 11.0692]\n",
      " [-3.3227  0.8416  3.2029  1.9995 -4.5756]\n",
      " [-1.4725 -0.9782 -2.5167 -3.3422  1.5297]\n",
      " [ 0.4391 -1.5328 -1.355  -0.5281  3.2379]\n",
      " [ 1.3656 -1.1678 -1.8809 -4.6256  4.8846]]\n",
      "pivot part of X = \n",
      "[[ -1.2796   1.6477   2.601    4.2397  -7.2769]\n",
      " [ -2.1405  -0.8579   0.0357   1.6456   0.4856]\n",
      " [  0.1173   0.2919  -0.933   -5.5359   3.7964]\n",
      " [ -1.4215   1.2755   1.8193   1.9734  -4.0669]\n",
      " [ -2.9462   3.7688   5.8084  12.0397 -13.424 ]\n",
      " [  0.5256  -2.6529  -2.1522   0.046    5.0543]\n",
      " [ -1.6797   1.4364   2.3136   5.6896  -6.0081]]\n",
      "X = \n",
      "[[ -1.2796   1.6477   2.601    4.2397  -7.2769]\n",
      " [ -2.1405  -0.8579   0.0357   1.6456   0.4856]\n",
      " [  0.1173   0.2919  -0.933   -5.5359   3.7964]\n",
      " [ -1.4215   1.2755   1.8193   1.9734  -4.0669]\n",
      " [ -2.9462   3.7688   5.8084  12.0397 -13.424 ]\n",
      " [  0.5256  -2.6529  -2.1522   0.046    5.0543]\n",
      " [ -1.6797   1.4364   2.3136   5.6896  -6.0081]\n",
      " [  1.       0.       0.       0.       0.    ]\n",
      " [  0.       1.       0.       0.       0.    ]\n",
      " [  0.       0.       1.       0.       0.    ]\n",
      " [  0.       0.       0.       1.       0.    ]]\n",
      "True\n"
     ]
    }
   ],
   "source": [
    "# Setting solvability\n",
    "solvable = 1\n",
    "# Setting parameters\n",
    "m=10\n",
    "n=11\n",
    "k=7\n",
    "# generate an mxn matrix of rank at most k\n",
    "A = create_random_matrix(m, n, k)\n",
    "if solvable:\n",
    "    b = A @ np.random.randn(n,1)\n",
    "else:\n",
    "    b = np.random.randn(m,1)\n",
    "    \n",
    "solve_Ax_b(A,b)"
   ]
  },
  {
   "cell_type": "code",
   "execution_count": null,
   "metadata": {},
   "outputs": [],
   "source": []
  }
 ],
 "metadata": {
  "kernelspec": {
   "display_name": "linear_algebra",
   "language": "python",
   "name": "python3"
  },
  "language_info": {
   "codemirror_mode": {
    "name": "ipython",
    "version": 3
   },
   "file_extension": ".py",
   "mimetype": "text/x-python",
   "name": "python",
   "nbconvert_exporter": "python",
   "pygments_lexer": "ipython3",
   "version": "3.12.9"
  }
 },
 "nbformat": 4,
 "nbformat_minor": 2
}
