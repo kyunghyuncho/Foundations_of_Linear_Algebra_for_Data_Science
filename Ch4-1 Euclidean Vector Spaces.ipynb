{
  "cells": [
    {
      "cell_type": "markdown",
      "metadata": {},
      "source": [
        "# Chapter 4 Euclidean Vector Spaces\n",
        "\n",
        "Let us investigate the inner products and projections in $\\mathbf{R}^n$."
      ]
    },
    {
      "cell_type": "code",
      "execution_count": 3,
      "metadata": {
        "id": "lwRCRj-Dqq1L"
      },
      "outputs": [],
      "source": [
        "# numerical and scientific computing libraries  \n",
        "import numpy as np \n",
        "import scipy as sp\n",
        "\n",
        "# plotting libraries\n",
        "import matplotlib as mpl\n",
        "import matplotlib.pyplot as plt\n",
        "import seaborn as sns"
      ]
    },
    {
      "cell_type": "code",
      "execution_count": 4,
      "metadata": {},
      "outputs": [],
      "source": [
        "# for pretty printing\n",
        "np.set_printoptions(4, linewidth=100, suppress=True)"
      ]
    },
    {
      "cell_type": "markdown",
      "metadata": {},
      "source": [
        "### Standard inner product or dot product in $\\mathbb{R}^n$.\n",
        "\n",
        "For two Euclidean vectors $\\mathbf{x}, \\mathbf{y} \\in \\mathbb{R}^n$, we define the standard inner product or dot product as\n",
        "$$\\lang \\mathbf{x}, \\mathbf{y} \\rang = \\mathbf{x}^\\top \\mathbf{y} = \\sum_{i=1}^n x_i y_i$$\n",
        "Even though there are infinitely many inner products, as we have seen in the textbook, the standard inner product is a special one, on which our most numerics on the length and angle on the earth are based. Probably you might already encountered this concept (partially at least)."
      ]
    },
    {
      "cell_type": "code",
      "execution_count": null,
      "metadata": {},
      "outputs": [
        {
          "name": "stdout",
          "output_type": "stream",
          "text": [
            "a =  [ 0.0188  1.5357 -1.265  -0.5935  0.9434 -0.1176  0.218   0.6629 -0.0479  0.9663]\n",
            "b =  [-0.2884  0.7539  0.076   0.679   1.2687 -0.4188  0.3766 -0.3136 -0.7674  1.2819]\n",
            "3.049017194508459 3.049017194508459 3.049017194508459 3.049017194508459\n"
          ]
        }
      ],
      "source": [
        "# Setting dimension\n",
        "n = 10\n",
        "# two vectors generated randomly\n",
        "a = np.random.randn(n)\n",
        "b = np.random.randn(n)\n",
        "print('a = ',a)\n",
        "print('b = ',b)\n",
        "# many ways of computing the dot product\n",
        "ip1 = np.inner(a,b)\n",
        "ip2 = np.dot(a,b)\n",
        "ip3 = np.sum(a[:]*b[:])\n",
        "ip4 = sum(a[:]*b[:])\n",
        "# In principle, all these produce a single value. Be careful in using np.inner and np.dot when a and b are multi-dimensional.\n",
        "print(ip1, ip2, ip3, ip4)"
      ]
    },
    {
      "cell_type": "markdown",
      "metadata": {},
      "source": [
        "For a given inner product $\\lang \\cdot,\\cdot\\rang$, the associated norm of a vector $\\mathbf{v}$ is defined as $|\\mathbf{v}| = \\sqrt{\\lang \\mathbf{v}, \\mathbf{v} \\rang}$. With the standard inner product, its norm or length is $|\\mathbf{x}| = \\sqrt{\\mathbf{x}^\\top \\mathbf{x}}$."
      ]
    },
    {
      "cell_type": "code",
      "execution_count": null,
      "metadata": {},
      "outputs": [
        {
          "name": "stdout",
          "output_type": "stream",
          "text": [
            "|a| =  2.5764838452160315 2.5764838452160315\n",
            "|c| =  1.0\n"
          ]
        }
      ],
      "source": [
        "# Define a norm for standard inner product\n",
        "def norm_scratch(v):\n",
        "    return np.sqrt(sum(v**2))\n",
        "\n",
        "print('|a| = ', norm_scratch(a), np.linalg.norm(a))\n",
        "# normalize a vector\n",
        "c = (1/norm_scratch(a))*a\n",
        "print('|c| = ', norm_scratch(c))"
      ]
    },
    {
      "cell_type": "markdown",
      "metadata": {},
      "source": [
        "**One-dimensional projection**\n",
        "\n",
        "Now consider a one-dimensional projection along a vector $\\mathbf{v}$."
      ]
    },
    {
      "cell_type": "code",
      "execution_count": 13,
      "metadata": {},
      "outputs": [
        {
          "name": "stdout",
          "output_type": "stream",
          "text": [
            "0.9999999999999999\n",
            "angle =  56.44887042622054\n",
            "a      =  [ 0.0188  1.5357 -1.265  -0.5935  0.9434 -0.1176  0.218   0.6629 -0.0479  0.9663]\n",
            "v      =  [ 0.3984  0.3739 -0.1279 -0.4656  0.1911 -0.3456 -0.3835  0.0553  0.313   0.2537]\n",
            "c1 =  1.4239734309805592\n",
            "a_proj =  [ 0.5673  0.5324 -0.1822 -0.6629  0.2721 -0.4921 -0.5461  0.0788  0.4457  0.3612]\n"
          ]
        }
      ],
      "source": [
        "v1 = np.random.randn(n)\n",
        "norm_v1 = norm_scratch(v1)\n",
        "v = (1/norm_v1)*v1\n",
        "\n",
        "#check the unity of v\n",
        "print(norm_scratch(v))\n",
        "\n",
        "# project vector a along the direction of v\n",
        "c1 = np.inner(a,v)\n",
        "a_proj = c1*v\n",
        "cosine = c1/norm_scratch(a)\n",
        "print('angle = ', np.degrees(np.arccos(cosine)))\n",
        "\n",
        "print('a      = ', a)\n",
        "print('v      = ', v)\n",
        "print('c1 = ', c1)\n",
        "print('a_proj = ',a_proj)"
      ]
    },
    {
      "cell_type": "markdown",
      "metadata": {},
      "source": [
        "**Gram-Schmidt procedure**\n",
        "\n"
      ]
    },
    {
      "cell_type": "code",
      "execution_count": null,
      "metadata": {
        "colab": {
          "base_uri": "https://localhost:8080/",
          "height": 430
        },
        "id": "AVNILtkTH_sp",
        "outputId": "4a76b9e8-7463-48d8-d638-32cc92230688"
      },
      "outputs": [
        {
          "name": "stdout",
          "output_type": "stream",
          "text": [
            "[[ 0.2445 -0.3147  0.4247]\n",
            " [-0.1913 -0.2672  0.3137]\n",
            " [ 0.1006  0.2762 -0.1445]\n",
            " [-0.5884  0.6128  0.2478]\n",
            " [-0.2956  0.0618  0.1403]\n",
            " [ 0.0332 -0.1237  0.1615]\n",
            " [-0.1667 -0.1247 -0.5849]\n",
            " [ 0.6216  0.4649 -0.0085]\n",
            " [-0.1684 -0.339   0.0217]\n",
            " [ 0.1281  0.1102  0.5006]]\n",
            "[[1. 0. 0.]\n",
            " [0. 1. 0.]\n",
            " [0. 0. 1.]]\n",
            "[[ 0.3391  0.1705 -0.1237 -0.2314 -0.0321  0.1156 -0.2499  0.002   0.0747  0.2092]\n",
            " [ 0.1705  0.2064 -0.1384  0.0265  0.084   0.0774 -0.1182 -0.2458  0.1296  0.1031]\n",
            " [-0.1237 -0.1384  0.1073  0.0743 -0.0329 -0.0542  0.0333  0.1921 -0.1137 -0.029 ]\n",
            " [-0.2314  0.0265  0.0743  0.7831  0.2465 -0.0553 -0.1233 -0.083  -0.1033  0.1163]\n",
            " [-0.0321  0.084  -0.0329  0.2465  0.1109  0.0052 -0.0405 -0.1562  0.0319  0.0392]\n",
            " [ 0.1156  0.0774 -0.0542 -0.0553  0.0052  0.0425 -0.0846 -0.0382  0.0398  0.0715]\n",
            " [-0.2499 -0.1182  0.0333 -0.1233 -0.0405 -0.0846  0.3854 -0.1566  0.0576 -0.3279]\n",
            " [ 0.002  -0.2458  0.1921 -0.083  -0.1562 -0.0382 -0.1566  0.6025 -0.2624  0.1266]\n",
            " [ 0.0747  0.1296 -0.1137 -0.1033  0.0319  0.0398  0.0576 -0.2624  0.1437 -0.0481]\n",
            " [ 0.2092  0.1031 -0.029   0.1163  0.0392  0.0715 -0.3279  0.1266 -0.0481  0.2792]]\n"
          ]
        }
      ],
      "source": [
        "a1 = np.random.randn(n)\n",
        "a2 = np.random.randn(n)\n",
        "a3 = np.random.randn(n)\n",
        "\n",
        "# the first orthonormal vector\n",
        "v1 = (1/norm_scratch(a1))*a1\n",
        "\n",
        "# the second orthonormal vector\n",
        "v = a2 - np.inner(a2,v1)*v1\n",
        "v2 = (1/norm_scratch(v))*v\n",
        "\n",
        "# the third orthonormal vector\n",
        "v = a3 - np.inner(a3,v1)*v1 - np.inner(a3,v2)*v2\n",
        "v3 = (1/norm_scratch(v))*v\n",
        "\n",
        "# build a matrix of orthonormal vectors\n",
        "Q = np.stack((v1,v2,v3),axis=1)\n",
        "\n",
        "print(Q)\n",
        "print(Q.T @ Q)  # As you expect, it is an identity matrix of 3x3\n",
        "print(Q @ Q.T)  # It is meaningless matrix of 10x10"
      ]
    },
    {
      "cell_type": "markdown",
      "metadata": {},
      "source": [
        "Now let us go further to find a orthonormal basis of $\\mathbb{R}^{10}$."
      ]
    },
    {
      "cell_type": "code",
      "execution_count": null,
      "metadata": {},
      "outputs": [],
      "source": []
    }
  ],
  "metadata": {
    "colab": {
      "provenance": []
    },
    "kernelspec": {
      "display_name": "linear_algebra",
      "language": "python",
      "name": "python3"
    },
    "language_info": {
      "codemirror_mode": {
        "name": "ipython",
        "version": 3
      },
      "file_extension": ".py",
      "mimetype": "text/x-python",
      "name": "python",
      "nbconvert_exporter": "python",
      "pygments_lexer": "ipython3",
      "version": "3.12.9"
    }
  },
  "nbformat": 4,
  "nbformat_minor": 0
}
