{
 "cells": [
  {
   "cell_type": "markdown",
   "metadata": {},
   "source": [
    "# Chapter 5 SVD: Basic Properties"
   ]
  },
  {
   "cell_type": "code",
   "execution_count": 1,
   "metadata": {},
   "outputs": [],
   "source": [
    "# numerical and scientific computing libraries\n",
    "import numpy as np\n",
    "import scipy as sp\n",
    "\n",
    "# plotting libraries\n",
    "import matplotlib as mpl\n",
    "import matplotlib.pyplot as plt\n",
    "import seaborn as sns"
   ]
  },
  {
   "cell_type": "code",
   "execution_count": 2,
   "metadata": {},
   "outputs": [],
   "source": [
    "# for pretty printing\n",
    "np.set_printoptions(4, linewidth=100, suppress=True)"
   ]
  },
  {
   "cell_type": "code",
   "execution_count": 5,
   "metadata": {},
   "outputs": [],
   "source": [
    "# create a random matrix of size m x n with the rank <= k <= min(m, n).\n",
    "def create_random_matrix(m: int, n: int, k: int) -> np.ndarray:\n",
    "    if k > min(m, n):\n",
    "        raise ValueError(\"k must be less than or equal to min(n, m)\")\n",
    "    A = np.random.randn(m, k)\n",
    "    B = np.random.randn(k, n)\n",
    "    return A@B"
   ]
  },
  {
   "cell_type": "markdown",
   "metadata": {},
   "source": [
    "Define a function returning a compact SVD"
   ]
  },
  {
   "cell_type": "code",
   "execution_count": 35,
   "metadata": {},
   "outputs": [],
   "source": [
    "def SVD_compact(A: np.ndarray, eps) -> np.ndarray:\n",
    "    # perform QR decomposition on the matrix and return the Q matrix and the R matrix.\n",
    "    Uf, sf, Vfh = np.linalg.svd(A, full_matrices=False)\n",
    "    Vf = Vfh.T\n",
    "\n",
    "    # calculate the rank of the matrix\n",
    "    rank_A = (np.abs(sf) > eps).sum()\n",
    "    print(\"Rank of A:\", rank_A)\n",
    "\n",
    "    # reconstruct the matrix using the SVD\n",
    "    U = Uf[:, :rank_A]\n",
    "    s = sf[:rank_A]\n",
    "    V = Vf[:, :rank_A]\n",
    "\n",
    "    return U, s, V.T"
   ]
  },
  {
   "cell_type": "markdown",
   "metadata": {},
   "source": [
    "Let us obtain SVD of a randomly generated matrix."
   ]
  },
  {
   "cell_type": "code",
   "execution_count": 37,
   "metadata": {},
   "outputs": [
    {
     "name": "stdout",
     "output_type": "stream",
     "text": [
      "Rank of A: 7\n",
      "(20, 7) (7,) (10, 7)\n",
      "[26.9899 20.9595 19.2893 11.8508  9.4604  5.6491  2.6928]\n"
     ]
    },
    {
     "data": {
      "text/plain": [
       "True"
      ]
     },
     "execution_count": 37,
     "metadata": {},
     "output_type": "execute_result"
    }
   ],
   "source": [
    "# set the size of the matrix\n",
    "m = 20\n",
    "n = 10\n",
    "k = 7\n",
    "eps = 1e-10\n",
    "\n",
    "# create a random matrix of size n x m with the rank k <= n.\n",
    "A = create_random_matrix(m, n, k)\n",
    "\n",
    "# perform QR decomposition on the matrix and return the Q matrix and the R matrix.\n",
    "U, s, Vh = SVD_compact(A, eps)\n",
    "V = Vh.T\n",
    "\n",
    "print(U.shape, s.shape, V.shape)\n",
    "print(s)\n",
    "\n",
    "np.allclose(A, U @ np.diag(s) @ V.T)"
   ]
  },
  {
   "cell_type": "markdown",
   "metadata": {},
   "source": [
    "### Pseudoinverse\n",
    "\n",
    "Let us check a defining property of pseudoinverse: $A A^+ A = A$ and $A^+ A A^+ = A^+$."
   ]
  },
  {
   "cell_type": "code",
   "execution_count": 39,
   "metadata": {},
   "outputs": [
    {
     "name": "stdout",
     "output_type": "stream",
     "text": [
      "True True\n"
     ]
    }
   ],
   "source": [
    "Ainv = V @ np.diag(1/s) @ U.T\n",
    "\n",
    "print(np.allclose(A @ Ainv @ A, A), np.allclose(Ainv @ A @ Ainv, Ainv))"
   ]
  },
  {
   "cell_type": "markdown",
   "metadata": {},
   "source": [
    "### Symmetric Matrices\n",
    "\n",
    "Let us compute SVD of various symmetric matrices. "
   ]
  },
  {
   "cell_type": "code",
   "execution_count": 49,
   "metadata": {},
   "outputs": [
    {
     "name": "stdout",
     "output_type": "stream",
     "text": [
      "Rank of A: 10\n",
      "B\n",
      "[27.7905 14.8514 12.2962  7.2334  5.8916  4.9883  4.4304  1.6992  1.5105  0.6205]\n",
      " \n",
      "[[-0.2645  0.0309  0.4273 -0.127  -0.361  -0.232  -0.1858 -0.341  -0.4886 -0.396 ]\n",
      " [-0.3975  0.4047  0.0523 -0.1428  0.6487 -0.0048  0.2552 -0.0753  0.1161 -0.3873]\n",
      " [ 0.0141 -0.1506  0.0628 -0.0035 -0.2733  0.4666 -0.1742  0.1584  0.4825 -0.6265]\n",
      " [-0.2239 -0.3729  0.3994  0.1481  0.2285 -0.2914 -0.1391  0.6865 -0.0394 -0.0109]\n",
      " [ 0.0933  0.1073 -0.2934 -0.0996 -0.2534 -0.7764  0.1003  0.0742  0.382  -0.2351]\n",
      " [ 0.1854  0.3189  0.5371 -0.5434 -0.2155  0.0761  0.2841  0.2149  0.1887  0.2557]\n",
      " [-0.4822  0.4038 -0.0508  0.0165 -0.1334  0.0099 -0.6261  0.0308  0.2705  0.3428]\n",
      " [ 0.0104  0.47   -0.3313  0.0945 -0.2373  0.1474  0.1026  0.5636 -0.4703 -0.1813]\n",
      " [ 0.3261 -0.0931 -0.2165 -0.6428  0.3102 -0.0254 -0.52    0.0884 -0.1881 -0.1205]\n",
      " [-0.5827 -0.4097 -0.3426 -0.4625 -0.2025  0.1119  0.2949  0.0604 -0.047   0.1224]]\n",
      " \n",
      "[[-0.2645 -0.0309  0.4273 -0.127   0.361  -0.232   0.1858 -0.341   0.4886 -0.396 ]\n",
      " [-0.3975 -0.4047  0.0523 -0.1428 -0.6487 -0.0048 -0.2552 -0.0753 -0.1161 -0.3873]\n",
      " [ 0.0141  0.1506  0.0628 -0.0035  0.2733  0.4666  0.1742  0.1584 -0.4825 -0.6265]\n",
      " [-0.2239  0.3729  0.3994  0.1481 -0.2285 -0.2914  0.1391  0.6865  0.0394 -0.0109]\n",
      " [ 0.0933 -0.1073 -0.2934 -0.0996  0.2534 -0.7764 -0.1003  0.0742 -0.382  -0.2351]\n",
      " [ 0.1854 -0.3189  0.5371 -0.5434  0.2155  0.0761 -0.2841  0.2149 -0.1887  0.2557]\n",
      " [-0.4822 -0.4038 -0.0508  0.0165  0.1334  0.0099  0.6261  0.0308 -0.2705  0.3428]\n",
      " [ 0.0104 -0.47   -0.3313  0.0945  0.2373  0.1474 -0.1026  0.5636  0.4703 -0.1813]\n",
      " [ 0.3261  0.0931 -0.2165 -0.6428 -0.3102 -0.0254  0.52    0.0884  0.1881 -0.1205]\n",
      " [-0.5827  0.4097 -0.3426 -0.4625  0.2025  0.1119 -0.2949  0.0604  0.047   0.1224]]\n",
      "Rank of A: 7\n",
      "C\n",
      "[320.8288  88.8453  66.114   51.9118  11.0421   6.8511   0.9492]\n",
      " \n",
      "[[-0.03   -0.0326  0.6312 -0.1952 -0.1963  0.1011  0.0883]\n",
      " [ 0.3904  0.3871  0.1426 -0.3733  0.4041 -0.2547 -0.1237]\n",
      " [-0.0904 -0.1479  0.0852  0.3916  0.2381  0.486  -0.5414]\n",
      " [ 0.3359 -0.4073  0.1622 -0.0038 -0.3663  0.295   0.3213]\n",
      " [-0.2048  0.6131 -0.1832  0.2856 -0.5579 -0.0263  0.0494]\n",
      " [-0.3723 -0.0231  0.5004 -0.0652 -0.2105 -0.2915 -0.4696]\n",
      " [ 0.4058  0.444   0.3769  0.1262 -0.0714  0.3148  0.0389]\n",
      " [-0.2908  0.2874  0.0733  0.0507  0.3836  0.454   0.2198]\n",
      " [-0.1713 -0.0619  0.3407  0.5443  0.3135 -0.3858  0.4844]\n",
      " [ 0.5163 -0.0368 -0.0155  0.5182 -0.0339 -0.2486 -0.2703]]\n",
      " \n",
      "[[-0.03   -0.0326  0.6312 -0.1952 -0.1963  0.1011  0.0883]\n",
      " [ 0.3904  0.3871  0.1426 -0.3733  0.4041 -0.2547 -0.1237]\n",
      " [-0.0904 -0.1479  0.0852  0.3916  0.2381  0.486  -0.5414]\n",
      " [ 0.3359 -0.4073  0.1622 -0.0038 -0.3663  0.295   0.3213]\n",
      " [-0.2048  0.6131 -0.1832  0.2856 -0.5579 -0.0263  0.0494]\n",
      " [-0.3723 -0.0231  0.5004 -0.0652 -0.2105 -0.2915 -0.4696]\n",
      " [ 0.4058  0.444   0.3769  0.1262 -0.0714  0.3148  0.0389]\n",
      " [-0.2908  0.2874  0.0733  0.0507  0.3836  0.454   0.2198]\n",
      " [-0.1713 -0.0619  0.3407  0.5443  0.3135 -0.3858  0.4844]\n",
      " [ 0.5163 -0.0368 -0.0155  0.5182 -0.0339 -0.2486 -0.2703]]\n"
     ]
    }
   ],
   "source": [
    "m = 10\n",
    "k = 7\n",
    "\n",
    "# create a random matrix of size m x m with its rank k < m.\n",
    "A = create_random_matrix(m, m, k)\n",
    "B = A + A.T\n",
    "C = A @ A.T\n",
    "\n",
    "U1, s1, V1h = SVD_compact(B, eps)\n",
    "V1 = V1h.T\n",
    "\n",
    "print('B')\n",
    "print(s1)\n",
    "print(' ')\n",
    "print(U1)\n",
    "print(' ')\n",
    "print(V1)\n",
    "\n",
    "U2, s2, V2h = SVD_compact(C, eps)\n",
    "V2 = V2h.T\n",
    "\n",
    "print('C')\n",
    "print(s2)\n",
    "print(' ')\n",
    "print(U2)\n",
    "print(' ')\n",
    "print(V2)\n"
   ]
  },
  {
   "cell_type": "markdown",
   "metadata": {},
   "source": [
    "As you can see from the experiment, the singular vectors of $B$ satisfy $\\mathbf{u}_i = \\mathbf{v}_i$ or $\\mathbf{u}_i = -\\mathbf{v}_i$. For these vectors, $B \\mathbf{v}_i = \\sigma_i \\mathbf{u}_i = (\\pm \\sigma_i) \\mathbf{v}_i$ holds which implies that  ($\\sigma_i, \\mathbf{v}_i$) or ($-\\sigma_i, \\mathbf{v}_i$) is an eigenpair of $B$. In contrast, $C$ shows $\\mathbf{u}_i = \\mathbf{v}_i$ for all $i$. Therefore, a pair of a sigular value and its right-singular vector is an eigenpair for $C$. That is, both matrices are symmetric, but $B$ may have negative eigenvalues whereas $C$ always has non-negative eigenvalues. $C$ is positive semi-definite in fact.\n",
    "\n",
    "In addition, for a square matrix $A$ not of full rank, $AA^\\top$ keeps the rank of $A$ as the theory suggested, but $A+A^\\top$ has an increased full rank in this random experiment. Generally, we have no concrete result comparing ranks of $A$ and $A+A^\\top$.  "
   ]
  }
 ],
 "metadata": {
  "kernelspec": {
   "display_name": "linear_algebra",
   "language": "python",
   "name": "python3"
  },
  "language_info": {
   "codemirror_mode": {
    "name": "ipython",
    "version": 3
   },
   "file_extension": ".py",
   "mimetype": "text/x-python",
   "name": "python",
   "nbconvert_exporter": "python",
   "pygments_lexer": "ipython3",
   "version": "3.12.9"
  }
 },
 "nbformat": 4,
 "nbformat_minor": 2
}
