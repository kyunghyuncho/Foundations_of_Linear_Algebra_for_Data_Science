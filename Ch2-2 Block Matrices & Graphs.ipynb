{
  "cells": [
    {
      "cell_type": "code",
      "execution_count": 2,
      "metadata": {
        "id": "mU770rhV6pFn"
      },
      "outputs": [],
      "source": [
        "import numpy as np\n",
        "import scipy.linalg\n",
        "import matplotlib.pyplot as plt\n",
        "\n",
        "# for pretty printing\n",
        "np.set_printoptions(4, linewidth=100, suppress=True)"
      ]
    },
    {
      "cell_type": "markdown",
      "metadata": {
        "id": "RPiS6aUacyiF"
      },
      "source": [
        "# Chapter 2"
      ]
    },
    {
      "cell_type": "markdown",
      "metadata": {
        "id": "jE8XqIz3fzt8"
      },
      "source": [
        "---\n",
        "\n",
        "### Block Matrices"
      ]
    },
    {
      "cell_type": "markdown",
      "metadata": {
        "id": "LZ3nAlvI_GbY"
      },
      "source": [
        "Let us consider block matrices\n",
        "\\begin{align*}X = \\begin{bmatrix} A & B \\\\ C & D \\end{bmatrix} &= \\left[\n",
        "  \\begin{array}{ccc|cc}\n",
        "  1.0 & 2.0 & 3.0 & 7.0 & 8.0 \\\\\n",
        "  4.0 & 5.0 & 6.0 & 9.0 & 10.0 \\\\\n",
        "  \\hline\n",
        "  11.0 & 12.0 & 13.0 & 14.0 & 15.0\n",
        "\\end{array} \\right] , \\\\[5pt]\n",
        "Y = \\begin{bmatrix} E & F \\\\ G & H \\end{bmatrix} &= \\left[\n",
        "  \\begin{array}{cc|cc}\n",
        "  0.1 & 0.2 & 0.7 & 0.8 \\\\\n",
        "  0.3 & 0.4 & 0.9 & 1.0 \\\\\n",
        "  0.5 & 0.6 & 1.1 & 1.2 \\\\\n",
        "  \\hline\n",
        "  1.3 & 1.4 & 1.7 & 1.8 \\\\\n",
        "  1.5 & 1.6 & 1.9 & 2.0\n",
        "\\end{array} \\right] . \\end{align*}"
      ]
    },
    {
      "cell_type": "markdown",
      "metadata": {
        "id": "yv6mJTSo5xoA"
      },
      "source": [
        "In NumPy, block matrices can be created by the function `np.block`."
      ]
    },
    {
      "cell_type": "code",
      "execution_count": 3,
      "metadata": {
        "colab": {
          "base_uri": "https://localhost:8080/"
        },
        "id": "u0m9jbMl5gD0",
        "outputId": "a9f201a3-b9dd-4661-d96d-c497e3df6d9a"
      },
      "outputs": [
        {
          "name": "stdout",
          "output_type": "stream",
          "text": [
            "X = \n",
            "[[ 1.  2.  3.  7.  8.]\n",
            " [ 4.  5.  6.  9. 10.]\n",
            " [11. 12. 13. 14. 15.]]\n"
          ]
        }
      ],
      "source": [
        "A = np.array([[1.0, 2.0, 3.0],\n",
        "              [4.0, 5.0, 6.0]])\n",
        "B = np.array([[7.0, 8.0],\n",
        "              [9.0, 10.0]])\n",
        "C = np.array([[11.0, 12.0, 13.0]])\n",
        "D = np.array([[14.0, 15.0]])\n",
        "\n",
        "X = np.block([[A, B],\n",
        "              [C, D]])\n",
        "\n",
        "print(\"X = \")\n",
        "print(X)"
      ]
    },
    {
      "cell_type": "markdown",
      "metadata": {
        "id": "6hLdPWjDOGQv"
      },
      "source": [
        "By slicing the matrices, we can conversely construct blocks from a given matrix by usual index operations."
      ]
    },
    {
      "cell_type": "code",
      "execution_count": 4,
      "metadata": {
        "colab": {
          "base_uri": "https://localhost:8080/"
        },
        "id": "zrkCxs1oOGQv",
        "outputId": "6f50f25e-7ddd-4c84-f80d-fab5d234dc8a"
      },
      "outputs": [
        {
          "name": "stdout",
          "output_type": "stream",
          "text": [
            "Blocks:\n",
            "E =\n",
            "[[0.1 0.2]\n",
            " [0.3 0.4]\n",
            " [0.5 0.6]]\n",
            "\n",
            "F =\n",
            "[[0.7 0.8]\n",
            " [0.9 1. ]\n",
            " [1.1 1.2]]\n",
            "\n",
            "G =\n",
            "[[1.3 1.4]\n",
            " [1.5 1.6]]\n",
            "\n",
            "H =\n",
            "[[1.7 1.8]\n",
            " [1.9 2. ]]\n"
          ]
        }
      ],
      "source": [
        "Y = np.array([[0.1, 0.2, 0.7, 0.8],\n",
        "              [0.3, 0.4, 0.9, 1.0],\n",
        "              [0.5, 0.6, 1.1, 1.2],\n",
        "              [1.3, 1.4, 1.7, 1.8],\n",
        "              [1.5, 1.6, 1.9, 2.0]])\n",
        "\n",
        "# various ways of indexing\n",
        "\n",
        "E = Y[:3, 0:2] # :3 is the equivalent of 0:3\n",
        "F = Y[0:3, 2:] # 2: is the equivalent of 2:4, because there are 4 columns\n",
        "G = Y[3:5, :2]\n",
        "H = Y[3:, 2:4] # 3: is the equivalent of 3:5, because there are 5 rows\n",
        "\n",
        "print(\"Blocks:\")\n",
        "print(\"E =\")\n",
        "print(E)\n",
        "print(\"\\nF =\")\n",
        "print(F)\n",
        "print(\"\\nG =\")\n",
        "print(G)\n",
        "print(\"\\nH =\")\n",
        "print(H)"
      ]
    },
    {
      "cell_type": "markdown",
      "metadata": {
        "id": "gKoXYbVf65OW"
      },
      "source": [
        "Multiplying block matrices can simply be done by performing \"blockwise multiplication\", *i.e.*, multiplication  done symbolically as if each block are scalars (as long as the sizes of the blocks are well set so that the multiplications make sense).\n",
        "\n",
        "For the example above, while $X \\in \\mathbb{R}^{3\\times 5}$ and $Y \\in \\mathbb{R}^{5\\times 4}$, we can exploit the block structure in multiplying them as if we are multiplying two $2 \\times 2$ matrices:\n",
        "$$ XY=  \\begin{bmatrix} A & B \\\\ C & D \\end{bmatrix} \\begin{bmatrix} E & F \\\\ G & H \\end{bmatrix} = \\begin{bmatrix} AE + BG & AF + BH \\\\ CE + DG & CF + DH \\end{bmatrix}. $$"
      ]
    },
    {
      "cell_type": "code",
      "execution_count": 5,
      "metadata": {
        "colab": {
          "base_uri": "https://localhost:8080/"
        },
        "id": "RZ-MDKcU6mld",
        "outputId": "86e3369f-2ee2-4bb9-fb46-3dcca32ad5a9"
      },
      "outputs": [
        {
          "name": "stdout",
          "output_type": "stream",
          "text": [
            "Direct multplication: X*Y =\n",
            "[[23.3 25.4 32.9 35. ]\n",
            " [31.6 35.  48.2 51.6]\n",
            " [51.9 58.4 85.1 91.6]]\n",
            "\n",
            "\n",
            "Blocks:\n",
            "A*E + B*G =\n",
            "[[23.3 25.4]\n",
            " [31.6 35. ]]\n",
            "\n",
            "A*F + B*H =\n",
            "[[32.9 35. ]\n",
            " [48.2 51.6]]\n",
            "\n",
            "C*E + D*G =\n",
            "[[51.9 58.4]]\n",
            "\n",
            "C*F + D*H =\n",
            "[[85.1 91.6]]\n"
          ]
        }
      ],
      "source": [
        "print(\"Direct multplication: X*Y =\")\n",
        "print(X @ Y)\n",
        "print(\"\\n\\nBlocks:\")\n",
        "print(\"A*E + B*G =\")\n",
        "print(A@E + B@G)\n",
        "print(\"\\nA*F + B*H =\")\n",
        "print(A@F + B@H)\n",
        "print(\"\\nC*E + D*G =\")\n",
        "print(C@E + D@G)\n",
        "print(\"\\nC*F + D*H =\")\n",
        "print(C@F + D@H)"
      ]
    },
    {
      "cell_type": "markdown",
      "metadata": {
        "id": "mSg6zhI2DiKM"
      },
      "source": [
        "Because matrix multiplication is not commutative, the order of the factors must **not** be altered.\n",
        "\n",
        "For example, the first block of $XY$ is $AE + BG$, and you must not confuse it with $EA + GB$. (In fact, the latter is not even well-defined.)"
      ]
    },
    {
      "cell_type": "code",
      "execution_count": 6,
      "metadata": {
        "colab": {
          "base_uri": "https://localhost:8080/"
        },
        "id": "f51oGNie86UQ",
        "outputId": "0979cf6e-26c5-47ef-b4a5-d3c8be19d8fe"
      },
      "outputs": [
        {
          "name": "stdout",
          "output_type": "stream",
          "text": [
            "The following error has occured:\n",
            "operands could not be broadcast together with shapes (3,3) (2,2) \n"
          ]
        }
      ],
      "source": [
        "try:\n",
        "    print(E@A + G@B)\n",
        "except Exception as e:\n",
        "    print(\"The following error has occured:\")\n",
        "    print(e)"
      ]
    },
    {
      "cell_type": "markdown",
      "metadata": {
        "id": "sgvYN3akY61J"
      },
      "source": [
        "### Inverse of a Block Matrix"
      ]
    },
    {
      "cell_type": "markdown",
      "metadata": {
        "id": "pyFFpaqcFHPS"
      },
      "source": [
        "Now let us consider the following block matrix\n",
        "$$ Z = \\begin{bmatrix} Z_{11} & Z_{12} \\\\ Z_{21} & Z_{22} \\end{bmatrix} = \\left[\n",
        "  \\begin{array}{ccc|cc}\n",
        "  1 & 2 & 2 & 1 & 3 \\\\\n",
        "  1 & 4 & 5 & 0 & 2 \\\\\n",
        "  2 & 7 & 8 & 3 & 7 \\\\\n",
        "  \\hline\n",
        "  5 & 3 & 0 & 4 & 3 \\\\\n",
        "  2 & 3 & 1 & 9 & 7\n",
        "\\end{array} \\right].$$"
      ]
    },
    {
      "cell_type": "code",
      "execution_count": 6,
      "metadata": {
        "colab": {
          "base_uri": "https://localhost:8080/"
        },
        "id": "uIXF_l0oCUvs",
        "outputId": "0cc7acf1-f598-4e2a-cbea-48b05f99481d"
      },
      "outputs": [
        {
          "name": "stdout",
          "output_type": "stream",
          "text": [
            "Z = \n",
            "[[1 2 2 1 3]\n",
            " [1 4 5 0 2]\n",
            " [2 7 8 3 7]\n",
            " [5 3 0 4 3]\n",
            " [2 3 1 9 7]]\n"
          ]
        }
      ],
      "source": [
        "Z11 = np.array([[1, 2, 2],\n",
        "                [1, 4, 5],\n",
        "                [2, 7, 8]])\n",
        "Z12 = np.array([[1, 3],\n",
        "                [0, 2],\n",
        "                [3, 7]])\n",
        "Z21 = np.array([[5, 3, 0],\n",
        "                [2, 3, 1]])\n",
        "Z22 = np.array([[4, 3],\n",
        "                [9, 7]])\n",
        "\n",
        "Z = np.block([[Z11, Z12],\n",
        "              [Z21, Z22]])\n",
        "\n",
        "print(\"Z = \")\n",
        "print(Z)"
      ]
    },
    {
      "cell_type": "markdown",
      "metadata": {
        "id": "T3nJoiKDKmr5"
      },
      "source": [
        "$Z_{11}$ is invertible, so we can do Gaussian elimination to eliminate $Z_{21}$:\n",
        "$$ \\begin{bmatrix} Z_{11}^{-1} & \\boldsymbol{0} \\\\ -Z_{21} Z_{11}^{-1} & I_{22} \\end{bmatrix} \\begin{bmatrix} Z_{11} & Z_{12} \\\\ Z_{21} & Z_{22} \\end{bmatrix} = \\begin{bmatrix} I_{11} &  Z_{11}^{-1} Z_{12} \\\\ \\boldsymbol{0} & Z_{22} - Z_{21} Z_{11}^{-1} Z_{12} \\end{bmatrix} .$$\n",
        "\n",
        "&nbsp;\n",
        "\n",
        "The matrix $S_{22} := Z_{22} - Z_{21} Z_{11}^{-1} Z_{12}$ is called the **Schur complement** of $Z_{11}$ in $Z$."
      ]
    },
    {
      "cell_type": "code",
      "execution_count": 7,
      "metadata": {
        "colab": {
          "base_uri": "https://localhost:8080/"
        },
        "id": "3ZN-kwEEF4Nn",
        "outputId": "77694c94-8e53-44fc-a628-c4018bde584e"
      },
      "outputs": [
        {
          "name": "stdout",
          "output_type": "stream",
          "text": [
            "[[ 3.  2. -2.]\n",
            " [-2. -4.  3.]\n",
            " [ 1.  3. -2.]]\n"
          ]
        }
      ],
      "source": [
        "Z11_inv = np.linalg.inv(Z11)\n",
        "print(Z11_inv)"
      ]
    },
    {
      "cell_type": "code",
      "execution_count": 8,
      "metadata": {
        "colab": {
          "base_uri": "https://localhost:8080/"
        },
        "id": "QYc1XAQnF6Gf",
        "outputId": "8ad783c8-ffaf-45db-8bef-5d569108c27e"
      },
      "outputs": [
        {
          "name": "stdout",
          "output_type": "stream",
          "text": [
            "[[  1.   0.   0.  -3.  -1.]\n",
            " [  0.   1.  -0.   7.   7.]\n",
            " [  0.   0.   1.  -5.  -5.]\n",
            " [ -0.  -0.  -0.  -2. -13.]\n",
            " [ -0.  -0.  -0.  -1.  -7.]]\n"
          ]
        }
      ],
      "source": [
        "L1 = np.block([[Z11_inv, np.zeros((3, 2))],\n",
        "              [-Z21 @ Z11_inv, np.eye(2)]])\n",
        "print(L1 @ Z)"
      ]
    },
    {
      "cell_type": "code",
      "execution_count": 9,
      "metadata": {
        "colab": {
          "base_uri": "https://localhost:8080/"
        },
        "id": "KEtmEvHPLKZ2",
        "outputId": "8dd34125-629e-4c99-e27d-21a5d5de0d5e"
      },
      "outputs": [
        {
          "name": "stdout",
          "output_type": "stream",
          "text": [
            "Z_11^-1 * Z_12 =\n",
            "[[-3. -1.]\n",
            " [ 7.  7.]\n",
            " [-5. -5.]]\n",
            "\n",
            "S_22 =\n",
            "[[ -2. -13.]\n",
            " [ -1.  -7.]]\n"
          ]
        }
      ],
      "source": [
        "print(\"Z_11^-1 * Z_12 =\")\n",
        "print(Z11_inv @ Z12)\n",
        "\n",
        "S22 = Z22 - Z21 @ Z11_inv @ Z12\n",
        "print(\"\\nS_22 =\")\n",
        "print(S22)"
      ]
    },
    {
      "cell_type": "markdown",
      "metadata": {
        "id": "e1NgeqNfTr1f"
      },
      "source": [
        "In this example, the Schur complement $S_{22}$ is also invertible. Thus we may do Gaussian elimination once more to get\n",
        "$$ \\begin{bmatrix} I_{11} & -Z_{11}^{-1} Z_{12} S_{22}^{-1} \\\\ \\boldsymbol{0} & S_{22}^{-1} \\end{bmatrix} \\begin{bmatrix} I_{11} &  Z_{11}^{-1} Z_{12} \\\\ \\boldsymbol{0} & S_{22} \\end{bmatrix} = \\begin{bmatrix} I_{11} & \\boldsymbol{0}  \\\\ \\boldsymbol{0} & I_{22} \\end{bmatrix}.$$\n",
        "\n",
        "\n",
        "\n"
      ]
    },
    {
      "cell_type": "code",
      "execution_count": 10,
      "metadata": {
        "colab": {
          "base_uri": "https://localhost:8080/"
        },
        "id": "L0WTgexqMBcX",
        "outputId": "0322f709-1ecf-4713-d375-88b42c050269"
      },
      "outputs": [
        {
          "name": "stdout",
          "output_type": "stream",
          "text": [
            "[[-7. 13.]\n",
            " [ 1. -2.]]\n"
          ]
        }
      ],
      "source": [
        "S_inv = np.linalg.inv(S22)\n",
        "print(S_inv)"
      ]
    },
    {
      "cell_type": "code",
      "execution_count": 11,
      "metadata": {
        "colab": {
          "base_uri": "https://localhost:8080/"
        },
        "id": "_1luwon4PPZn",
        "outputId": "87bbfd14-f433-4692-e34b-e19f3cf31af0"
      },
      "outputs": [
        {
          "name": "stdout",
          "output_type": "stream",
          "text": [
            "[[ 1.  0.  0. -0.  0.]\n",
            " [ 0.  1. -0. -0. -0.]\n",
            " [-0.  0.  1.  0.  0.]\n",
            " [-0.  0.  0.  1.  0.]\n",
            " [ 0. -0. -0.  0.  1.]]\n"
          ]
        }
      ],
      "source": [
        "L2 = np.block([[np.eye(3), -Z11_inv @ Z12 @ S_inv],\n",
        "               [np.zeros((2, 3)), S_inv]])\n",
        "print(L2 @ (L1 @ Z))"
      ]
    },
    {
      "cell_type": "markdown",
      "metadata": {
        "id": "1kNaaxjLVw7f"
      },
      "source": [
        "From the eliminations, we get the formula for the inverse of a block matrix\n",
        "\\begin{align*}\n",
        "\\begin{bmatrix} Z_{11} & Z_{12} \\\\ Z_{21} & Z_{22} \\end{bmatrix} ^{-1} &= \\begin{bmatrix} I_{11} & -Z_{11}^{-1} Z_{12} S_{22}^{-1} \\\\ \\boldsymbol{0} & S_{22}^{-1} \\end{bmatrix}  \\begin{bmatrix} Z_{11}^{-1} & \\boldsymbol{0} \\\\ -Z_{21} Z_{11}^{-1} & I_{22} \\end{bmatrix} \\\\[5pt]\n",
        "&= \\begin{bmatrix} Z_{11}^{-1} + Z_{11}^{-1} Z_{12} S_{22}^{-1} Z_{21} Z_{11}^{-1}  &  -Z_{11}^{-1} Z_{12} S_{22}^{-1}  \\\\  -S_{22}^{-1} Z_{21} Z_{11}^{-1} & S_{22}^{-1} \\end{bmatrix} .\n",
        "\\end{align*}"
      ]
    },
    {
      "cell_type": "code",
      "execution_count": 12,
      "metadata": {
        "colab": {
          "base_uri": "https://localhost:8080/"
        },
        "id": "xY0sjNcPVd5u",
        "outputId": "8afcecf8-ad89-4243-eeb6-90ad1e06239c"
      },
      "outputs": [
        {
          "name": "stdout",
          "output_type": "stream",
          "text": [
            "Direct inverse: Z^-1 =\n",
            "[[ 146.  147. -133.  -20.   37.]\n",
            " [-303. -305.  276.   42.  -77.]\n",
            " [ 216.  218. -197.  -30.   55.]\n",
            " [  50.   51.  -46.   -7.   13.]\n",
            " [  -7.   -8.    7.    1.   -2.]]\n",
            "\n",
            "\n",
            "Blocks:\n",
            "Z_11^-1 + Z_11^-1 * Z_12 * S_22^-1 * Z_21 * Z_11^-1 =\n",
            "[[ 146.  147. -133.]\n",
            " [-303. -305.  276.]\n",
            " [ 216.  218. -197.]]\n",
            "\n",
            "-Z_11^-1 * Z_12 * S_22^-1 =\n",
            "[[-20.  37.]\n",
            " [ 42. -77.]\n",
            " [-30.  55.]]\n",
            "\n",
            "-S_22^-1 * Z_21 * Z_11^-1 =\n",
            "[[ 50.  51. -46.]\n",
            " [ -7.  -8.   7.]]\n",
            "\n",
            "S_22^-1 =\n",
            "[[-7. 13.]\n",
            " [ 1. -2.]]\n"
          ]
        }
      ],
      "source": [
        "print(\"Direct inverse: Z^-1 =\")\n",
        "print(np.linalg.inv(Z))\n",
        "\n",
        "print(\"\\n\\nBlocks:\")\n",
        "print(\"Z_11^-1 + Z_11^-1 * Z_12 * S_22^-1 * Z_21 * Z_11^-1 =\")\n",
        "print(Z11_inv + Z11_inv @ Z12 @ S_inv @ Z21 @ Z11_inv)\n",
        "print(\"\\n-Z_11^-1 * Z_12 * S_22^-1 =\")\n",
        "print(-Z11_inv @ Z12 @ S_inv)\n",
        "print(\"\\n-S_22^-1 * Z_21 * Z_11^-1 =\")\n",
        "print(-S_inv @ Z21 @ Z11_inv)\n",
        "print(\"\\nS_22^-1 =\")\n",
        "print(S_inv)"
      ]
    },
    {
      "cell_type": "markdown",
      "metadata": {
        "id": "aOnwAM2zkVie"
      },
      "source": [
        "### Graphs and Matrices"
      ]
    },
    {
      "cell_type": "code",
      "execution_count": null,
      "metadata": {},
      "outputs": [],
      "source": []
    },
    {
      "cell_type": "markdown",
      "metadata": {
        "id": "STqWkS6ZHbyY"
      },
      "source": [
        "Consider the graph example in section 2.8 of our textbook."
      ]
    },
    {
      "cell_type": "code",
      "execution_count": 25,
      "metadata": {},
      "outputs": [
        {
          "data": {
            "image/png": "[encoded data removed]",
            "text/plain": [
              "<IPython.core.display.Image object>"
            ]
          },
          "execution_count": 25,
          "metadata": {
            "image/png": {
              "width": 500
            }
          },
          "output_type": "execute_result"
        }
      ],
      "source": [
        "from IPython.display import Image\n",
        "Image('/Users/wanmokang/Downloads/sec2_8-undirected_graph.png', width = 500)"
      ]
    },
    {
      "cell_type": "markdown",
      "metadata": {
        "id": "1LkVeUaVJ8t1"
      },
      "source": [
        "There are several ways to represent a graph. One is to use a *list of lists*, where the $i$th list is the list of all vertices adjacent to the $i$th vertex.\n",
        "\n",
        "This is often called the *adjacency list*  of a graph."
      ]
    },
    {
      "cell_type": "code",
      "execution_count": 10,
      "metadata": {
        "id": "0rVlaHuognQ8"
      },
      "outputs": [],
      "source": [
        "# adjacency list\n",
        "edges = [[],            # 0\n",
        "         [3, 4, 5],     # 1\n",
        "         [3, 4, 5],     # 2\n",
        "         [1, 2, 6, 7],  # 3\n",
        "         [1, 2, 6, 7],  # 4\n",
        "         [1, 2, 6, 7],  # 5\n",
        "         [3, 4, 5, 8],  # 6\n",
        "         [3, 4, 5, 8],  # 7\n",
        "         [6, 7]]        # 8"
      ]
    },
    {
      "cell_type": "markdown",
      "metadata": {
        "id": "sm8J_7KGNWvW"
      },
      "source": [
        "Another way of representing a graph is to use the adjacency matrix, whose $(i, j)$ entry is equal to the number of edges between $v_i$ and $v_j$."
      ]
    },
    {
      "cell_type": "code",
      "execution_count": 11,
      "metadata": {
        "colab": {
          "base_uri": "https://localhost:8080/"
        },
        "id": "_5sS7EMJlXhw",
        "outputId": "b3602782-bba9-47b3-c5a6-c0ae1e541b0a"
      },
      "outputs": [
        {
          "name": "stdout",
          "output_type": "stream",
          "text": [
            "[[0. 0. 1. 1. 1. 0. 0. 0.]\n",
            " [0. 0. 1. 1. 1. 0. 0. 0.]\n",
            " [1. 1. 0. 0. 0. 1. 1. 0.]\n",
            " [1. 1. 0. 0. 0. 1. 1. 0.]\n",
            " [1. 1. 0. 0. 0. 1. 1. 0.]\n",
            " [0. 0. 1. 1. 1. 0. 0. 1.]\n",
            " [0. 0. 1. 1. 1. 0. 0. 1.]\n",
            " [0. 0. 0. 0. 0. 1. 1. 0.]]\n"
          ]
        }
      ],
      "source": [
        "# adjacency matrix\n",
        "A = np.zeros((8, 8))\n",
        "for i in range(1, 8+1):\n",
        "    for j in edges[i] :\n",
        "        A[i-1, j-1] = 1\n",
        "\n",
        "print(A)"
      ]
    },
    {
      "cell_type": "markdown",
      "metadata": {
        "id": "iQFWG97KPERc"
      },
      "source": [
        "An example where adjacency matrices are particularly useful is the following.\n",
        "We call that a path in a graph is of *length* $m$ if that path is consisted of $m$ edges (not necessarily distinct).\n",
        "\n",
        "\n",
        "> Given two vertices $v_i$ and $v_j$, how many distinct paths of length $m$ are there from $v_i$ to $v_j$?\n",
        "\n",
        "For example, when $i=6$, $j=8$, and $m=3$ in our graph, there are $8$ paths from $v_6$ to $v_8$ that are of length $3$:\n",
        "\n",
        "\n",
        "1.   $v_6 \\to v_3 \\to v_6 \\to v_8$,\n",
        "2.   $v_6 \\to v_4 \\to v_6 \\to v_8$,\n",
        "3.   $v_6 \\to v_5 \\to v_6 \\to v_8$,\n",
        "4.   $v_6 \\to v_3 \\to v_7 \\to v_8$,\n",
        "5.   $v_6 \\to v_4 \\to v_7 \\to v_8$,\n",
        "6.   $v_6 \\to v_5 \\to v_7 \\to v_8$,\n",
        "7.   $v_6 \\to v_8 \\to v_6 \\to v_8$,\n",
        "8.   $v_6 \\to v_8 \\to v_7 \\to v_8$.\n",
        "\n",
        "The fact that there are $8$ such paths can be verified by brute force. Clearly, however, the problem gets quickly intractable as $m$ gets large.\n"
      ]
    },
    {
      "cell_type": "markdown",
      "metadata": {
        "id": "3cJsIPLmnSML"
      },
      "source": [
        "Interestingly, adjacency matrices have the following property.\n",
        "\n",
        "> Let $A$ be an adjacency matrix of a given graph. Then, $[A^m]_{i j}$ is the number of length $m$ paths from $v_i$ to $v_j$.\n",
        "\n",
        "The statement above holds even if we allow having multiple edges between two vertices.\n",
        "\n",
        "Proof can be done by induction on $m$.\n",
        "\n",
        "&nbsp;\n",
        "\n",
        "So, for example, looking at $A^{3}$ we can see how many paths of length $3$ are there between any pair of vertices.\n",
        "\n"
      ]
    },
    {
      "cell_type": "code",
      "execution_count": 12,
      "metadata": {
        "colab": {
          "base_uri": "https://localhost:8080/"
        },
        "id": "fZj_EvFcQTlJ",
        "outputId": "89475fe4-90ef-4db2-f47c-d6d001c69a3f"
      },
      "outputs": [
        {
          "name": "stdout",
          "output_type": "stream",
          "text": [
            "[[ 0.  0. 12. 12. 12.  0.  0.  6.]\n",
            " [ 0.  0. 12. 12. 12.  0.  0.  6.]\n",
            " [12. 12.  0.  0.  0. 14. 14.  0.]\n",
            " [12. 12.  0.  0.  0. 14. 14.  0.]\n",
            " [12. 12.  0.  0.  0. 14. 14.  0.]\n",
            " [ 0.  0. 14. 14. 14.  0.  0.  8.]\n",
            " [ 0.  0. 14. 14. 14.  0.  0.  8.]\n",
            " [ 6.  6.  0.  0.  0.  8.  8.  0.]]\n"
          ]
        }
      ],
      "source": [
        "print(np.linalg.matrix_power(A, 3))"
      ]
    },
    {
      "cell_type": "markdown",
      "metadata": {
        "id": "GcMFT8V6EoCX"
      },
      "source": [
        "Rearranging the order of vertices, we see that it is possible to group the vertices into two sets $V_1 = \\{v_3, v_4, v_5, v_8\\}$ and $V_2 = \\{v_1, v_2, v_6, v_7\\}$ so that there are no edges between two vertices in the same set.\n",
        "\n",
        "Because of this property of the graph being *bipartite*, the adjacency matrix $B$ we get after permuting the vertices has a block structure."
      ]
    },
    {
      "cell_type": "code",
      "execution_count": 17,
      "metadata": {
        "colab": {
          "base_uri": "https://localhost:8080/"
        },
        "id": "AeBVv8BRlnFx",
        "outputId": "5f148eb8-adb5-4454-b1fc-14c0110388de"
      },
      "outputs": [
        {
          "name": "stdout",
          "output_type": "stream",
          "text": [
            "[[0. 0. 0. 0. 1. 1. 1. 1.]\n",
            " [0. 0. 0. 0. 1. 1. 1. 1.]\n",
            " [0. 0. 0. 0. 1. 1. 1. 1.]\n",
            " [0. 0. 0. 0. 0. 0. 1. 1.]\n",
            " [1. 1. 1. 0. 0. 0. 0. 0.]\n",
            " [1. 1. 1. 0. 0. 0. 0. 0.]\n",
            " [1. 1. 1. 1. 0. 0. 0. 0.]\n",
            " [1. 1. 1. 1. 0. 0. 0. 0.]]\n"
          ]
        }
      ],
      "source": [
        "# permuted adjacency matrix\n",
        "B = np.zeros((8, 8))\n",
        "v_order = [3, 4, 5, 8, 1, 2, 6, 7]\n",
        "\n",
        "for m in range(8):\n",
        "    for n in range(8) :\n",
        "        i = v_order[m]\n",
        "        j = v_order[n]\n",
        "        if j in edges[i] :\n",
        "            B[m, n] = 1\n",
        "\n",
        "print(B)"
      ]
    },
    {
      "cell_type": "markdown",
      "metadata": {
        "id": "ebml8n49GWIN"
      },
      "source": [
        "Considering paths of length $2$, it should be clear that $B^2$ is a block diagonal matrix."
      ]
    },
    {
      "cell_type": "code",
      "execution_count": 18,
      "metadata": {
        "colab": {
          "base_uri": "https://localhost:8080/"
        },
        "id": "lrLOMajQGfRc",
        "outputId": "57c70989-4b92-4eee-ce4b-7a7a74cc791c"
      },
      "outputs": [
        {
          "name": "stdout",
          "output_type": "stream",
          "text": [
            "[[4. 4. 4. 2. 0. 0. 0. 0.]\n",
            " [4. 4. 4. 2. 0. 0. 0. 0.]\n",
            " [4. 4. 4. 2. 0. 0. 0. 0.]\n",
            " [2. 2. 2. 2. 0. 0. 0. 0.]\n",
            " [0. 0. 0. 0. 3. 3. 3. 3.]\n",
            " [0. 0. 0. 0. 3. 3. 3. 3.]\n",
            " [0. 0. 0. 0. 3. 3. 4. 4.]\n",
            " [0. 0. 0. 0. 3. 3. 4. 4.]]\n"
          ]
        }
      ],
      "source": [
        "B2 = B @ B # shall not be confused with B**2\n",
        "print(B2)"
      ]
    },
    {
      "cell_type": "markdown",
      "metadata": {
        "id": "r8h2ZmK7KIqP"
      },
      "source": [
        "&nbsp;"
      ]
    }
  ],
  "metadata": {
    "colab": {
      "provenance": []
    },
    "kernelspec": {
      "display_name": "linear_algebra",
      "language": "python",
      "name": "python3"
    },
    "language_info": {
      "codemirror_mode": {
        "name": "ipython",
        "version": 3
      },
      "file_extension": ".py",
      "mimetype": "text/x-python",
      "name": "python",
      "nbconvert_exporter": "python",
      "pygments_lexer": "ipython3",
      "version": "3.12.9"
    }
  },
  "nbformat": 4,
  "nbformat_minor": 0
}
