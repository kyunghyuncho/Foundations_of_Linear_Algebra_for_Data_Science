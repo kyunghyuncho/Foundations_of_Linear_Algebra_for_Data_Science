{
  "cells": [
    {
      "cell_type": "markdown",
      "metadata": {},
      "source": [
        "# Chapter 4 $QR$-Decomposition\n",
        "\n",
        "Let us investigate the inner products and projections in $\\mathbf{R}^n$."
      ]
    },
    {
      "cell_type": "code",
      "execution_count": 2,
      "metadata": {
        "id": "lwRCRj-Dqq1L"
      },
      "outputs": [],
      "source": [
        "# numerical and scientific computing libraries  \n",
        "import numpy as np \n",
        "import scipy as sp\n",
        "\n",
        "# plotting libraries\n",
        "import matplotlib as mpl\n",
        "import matplotlib.pyplot as plt\n",
        "import seaborn as sns"
      ]
    },
    {
      "cell_type": "code",
      "execution_count": 3,
      "metadata": {},
      "outputs": [],
      "source": [
        "# for pretty printing\n",
        "np.set_printoptions(4, linewidth=100, suppress=True)"
      ]
    },
    {
      "cell_type": "markdown",
      "metadata": {},
      "source": [
        "### $QR$-Decomposition by Gram-Schmidt procedure\n",
        "\n",
        "We define a function doing a naive $QR$-decomposition based on the Gram-Schmidt procedure to construct an upper triangular matrix $R$."
      ]
    },
    {
      "cell_type": "code",
      "execution_count": 4,
      "metadata": {},
      "outputs": [],
      "source": [
        "def classical_QR(A):\n",
        "    m, n = A.shape\n",
        "\n",
        "    R = np.zeros((n,n))\n",
        "    R[0,0] = np.linalg.norm(A[:,0])\n",
        "\n",
        "    Q = (1/R[0,0])*A[:,0]\n",
        "\n",
        "    # Gram-Schmidt process\n",
        "    for j in range(1,n):\n",
        "        Q = np.column_stack((Q,A[:,j]))\n",
        "        for i in range(j):\n",
        "            R[i,j] = np.dot(Q[:,i].T,A[:,j])\n",
        "            Q[:,j] = Q[:,j] - R[i,j]*Q[:,i]\n",
        "        R[j,j] = np.linalg.norm(Q[:,j])\n",
        "        if np.abs(R[j,j]) < 1e-10:\n",
        "            raise ValueError(\"QR factorization failed: A is rank deficient\")  \n",
        "    \n",
        "        Q[:,j] = (1/R[j,j])*Q[:,j]\n",
        "\n",
        "    return Q, R"
      ]
    },
    {
      "cell_type": "markdown",
      "metadata": {},
      "source": [
        "Test the naive $QR$-decomposition for randomly generated matrix."
      ]
    },
    {
      "cell_type": "code",
      "execution_count": 5,
      "metadata": {
        "colab": {
          "base_uri": "https://localhost:8080/",
          "height": 430
        },
        "id": "AVNILtkTH_sp",
        "outputId": "4a76b9e8-7463-48d8-d638-32cc92230688"
      },
      "outputs": [
        {
          "name": "stdout",
          "output_type": "stream",
          "text": [
            "True\n",
            "True\n",
            "[[31.0728 -0.4599  1.5043  0.5618  1.3288  0.2266  0.9656 -1.6745 -0.4075  0.7667]\n",
            " [ 0.     30.2291  0.3661 -1.1778 -0.4924 -1.0276 -1.0851 -0.6622 -1.0277 -0.7064]\n",
            " [ 0.      0.     30.9592  1.3963 -1.1143  1.2984 -0.7342  1.795   0.2339  0.1418]\n",
            " [ 0.      0.      0.     32.986   1.5231  0.5362 -0.9628 -0.4111  0.0855 -0.4439]\n",
            " [ 0.      0.      0.      0.     30.8476  1.4517 -1.2405 -1.8453  0.7806 -0.057 ]\n",
            " [ 0.      0.      0.      0.      0.     29.9506  0.0669  0.1918 -0.0713 -0.7031]\n",
            " [ 0.      0.      0.      0.      0.      0.     31.529  -0.64   -0.4744  0.1873]\n",
            " [ 0.      0.      0.      0.      0.      0.      0.     32.3621 -0.9452  0.7793]\n",
            " [ 0.      0.      0.      0.      0.      0.      0.      0.     31.3604  0.2887]\n",
            " [ 0.      0.      0.      0.      0.      0.      0.      0.      0.     31.5441]]\n"
          ]
        }
      ],
      "source": [
        "# Setting dimension m >= n \n",
        "m = 1000\n",
        "n = 990\n",
        "\n",
        "# Generating a random matrix A  of dimension m x n\n",
        "A = np.random.randn(m,n)\n",
        "\n",
        "Q, R = classical_QR(A)\n",
        "\n",
        "# Checking the QR factorization\n",
        "print(np.allclose(A,Q@R))\n",
        "print(np.allclose(Q.T@Q,np.eye(n)))\n",
        "print(R[:min(10,n),:min(10,n)])    "
      ]
    },
    {
      "cell_type": "markdown",
      "metadata": {},
      "source": [
        "However, this procedure fails for the following small ill-conditioned example. As a remedy for these ill-conditioned matrices, a modified one will be found in Chapter 5."
      ]
    },
    {
      "cell_type": "code",
      "execution_count": 22,
      "metadata": {},
      "outputs": [
        {
          "name": "stdout",
          "output_type": "stream",
          "text": [
            "True\n",
            "[[ 1.      0.      0.    ]\n",
            " [ 0.     -0.7071 -0.7071]\n",
            " [ 0.      0.7071  0.    ]\n",
            " [ 0.      0.      0.7071]]\n",
            "[[ 1.  -0.  -0. ]\n",
            " [-0.   1.   0.5]\n",
            " [-0.   0.5  1. ]]\n",
            "[[1. 1. 1.]\n",
            " [0. 0. 0.]\n",
            " [0. 0. 0.]]\n"
          ]
        }
      ],
      "source": [
        "\n",
        "epsilon = 1e-8\n",
        "A = np.array([[1, 1, 1],\n",
        "              [epsilon, 0, 0],\n",
        "              [0, epsilon, 0],\n",
        "              [0, 0, epsilon]])\n",
        "\n",
        "Q, R = classical_QR(A)\n",
        "\n",
        "print(np.allclose(A,Q@R))\n",
        "print(Q)\n",
        "print(Q.T@Q)\n",
        "print(R)"
      ]
    }
  ],
  "metadata": {
    "colab": {
      "provenance": []
    },
    "kernelspec": {
      "display_name": "linear_algebra",
      "language": "python",
      "name": "python3"
    },
    "language_info": {
      "codemirror_mode": {
        "name": "ipython",
        "version": 3
      },
      "file_extension": ".py",
      "mimetype": "text/x-python",
      "name": "python",
      "nbconvert_exporter": "python",
      "pygments_lexer": "ipython3",
      "version": "3.12.9"
    }
  },
  "nbformat": 4,
  "nbformat_minor": 0
}
