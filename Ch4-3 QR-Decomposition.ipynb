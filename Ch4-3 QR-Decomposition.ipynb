{
  "cells": [
    {
      "cell_type": "markdown",
      "metadata": {},
      "source": [
        "# Chapter 4 $QR$-Decomposition\n",
        "\n",
        "Let us investigate the inner products and projections in $\\mathbf{R}^n$."
      ]
    },
    {
      "cell_type": "code",
      "execution_count": 3,
      "metadata": {
        "id": "lwRCRj-Dqq1L"
      },
      "outputs": [],
      "source": [
        "# numerical and scientific computing libraries  \n",
        "import numpy as np \n",
        "import scipy as sp\n",
        "\n",
        "# plotting libraries\n",
        "import matplotlib as mpl\n",
        "import matplotlib.pyplot as plt\n",
        "import seaborn as sns"
      ]
    },
    {
      "cell_type": "code",
      "execution_count": 4,
      "metadata": {},
      "outputs": [],
      "source": [
        "# for pretty printing\n",
        "np.set_printoptions(4, linewidth=100, suppress=True)"
      ]
    },
    {
      "cell_type": "markdown",
      "metadata": {},
      "source": [
        "### $QR$-Decomposition by Gram-Schmidt procedure\n",
        "\n",
        "We modify the Gram-Schmidt procedure to construct an upper triangular matrix $R$."
      ]
    },
    {
      "cell_type": "code",
      "execution_count": 13,
      "metadata": {},
      "outputs": [],
      "source": [
        "# Setting dimension m >= n \n",
        "m = 1000\n",
        "n = 990"
      ]
    },
    {
      "cell_type": "code",
      "execution_count": 14,
      "metadata": {
        "colab": {
          "base_uri": "https://localhost:8080/",
          "height": 430
        },
        "id": "AVNILtkTH_sp",
        "outputId": "4a76b9e8-7463-48d8-d638-32cc92230688"
      },
      "outputs": [
        {
          "name": "stdout",
          "output_type": "stream",
          "text": [
            "True\n",
            "True\n",
            "[[32.7791 -0.1179 -0.4452 -1.3331 -0.6591  0.6452 -1.8277  1.1891 -1.5439 -0.3207]\n",
            " [ 0.     32.1251  1.429  -1.6373  0.7497  0.605  -0.9694 -0.1793 -0.9345 -0.0175]\n",
            " [ 0.      0.     30.5784  0.5744 -1.4772  0.5784 -0.5911  0.8124 -1.6228 -0.8016]\n",
            " [ 0.      0.      0.     32.1499 -0.3595  0.2331  0.8883 -1.3065 -0.6194 -1.1465]\n",
            " [ 0.      0.      0.      0.     30.6813  1.0929 -1.868   1.0165  0.7516 -0.3965]\n",
            " [ 0.      0.      0.      0.      0.     30.6483  0.1156  1.2528 -2.5854  0.0988]\n",
            " [ 0.      0.      0.      0.      0.      0.     30.7676  0.5567 -0.1416  0.3742]\n",
            " [ 0.      0.      0.      0.      0.      0.      0.     30.7528  1.1148  0.5153]\n",
            " [ 0.      0.      0.      0.      0.      0.      0.      0.     30.9303 -0.5265]\n",
            " [ 0.      0.      0.      0.      0.      0.      0.      0.      0.     32.3309]]\n"
          ]
        }
      ],
      "source": [
        "# Generating a random matrix A  of dimension m x n\n",
        "A = np.random.randn(m,n)\n",
        "\n",
        "R = np.zeros((n,n))\n",
        "R[0,0] = np.linalg.norm(A[:,0])\n",
        "\n",
        "Q = (1/R[0,0])*A[:,0]\n",
        "\n",
        "# Gram-Schmidt process\n",
        "for j in range(1,n):\n",
        "    Q = np.column_stack((Q,A[:,j]))\n",
        "    for i in range(j):\n",
        "        R[i,j] = np.dot(Q[:,i].T,A[:,j])\n",
        "        Q[:,j] = Q[:,j] - R[i,j]*Q[:,i]\n",
        "    R[j,j] = np.linalg.norm(Q[:,j])\n",
        "    Q[:,j] = (1/R[j,j])*Q[:,j]\n",
        "\n",
        "# Checking the QR factorization\n",
        "print(np.allclose(A,Q@R))\n",
        "print(np.allclose(Q.T@Q,np.eye(n)))\n",
        "print(R[:min(10,n),:min(10,n)])    "
      ]
    }
  ],
  "metadata": {
    "colab": {
      "provenance": []
    },
    "kernelspec": {
      "display_name": "linear_algebra",
      "language": "python",
      "name": "python3"
    },
    "language_info": {
      "codemirror_mode": {
        "name": "ipython",
        "version": 3
      },
      "file_extension": ".py",
      "mimetype": "text/x-python",
      "name": "python",
      "nbconvert_exporter": "python",
      "pygments_lexer": "ipython3",
      "version": "3.12.9"
    }
  },
  "nbformat": 4,
  "nbformat_minor": 0
}
