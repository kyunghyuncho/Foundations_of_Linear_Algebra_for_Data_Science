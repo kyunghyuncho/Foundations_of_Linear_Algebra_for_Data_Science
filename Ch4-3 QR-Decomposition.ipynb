{
  "cells": [
    {
      "cell_type": "markdown",
      "metadata": {},
      "source": [
        "# Chapter 4 $QR$-Decomposition\n",
        "\n",
        "Let us investigate the inner products and projections in $\\mathbf{R}^n$."
      ]
    },
    {
      "cell_type": "code",
      "execution_count": 16,
      "metadata": {
        "id": "lwRCRj-Dqq1L"
      },
      "outputs": [],
      "source": [
        "# numerical and scientific computing libraries  \n",
        "import numpy as np \n",
        "import scipy as sp\n",
        "\n",
        "# plotting libraries\n",
        "import matplotlib as mpl\n",
        "import matplotlib.pyplot as plt\n",
        "import seaborn as sns"
      ]
    },
    {
      "cell_type": "code",
      "execution_count": 17,
      "metadata": {},
      "outputs": [],
      "source": [
        "# for pretty printing\n",
        "np.set_printoptions(4, linewidth=100, suppress=True)"
      ]
    },
    {
      "cell_type": "markdown",
      "metadata": {},
      "source": [
        "### $QR$-Decomposition by Gram-Schmidt procedure\n",
        "\n",
        "We define a function doing a naive $QR$-decomposition based on the Gram-Schmidt procedure to construct an upper triangular matrix $R$."
      ]
    },
    {
      "cell_type": "code",
      "execution_count": 18,
      "metadata": {},
      "outputs": [],
      "source": [
        "def classical_QR(A):\n",
        "    m, n = A.shape\n",
        "\n",
        "    R = np.zeros((n,n))\n",
        "    R[0,0] = np.linalg.norm(A[:,0])\n",
        "\n",
        "    Q = (1/R[0,0])*A[:,0]\n",
        "\n",
        "    # Gram-Schmidt process\n",
        "    for j in range(1,n):\n",
        "        Q = np.column_stack((Q,A[:,j]))\n",
        "        for i in range(j):\n",
        "            R[i,j] = np.dot(Q[:,i].T,A[:,j])\n",
        "            Q[:,j] = Q[:,j] - R[i,j]*Q[:,i]\n",
        "        R[j,j] = np.linalg.norm(Q[:,j])\n",
        "        if np.abs(R[j,j]) < 1e-10:\n",
        "            raise ValueError(\"QR factorization failed: A is rank deficient\")  \n",
        "    \n",
        "        Q[:,j] = (1/R[j,j])*Q[:,j]\n",
        "\n",
        "    return Q, R"
      ]
    },
    {
      "cell_type": "markdown",
      "metadata": {},
      "source": [
        "Test the naive $QR$-decomposition for randomly generated matrix."
      ]
    },
    {
      "cell_type": "code",
      "execution_count": 19,
      "metadata": {
        "colab": {
          "base_uri": "https://localhost:8080/",
          "height": 430
        },
        "id": "AVNILtkTH_sp",
        "outputId": "4a76b9e8-7463-48d8-d638-32cc92230688"
      },
      "outputs": [
        {
          "name": "stdout",
          "output_type": "stream",
          "text": [
            "True\n",
            "True\n",
            "[[32.2746 -0.8268 -1.6879  0.7665 -0.6005  0.0149 -1.9404 -0.3694 -0.1131  1.1452]\n",
            " [ 0.     31.2441  0.7089  0.0482  0.8921  1.3735  1.446  -0.519   0.9768 -0.277 ]\n",
            " [ 0.      0.     30.8222  1.1871 -0.4396  1.425  -0.1451  0.0769 -0.1506  1.2231]\n",
            " [ 0.      0.      0.     31.1067  0.4292  1.0723  0.5361 -1.7488 -0.5323 -1.5206]\n",
            " [ 0.      0.      0.      0.     30.2069  1.0836  1.1266  0.6929  1.1381  2.046 ]\n",
            " [ 0.      0.      0.      0.      0.     30.5681 -0.1258 -0.4312 -0.2602 -1.7173]\n",
            " [ 0.      0.      0.      0.      0.      0.     32.0898  0.0614 -1.9422  0.7784]\n",
            " [ 0.      0.      0.      0.      0.      0.      0.     31.1149 -0.1366  0.7877]\n",
            " [ 0.      0.      0.      0.      0.      0.      0.      0.     31.1858 -0.7169]\n",
            " [ 0.      0.      0.      0.      0.      0.      0.      0.      0.     31.0399]]\n"
          ]
        }
      ],
      "source": [
        "# Setting dimension m >= n \n",
        "m = 1000\n",
        "n = 990\n",
        "\n",
        "# Generating a random matrix A  of dimension m x n\n",
        "A = np.random.randn(m,n)\n",
        "\n",
        "Q, R = classical_QR(A)\n",
        "\n",
        "# Checking the QR factorization\n",
        "print(np.allclose(A,Q@R))\n",
        "print(np.allclose(Q.T@Q,np.eye(n)))\n",
        "print(R[:min(10,n),:min(10,n)])    "
      ]
    },
    {
      "cell_type": "markdown",
      "metadata": {},
      "source": [
        "An ill-conditioned example of $QR$-decomposition is the following."
      ]
    },
    {
      "cell_type": "code",
      "execution_count": 22,
      "metadata": {},
      "outputs": [
        {
          "name": "stdout",
          "output_type": "stream",
          "text": [
            "True\n",
            "True\n",
            "[[ 1.      0.    ]\n",
            " [ 0.     -0.7071]\n",
            " [ 0.      0.7071]]\n",
            "[[1. 1.]\n",
            " [0. 0.]]\n"
          ]
        }
      ],
      "source": [
        "A = np.array([[1, 1],\n",
        "              [1e-8, 0],\n",
        "              [0, 1e-8]], dtype=float)\n",
        "\n",
        "Q, R = classical_QR(A)\n",
        "\n",
        "print(np.allclose(A,Q@R))\n",
        "print(np.allclose(Q.T@Q,np.eye(2)))\n",
        "print(Q)\n",
        "print(R)"
      ]
    }
  ],
  "metadata": {
    "colab": {
      "provenance": []
    },
    "kernelspec": {
      "display_name": "linear_algebra",
      "language": "python",
      "name": "python3"
    },
    "language_info": {
      "codemirror_mode": {
        "name": "ipython",
        "version": 3
      },
      "file_extension": ".py",
      "mimetype": "text/x-python",
      "name": "python",
      "nbconvert_exporter": "python",
      "pygments_lexer": "ipython3",
      "version": "3.12.9"
    }
  },
  "nbformat": 4,
  "nbformat_minor": 0
}
