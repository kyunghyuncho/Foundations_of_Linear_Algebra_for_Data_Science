{
  "cells": [
    {
      "cell_type": "markdown",
      "metadata": {},
      "source": [
        "# Chapter 3 Gaussian Elimination in Detail (Optional)"
      ]
    },
    {
      "cell_type": "code",
      "execution_count": null,
      "metadata": {
        "id": "lwRCRj-Dqq1L"
      },
      "outputs": [],
      "source": [
        "# numerical and scientific computing libraries\n",
        "import numpy as np\n",
        "import scipy as sp\n",
        "\n",
        "# plotting libraries\n",
        "import matplotlib as mpl\n",
        "import matplotlib.pyplot as plt\n",
        "import seaborn as sns"
      ]
    },
    {
      "cell_type": "code",
      "execution_count": null,
      "metadata": {},
      "outputs": [],
      "source": [
        "# for pretty printing\n",
        "np.set_printoptions(4, linewidth=100, suppress=True)"
      ]
    },
    {
      "cell_type": "markdown",
      "metadata": {
        "id": "wwRvayQbcx7e"
      },
      "source": [
        "--------------------------------------------------------------------------------------------------------------\n",
        "\n",
        "Let us have a more in-depth look on Gaussian elimination. We already know that performing Gaussian elimination on $A$ is nothing but multiplying an appropriate permutation matrice to the left and lower triangular elementary matrices. However, sometimes, we don't know which rows should be swapped in advance. Furthermore, in a so-called partial pivoting method to enhace numercial stablility, we choose an entry with biggest absolute value among pivot cadidates for each column. Thefore, for $j$-th column, we decide two rows to swap and a correponding permutation matrix $Q_j$ with a lower triangular matrix $L_j$ representing the elimination of entries below the pivot. So the Gaussian elimination under partial pivoting can be expressed by  \n",
        "\\begin{align*} L_k Q_{k-1} L_{k-1} \\cdots Q_1 L_1 Q_0 A = U \\end{align*}\n",
        "for some upper triangular $U$. Notice that $Q_j$ can be an identity matrix, if we do not perform a row exchange in the $j$-th step. One observation here is the rows swapped in $Q_j$ are below $j$-th row and $L_j$ have non-zero off-diagonal entries lie in up to the $j$-th column. Therefore, the non-zero pattern of $Q_j L_j Q_j^{-1}$ coincides with that of $L_j$, which means we can re-write the decomposition as\n",
        "\\begin{align*} L_k L_{k-1}' \\cdots L_1' Q_{k-1} \\cdots Q_1 Q_0 A = LQA = U. \\end{align*}\n",
        "The triplet $(Q^\\top, L^{-1}, U)$ is a usual output of numpy.linalg.lu function.\n",
        "\n",
        "--------------------------------------------------------------------------------------------------------------"
      ]
    },
    {
      "cell_type": "markdown",
      "metadata": {
        "id": "n7-I8MwDfvGH"
      },
      "source": [
        "Suppose we are also given a vector $\\mathbf{b}$, and we want to solve the equation $A \\mathbf{x} = \\mathbf{b}$.\n",
        "\n",
        "Notice that \n",
        "\\begin{align*}\n",
        "A \\mathbf{x} = \\mathbf{b} &\\Longleftrightarrow L_k P_k \\dots L_1 P_1 A \\mathbf{x} = L_k P_k \\dots L_1 P_1 \\mathbf{b} \\\\\n",
        "&\\Longleftrightarrow U\\mathbf{x} = L_k P_k \\dots L_1 P_1 \\mathbf{b}.\n",
        "\\end{align*}\n",
        "\n",
        "&nbsp;\n",
        "\n",
        "Now, let us construct a block matrix $\\begin{bmatrix} A & \\mathbf{b} \\end{bmatrix}$.\n",
        "Then, by performing the same Gaussian elimination steps, which is mathematically equivalent to multiplying $L_k P_k \\dots L_1 P_1$ on the left, we will get \n",
        "\\begin{align*}\n",
        "\\begin{bmatrix} U  & L_k P_k \\dots L_1 P_1 \\mathbf{b}\\end{bmatrix}.\n",
        "\\end{align*}\n",
        "In other words, performing Gaussian elimination on the *augmented* matrix $\\begin{bmatrix} A & \\mathbf{b} \\end{bmatrix}$ directly gives us a new equation whose set of solutions is equal to that of $A \\mathbf{x} = \\mathbf{b}$, but with an upper triangular matrix as the coefficient. We can then just \"read off\" the solution using back substitution."
      ]
    },
    {
      "cell_type": "code",
      "execution_count": 2,
      "metadata": {
        "colab": {
          "base_uri": "https://localhost:8080/"
        },
        "id": "_mGCvoSjqyOk",
        "outputId": "87c93aab-5da1-4537-f9bd-2d6b5622f206"
      },
      "outputs": [
        {
          "name": "stdout",
          "output_type": "stream",
          "text": [
            "A =\n",
            "[[5 0 3 3 7 9 3 5 2 4]\n",
            " [7 6 8 8 1 6 7 7 8 1]\n",
            " [5 9 8 9 4 3 0 3 5 0]\n",
            " [2 3 8 1 3 3 3 7 0 1]\n",
            " [9 9 0 4 7 3 2 7 2 0]\n",
            " [0 4 5 5 6 8 4 1 4 9]\n",
            " [8 1 1 7 9 9 3 6 7 2]\n",
            " [0 3 5 9 4 4 6 4 4 3]\n",
            " [4 4 8 4 3 7 5 5 0 1]\n",
            " [5 9 3 0 5 0 1 2 4 2]]\n",
            "b =\n",
            "[0 3 2 0 7 5 9 0 2 7]\n"
          ]
        }
      ],
      "source": [
        "n = m = 10\n",
        "rng = np.random.RandomState(0)\n",
        "\n",
        "A = rng.randint(10, size=(n, m))\n",
        "b = rng.randint(10, size=n)\n",
        "\n",
        "print(\"A =\")\n",
        "print(A)\n",
        "print(\"b =\")\n",
        "print(b)\n"
      ]
    },
    {
      "cell_type": "code",
      "execution_count": 3,
      "metadata": {
        "colab": {
          "base_uri": "https://localhost:8080/"
        },
        "id": "wRUn9V4Pr9-O",
        "outputId": "a26d4688-53fb-4bbc-bb9e-5106f00c7ac6"
      },
      "outputs": [
        {
          "name": "stdout",
          "output_type": "stream",
          "text": [
            "[[5. 0. 3. 3. 7. 9. 3. 5. 2. 4. 0.]\n",
            " [7. 6. 8. 8. 1. 6. 7. 7. 8. 1. 3.]\n",
            " [5. 9. 8. 9. 4. 3. 0. 3. 5. 0. 2.]\n",
            " [2. 3. 8. 1. 3. 3. 3. 7. 0. 1. 0.]\n",
            " [9. 9. 0. 4. 7. 3. 2. 7. 2. 0. 7.]\n",
            " [0. 4. 5. 5. 6. 8. 4. 1. 4. 9. 5.]\n",
            " [8. 1. 1. 7. 9. 9. 3. 6. 7. 2. 9.]\n",
            " [0. 3. 5. 9. 4. 4. 6. 4. 4. 3. 0.]\n",
            " [4. 4. 8. 4. 3. 7. 5. 5. 0. 1. 2.]\n",
            " [5. 9. 3. 0. 5. 0. 1. 2. 4. 2. 7.]]\n"
          ]
        }
      ],
      "source": [
        "col_b = b.reshape((-1, 1))\n",
        "C = np.block([A, col_b])\n",
        "\n",
        "C = C.astype(np.float64)  # integers to reals\n",
        "print(C)"
      ]
    },
    {
      "cell_type": "code",
      "execution_count": 4,
      "metadata": {
        "id": "a9ZUCN0O17eC"
      },
      "outputs": [],
      "source": [
        "def elimination(A, eps, verbose):\n",
        "    A = A.copy()\n",
        "    n, m = A.shape\n",
        "    P_list = []\n",
        "    L_list = []\n",
        "\n",
        "    row_to_check = 0\n",
        "\n",
        "    for j in range(m):\n",
        "        # We test column by column to see if we can find a pivot.\n",
        "        if row_to_check >= n :\n",
        "            # Elimination is done on all n rows, even though there are\n",
        "            # some columns not yet investigated. Anyway, task completed.\n",
        "            break\n",
        "\n",
        "        pivot = row_to_check\n",
        "        for i in range(row_to_check+1, n):\n",
        "            # We are exchanging rows \"aggressively\", so that the pivot\n",
        "            # is always the largest possible among viable options.\n",
        "            # This is because we will soon perform division by the pivot,\n",
        "            # and dividing by a small number is susceptible to errors:\n",
        "            # compare how different 1/0.0101 and 1/0.01 are,\n",
        "            # to how different 1/100.0001 and 1/100 are.\n",
        "            if abs(A[i, j]) > abs(A[pivot, j]) :\n",
        "                pivot = i\n",
        "\n",
        "        A[[row_to_check, pivot], :] = A[[pivot, row_to_check], :]\n",
        "\n",
        "        r = row_to_check  # for notational clarity\n",
        "        P = np.eye(n)\n",
        "        P[r, r] = 0.\n",
        "        P[pivot, pivot] = 0.\n",
        "        P[r, pivot] = 1.\n",
        "        P[pivot, r] = 1.\n",
        "        P_list.append(P.copy())\n",
        "\n",
        "        L = np.eye(n)\n",
        "\n",
        "        if abs(A[r, j]) < eps :\n",
        "            # All candidates for the pivots are essentially zero.\n",
        "            # We cannot perform elimination with this column, so we skip.\n",
        "            pass\n",
        "        else :\n",
        "            for k in range(r+1, n):\n",
        "                u = A[k, j] / A[r, j]\n",
        "                A[k, j:] -= u * A[j, j:]\n",
        "                L[k, j] = -u\n",
        "            row_to_check += 1  # next time we should start from the row below.\n",
        "\n",
        "        L_list.append(L.copy())\n",
        "\n",
        "        if verbose :\n",
        "            print(\"After step\", j+1, \":\")\n",
        "            print(A)\n",
        "            print()\n",
        "\n",
        "    return A, P_list, L_list"
      ]
    },
    {
      "cell_type": "code",
      "execution_count": 5,
      "metadata": {
        "colab": {
          "base_uri": "https://localhost:8080/"
        },
        "id": "mJ4DkQ8vsZuw",
        "outputId": "1f5f2b4e-0391-4f1a-bfdd-c65e40e0432c"
      },
      "outputs": [
        {
          "name": "stdout",
          "output_type": "stream",
          "text": [
            "After step 1 :\n",
            "[[ 9.      9.      0.      4.      7.      3.      2.      7.      2.      0.      7.    ]\n",
            " [ 0.     -1.      8.      4.8889 -4.4444  3.6667  5.4444  1.5556  6.4444  1.     -2.4444]\n",
            " [ 0.      4.      8.      6.7778  0.1111  1.3333 -1.1111 -0.8889  3.8889  0.     -1.8889]\n",
            " [ 0.      1.      8.      0.1111  1.4444  2.3333  2.5556  5.4444 -0.4444  1.     -1.5556]\n",
            " [ 0.     -5.      3.      0.7778  3.1111  7.3333  1.8889  1.1111  0.8889  4.     -3.8889]\n",
            " [ 0.      4.      5.      5.      6.      8.      4.      1.      4.      9.      5.    ]\n",
            " [ 0.     -7.      1.      3.4444  2.7778  6.3333  1.2222 -0.2222  5.2222  2.      2.7778]\n",
            " [ 0.      3.      5.      9.      4.      4.      6.      4.      4.      3.      0.    ]\n",
            " [ 0.      0.      8.      2.2222 -0.1111  5.6667  4.1111  1.8889 -0.8889  1.     -1.1111]\n",
            " [ 0.      4.      3.     -2.2222  1.1111 -1.6667 -0.1111 -1.8889  2.8889  2.      3.1111]]\n",
            "\n",
            "After step 2 :\n",
            "[[ 9.      9.      0.      4.      7.      3.      2.      7.      2.      0.      7.    ]\n",
            " [ 0.     -7.      1.      3.4444  2.7778  6.3333  1.2222 -0.2222  5.2222  2.      2.7778]\n",
            " [ 0.      0.      8.5714  8.746   1.6984  4.9524 -0.4127 -1.0159  6.873   1.1429 -0.3016]\n",
            " [ 0.      0.      8.1429  0.6032  1.8413  3.2381  2.7302  5.4127  0.3016  1.2857 -1.1587]\n",
            " [ 0.      0.      2.2857 -1.6825  1.127   2.8095  1.0159  1.2698 -2.8413  2.5714 -5.873 ]\n",
            " [ 0.      0.      5.5714  6.9683  7.5873 11.619   4.6984  0.873   6.9841 10.1429  6.5873]\n",
            " [ 0.      0.      7.8571  4.3968 -4.8413  2.7619  5.2698  1.5873  5.6984  0.7143 -2.8413]\n",
            " [ 0.      0.      5.4286 10.4762  5.1905  6.7143  6.5238  3.9048  6.2381  3.8571  1.1905]\n",
            " [ 0.      0.      8.      2.2222 -0.1111  5.6667  4.1111  1.8889 -0.8889  1.     -1.1111]\n",
            " [ 0.      0.      3.5714 -0.254   2.6984  1.9524  0.5873 -2.0159  5.873   3.1429  4.6984]]\n",
            "\n",
            "After step 3 :\n",
            "[[ 9.      9.      0.      4.      7.      3.      2.      7.      2.      0.      7.    ]\n",
            " [ 0.     -7.      1.      3.4444  2.7778  6.3333  1.2222 -0.2222  5.2222  2.      2.7778]\n",
            " [ 0.      0.      8.5714  8.746   1.6984  4.9524 -0.4127 -1.0159  6.873   1.1429 -0.3016]\n",
            " [ 0.      0.      0.     -7.7056  0.2278 -1.4667  3.1222  6.3778 -6.2278  0.2    -0.8722]\n",
            " [ 0.      0.      0.     -4.0148  0.6741  1.4889  1.1259  1.5407 -4.6741  2.2667 -5.7926]\n",
            " [ 0.      0.      0.      1.2833  6.4833  8.4     4.9667  1.5333  2.5167  9.4     6.7833]\n",
            " [ 0.      0.      0.     -3.6204 -6.3981 -1.7778  5.6481  2.5185 -0.6019 -0.3333 -2.5648]\n",
            " [ 0.      0.      0.      4.937   4.1148  3.5778  6.7852  4.5481  1.8852  3.1333  1.3815]\n",
            " [ 0.      0.      0.     -5.9407 -1.6963  1.0444  4.4963  2.837  -7.3037 -0.0667 -0.8296]\n",
            " [ 0.      0.      0.     -3.8981  1.9907 -0.1111  0.7593 -1.5926  3.0093  2.6667  4.8241]]\n",
            "\n",
            "After step 4 :\n",
            "[[ 9.      9.      0.      4.      7.      3.      2.      7.      2.      0.      7.    ]\n",
            " [ 0.     -7.      1.      3.4444  2.7778  6.3333  1.2222 -0.2222  5.2222  2.      2.7778]\n",
            " [ 0.      0.      8.5714  8.746   1.6984  4.9524 -0.4127 -1.0159  6.873   1.1429 -0.3016]\n",
            " [ 0.      0.      0.     -7.7056  0.2278 -1.4667  3.1222  6.3778 -6.2278  0.2    -0.8722]\n",
            " [ 0.      0.      0.      0.      0.5554  2.2531 -0.5008 -1.7823 -1.4292  2.1625 -5.3381]\n",
            " [ 0.      0.      0.      0.      6.5213  8.1557  5.4867  2.5955  1.4795  9.4333  6.6381]\n",
            " [ 0.      0.      0.      0.     -6.5052 -1.0887  4.1812 -0.478   2.3242 -0.4273 -2.155 ]\n",
            " [ 0.      0.      0.      0.      4.2608  2.6381  8.7856  8.6345 -2.105   3.2615  0.8226]\n",
            " [ 0.      0.      0.      0.     -1.8719  2.1752  2.0892 -2.08   -2.5023 -0.2209 -0.1572]\n",
            " [ 0.      0.      0.      0.      1.8755  0.6309 -0.8202 -4.819   6.1598  2.5655  5.2653]]\n",
            "\n",
            "After step 5 :\n",
            "[[ 9.      9.      0.      4.      7.      3.      2.      7.      2.      0.      7.    ]\n",
            " [ 0.     -7.      1.      3.4444  2.7778  6.3333  1.2222 -0.2222  5.2222  2.      2.7778]\n",
            " [ 0.      0.      8.5714  8.746   1.6984  4.9524 -0.4127 -1.0159  6.873   1.1429 -0.3016]\n",
            " [ 0.      0.      0.     -7.7056  0.2278 -1.4667  3.1222  6.3778 -6.2278  0.2    -0.8722]\n",
            " [ 0.      0.      0.      0.      6.5213  8.1557  5.4867  2.5955  1.4795  9.4333  6.6381]\n",
            " [ 0.      0.      0.      0.      0.      1.5585 -0.9681 -2.0033 -1.5552  1.3591 -5.9035]\n",
            " [ 0.      0.      0.      0.      0.      7.0469  9.6543  2.1111  3.8     8.9827  4.4667]\n",
            " [ 0.      0.      0.      0.      0.     -2.6906  5.2008  6.9386 -3.0716 -2.9019 -3.5144]\n",
            " [ 0.      0.      0.      0.      0.      4.5163  3.6641 -1.335  -2.0776  2.4869  1.7483]\n",
            " [ 0.      0.      0.      0.      0.     -1.7147 -2.3982 -5.5655  5.7343 -0.1475  3.3562]]\n",
            "\n",
            "After step 6 :\n",
            "[[ 9.      9.      0.      4.      7.      3.      2.      7.      2.      0.      7.    ]\n",
            " [ 0.     -7.      1.      3.4444  2.7778  6.3333  1.2222 -0.2222  5.2222  2.      2.7778]\n",
            " [ 0.      0.      8.5714  8.746   1.6984  4.9524 -0.4127 -1.0159  6.873   1.1429 -0.3016]\n",
            " [ 0.      0.      0.     -7.7056  0.2278 -1.4667  3.1222  6.3778 -6.2278  0.2    -0.8722]\n",
            " [ 0.      0.      0.      0.      6.5213  8.1557  5.4867  2.5955  1.4795  9.4333  6.6381]\n",
            " [ 0.      0.      0.      0.      0.      7.0469  9.6543  2.1111  3.8     8.9827  4.4667]\n",
            " [ 0.      0.      0.      0.      0.      0.     -3.1032 -2.4702 -2.3956 -0.6275 -6.8913]\n",
            " [ 0.      0.      0.      0.      0.      0.      8.887   7.7447 -1.6208  0.5278 -1.809 ]\n",
            " [ 0.      0.      0.      0.      0.      0.     -2.5232 -2.688  -4.513  -3.27   -1.1144]\n",
            " [ 0.      0.      0.      0.      0.      0.     -0.049  -5.0518  6.659   2.0382  4.4431]]\n",
            "\n",
            "After step 7 :\n",
            "[[ 9.      9.      0.      4.      7.      3.      2.      7.      2.      0.      7.    ]\n",
            " [ 0.     -7.      1.      3.4444  2.7778  6.3333  1.2222 -0.2222  5.2222  2.      2.7778]\n",
            " [ 0.      0.      8.5714  8.746   1.6984  4.9524 -0.4127 -1.0159  6.873   1.1429 -0.3016]\n",
            " [ 0.      0.      0.     -7.7056  0.2278 -1.4667  3.1222  6.3778 -6.2278  0.2    -0.8722]\n",
            " [ 0.      0.      0.      0.      6.5213  8.1557  5.4867  2.5955  1.4795  9.4333  6.6381]\n",
            " [ 0.      0.      0.      0.      0.      7.0469  9.6543  2.1111  3.8     8.9827  4.4667]\n",
            " [ 0.      0.      0.      0.      0.      0.      8.887   7.7447 -1.6208  0.5278 -1.809 ]\n",
            " [ 0.      0.      0.      0.      0.      0.      0.      0.2342 -2.9616 -0.4432 -7.523 ]\n",
            " [ 0.      0.      0.      0.      0.      0.      0.     -0.4891 -4.9732 -3.1201 -1.628 ]\n",
            " [ 0.      0.      0.      0.      0.      0.      0.     -5.0091  6.65    2.0411  4.4331]]\n",
            "\n",
            "After step 8 :\n",
            "[[ 9.      9.      0.      4.      7.      3.      2.      7.      2.      0.      7.    ]\n",
            " [ 0.     -7.      1.      3.4444  2.7778  6.3333  1.2222 -0.2222  5.2222  2.      2.7778]\n",
            " [ 0.      0.      8.5714  8.746   1.6984  4.9524 -0.4127 -1.0159  6.873   1.1429 -0.3016]\n",
            " [ 0.      0.      0.     -7.7056  0.2278 -1.4667  3.1222  6.3778 -6.2278  0.2    -0.8722]\n",
            " [ 0.      0.      0.      0.      6.5213  8.1557  5.4867  2.5955  1.4795  9.4333  6.6381]\n",
            " [ 0.      0.      0.      0.      0.      7.0469  9.6543  2.1111  3.8     8.9827  4.4667]\n",
            " [ 0.      0.      0.      0.      0.      0.      8.887   7.7447 -1.6208  0.5278 -1.809 ]\n",
            " [ 0.      0.      0.      0.      0.      0.      0.     -5.0091  6.65    2.0411  4.4331]\n",
            " [ 0.      0.      0.      0.      0.      0.      0.      0.     -5.6224 -3.3194 -2.0608]\n",
            " [ 0.      0.      0.      0.      0.      0.      0.      0.     -2.6507 -0.3478 -7.3158]]\n",
            "\n",
            "After step 9 :\n",
            "[[ 9.      9.      0.      4.      7.      3.      2.      7.      2.      0.      7.    ]\n",
            " [ 0.     -7.      1.      3.4444  2.7778  6.3333  1.2222 -0.2222  5.2222  2.      2.7778]\n",
            " [ 0.      0.      8.5714  8.746   1.6984  4.9524 -0.4127 -1.0159  6.873   1.1429 -0.3016]\n",
            " [ 0.      0.      0.     -7.7056  0.2278 -1.4667  3.1222  6.3778 -6.2278  0.2    -0.8722]\n",
            " [ 0.      0.      0.      0.      6.5213  8.1557  5.4867  2.5955  1.4795  9.4333  6.6381]\n",
            " [ 0.      0.      0.      0.      0.      7.0469  9.6543  2.1111  3.8     8.9827  4.4667]\n",
            " [ 0.      0.      0.      0.      0.      0.      8.887   7.7447 -1.6208  0.5278 -1.809 ]\n",
            " [ 0.      0.      0.      0.      0.      0.      0.     -5.0091  6.65    2.0411  4.4331]\n",
            " [ 0.      0.      0.      0.      0.      0.      0.      0.     -5.6224 -3.3194 -2.0608]\n",
            " [ 0.      0.      0.      0.      0.      0.      0.      0.      0.      1.2171 -6.3442]]\n",
            "\n",
            "After step 10 :\n",
            "[[ 9.      9.      0.      4.      7.      3.      2.      7.      2.      0.      7.    ]\n",
            " [ 0.     -7.      1.      3.4444  2.7778  6.3333  1.2222 -0.2222  5.2222  2.      2.7778]\n",
            " [ 0.      0.      8.5714  8.746   1.6984  4.9524 -0.4127 -1.0159  6.873   1.1429 -0.3016]\n",
            " [ 0.      0.      0.     -7.7056  0.2278 -1.4667  3.1222  6.3778 -6.2278  0.2    -0.8722]\n",
            " [ 0.      0.      0.      0.      6.5213  8.1557  5.4867  2.5955  1.4795  9.4333  6.6381]\n",
            " [ 0.      0.      0.      0.      0.      7.0469  9.6543  2.1111  3.8     8.9827  4.4667]\n",
            " [ 0.      0.      0.      0.      0.      0.      8.887   7.7447 -1.6208  0.5278 -1.809 ]\n",
            " [ 0.      0.      0.      0.      0.      0.      0.     -5.0091  6.65    2.0411  4.4331]\n",
            " [ 0.      0.      0.      0.      0.      0.      0.      0.     -5.6224 -3.3194 -2.0608]\n",
            " [ 0.      0.      0.      0.      0.      0.      0.      0.      0.      1.2171 -6.3442]]\n",
            "\n"
          ]
        }
      ],
      "source": [
        "U, P_list, L_list = elimination(C, eps=1e-12, verbose=True)"
      ]
    },
    {
      "cell_type": "code",
      "execution_count": 6,
      "metadata": {
        "colab": {
          "base_uri": "https://localhost:8080/"
        },
        "id": "rFi_gmyUyPXC",
        "outputId": "25778ccd-1958-4d46-e761-c6f4a9c53be9"
      },
      "outputs": [
        {
          "name": "stdout",
          "output_type": "stream",
          "text": [
            "U =\n",
            "[[ 9.      9.      0.      4.      7.      3.      2.      7.      2.      0.    ]\n",
            " [ 0.     -7.      1.      3.4444  2.7778  6.3333  1.2222 -0.2222  5.2222  2.    ]\n",
            " [-0.      0.      8.5714  8.746   1.6984  4.9524 -0.4127 -1.0159  6.873   1.1429]\n",
            " [ 0.     -0.      0.     -7.7056  0.2278 -1.4667  3.1222  6.3778 -6.2278  0.2   ]\n",
            " [ 0.      0.      0.      0.      6.5213  8.1557  5.4867  2.5955  1.4795  9.4333]\n",
            " [ 0.     -0.      0.      0.      0.      7.0469  9.6543  2.1111  3.8     8.9827]\n",
            " [ 0.     -0.      0.      0.      0.      0.      8.887   7.7447 -1.6208  0.5278]\n",
            " [-0.     -0.      0.      0.      0.      0.      0.     -5.0091  6.65    2.0411]\n",
            " [ 0.     -0.      0.     -0.     -0.      0.      0.     -0.     -5.6224 -3.3194]\n",
            " [-0.      0.      0.      0.      0.      0.     -0.      0.     -0.      1.2171]]\n"
          ]
        }
      ],
      "source": [
        "# sanity check\n",
        "\n",
        "U = A.copy()\n",
        "for i in range(n-1) :\n",
        "    U = L_list[i] @ P_list[i] @ U\n",
        "\n",
        "print(\"U =\")\n",
        "print(U)"
      ]
    },
    {
      "cell_type": "code",
      "execution_count": 7,
      "metadata": {
        "colab": {
          "base_uri": "https://localhost:8080/"
        },
        "id": "tYRj2qRz-YBI",
        "outputId": "c4274363-26e3-4b37-b41b-d916b505abe1"
      },
      "outputs": [
        {
          "name": "stdout",
          "output_type": "stream",
          "text": [
            "[[ 9.      9.      0.      4.      7.      3.      2.      7.      2.      0.      7.    ]\n",
            " [ 0.     -7.      1.      3.4444  2.7778  6.3333  1.2222 -0.2222  5.2222  2.      2.7778]\n",
            " [ 0.      0.      8.5714  8.746   1.6984  4.9524 -0.4127 -1.0159  6.873   1.1429 -0.3016]\n",
            " [ 0.      0.      0.     -7.7056  0.2278 -1.4667  3.1222  6.3778 -6.2278  0.2    -0.8722]\n",
            " [ 0.      0.      0.      0.      6.5213  8.1557  5.4867  2.5955  1.4795  9.4333  6.6381]\n",
            " [ 0.      0.      0.      0.      0.      7.0469  9.6543  2.1111  3.8     8.9827  4.4667]\n",
            " [ 0.      0.      0.      0.      0.      0.      8.887   7.7447 -1.6208  0.5278 -1.809 ]\n",
            " [ 0.      0.      0.      0.      0.      0.      0.     -5.0091  6.65    2.0411  4.4331]\n",
            " [ 0.      0.      0.      0.      0.      0.      0.      0.     -5.6224 -3.3194 -2.0608]\n",
            " [ 0.      0.      0.      0.      0.      0.      0.      0.      0.      1.2171 -6.3442]]\n"
          ]
        }
      ],
      "source": [
        "# sanity double check\n",
        "\n",
        "_, _, U_aug = scipy.linalg.lu(C)\n",
        "print(U_aug) "
      ]
    },
    {
      "cell_type": "markdown",
      "metadata": {
        "id": "NSSqkgju036B"
      },
      "source": [
        "We already saw how to do back substitution, so let's skip that part."
      ]
    },
    {
      "cell_type": "markdown",
      "metadata": {
        "id": "Z91LPnZh1efC"
      },
      "source": [
        "\n",
        "\n",
        "---\n",
        "\n"
      ]
    },
    {
      "cell_type": "markdown",
      "metadata": {
        "id": "h46FrBpOMzBs"
      },
      "source": [
        "You will sooner or later realize that computing $P$ and $L$ in the LU factorization $A = PLU$ is often not necessary.\n",
        "\n",
        "For example, if we want to compute the rank, we can count the number of pivots from $U$."
      ]
    },
    {
      "cell_type": "code",
      "execution_count": 8,
      "metadata": {
        "id": "Lx_RgWcqF7zw"
      },
      "outputs": [],
      "source": [
        "# Spoiler alert: this is a rank 5 matrix.\n",
        "A = np.array([[26., 40., 20., 30., 24., 31.,  9., 46., 34., 40.,],\n",
        "              [25., 32., 20., 22., 27., 25.,  7., 31., 28., 29.,],\n",
        "              [12., 18., 11., 10., 16., 10.,  8., 16., 21., 22.,],\n",
        "              [ 7., 14., 11., 16.,  5.,  9.,  5., 17., 23., 17.,],\n",
        "              [12., 23.,  8., 15., 12., 15.,  8., 28., 20., 28.,],\n",
        "              [20., 30., 18., 24., 16., 25.,  5., 34., 27., 28.,],\n",
        "              [12., 20., 10., 10.,  8., 17.,  3., 22., 13., 20.,],\n",
        "              [22., 31., 16., 33., 30., 18., 13., 36., 39., 34.,]])\n",
        "\n",
        "U, P_list, L_list = elimination(A, eps=1e-12, verbose=False)"
      ]
    },
    {
      "cell_type": "code",
      "execution_count": 9,
      "metadata": {
        "colab": {
          "base_uri": "https://localhost:8080/"
        },
        "id": "IDKFuknQD91w",
        "outputId": "8349534d-f503-4e25-83c5-4e9881d5c314"
      },
      "outputs": [
        {
          "name": "stdout",
          "output_type": "stream",
          "text": [
            "5\n"
          ]
        }
      ],
      "source": [
        "rank = 0\n",
        "eps = 1e-12\n",
        "n, m = U.shape\n",
        "prev_pivot = -1\n",
        "for i in range(n):\n",
        "    # search for pivot in the i-th row\n",
        "    for j in range(prev_pivot+1, m):\n",
        "        # We know that pivot is on right of the previous pivot.\n",
        "        if abs(U[i, j]) > eps :\n",
        "            # Pivot is found. We should move on to the next row,\n",
        "            # but first things first...\n",
        "            rank += 1  # increase rank count\n",
        "            prev_pivot = j  # update last known pivot position\n",
        "            break\n",
        "\n",
        "print(rank)"
      ]
    },
    {
      "cell_type": "markdown",
      "metadata": {
        "id": "mPvlJZ_oJ4Y3"
      },
      "source": [
        "However, computing the rank with a computer should be done with care.\n",
        "\n",
        "This is because we will (almost) always have an issue with rounding errors when working with real numbers in computers."
      ]
    },
    {
      "cell_type": "code",
      "execution_count": 10,
      "metadata": {
        "colab": {
          "base_uri": "https://localhost:8080/"
        },
        "id": "_ERD_vR19fSB",
        "outputId": "1118cfcd-88f9-4188-c1f5-04bdbd4cf173"
      },
      "outputs": [
        {
          "data": {
            "text/plain": [
              "0.10000000000000009"
            ]
          },
          "execution_count": 10,
          "metadata": {},
          "output_type": "execute_result"
        }
      ],
      "source": [
        "1.1 - 1.0"
      ]
    },
    {
      "cell_type": "code",
      "execution_count": 16,
      "metadata": {
        "colab": {
          "base_uri": "https://localhost:8080/",
          "height": 675
        },
        "id": "0eZrIyrUMll1",
        "outputId": "a462d4d8-9d4c-473d-c231-379f6b139afc"
      },
      "outputs": [
        {
          "name": "stdout",
          "output_type": "stream",
          "text": [
            "Reference: https://twitter.com/colin_fraser/status/1768580334159880492\n",
            "\n"
          ]
        },
        {
          "data": {
            "image/jpeg": "[encoded data removed]",
            "text/plain": [
              "<IPython.core.display.Image object>"
            ]
          },
          "execution_count": 16,
          "metadata": {},
          "output_type": "execute_result"
        }
      ],
      "source": [
        "from IPython.display import Image\n",
        "!wget -q -O /content/joke.jpg https://mathsci.kaist.ac.kr/~jsch/files/floating_joke.jpg\n",
        "\n",
        "print(\"Reference: https://twitter.com/colin_fraser/status/1768580334159880492\\n\")\n",
        "Image('/content/joke.jpg')"
      ]
    },
    {
      "cell_type": "markdown",
      "metadata": {
        "id": "EjTWqf4KKbU4"
      },
      "source": [
        "So, if the number we encounter is too small, it is in general impossible to tell whether it represents a truly nonzero quantity or the true value is zero but does not look like it because of rounding errors.\n",
        "\n",
        "Also, because computers work with a fixed precision (in most cases about 16 significant figures for modern day computers), larger numbers invoke larger rounding errors.\n",
        "\n",
        "Finding the right threshold is always a challenging task."
      ]
    },
    {
      "cell_type": "code",
      "execution_count": 12,
      "metadata": {
        "colab": {
          "base_uri": "https://localhost:8080/"
        },
        "id": "uv97BN7nKLvA",
        "outputId": "7496a6a0-f433-4d42-b381-df3e216fa34f"
      },
      "outputs": [
        {
          "name": "stdout",
          "output_type": "stream",
          "text": [
            "5.551115123125783e-17\n"
          ]
        }
      ],
      "source": [
        "A = np.array([[ 1,  0,  0.1],\n",
        "              [-1,  1,  0.2],\n",
        "              [ 0, -1, -0.3]])\n",
        "\n",
        "U, _, _ = elimination(A, eps=1e-12, verbose=False)\n",
        "\n",
        "print(U[-1, -1]) # theoretically, this should be zero."
      ]
    },
    {
      "cell_type": "code",
      "execution_count": 13,
      "metadata": {
        "colab": {
          "base_uri": "https://localhost:8080/"
        },
        "id": "t-E6x0OKQzFA",
        "outputId": "8f4cd209-e54b-47c7-9760-fce36b30b151"
      },
      "outputs": [
        {
          "name": "stdout",
          "output_type": "stream",
          "text": [
            "0.0\n"
          ]
        }
      ],
      "source": [
        "A = np.array([[ 1,  np.exp(np.pi * np.sqrt(163))],\n",
        "              [ 1,  262_537_412_640_768_247]])\n",
        "\n",
        "U, _, _ = elimination(A, eps=1e-12, verbose=False)\n",
        "\n",
        "print(U[-1, -1]) # theoretically, this should not be zero."
      ]
    },
    {
      "cell_type": "code",
      "execution_count": 13,
      "metadata": {
        "id": "bkk4rZ8zR7I5"
      },
      "outputs": [],
      "source": []
    }
  ],
  "metadata": {
    "colab": {
      "provenance": []
    },
    "kernelspec": {
      "display_name": "Python 3",
      "name": "python3"
    },
    "language_info": {
      "codemirror_mode": {
        "name": "ipython",
        "version": 3
      },
      "file_extension": ".py",
      "mimetype": "text/x-python",
      "name": "python",
      "nbconvert_exporter": "python",
      "pygments_lexer": "ipython3",
      "version": "3.11.7"
    }
  },
  "nbformat": 4,
  "nbformat_minor": 0
}
