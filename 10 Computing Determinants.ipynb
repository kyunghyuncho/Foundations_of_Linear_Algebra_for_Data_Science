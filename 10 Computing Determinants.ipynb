{
  "nbformat": 4,
  "nbformat_minor": 0,
  "metadata": {
    "colab": {
      "provenance": []
    },
    "kernelspec": {
      "name": "python3",
      "display_name": "Python 3"
    },
    "language_info": {
      "name": "python"
    }
  },
  "cells": [
    {
      "cell_type": "code",
      "source": [
        "import numpy as np\n",
        "import scipy.linalg\n",
        "import matplotlib.pyplot as plt\n",
        "\n",
        "import time\n",
        "\n",
        "# for pretty printing\n",
        "np.set_printoptions(4, linewidth=100, suppress=True)"
      ],
      "metadata": {
        "id": "lwRCRj-Dqq1L"
      },
      "execution_count": 1,
      "outputs": []
    },
    {
      "cell_type": "markdown",
      "source": [
        "----\n",
        "## Chapter 8\n",
        "\n",
        "There are many equivalent ways of defining the determinant of a matrix, and yet more diverse methods exist for computing them.\n",
        "\n",
        "From a computational perspective, however, some are better than others."
      ],
      "metadata": {
        "id": "LPJ1Z18IuQkO"
      }
    },
    {
      "cell_type": "code",
      "source": [
        "rng = np.random.default_rng(1)\n",
        "\n",
        "n = 9\n",
        "A = 2 * rng.random((n, n))"
      ],
      "metadata": {
        "id": "I31K2dvLy7T9"
      },
      "execution_count": 2,
      "outputs": []
    },
    {
      "cell_type": "code",
      "source": [
        "A"
      ],
      "metadata": {
        "id": "FAjIbDO2zItm",
        "colab": {
          "base_uri": "https://localhost:8080/"
        },
        "outputId": "9d270f92-244f-4002-f1ed-bab2cd6da70b"
      },
      "execution_count": 3,
      "outputs": [
        {
          "output_type": "execute_result",
          "data": {
            "text/plain": [
              "array([[1.0236, 1.9009, 0.2883, 1.8973, 0.6237, 0.8467, 1.6554, 0.8184, 1.0992],\n",
              "       [0.0551, 1.507 , 1.0763, 0.6595, 1.5769, 0.6064, 0.907 , 0.2681, 0.8062],\n",
              "       [0.4069, 0.5246, 1.5007, 0.5608, 0.9704, 1.9615, 1.9233, 1.4496, 1.0825],\n",
              "       [0.5538, 0.3213, 1.9399, 1.0321, 0.2317, 1.247 , 1.5534, 1.226 , 1.8346],\n",
              "       [0.0792, 1.0572, 0.9187, 0.1247, 1.2827, 1.7053, 1.1859, 0.5202, 1.6798],\n",
              "       [1.019 , 1.0218, 1.5061, 0.2958, 1.6393, 1.3666, 1.5742, 0.3832, 1.6047],\n",
              "       [0.3826, 0.1631, 1.7105, 1.7226, 1.7531, 0.9438, 0.5481, 0.0142, 1.2914],\n",
              "       [1.4398, 1.6711, 0.5638, 0.4304, 1.2787, 1.6101, 1.9273, 0.301 , 0.9644],\n",
              "       [1.7894, 0.8454, 1.179 , 0.049 , 1.3469, 1.8382, 1.6537, 1.771 , 1.3207]])"
            ]
          },
          "metadata": {},
          "execution_count": 3
        }
      ]
    },
    {
      "cell_type": "markdown",
      "source": [
        "&nbsp;\n",
        "\n",
        "---\n",
        "\n",
        "&nbsp;\n",
        "\n",
        "*The* definition of a determinant—the unique row-wise linear function satisfying certain conditions—is of course too abstract to be used in actual computations.\n",
        "\n",
        "The so-called *Leibniz formula*\n",
        "\\begin{align*}\n",
        "\\det(A) = \\sum_{\\sigma : \\text{permutations of $\\{1, \\dots, n\\}$}} \\operatorname{sgn}(\\sigma) a_{1, \\sigma(1)} \\dots  a_{n, \\sigma(n)}\n",
        "\\end{align*}\n",
        "is useful when computing determinants of $2\\times 2$ or $3 \\times 3$ matrices. However, as there are $n!$ possible permutations of $\\{1, \\dots, n\\}$, the Leibniz formula requires compuing the sum of $n!$ terms, being quickly intractable even for not-so-large $n$."
      ],
      "metadata": {
        "id": "Dj7trF8NeCzH"
      }
    },
    {
      "cell_type": "code",
      "source": [
        "from itertools import permutations\n",
        "\n",
        "def sign(sigma):\n",
        "    # Please do not ask us why this function works...\n",
        "    # If you are really curious, take MAS212 or MAS311.\n",
        "    sgn = 1\n",
        "    n = len(sigma)\n",
        "    visited = [False] * n\n",
        "    for i in range(n):\n",
        "        if not visited[i]:\n",
        "            cycle_len = 1\n",
        "            j = i\n",
        "            visited[j] = True\n",
        "            while not visited[sigma[j]] :\n",
        "                j = sigma[j]\n",
        "                visited[j] = True\n",
        "                cycle_len += 1\n",
        "            if not (cycle_len & 1) :\n",
        "                sgn = -sgn\n",
        "    return sgn\n",
        "\n",
        "def leibniz(A):\n",
        "    det = 0\n",
        "    # the function *permutations* generates\n",
        "    # all the permutations of a given list.\n",
        "    for sigma in permutations(range(n)):\n",
        "        term = sign(sigma)\n",
        "        for i in range(n):\n",
        "            term *= A[i, sigma[i]]\n",
        "        det += term\n",
        "    return det\n",
        "\n",
        "\n",
        "start = time.time()  # save current time, requires *import time*\n",
        "det_leibniz = leibniz(A)\n",
        "elapsed = time.time() - start\n",
        "\n",
        "print(\"Computed in\", elapsed, \"seconds\")\n",
        "print()\n",
        "print(\"det(A) =\", det_leibniz)\n"
      ],
      "metadata": {
        "id": "U8iNvnIRziJt",
        "colab": {
          "base_uri": "https://localhost:8080/"
        },
        "outputId": "1ba40530-aa07-4f84-b9d8-1de2a3051687"
      },
      "execution_count": 4,
      "outputs": [
        {
          "output_type": "stream",
          "name": "stdout",
          "text": [
            "Computed in 2.526329755783081 seconds\n",
            "\n",
            "det(A) = -11.774961095127296\n"
          ]
        }
      ]
    },
    {
      "cell_type": "markdown",
      "source": [
        "&nbsp;\n",
        "\n",
        "---\n",
        "\n",
        "&nbsp;\n",
        "\n",
        "Because of the difficulty of computing the signs of permutations, the *Laplace expansion*\n",
        "\\begin{align*}\n",
        "\\det(A) = \\sum_{j=1}^n (-1)^{i+j} a_{ij} \\det(A_{ij})\n",
        "\\end{align*}\n",
        "where $A_{ij}$ denotes the submatrix of $A$ obtained by removing the $i$th row and $j$th column, is more widely used when one has to compute the determinant of a matrix by hand, when the size of $A$ is usually no larger than $5\\times 5$.\n"
      ],
      "metadata": {
        "id": "v3iJRlYCCXAN"
      }
    },
    {
      "cell_type": "markdown",
      "source": [
        "However, the formula is recursively defined, and while it looks like we now only have to compute the sum of $n$ terms, it is actually a sum of $n!$ terms in disguise.\n",
        "Indeed,\n",
        "* the determinant of a $2 \\times 2$ matrix is a sum of two terms,\n",
        "* and inductively, if computing the determinant of an $(n-1) \\times (n-1)$ matrix requires a summation of $(n-1)!$ terms, in order to compute the determinant of an $n \\times n$ matrix, we need to sum $n$ determinants of $(n-1) \\times (n-1)$ matrices, hence in total we need to sum $n \\times (n-1)! = n!$ terms.  \n",
        "\n",
        "&nbsp;\n",
        "\n",
        "So, when computing the determinant with a computer, the Laplace expansion is no better than the Leibniz formula."
      ],
      "metadata": {
        "id": "AREfCYDknQ0g"
      }
    },
    {
      "cell_type": "code",
      "source": [
        "def laplace(A):\n",
        "    n = A.shape[0]\n",
        "    if n == 1 :\n",
        "        return A[0, 0]\n",
        "    else :\n",
        "        sgn = 1\n",
        "        det = 0\n",
        "        for j in range(n) :\n",
        "            sgn = -sgn\n",
        "            cols = np.concatenate([np.arange(0, j), np.arange(j+1, n)])\n",
        "            det += sgn * A[0, j] * laplace(A[1:, cols])\n",
        "        return det\n",
        "\n",
        "\n",
        "start = time.time()\n",
        "det_laplace = laplace(A)\n",
        "elapsed = time.time() - start\n",
        "\n",
        "print(\"Computed in\", elapsed, \"seconds\")\n",
        "print()\n",
        "print(\"det(A) =\", det_laplace)"
      ],
      "metadata": {
        "id": "WTnLflNwCfPp",
        "colab": {
          "base_uri": "https://localhost:8080/"
        },
        "outputId": "4c065b50-97e8-4991-8f8a-7ce6d2d3e4ff"
      },
      "execution_count": 5,
      "outputs": [
        {
          "output_type": "stream",
          "name": "stdout",
          "text": [
            "Computed in 5.915351152420044 seconds\n",
            "\n",
            "det(A) = -11.77496109512688\n"
          ]
        }
      ]
    },
    {
      "cell_type": "markdown",
      "source": [
        "&nbsp;\n",
        "\n",
        "---\n",
        "\n",
        "&nbsp;\n",
        "\n",
        "Almost all algorithms in computational linear algebra starts with decomposing the given matrix.\n",
        "\n",
        "Computing determinants is no exception. Although we will not try to explain here why it is so, the rule of thumb is that almost all decompositions require roughly a constant multiple of $n^3$ arithmetic operations. In particular, decompositions should provide tractable methods of computing determinants, compared to the previous methods that require factorially many arithmetic operations."
      ],
      "metadata": {
        "id": "oXdAhy24DRyh"
      }
    },
    {
      "cell_type": "markdown",
      "source": [
        "We already know how to do LU decomposition, albeit in the form of\n",
        "\\begin{align*}\n",
        "L_k P_k \\dots L_1 P_1 A = U\n",
        "\\end{align*}\n",
        "where $L_j$  are lower triangular matrices whose diagonal entries are all $1$ and $P_j$ are permutation matrices.\n",
        "\n",
        "But this suffices for our purpose; indeed,\n",
        "\\begin{align*}\n",
        "\\det(L_k) \\det(P_k) \\dots \\det(L_1) \\det(P_1) \\det(A) = \\det(U),\n",
        "\\end{align*}\n",
        "but $\\det(L_j) = 1$, and $P_j$ represents a row exchange that happened in the $j$th step of the elimination, so $\\det(P_j) = -1$ if there was a swap in the $j$th step of the elimination and $\\det(P_j) = 1$ otherwise. Therefore,\n",
        "\n",
        "\\begin{align*}\n",
        "\\det(A) &= (-1)^{\\text{number of row swaps}}\\det(U) \\\\\n",
        "        &= (-1)^{\\text{number of row swaps}}u_{11} u_{22} \\dots u_{nn}\n",
        " \\end{align*} because $U$ is upper triangular."
      ],
      "metadata": {
        "id": "w0SMRqUB4KCI"
      }
    },
    {
      "cell_type": "code",
      "source": [
        "def lu_det(A, eps):\n",
        "    # Almost the same as the code for LU decomposition we saw\n",
        "    # earlier in this semester, but with two differences:\n",
        "    # (1) instead of constructing the list of P_j,\n",
        "    #     only keeps track of the number of swaps occurred\n",
        "    # (2) does not compute L_j, as there is no need to do so\n",
        "    U = A.copy()\n",
        "    n, m = U.shape\n",
        "    swap_cnt = 0\n",
        "\n",
        "    row_to_check = 0\n",
        "\n",
        "    for j in range(m):\n",
        "        if row_to_check >= n :\n",
        "            break\n",
        "\n",
        "        pivot = row_to_check\n",
        "        for i in range(row_to_check+1, n):\n",
        "            if abs(U[i, j]) > abs(U[pivot, j]) :\n",
        "                pivot = i\n",
        "\n",
        "        U[[row_to_check, pivot], :] = U[[pivot, row_to_check], :]\n",
        "\n",
        "        r = row_to_check\n",
        "        if r != pivot :\n",
        "            swap_cnt += 1\n",
        "\n",
        "        if abs(U[r, j]) < eps :\n",
        "            pass\n",
        "        else :\n",
        "            for k in range(r+1, n):\n",
        "                u = U[k, j] / U[r, j]\n",
        "                U[k, j:] -= u * U[j, j:]\n",
        "            row_to_check += 1\n",
        "\n",
        "    det = 1\n",
        "    if swap_cnt % 2 == 1 :\n",
        "        det = -det\n",
        "\n",
        "    for i in range(n):\n",
        "        det = det * U[i, i]\n",
        "\n",
        "    return det\n",
        "\n",
        "start = time.time()\n",
        "det_lu = lu_det(A, eps=1e-8)\n",
        "elapsed = time.time() - start\n",
        "\n",
        "print(\"Computed in\", elapsed, \"seconds\")\n",
        "print()\n",
        "print(\"det(A) =\", det_lu)"
      ],
      "metadata": {
        "id": "se6mKza71Ta9",
        "colab": {
          "base_uri": "https://localhost:8080/"
        },
        "outputId": "b125d6fb-c970-43eb-bc06-15de355db171"
      },
      "execution_count": 6,
      "outputs": [
        {
          "output_type": "stream",
          "name": "stdout",
          "text": [
            "Computed in 0.0007231235504150391 seconds\n",
            "\n",
            "det(A) = -11.774961095126896\n"
          ]
        }
      ]
    },
    {
      "cell_type": "markdown",
      "source": [
        "&nbsp;\n",
        "\n",
        "---\n",
        "\n",
        "&nbsp;\n",
        "\n",
        "Another popular decomposition is the QR decomposition. In computing determinants, QR decomposition is particularly interesting, because in $A = QR$ the matrix $Q$ is orthogonal hence $\\det(Q) = \\pm 1$.\n",
        "\n",
        "In numpy, QR decomposition can be done with `numpy.linalg.qr`."
      ],
      "metadata": {
        "id": "HjFQ7_a69V3s"
      }
    },
    {
      "cell_type": "markdown",
      "source": [
        "In fact, if one invests some time to explore the abyss of Numpy source codes, one can conclude that the orthogonal matrix $Q$ from\n",
        "```\n",
        "Q, R = np.linalg.qr(A)\n",
        "```\n",
        "is a product of $n-1$ orthogonal matrices $Q = Q_{n-1} \\dots Q_2 Q_1$ where $\\det(Q_j) = -1$ (unless we encounter a zero vector during the computations).\n",
        "\n"
      ],
      "metadata": {
        "id": "39imGjmg-Omt"
      }
    },
    {
      "cell_type": "markdown",
      "source": [
        "So, unless we are extremely unlucky, we can compute the determinant of $A$ as $(-1)^{n-1} r_{11} r_{22} \\dots r_{nn}$."
      ],
      "metadata": {
        "id": "yOSn6rUyED3T"
      }
    },
    {
      "cell_type": "code",
      "source": [
        "def qr_det(A):\n",
        "    Q, R = np.linalg.qr(A)\n",
        "    det = 1\n",
        "    if n % 2 == 0:\n",
        "        det = -det\n",
        "\n",
        "    for i in range(n):\n",
        "        det = det * R[i, i]\n",
        "\n",
        "    return det\n",
        "\n",
        "\n",
        "start = time.time()\n",
        "det_qr = qr_det(A)\n",
        "elapsed = time.time() - start\n",
        "\n",
        "print(\"Computed in\", elapsed, \"seconds\")\n",
        "print()\n",
        "print(\"det(A) =\", det_qr)\n"
      ],
      "metadata": {
        "colab": {
          "base_uri": "https://localhost:8080/"
        },
        "id": "HpzM8Dva1SIg",
        "outputId": "eb79a23a-dcaf-4100-dee6-e00f9ecab9ee"
      },
      "execution_count": 7,
      "outputs": [
        {
          "output_type": "stream",
          "name": "stdout",
          "text": [
            "Computed in 0.0009446144104003906 seconds\n",
            "\n",
            "det(A) = -11.774961095126896\n"
          ]
        }
      ]
    },
    {
      "cell_type": "code",
      "source": [
        "# sanity check on det(Q)\n",
        "Q, _ = np.linalg.qr(A)\n",
        "print(np.linalg.det(Q))"
      ],
      "metadata": {
        "colab": {
          "base_uri": "https://localhost:8080/"
        },
        "id": "xSLyvLBM2ggD",
        "outputId": "b441a99b-664c-4cb7-eecc-8931965df3ed"
      },
      "execution_count": 8,
      "outputs": [
        {
          "output_type": "stream",
          "name": "stdout",
          "text": [
            "0.9999999999999998\n"
          ]
        }
      ]
    },
    {
      "cell_type": "markdown",
      "source": [
        "&nbsp;\n",
        "\n",
        "---\n",
        "\n",
        "&nbsp;\n",
        "\n",
        "Of course, in real world applications, we would just use the builtin function `numpy.linalg.det`. Going with builtin functions is usually a good choice, as their performance are optimized with numerous tricks, and they come with safeguards that prevent common possible errors."
      ],
      "metadata": {
        "id": "U5RVDnmoJ-Rd"
      }
    },
    {
      "cell_type": "code",
      "source": [
        "start = time.time()\n",
        "det_np = np.linalg.det(A)\n",
        "elapsed = time.time() - start\n",
        "\n",
        "print(\"Computed in\", elapsed, \"seconds\")\n",
        "print()\n",
        "print(\"det(A) =\", det_np)"
      ],
      "metadata": {
        "colab": {
          "base_uri": "https://localhost:8080/"
        },
        "id": "-eNXRqkFI6i1",
        "outputId": "64187e75-d983-409d-b7ce-1a8b71691b29"
      },
      "execution_count": 9,
      "outputs": [
        {
          "output_type": "stream",
          "name": "stdout",
          "text": [
            "Computed in 0.0002582073211669922 seconds\n",
            "\n",
            "det(A) = -11.774961095126878\n"
          ]
        }
      ]
    },
    {
      "cell_type": "markdown",
      "source": [
        "&nbsp;\n",
        "\n",
        "But how does NumPy actually compute determinants?\n",
        "\n",
        "&nbsp;\n",
        "\n",
        "The answer can be found in the [NumPy official document](https://numpy.org/doc/stable/reference/generated/numpy.linalg.det.html)...\n",
        "\n",
        "\n",
        "> ...\n",
        ">\n",
        "> The determinant is computed via **LU factorization** using the LAPACK routine `z/dgetrf`.\n",
        ">\n",
        "> ...\n",
        "\n",
        "\n",
        "So NumPy uses LU decomposition in computing determinants, while NumPy ironically does not provide an LU decomposition functionality.\n"
      ],
      "metadata": {
        "id": "Rq1HNrXlMO8e"
      }
    },
    {
      "cell_type": "code",
      "source": [],
      "metadata": {
        "id": "HWHtY8iuVgrA"
      },
      "execution_count": 9,
      "outputs": []
    }
  ]
}