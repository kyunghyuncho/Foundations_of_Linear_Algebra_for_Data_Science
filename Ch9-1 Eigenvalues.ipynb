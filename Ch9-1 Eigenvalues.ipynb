{
  "cells": [
    {
      "cell_type": "markdown",
      "metadata": {},
      "source": [
        "# Chapter 9 Eigenvalues"
      ]
    },
    {
      "cell_type": "code",
      "execution_count": 2,
      "metadata": {
        "id": "lwRCRj-Dqq1L"
      },
      "outputs": [],
      "source": [
        "# numerical and scientific computing libraries \n",
        "import numpy as np\n",
        "import scipy as sp\n",
        "\n",
        "# plotting libraries\n",
        "import matplotlib as mpl\n",
        "import matplotlib.pyplot as plt\n",
        "import seaborn as sns"
      ]
    },
    {
      "cell_type": "code",
      "execution_count": 3,
      "metadata": {},
      "outputs": [],
      "source": [
        "# for pretty printing\n",
        "np.set_printoptions(4, linewidth=100, suppress=True)"
      ]
    },
    {
      "cell_type": "code",
      "execution_count": 4,
      "metadata": {},
      "outputs": [],
      "source": [
        "# set dimension\n",
        "n = 10"
      ]
    },
    {
      "cell_type": "code",
      "execution_count": 6,
      "metadata": {},
      "outputs": [
        {
          "name": "stdout",
          "output_type": "stream",
          "text": [
            "eigenvalues  =  [ 2.5415+0.j      1.8663+1.7707j  1.8663-1.7707j -2.1816+1.8801j -2.1816-1.8801j  0.1199+1.8417j\n",
            "  0.1199-1.8417j  0.2777+0.j     -1.1589+0.j     -1.348 +0.j    ]\n",
            "eigenvectors = \n",
            "[[-0.2651+0.j      0.0617-0.1517j  0.0617+0.1517j  0.056 -0.3225j  0.056 +0.3225j  0.5283+0.j\n",
            "   0.5283-0.j      0.2142+0.j     -0.2741+0.j      0.2992+0.j    ]\n",
            " [-0.5868+0.j      0.2557-0.081j   0.2557+0.081j   0.2494-0.0002j  0.2494+0.0002j -0.2463+0.1153j\n",
            "  -0.2463-0.1153j -0.6317+0.j      0.0904+0.j     -0.0252+0.j    ]\n",
            " [-0.4173+0.j      0.0699+0.3676j  0.0699-0.3676j  0.1693-0.1324j  0.1693+0.1324j  0.1379-0.0953j\n",
            "   0.1379+0.0953j -0.2914+0.j     -0.5672+0.j      0.6909+0.j    ]\n",
            " [-0.1884+0.j     -0.0047+0.21j   -0.0047-0.21j    0.1475-0.0424j  0.1475+0.0424j  0.0605+0.0988j\n",
            "   0.0605-0.0988j  0.3552+0.j      0.0694+0.j     -0.2403+0.j    ]\n",
            " [-0.072 +0.j     -0.5402+0.j     -0.5402-0.j     -0.0363-0.1995j -0.0363+0.1995j -0.0636+0.0241j\n",
            "  -0.0636-0.0241j -0.2626+0.j     -0.1195+0.j      0.249 +0.j    ]\n",
            " [-0.095 +0.j     -0.2661-0.1555j -0.2661+0.1555j  0.2465+0.3016j  0.2465-0.3016j  0.0041-0.1288j\n",
            "   0.0041+0.1288j  0.0033+0.j      0.4027+0.j     -0.2297+0.j    ]\n",
            " [ 0.5306+0.j     -0.0313-0.5075j -0.0313+0.5075j -0.0657+0.0193j -0.0657-0.0193j  0.1757+0.144j\n",
            "   0.1757-0.144j   0.2583+0.j     -0.3772+0.j      0.2871+0.j    ]\n",
            " [ 0.0259+0.j     -0.0967-0.0072j -0.0967+0.0072j  0.0186-0.214j   0.0186+0.214j  -0.4019+0.1877j\n",
            "  -0.4019-0.1877j -0.0918+0.j      0.0847+0.j      0.242 +0.j    ]\n",
            " [ 0.2711+0.j     -0.0371+0.0957j -0.0371-0.0957j  0.6348+0.j      0.6348-0.j      0.377 +0.0276j\n",
            "   0.377 -0.0276j  0.4211+0.j      0.5126+0.j     -0.345 +0.j    ]\n",
            " [-0.0766+0.j     -0.0724+0.2162j -0.0724-0.2162j  0.26  -0.2161j  0.26  +0.2161j -0.2982-0.3226j\n",
            "  -0.2982+0.3226j -0.1501+0.j     -0.038 +0.j      0.0034+0.j    ]]\n",
            "True\n"
          ]
        }
      ],
      "source": [
        "# create a random matrix\n",
        "A = np.random.randn(n,n)\n",
        "# eigenpairs\n",
        "value, vectors = sp.linalg.eig(A)\n",
        "\n",
        "print('eigenvalues  = ', value)\n",
        "print('eigenvectors = ')\n",
        "print(vectors)\n",
        "\n",
        "print(np.allclose(A @ vectors, vectors @ np.diag(value)))"
      ]
    },
    {
      "cell_type": "markdown",
      "metadata": {},
      "source": [
        "We can see complex eigenvalues and eigenvecrors in most random instances. Let us try symmetric matrices as we already proved that the symmetric ones have only real eigenpairs."
      ]
    },
    {
      "cell_type": "code",
      "execution_count": 8,
      "metadata": {},
      "outputs": [
        {
          "name": "stdout",
          "output_type": "stream",
          "text": [
            "eigenvalues  =  [-7.1716+0.j  6.3868+0.j  5.2061+0.j -4.5403+0.j -3.7391+0.j -2.5717+0.j  3.097 +0.j  1.5905+0.j\n",
            "  0.3632+0.j -0.6592+0.j]\n",
            "eigenvectors = \n",
            "[[-0.4018 -0.2919  0.0314  0.2129  0.5342 -0.5393 -0.1866 -0.0249 -0.3086  0.0121]\n",
            " [-0.7117  0.2001  0.1551  0.0185 -0.1795  0.2843  0.4241 -0.0341 -0.2863  0.2303]\n",
            " [ 0.1419  0.272   0.437   0.3158  0.0534 -0.3472  0.3393 -0.4883  0.3578  0.1007]\n",
            " [-0.0216  0.1663 -0.4324 -0.3379 -0.0188 -0.2352  0.3286 -0.3974 -0.2159 -0.55  ]\n",
            " [ 0.0382  0.2814  0.0342 -0.3774 -0.2642 -0.2382 -0.4843 -0.3464 -0.2747  0.4681]\n",
            " [ 0.16   -0.0873  0.1712  0.3483 -0.6347 -0.3616  0.0651  0.2713 -0.404  -0.2035]\n",
            " [-0.0976  0.7899 -0.177   0.3508  0.1484  0.0029 -0.2939  0.2525  0.0052 -0.2   ]\n",
            " [ 0.3976 -0.0341 -0.277   0.4409  0.1963  0.3338  0.1256 -0.3035 -0.4942  0.2599]\n",
            " [ 0.286   0.2211 -0.0374 -0.3124  0.2623 -0.294   0.4617  0.5023 -0.1386  0.361 ]\n",
            " [-0.1871 -0.1112 -0.676   0.2483 -0.2778 -0.2589  0.0897  0.0112  0.382   0.3684]]\n",
            "True\n"
          ]
        }
      ],
      "source": [
        "# create a random matrix\n",
        "A = np.random.randn(n,n)\n",
        "A = A + A.T\n",
        "# eigenpairs\n",
        "value, vectors = sp.linalg.eig(A)\n",
        "\n",
        "print('eigenvalues  = ', value)\n",
        "print('eigenvectors = ')\n",
        "print(vectors)\n",
        "\n",
        "print(np.allclose(A @ vectors, vectors @ np.diag(value)))"
      ]
    },
    {
      "cell_type": "markdown",
      "metadata": {},
      "source": [
        "We confirm the real spectral decomposition theorem. "
      ]
    }
  ],
  "metadata": {
    "colab": {
      "provenance": []
    },
    "kernelspec": {
      "display_name": "linear_algebra",
      "language": "python",
      "name": "python3"
    },
    "language_info": {
      "codemirror_mode": {
        "name": "ipython",
        "version": 3
      },
      "file_extension": ".py",
      "mimetype": "text/x-python",
      "name": "python",
      "nbconvert_exporter": "python",
      "pygments_lexer": "ipython3",
      "version": "3.12.9"
    }
  },
  "nbformat": 4,
  "nbformat_minor": 0
}
