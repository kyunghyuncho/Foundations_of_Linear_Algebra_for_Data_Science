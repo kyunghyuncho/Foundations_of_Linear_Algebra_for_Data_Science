{
  "cells": [
    {
      "cell_type": "markdown",
      "metadata": {},
      "source": [
        "# Chapter 8 Determinant"
      ]
    },
    {
      "cell_type": "code",
      "execution_count": 7,
      "metadata": {
        "id": "lwRCRj-Dqq1L"
      },
      "outputs": [],
      "source": [
        "# numerical and scientific computing libraries \n",
        "import numpy as np\n",
        "import scipy as sp\n",
        "\n",
        "# plotting libraries\n",
        "import matplotlib as mpl\n",
        "import matplotlib.pyplot as plt\n",
        "import seaborn as sns"
      ]
    },
    {
      "cell_type": "code",
      "execution_count": 8,
      "metadata": {},
      "outputs": [],
      "source": [
        "# for pretty printing\n",
        "np.set_printoptions(4, linewidth=100, suppress=True)"
      ]
    },
    {
      "cell_type": "code",
      "execution_count": 9,
      "metadata": {},
      "outputs": [],
      "source": [
        "# set dimension\n",
        "n = 10\n",
        "# create a random matrix\n",
        "A = np.random.randn(n,n)"
      ]
    },
    {
      "cell_type": "markdown",
      "metadata": {},
      "source": [
        "### Determinant from $LU$-decomposition"
      ]
    },
    {
      "cell_type": "code",
      "execution_count": 10,
      "metadata": {},
      "outputs": [
        {
          "name": "stdout",
          "output_type": "stream",
          "text": [
            "sign of permutation =  -1.0\n",
            "det(U) =  219.530315753404\n",
            "det(A) =  -219.53031575340424\n"
          ]
        }
      ],
      "source": [
        "# LU-decomposition\n",
        "P, L, U = sp.linalg.lu(A)\n",
        "\n",
        "# sign of permutation\n",
        "print('sign of permutation = ', np.linalg.det(P))\n",
        "# det(U)\n",
        "print('det(U) = ', np.prod(np.diag(U)))\n",
        "# det(A)\n",
        "print('det(A) = ', np.linalg.det(A))"
      ]
    },
    {
      "cell_type": "markdown",
      "metadata": {},
      "source": [
        "### Cramer's rule"
      ]
    },
    {
      "cell_type": "code",
      "execution_count": 12,
      "metadata": {},
      "outputs": [
        {
          "name": "stdout",
          "output_type": "stream",
          "text": [
            "True\n",
            "True\n",
            "True\n"
          ]
        }
      ],
      "source": [
        "# generate a random vector b\n",
        "b = np.random.randn(n)\n",
        "# solve Ax = b\n",
        "x = np.linalg.solve(A, b)\n",
        "# check the solution\n",
        "print(np.allclose(A @ x, b))\n",
        "\n",
        "# Cramer's rule\n",
        "detA = np.linalg.det(A)\n",
        "\n",
        "# iterate over columns\n",
        "x_cramer = np.zeros(n)\n",
        "for i in range(n):\n",
        "    # copy A\n",
        "    Ai = np.copy(A)\n",
        "    # replace i-th column with b\n",
        "    Ai[:, i] = b\n",
        "    # compute the determinant of Ai\n",
        "    numerator = np.linalg.det(Ai)\n",
        "    # compute x_i\n",
        "    x_cramer[i] = numerator / detA\n",
        "    \n",
        "# check the solution\n",
        "print(np.allclose(A @ x_cramer, b))\n",
        "\n",
        "# compare the solution with x\n",
        "print(np.allclose(x_cramer, x))\n"
      ]
    },
    {
      "cell_type": "markdown",
      "metadata": {},
      "source": [
        "### Matrix determinant lemma\n",
        "\n",
        "$$\\det(A + U V^\\top) = \\det(A) \\det(I_k + V^\\top A^{-1} U)$$"
      ]
    },
    {
      "cell_type": "code",
      "execution_count": 13,
      "metadata": {},
      "outputs": [
        {
          "name": "stdout",
          "output_type": "stream",
          "text": [
            "True\n"
          ]
        }
      ],
      "source": [
        "# generate n x k random matrices U and V\n",
        "k = 5\n",
        "U = np.random.randn(n, k)\n",
        "V = np.random.randn(n, k)\n",
        "\n",
        "# left side\n",
        "ls = np.linalg.det(A+U @ V.T)\n",
        "# right side\n",
        "rs = np.linalg.det(A) * np.linalg.det(np.eye(k) + V.T @ np.linalg.inv(A) @ U) \n",
        "# check the equality\n",
        "print(np.allclose(ls, rs))"
      ]
    },
    {
      "cell_type": "markdown",
      "metadata": {},
      "source": [
        "### Woodbury formula\n",
        "If $A + U V^\\top$ is invertible, then\n",
        "$$\\big(A + U V^\\top\\big)^{-1} = A^{-1} - A^{-1} U \\big(I_k + V^\\top A^{-1} U\\big)^{-1} V^\\top A^{-1}$$"
      ]
    },
    {
      "cell_type": "code",
      "execution_count": 14,
      "metadata": {},
      "outputs": [
        {
          "name": "stdout",
          "output_type": "stream",
          "text": [
            "A + U @ V.T is invertible.\n",
            "True\n"
          ]
        }
      ],
      "source": [
        "if ls != 0:\n",
        "    print('A + U @ V.T is invertible.')\n",
        "    # compute the inverse of A\n",
        "    A_inv = np.linalg.inv(A)\n",
        "    # compute the inverse of A+U @ V.T  \n",
        "    A_inv_plus = np.linalg.inv(A + U @ V.T)\n",
        "    # compute the inverse of I_k + V.T @ A_inv @ U\n",
        "    I_plus = np.linalg.inv(np.eye(k) + V.T @ A_inv @ U)\n",
        "    # compute the right side\n",
        "    RS = A_inv - A_inv @ U @ I_plus @ V.T @ A_inv\n",
        "    # check the equality\n",
        "    print(np.allclose(A_inv_plus, RS))\n",
        "else:\n",
        "    print('A + U @ V.T is not invertible.')"
      ]
    }
  ],
  "metadata": {
    "colab": {
      "provenance": []
    },
    "kernelspec": {
      "display_name": "linear_algebra",
      "language": "python",
      "name": "python3"
    },
    "language_info": {
      "codemirror_mode": {
        "name": "ipython",
        "version": 3
      },
      "file_extension": ".py",
      "mimetype": "text/x-python",
      "name": "python",
      "nbconvert_exporter": "python",
      "pygments_lexer": "ipython3",
      "version": "3.12.9"
    }
  },
  "nbformat": 4,
  "nbformat_minor": 0
}
