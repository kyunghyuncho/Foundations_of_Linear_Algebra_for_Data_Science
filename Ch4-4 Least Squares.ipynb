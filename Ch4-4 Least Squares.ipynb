{
 "cells": [
  {
   "cell_type": "markdown",
   "metadata": {},
   "source": [
    "# Chapter 4 Least Squares"
   ]
  },
  {
   "cell_type": "code",
   "execution_count": null,
   "metadata": {},
   "outputs": [],
   "source": [
    "# numerical and scientific computing libraries\n",
    "import numpy as np \n",
    "import scipy as sp\n",
    "\n",
    "# plotting libraries\n",
    "import matplotlib as mpl\n",
    "import matplotlib.pyplot as plt\n",
    "import seaborn as sns"
   ]
  },
  {
   "cell_type": "code",
   "execution_count": 2,
   "metadata": {},
   "outputs": [],
   "source": [
    "# for pretty printing\n",
    "np.set_printoptions(4, linewidth=100, suppress=True)"
   ]
  },
  {
   "cell_type": "markdown",
   "metadata": {},
   "source": [
    "\n",
    "Consider a statistical model: \n",
    "$$Y = a_1 x_1 + \\cdots + a_d x_d + \\varepsilon = \\mathbf{a}^\\top \\mathbf{x} + \\varepsilon$$\n",
    "where $\\varepsilon \\sim N(0,\\sigma^2)$. Assume that we have a bunch of observed data $(\\mathbf{x}_i, y_i)_{i=1}^n$.\n"
   ]
  },
  {
   "cell_type": "code",
   "execution_count": 17,
   "metadata": {},
   "outputs": [],
   "source": [
    "# dim of the data\n",
    "d = 10\n",
    "# # of data points\n",
    "n = 100\n",
    "# true parameters\n",
    "a = np.random.randn(d)\n",
    "sigma = 0.1\n",
    "# generate data\n",
    "X = np.random.randn(n, d)\n",
    "y = X @ a + sigma*np.random.randn(n)\n",
    "e = y - X @ a\n",
    "\n",
    "if n < 20:\n",
    "    print('a = ', a)\n",
    "    print('X = ')\n",
    "    print(X)\n",
    "    print('y = ', y)\n",
    "    print('e = ', e)"
   ]
  },
  {
   "cell_type": "markdown",
   "metadata": {},
   "source": [
    "We try a solution by the projection $(X^\\top X)^{-1} X^\\top\\mathbf{y}$ where $i$-th row of $X$ is $\\mathbf{x}_i$. Here, we assume that $X$ is of full rank."
   ]
  },
  {
   "cell_type": "code",
   "execution_count": 18,
   "metadata": {},
   "outputs": [
    {
     "name": "stdout",
     "output_type": "stream",
     "text": [
      "a     =  [-0.9591  0.0419  0.8409  0.4777 -0.0509 -0.2759  0.3666 -0.9956  0.2737 -1.6841]\n",
      "a_est =  [-0.9819  0.024   0.844   0.4885 -0.0427 -0.279   0.3451 -0.994   0.2787 -1.6757]\n"
     ]
    }
   ],
   "source": [
    "a_est = np.linalg.inv(X.T @ X) @ X.T @ y\n",
    "e_est = y - X @ a_est\n",
    "\n",
    "print('a     = ', a)\n",
    "print('a_est = ', a_est)\n",
    "if n < 20:\n",
    "    print('e_est = ', e_est)"
   ]
  },
  {
   "cell_type": "markdown",
   "metadata": {},
   "source": [
    "Compare the true and estimated parameters. The estimated parameters are close to the true parameters."
   ]
  }
 ],
 "metadata": {
  "kernelspec": {
   "display_name": "linear_algebra",
   "language": "python",
   "name": "python3"
  },
  "language_info": {
   "codemirror_mode": {
    "name": "ipython",
    "version": 3
   },
   "file_extension": ".py",
   "mimetype": "text/x-python",
   "name": "python",
   "nbconvert_exporter": "python",
   "pygments_lexer": "ipython3",
   "version": "3.12.9"
  }
 },
 "nbformat": 4,
 "nbformat_minor": 2
}
