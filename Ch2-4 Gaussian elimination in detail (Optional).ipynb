{
  "cells": [
    {
      "cell_type": "markdown",
      "metadata": {},
      "source": [
        "# Chapter 2 Gaussian Elimination in Detail (Optional)\n",
        "\n",
        "We investigate the $LU$-decomposition by the Gaussian elimination. For the choice of pivot entries, we adopt the so-called partial pivoting, which choose an entry with a largest absolute value among candidates to enhance numerical stability by dividing by a number as large as possible. We implement the Gaussian elimination in detail, and the audience can see how the matrix changes step by step as the Gaussian elimination progresses. We also confirm that ours produces the same output for $LU$-decomposition as the numpy.linalg.lu function for an example of size $10 \\times 10$."
      ]
    },
    {
      "cell_type": "code",
      "execution_count": null,
      "metadata": {
        "id": "lwRCRj-Dqq1L"
      },
      "outputs": [],
      "source": [
        "# numerical and scientific computing libraries \n",
        "import numpy as np\n",
        "import scipy as sp\n",
        "\n",
        "# plotting libraries\n",
        "import matplotlib as mpl\n",
        "import matplotlib.pyplot as plt\n",
        "import seaborn as sns"
      ]
    },
    {
      "cell_type": "code",
      "execution_count": 10,
      "metadata": {},
      "outputs": [],
      "source": [
        "# for pretty printing\n",
        "np.set_printoptions(4, linewidth=100, suppress=True)"
      ]
    },
    {
      "cell_type": "markdown",
      "metadata": {
        "id": "wwRvayQbcx7e"
      },
      "source": [
        "--------------------------------------------------------------------------------------------------------------\n",
        "\n",
        "Let us have a more in-depth look on Gaussian elimination. We already know that performing Gaussian elimination on $A$ is nothing but multiplying an appropriate permutation matrice to the left and lower triangular elementary matrices. However, sometimes, we don't know which rows should be swapped in advance. Furthermore, in a so-called partial pivoting method to enhace numercial stablility, we choose an entry with biggest absolute value among pivot cadidates for each column. Thefore, for $j$-th column, we decide two rows to swap and a correponding permutation matrix $Q_j$ with a lower triangular matrix $L_j$ representing the elimination of entries below the pivot. So the Gaussian elimination under partial pivoting can be expressed by  \n",
        "\\begin{align*} L_k Q_{k-1} L_{k-1} \\cdots Q_1 L_1 Q_0 A = U \\end{align*}\n",
        "for some upper triangular $U$. Notice that $Q_j$ can be an identity matrix, if we do not perform a row exchange in the $j$-th step. One observation here is the rows swapped in $Q_j$ are below $j$-th row and $L_j$ have non-zero off-diagonal entries lie in up to the $j$-th column. Therefore, the non-zero pattern of $L_j' = (Q_{k-1} \\cdots Q_j) L_j (Q_{k-1} \\cdots Q_j)^\\top$ coincides with that of $L_j$, which means we can re-write the decomposition as\n",
        "\\begin{align*} L_k L_{k-1}' \\cdots L_1' Q_{k-1} \\cdots Q_1 Q_0 A = LQA = U. \\end{align*}\n",
        "The triplet $(Q^\\top, L^{-1}, U)$ is a usual output of numpy.linalg.lu function. Let us demonstrate this procedure for a randomly generated matrix.\n",
        "\n",
        "--------------------------------------------------------------------------------------------------------------"
      ]
    },
    {
      "cell_type": "code",
      "execution_count": 11,
      "metadata": {
        "colab": {
          "base_uri": "https://localhost:8080/"
        },
        "id": "_mGCvoSjqyOk",
        "outputId": "87c93aab-5da1-4537-f9bd-2d6b5622f206"
      },
      "outputs": [
        {
          "name": "stdout",
          "output_type": "stream",
          "text": [
            "[[5. 0. 3. 3. 7. 9. 3. 5. 2. 4.]\n",
            " [7. 6. 8. 8. 1. 6. 7. 7. 8. 1.]\n",
            " [5. 9. 8. 9. 4. 3. 0. 3. 5. 0.]\n",
            " [2. 3. 8. 1. 3. 3. 3. 7. 0. 1.]\n",
            " [9. 9. 0. 4. 7. 3. 2. 7. 2. 0.]\n",
            " [0. 4. 5. 5. 6. 8. 4. 1. 4. 9.]\n",
            " [8. 1. 1. 7. 9. 9. 3. 6. 7. 2.]\n",
            " [0. 3. 5. 9. 4. 4. 6. 4. 4. 3.]\n",
            " [4. 4. 8. 4. 3. 7. 5. 5. 0. 1.]\n",
            " [5. 9. 3. 0. 5. 0. 1. 2. 4. 2.]]\n"
          ]
        }
      ],
      "source": [
        "n = m = 10\n",
        "rng = np.random.RandomState(0)\n",
        "\n",
        "A = rng.randint(10, size=(n, m))\n",
        "A = A.astype(np.float64)\n",
        "print(A)"
      ]
    },
    {
      "cell_type": "code",
      "execution_count": 12,
      "metadata": {
        "id": "a9ZUCN0O17eC"
      },
      "outputs": [],
      "source": [
        "def elimination(A, eps, verbose):\n",
        "    A = A.copy()\n",
        "    n, m = A.shape\n",
        "    Q_list = []\n",
        "    L_list = []\n",
        "\n",
        "    row_to_check = 0\n",
        "\n",
        "    for j in range(m):\n",
        "        # We test column by column to see if we can find a pivot.\n",
        "        if row_to_check >= n :\n",
        "            # Elimination is done on all n rows, even though there are\n",
        "            # some columns not yet investigated. Anyway, task completed.\n",
        "            break\n",
        "\n",
        "        pivot = row_to_check\n",
        "        for i in range(row_to_check+1, n):\n",
        "            # We are exchanging rows \"aggressively\", so that the pivot\n",
        "            # is always the largest possible among viable options.\n",
        "            # This is because we will soon perform division by the pivot,\n",
        "            # and dividing by a small number is susceptible to errors:\n",
        "            # compare how different 1/0.0101 and 1/0.01 are,\n",
        "            # to how different 1/100.0001 and 1/100 are.\n",
        "            if abs(A[i, j]) > abs(A[pivot, j]) :\n",
        "                pivot = i\n",
        "\n",
        "        A[[row_to_check, pivot], :] = A[[pivot, row_to_check], :]\n",
        "\n",
        "        r = row_to_check  # for notational clarity\n",
        "        Q = np.eye(n)\n",
        "        Q[r, r] = 0.\n",
        "        Q[pivot, pivot] = 0.\n",
        "        Q[r, pivot] = 1.\n",
        "        Q[pivot, r] = 1.\n",
        "        Q_list.append(Q.copy())\n",
        "\n",
        "        L = np.eye(n)\n",
        "\n",
        "        if abs(A[r, j]) < eps :\n",
        "            # All candidates for the pivots are essentially zero.\n",
        "            # We cannot perform elimination with this column, so we skip.\n",
        "            pass\n",
        "        else :\n",
        "            for k in range(r+1, n):\n",
        "                u = A[k, j] / A[r, j]\n",
        "                A[k, j:] -= u * A[j, j:]\n",
        "                L[k, j] = -u\n",
        "            row_to_check += 1  # next time we should start from the row below.\n",
        "\n",
        "        L_list.append(L.copy())\n",
        "\n",
        "        if verbose :\n",
        "            print(\"After step\", j+1, \":\")\n",
        "            print(A)\n",
        "            print()\n",
        "\n",
        "    return A, Q_list, L_list"
      ]
    },
    {
      "cell_type": "code",
      "execution_count": 13,
      "metadata": {
        "colab": {
          "base_uri": "https://localhost:8080/"
        },
        "id": "mJ4DkQ8vsZuw",
        "outputId": "1f5f2b4e-0391-4f1a-bfdd-c65e40e0432c"
      },
      "outputs": [
        {
          "name": "stdout",
          "output_type": "stream",
          "text": [
            "After step 1 :\n",
            "[[ 9.      9.      0.      4.      7.      3.      2.      7.      2.      0.    ]\n",
            " [ 0.     -1.      8.      4.8889 -4.4444  3.6667  5.4444  1.5556  6.4444  1.    ]\n",
            " [ 0.      4.      8.      6.7778  0.1111  1.3333 -1.1111 -0.8889  3.8889  0.    ]\n",
            " [ 0.      1.      8.      0.1111  1.4444  2.3333  2.5556  5.4444 -0.4444  1.    ]\n",
            " [ 0.     -5.      3.      0.7778  3.1111  7.3333  1.8889  1.1111  0.8889  4.    ]\n",
            " [ 0.      4.      5.      5.      6.      8.      4.      1.      4.      9.    ]\n",
            " [ 0.     -7.      1.      3.4444  2.7778  6.3333  1.2222 -0.2222  5.2222  2.    ]\n",
            " [ 0.      3.      5.      9.      4.      4.      6.      4.      4.      3.    ]\n",
            " [ 0.      0.      8.      2.2222 -0.1111  5.6667  4.1111  1.8889 -0.8889  1.    ]\n",
            " [ 0.      4.      3.     -2.2222  1.1111 -1.6667 -0.1111 -1.8889  2.8889  2.    ]]\n",
            "\n",
            "After step 2 :\n",
            "[[ 9.      9.      0.      4.      7.      3.      2.      7.      2.      0.    ]\n",
            " [ 0.     -7.      1.      3.4444  2.7778  6.3333  1.2222 -0.2222  5.2222  2.    ]\n",
            " [ 0.      0.      8.5714  8.746   1.6984  4.9524 -0.4127 -1.0159  6.873   1.1429]\n",
            " [ 0.      0.      8.1429  0.6032  1.8413  3.2381  2.7302  5.4127  0.3016  1.2857]\n",
            " [ 0.      0.      2.2857 -1.6825  1.127   2.8095  1.0159  1.2698 -2.8413  2.5714]\n",
            " [ 0.      0.      5.5714  6.9683  7.5873 11.619   4.6984  0.873   6.9841 10.1429]\n",
            " [ 0.      0.      7.8571  4.3968 -4.8413  2.7619  5.2698  1.5873  5.6984  0.7143]\n",
            " [ 0.      0.      5.4286 10.4762  5.1905  6.7143  6.5238  3.9048  6.2381  3.8571]\n",
            " [ 0.      0.      8.      2.2222 -0.1111  5.6667  4.1111  1.8889 -0.8889  1.    ]\n",
            " [ 0.      0.      3.5714 -0.254   2.6984  1.9524  0.5873 -2.0159  5.873   3.1429]]\n",
            "\n",
            "After step 3 :\n",
            "[[ 9.      9.      0.      4.      7.      3.      2.      7.      2.      0.    ]\n",
            " [ 0.     -7.      1.      3.4444  2.7778  6.3333  1.2222 -0.2222  5.2222  2.    ]\n",
            " [ 0.      0.      8.5714  8.746   1.6984  4.9524 -0.4127 -1.0159  6.873   1.1429]\n",
            " [ 0.      0.      0.     -7.7056  0.2278 -1.4667  3.1222  6.3778 -6.2278  0.2   ]\n",
            " [ 0.      0.      0.     -4.0148  0.6741  1.4889  1.1259  1.5407 -4.6741  2.2667]\n",
            " [ 0.      0.      0.      1.2833  6.4833  8.4     4.9667  1.5333  2.5167  9.4   ]\n",
            " [ 0.      0.      0.     -3.6204 -6.3981 -1.7778  5.6481  2.5185 -0.6019 -0.3333]\n",
            " [ 0.      0.      0.      4.937   4.1148  3.5778  6.7852  4.5481  1.8852  3.1333]\n",
            " [ 0.      0.      0.     -5.9407 -1.6963  1.0444  4.4963  2.837  -7.3037 -0.0667]\n",
            " [ 0.      0.      0.     -3.8981  1.9907 -0.1111  0.7593 -1.5926  3.0093  2.6667]]\n",
            "\n",
            "After step 4 :\n",
            "[[ 9.      9.      0.      4.      7.      3.      2.      7.      2.      0.    ]\n",
            " [ 0.     -7.      1.      3.4444  2.7778  6.3333  1.2222 -0.2222  5.2222  2.    ]\n",
            " [ 0.      0.      8.5714  8.746   1.6984  4.9524 -0.4127 -1.0159  6.873   1.1429]\n",
            " [ 0.      0.      0.     -7.7056  0.2278 -1.4667  3.1222  6.3778 -6.2278  0.2   ]\n",
            " [ 0.      0.      0.      0.      0.5554  2.2531 -0.5008 -1.7823 -1.4292  2.1625]\n",
            " [ 0.      0.      0.      0.      6.5213  8.1557  5.4867  2.5955  1.4795  9.4333]\n",
            " [ 0.      0.      0.      0.     -6.5052 -1.0887  4.1812 -0.478   2.3242 -0.4273]\n",
            " [ 0.      0.      0.      0.      4.2608  2.6381  8.7856  8.6345 -2.105   3.2615]\n",
            " [ 0.      0.      0.      0.     -1.8719  2.1752  2.0892 -2.08   -2.5023 -0.2209]\n",
            " [ 0.      0.      0.      0.      1.8755  0.6309 -0.8202 -4.819   6.1598  2.5655]]\n",
            "\n",
            "After step 5 :\n",
            "[[ 9.      9.      0.      4.      7.      3.      2.      7.      2.      0.    ]\n",
            " [ 0.     -7.      1.      3.4444  2.7778  6.3333  1.2222 -0.2222  5.2222  2.    ]\n",
            " [ 0.      0.      8.5714  8.746   1.6984  4.9524 -0.4127 -1.0159  6.873   1.1429]\n",
            " [ 0.      0.      0.     -7.7056  0.2278 -1.4667  3.1222  6.3778 -6.2278  0.2   ]\n",
            " [ 0.      0.      0.      0.      6.5213  8.1557  5.4867  2.5955  1.4795  9.4333]\n",
            " [ 0.      0.      0.      0.      0.      1.5585 -0.9681 -2.0033 -1.5552  1.3591]\n",
            " [ 0.      0.      0.      0.      0.      7.0469  9.6543  2.1111  3.8     8.9827]\n",
            " [ 0.      0.      0.      0.      0.     -2.6906  5.2008  6.9386 -3.0716 -2.9019]\n",
            " [ 0.      0.      0.      0.      0.      4.5163  3.6641 -1.335  -2.0776  2.4869]\n",
            " [ 0.      0.      0.      0.      0.     -1.7147 -2.3982 -5.5655  5.7343 -0.1475]]\n",
            "\n",
            "After step 6 :\n",
            "[[ 9.      9.      0.      4.      7.      3.      2.      7.      2.      0.    ]\n",
            " [ 0.     -7.      1.      3.4444  2.7778  6.3333  1.2222 -0.2222  5.2222  2.    ]\n",
            " [ 0.      0.      8.5714  8.746   1.6984  4.9524 -0.4127 -1.0159  6.873   1.1429]\n",
            " [ 0.      0.      0.     -7.7056  0.2278 -1.4667  3.1222  6.3778 -6.2278  0.2   ]\n",
            " [ 0.      0.      0.      0.      6.5213  8.1557  5.4867  2.5955  1.4795  9.4333]\n",
            " [ 0.      0.      0.      0.      0.      7.0469  9.6543  2.1111  3.8     8.9827]\n",
            " [ 0.      0.      0.      0.      0.      0.     -3.1032 -2.4702 -2.3956 -0.6275]\n",
            " [ 0.      0.      0.      0.      0.      0.      8.887   7.7447 -1.6208  0.5278]\n",
            " [ 0.      0.      0.      0.      0.      0.     -2.5232 -2.688  -4.513  -3.27  ]\n",
            " [ 0.      0.      0.      0.      0.      0.     -0.049  -5.0518  6.659   2.0382]]\n",
            "\n",
            "After step 7 :\n",
            "[[ 9.      9.      0.      4.      7.      3.      2.      7.      2.      0.    ]\n",
            " [ 0.     -7.      1.      3.4444  2.7778  6.3333  1.2222 -0.2222  5.2222  2.    ]\n",
            " [ 0.      0.      8.5714  8.746   1.6984  4.9524 -0.4127 -1.0159  6.873   1.1429]\n",
            " [ 0.      0.      0.     -7.7056  0.2278 -1.4667  3.1222  6.3778 -6.2278  0.2   ]\n",
            " [ 0.      0.      0.      0.      6.5213  8.1557  5.4867  2.5955  1.4795  9.4333]\n",
            " [ 0.      0.      0.      0.      0.      7.0469  9.6543  2.1111  3.8     8.9827]\n",
            " [ 0.      0.      0.      0.      0.      0.      8.887   7.7447 -1.6208  0.5278]\n",
            " [ 0.      0.      0.      0.      0.      0.      0.      0.2342 -2.9616 -0.4432]\n",
            " [ 0.      0.      0.      0.      0.      0.      0.     -0.4891 -4.9732 -3.1201]\n",
            " [ 0.      0.      0.      0.      0.      0.      0.     -5.0091  6.65    2.0411]]\n",
            "\n",
            "After step 8 :\n",
            "[[ 9.      9.      0.      4.      7.      3.      2.      7.      2.      0.    ]\n",
            " [ 0.     -7.      1.      3.4444  2.7778  6.3333  1.2222 -0.2222  5.2222  2.    ]\n",
            " [ 0.      0.      8.5714  8.746   1.6984  4.9524 -0.4127 -1.0159  6.873   1.1429]\n",
            " [ 0.      0.      0.     -7.7056  0.2278 -1.4667  3.1222  6.3778 -6.2278  0.2   ]\n",
            " [ 0.      0.      0.      0.      6.5213  8.1557  5.4867  2.5955  1.4795  9.4333]\n",
            " [ 0.      0.      0.      0.      0.      7.0469  9.6543  2.1111  3.8     8.9827]\n",
            " [ 0.      0.      0.      0.      0.      0.      8.887   7.7447 -1.6208  0.5278]\n",
            " [ 0.      0.      0.      0.      0.      0.      0.     -5.0091  6.65    2.0411]\n",
            " [ 0.      0.      0.      0.      0.      0.      0.      0.     -5.6224 -3.3194]\n",
            " [ 0.      0.      0.      0.      0.      0.      0.      0.     -2.6507 -0.3478]]\n",
            "\n",
            "After step 9 :\n",
            "[[ 9.      9.      0.      4.      7.      3.      2.      7.      2.      0.    ]\n",
            " [ 0.     -7.      1.      3.4444  2.7778  6.3333  1.2222 -0.2222  5.2222  2.    ]\n",
            " [ 0.      0.      8.5714  8.746   1.6984  4.9524 -0.4127 -1.0159  6.873   1.1429]\n",
            " [ 0.      0.      0.     -7.7056  0.2278 -1.4667  3.1222  6.3778 -6.2278  0.2   ]\n",
            " [ 0.      0.      0.      0.      6.5213  8.1557  5.4867  2.5955  1.4795  9.4333]\n",
            " [ 0.      0.      0.      0.      0.      7.0469  9.6543  2.1111  3.8     8.9827]\n",
            " [ 0.      0.      0.      0.      0.      0.      8.887   7.7447 -1.6208  0.5278]\n",
            " [ 0.      0.      0.      0.      0.      0.      0.     -5.0091  6.65    2.0411]\n",
            " [ 0.      0.      0.      0.      0.      0.      0.      0.     -5.6224 -3.3194]\n",
            " [ 0.      0.      0.      0.      0.      0.      0.      0.      0.      1.2171]]\n",
            "\n",
            "After step 10 :\n",
            "[[ 9.      9.      0.      4.      7.      3.      2.      7.      2.      0.    ]\n",
            " [ 0.     -7.      1.      3.4444  2.7778  6.3333  1.2222 -0.2222  5.2222  2.    ]\n",
            " [ 0.      0.      8.5714  8.746   1.6984  4.9524 -0.4127 -1.0159  6.873   1.1429]\n",
            " [ 0.      0.      0.     -7.7056  0.2278 -1.4667  3.1222  6.3778 -6.2278  0.2   ]\n",
            " [ 0.      0.      0.      0.      6.5213  8.1557  5.4867  2.5955  1.4795  9.4333]\n",
            " [ 0.      0.      0.      0.      0.      7.0469  9.6543  2.1111  3.8     8.9827]\n",
            " [ 0.      0.      0.      0.      0.      0.      8.887   7.7447 -1.6208  0.5278]\n",
            " [ 0.      0.      0.      0.      0.      0.      0.     -5.0091  6.65    2.0411]\n",
            " [ 0.      0.      0.      0.      0.      0.      0.      0.     -5.6224 -3.3194]\n",
            " [ 0.      0.      0.      0.      0.      0.      0.      0.      0.      1.2171]]\n",
            "\n"
          ]
        }
      ],
      "source": [
        "U, Q_list, L_list = elimination(A, eps=1e-12, verbose=True)"
      ]
    },
    {
      "cell_type": "markdown",
      "metadata": {},
      "source": [
        "Let us reconstruct $Q$ and $L$ for $Q_j$'s and $L_j$'s. "
      ]
    },
    {
      "cell_type": "code",
      "execution_count": 14,
      "metadata": {},
      "outputs": [
        {
          "name": "stdout",
          "output_type": "stream",
          "text": [
            "A = \n",
            "[[5. 0. 3. 3. 7. 9. 3. 5. 2. 4.]\n",
            " [7. 6. 8. 8. 1. 6. 7. 7. 8. 1.]\n",
            " [5. 9. 8. 9. 4. 3. 0. 3. 5. 0.]\n",
            " [2. 3. 8. 1. 3. 3. 3. 7. 0. 1.]\n",
            " [9. 9. 0. 4. 7. 3. 2. 7. 2. 0.]\n",
            " [0. 4. 5. 5. 6. 8. 4. 1. 4. 9.]\n",
            " [8. 1. 1. 7. 9. 9. 3. 6. 7. 2.]\n",
            " [0. 3. 5. 9. 4. 4. 6. 4. 4. 3.]\n",
            " [4. 4. 8. 4. 3. 7. 5. 5. 0. 1.]\n",
            " [5. 9. 3. 0. 5. 0. 1. 2. 4. 2.]]\n",
            "Q.T @ L'^{-1} @ U = \n",
            "[[ 5. -0.  3.  3.  7.  9.  3.  5.  2.  4.]\n",
            " [ 7.  6.  8.  8.  1.  6.  7.  7.  8.  1.]\n",
            " [ 5.  9.  8.  9.  4.  3.  0.  3.  5.  0.]\n",
            " [ 2.  3.  8.  1.  3.  3.  3.  7. -0.  1.]\n",
            " [ 9.  9.  0.  4.  7.  3.  2.  7.  2.  0.]\n",
            " [ 0.  4.  5.  5.  6.  8.  4.  1.  4.  9.]\n",
            " [ 8.  1.  1.  7.  9.  9.  3.  6.  7.  2.]\n",
            " [ 0.  3.  5.  9.  4.  4.  6.  4.  4.  3.]\n",
            " [ 4.  4.  8.  4.  3.  7.  5.  5.  0.  1.]\n",
            " [ 5.  9.  3.  0.  5.  0.  1.  2.  4.  2.]]\n",
            "Q = \n",
            "[[0. 0. 0. 0. 1. 0. 0. 0. 0. 0.]\n",
            " [0. 0. 0. 0. 0. 0. 1. 0. 0. 0.]\n",
            " [0. 0. 1. 0. 0. 0. 0. 0. 0. 0.]\n",
            " [0. 0. 0. 1. 0. 0. 0. 0. 0. 0.]\n",
            " [0. 0. 0. 0. 0. 1. 0. 0. 0. 0.]\n",
            " [0. 1. 0. 0. 0. 0. 0. 0. 0. 0.]\n",
            " [0. 0. 0. 0. 0. 0. 0. 1. 0. 0.]\n",
            " [0. 0. 0. 0. 0. 0. 0. 0. 0. 1.]\n",
            " [0. 0. 0. 0. 0. 0. 0. 0. 1. 0.]\n",
            " [1. 0. 0. 0. 0. 0. 0. 0. 0. 0.]]\n",
            "L' = \n",
            "[[ 1.      0.      0.      0.      0.      0.      0.      0.      0.      0.    ]\n",
            " [-0.8889  1.      0.      0.      0.      0.      0.      0.      0.      0.    ]\n",
            " [-1.0635  0.5714  1.      0.      0.      0.      0.      0.      0.      0.    ]\n",
            " [ 0.6611 -0.4    -0.95    1.      0.      0.      0.      0.      0.      0.    ]\n",
            " [ 0.2934  0.1334 -0.8082  0.1665  1.      0.      0.      0.      0.      0.    ]\n",
            " [ 0.3062 -0.3457 -1.2765 -0.3037  0.9975  1.      0.      0.      0.      0.    ]\n",
            " [ 0.6414 -0.4087 -1.2013  0.4159 -0.2725  0.3818  1.      0.      0.      0.    ]\n",
            " [-0.9612  0.411  -0.0209 -0.6254 -0.0464  0.2454  0.0055  1.      0.      0.    ]\n",
            " [ 0.2024 -0.1213  0.0462 -0.3494 -0.4251 -0.5564  0.2834 -0.0976  1.      0.    ]\n",
            " [ 0.0094 -0.6595  0.1372 -0.1873 -0.2027  0.186   0.2158  0.0928 -0.4715  1.    ]]\n"
          ]
        }
      ],
      "source": [
        "Lprime = L_list[n-1]\n",
        "Q = np.eye(n)\n",
        "\n",
        "for i in range(n-1, 0, -1) :\n",
        "    Q = Q @ Q_list[i]\n",
        "    Lprime_i = Q @ L_list[i-1] @ Q.T\n",
        "    Lprime = Lprime @ Lprime_i\n",
        "Q = Q @ Q_list[0]\n",
        "\n",
        "print('A = ')\n",
        "print(A)\n",
        "print('Q.T @ L\\'^{-1} @ U = ')\n",
        "print(Q.T @ np.linalg.inv(Lprime) @ U)\n",
        "print('Q = ')\n",
        "print(Q)\n",
        "print('L\\' = ')\n",
        "print(Lprime)"
      ]
    },
    {
      "cell_type": "markdown",
      "metadata": {},
      "source": [
        "We further compare this decomposition output with a result from numpy.linalg.lu function. We confirm that for this small example, they coincide."
      ]
    },
    {
      "cell_type": "code",
      "execution_count": 15,
      "metadata": {},
      "outputs": [
        {
          "name": "stdout",
          "output_type": "stream",
          "text": [
            "Q from numpy.linalg.lu = \n",
            "[[0. 0. 0. 0. 1. 0. 0. 0. 0. 0.]\n",
            " [0. 0. 0. 0. 0. 0. 1. 0. 0. 0.]\n",
            " [0. 0. 1. 0. 0. 0. 0. 0. 0. 0.]\n",
            " [0. 0. 0. 1. 0. 0. 0. 0. 0. 0.]\n",
            " [0. 0. 0. 0. 0. 1. 0. 0. 0. 0.]\n",
            " [0. 1. 0. 0. 0. 0. 0. 0. 0. 0.]\n",
            " [0. 0. 0. 0. 0. 0. 0. 1. 0. 0.]\n",
            " [0. 0. 0. 0. 0. 0. 0. 0. 0. 1.]\n",
            " [0. 0. 0. 0. 0. 0. 0. 0. 1. 0.]\n",
            " [1. 0. 0. 0. 0. 0. 0. 0. 0. 0.]]\n",
            "L' from numpy.linalg.lu = \n",
            "[[ 1.      0.      0.      0.      0.      0.      0.      0.      0.      0.    ]\n",
            " [-0.8889  1.      0.      0.      0.      0.      0.      0.      0.      0.    ]\n",
            " [-1.0635  0.5714  1.      0.      0.      0.      0.      0.      0.      0.    ]\n",
            " [ 0.6611 -0.4    -0.95    1.      0.      0.      0.      0.      0.      0.    ]\n",
            " [ 0.2934  0.1334 -0.8082  0.1665  1.      0.      0.      0.      0.      0.    ]\n",
            " [ 0.3062 -0.3457 -1.2765 -0.3037  0.9975  1.      0.      0.      0.      0.    ]\n",
            " [ 0.6414 -0.4087 -1.2013  0.4159 -0.2725  0.3818  1.      0.      0.      0.    ]\n",
            " [-0.9612  0.411  -0.0209 -0.6254 -0.0464  0.2454  0.0055  1.      0.      0.    ]\n",
            " [ 0.2024 -0.1213  0.0462 -0.3494 -0.4251 -0.5564  0.2834 -0.0976  1.      0.    ]\n",
            " [ 0.0094 -0.6595  0.1372 -0.1873 -0.2027  0.186   0.2158  0.0928 -0.4715  1.    ]]\n"
          ]
        }
      ],
      "source": [
        "Q1, L1, U1 = sp.linalg.lu(A)\n",
        "print('Q from numpy.linalg.lu = ')\n",
        "print(Q1.T)\n",
        "print('L\\' from numpy.linalg.lu = ')\n",
        "print(np.linalg.inv(L1))"
      ]
    },
    {
      "cell_type": "markdown",
      "metadata": {
        "id": "Z91LPnZh1efC"
      },
      "source": [
        "\n",
        "\n",
        "---\n",
        "\n"
      ]
    }
  ],
  "metadata": {
    "colab": {
      "provenance": []
    },
    "kernelspec": {
      "display_name": "linear_algebra",
      "language": "python",
      "name": "python3"
    },
    "language_info": {
      "codemirror_mode": {
        "name": "ipython",
        "version": 3
      },
      "file_extension": ".py",
      "mimetype": "text/x-python",
      "name": "python",
      "nbconvert_exporter": "python",
      "pygments_lexer": "ipython3",
      "version": "3.12.9"
    }
  },
  "nbformat": 4,
  "nbformat_minor": 0
}
